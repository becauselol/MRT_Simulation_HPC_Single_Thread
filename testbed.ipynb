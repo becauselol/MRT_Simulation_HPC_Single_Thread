{
 "cells": [
  {
   "cell_type": "code",
   "execution_count": 22,
   "id": "c4fd1485",
   "metadata": {},
   "outputs": [],
   "source": [
    "###\n",
    "# Create a simple graph and have 1 train 1 line and low spawn rate per line\n",
    "###\n",
    "\n",
    "include(\"functions.jl\")\n",
    "include(\"classes.jl\")\n",
    "include(\"heap_functions.jl\")\n",
    "\n",
    "max_time = 20\n",
    "\n",
    "# Define a few variables\n",
    "a_neighbour = Dict(\"l_fw\" => [\"b\", 1])\n",
    "station_a = Station(\"a\", [\"l\"], \"Station A\", 6, 0, a_neighbour, 2, [], [])\n",
    "\n",
    "\n",
    "b_neighbour = Dict(\"l_fw\" => [\"c\", 2], \"l_bw\" => [\"a\", 1])\n",
    "station_b = Station(\"b\", [\"l\"], \"Station B\", 6, 1, b_neighbour, 2, [], [])\n",
    "\n",
    "c_neighbour = Dict(\"l_bw\" => [\"b\", 2])\n",
    "station_c = Station(\"c\", [\"l\"], \"Station C\", 6, 2, c_neighbour, 2, [], [])\n",
    "\n",
    "train = Train(\"1\", \"l\", \"fw\", false, 2, [])\n",
    "\n",
    "\n",
    "stations = Dict(\n",
    "\t\t\"a\" => station_a,\n",
    "\t\t\"b\" => station_b,\n",
    "\t\t\"c\" => station_c\n",
    "\t)\n",
    "\n",
    "trains = Dict(\n",
    "\t\t\"1\" => train\n",
    "\t)\n",
    "\n",
    "lines = Dict(\n",
    "\t\t\"l_fw\" => [\"a\", \"b\", \"c\"],\n",
    "\t\t\"l_bw\" => [\"c\", \"b\", \"a\"]\n",
    "\t)\n",
    "\n",
    "paths = Dict(\n",
    "\t\t\"a_b\" => [[\"b\", \"l_fw\"]],\n",
    "\t\t\"a_c\" => [[\"c\", \"l_fw\"]],\n",
    "\t\t\"b_a\" => [[\"a\", \"l_bw\"]],\n",
    "\t\t\"b_c\" => [[\"c\", \"l_fw\"]],\n",
    "\t\t\"c_a\" => [[\"a\", \"l_bw\"]],\n",
    "\t\t\"c_b\" => [[\"b\", \"l_bw\"]],\n",
    "\t)\n",
    "metro = Metro(stations, trains, lines, paths)\n",
    "\n",
    "\n",
    "# Start the Event queue\n",
    "event_queue = []\n",
    "first_event = Event(\n",
    "\t\t0,\n",
    "\t\ttrain_reach_station!,\n",
    "\t\tDict(\n",
    "\t\t\t\t:time => 0,\n",
    "\t\t\t\t:metro => metro,\n",
    "\t\t\t\t:train => \"1\",\n",
    "\t\t\t\t:station => \"a\"\n",
    "\t\t\t)\n",
    "\t)\n",
    "\n",
    "spawn_event_a = Event(\n",
    "\t\t0,\n",
    "\t\tspawn_commuter!,\n",
    "\t\tDict(\n",
    "\t\t\t\t:time => 0,\n",
    "\t\t\t\t:metro => metro,\n",
    "\t\t\t\t:station => \"a\"\n",
    "\t\t\t)\n",
    "\n",
    "\t)\n",
    "\n",
    "spawn_event_b = Event(\n",
    "\t\t1,\n",
    "\t\tspawn_commuter!,\n",
    "\t\tDict(\n",
    "\t\t\t\t:time => 1,\n",
    "\t\t\t\t:metro => metro,\n",
    "\t\t\t\t:station => \"b\"\n",
    "\t\t\t)\n",
    "\n",
    "\t)\n",
    "\n",
    "spawn_event_c = Event(\n",
    "\t\t2,\n",
    "\t\tspawn_commuter!,\n",
    "\t\tDict(\n",
    "\t\t\t\t:time => 2,\n",
    "\t\t\t\t:metro => metro,\n",
    "\t\t\t\t:station => \"c\"\n",
    "\t\t\t)\n",
    "\n",
    "\t)\n",
    "heappush!(event_queue, first_event)\n",
    "heappush!(event_queue, spawn_event_a)\n",
    "heappush!(event_queue, spawn_event_b)\n",
    "heappush!(event_queue, spawn_event_c)"
   ]
  },
  {
   "cell_type": "code",
   "execution_count": 23,
   "id": "4a08e44d",
   "metadata": {},
   "outputs": [
    {
     "data": {
      "text/plain": [
       "simulate_1step! (generic function with 1 method)"
      ]
     },
     "execution_count": 23,
     "metadata": {},
     "output_type": "execute_result"
    }
   ],
   "source": [
    "function simulate_1step!(metro, event_queue)\n",
    "\t\n",
    "    # release the most recent event\n",
    "    curr_event = heappop!(event_queue)\n",
    "    # do whatever the event requires\n",
    "    new_events = curr_event.fun(;curr_event.params...)\n",
    "    # update and add the new events generated\n",
    "    for i in new_events\n",
    "        heappush!(event_queue, i)\n",
    "    end\n",
    "end"
   ]
  },
  {
   "cell_type": "code",
   "execution_count": 26,
   "id": "9a9579b6",
   "metadata": {},
   "outputs": [
    {
     "name": "stdout",
     "output_type": "stream",
     "text": [
      "time 2: Train 1 leaving  Station a\n",
      "Event(2, spawn_commuter!, Dict{Symbol, Any}(:station => \"c\", :metro => Metro(Dict{String, Station}(\"c\" => Station(\"c\", [\"l\"], \"Station C\", 6.0, 2, Dict{String, Vector}(\"l_bw\" => Any[\"b\", 2]), 2, Commuter[], Any[]), \"b\" => Station(\"b\", [\"l\"], \"Station B\", 6.0, 1, Dict{String, Vector}(\"l_fw\" => Any[\"c\", 2], \"l_bw\" => Any[\"a\", 1]), 2, Commuter[], Any[]), \"a\" => Station(\"a\", [\"l\"], \"Station A\", 6.0, 0, Dict{String, Vector}(\"l_fw\" => Any[\"b\", 1]), 2, Commuter[Commuter(\"a\", \"a_c\", true, 0, 0)], Any[])), Dict{String, Train}(\"1\" => Train(\"1\", \"l\", \"fw\", false, 2, Commuter[])), Dict{String, Vector}(\"l_fw\" => [\"a\", \"b\", \"c\"], \"l_bw\" => [\"c\", \"b\", \"a\"]), Dict{String, Vector}(\"a_c\" => [[\"c\", \"l_fw\"]], \"b_c\" => [[\"c\", \"l_fw\"]], \"c_a\" => [[\"a\", \"l_bw\"]], \"c_b\" => [[\"b\", \"l_bw\"]], \"a_b\" => [[\"b\", \"l_fw\"]], \"b_a\" => [[\"a\", \"l_bw\"]])), :time => 2))\n",
      "Event(3, train_reach_station!, Dict{Symbol, Any}(:station => \"b\", :train => \"1\", :metro => Metro(Dict{String, Station}(\"c\" => Station(\"c\", [\"l\"], \"Station C\", 6.0, 2, Dict{String, Vector}(\"l_bw\" => Any[\"b\", 2]), 2, Commuter[], Any[]), \"b\" => Station(\"b\", [\"l\"], \"Station B\", 6.0, 1, Dict{String, Vector}(\"l_fw\" => Any[\"c\", 2], \"l_bw\" => Any[\"a\", 1]), 2, Commuter[], Any[]), \"a\" => Station(\"a\", [\"l\"], \"Station A\", 6.0, 0, Dict{String, Vector}(\"l_fw\" => Any[\"b\", 1]), 2, Commuter[Commuter(\"a\", \"a_c\", true, 0, 0)], Any[])), Dict{String, Train}(\"1\" => Train(\"1\", \"l\", \"fw\", false, 2, Commuter[])), Dict{String, Vector}(\"l_fw\" => [\"a\", \"b\", \"c\"], \"l_bw\" => [\"c\", \"b\", \"a\"]), Dict{String, Vector}(\"a_c\" => [[\"c\", \"l_fw\"]], \"b_c\" => [[\"c\", \"l_fw\"]], \"c_a\" => [[\"a\", \"l_bw\"]], \"c_b\" => [[\"b\", \"l_bw\"]], \"a_b\" => [[\"b\", \"l_fw\"]], \"b_a\" => [[\"a\", \"l_bw\"]])), :time => 3))\n",
      "Event(1, spawn_commuter!, Dict{Symbol, Any}(:station => \"b\", :metro => Metro(Dict{String, Station}(\"c\" => Station(\"c\", [\"l\"], \"Station C\", 6.0, 2, Dict{String, Vector}(\"l_bw\" => Any[\"b\", 2]), 2, Commuter[], Any[]), \"b\" => Station(\"b\", [\"l\"], \"Station B\", 6.0, 1, Dict{String, Vector}(\"l_fw\" => Any[\"c\", 2], \"l_bw\" => Any[\"a\", 1]), 2, Commuter[], Any[]), \"a\" => Station(\"a\", [\"l\"], \"Station A\", 6.0, 0, Dict{String, Vector}(\"l_fw\" => Any[\"b\", 1]), 2, Commuter[Commuter(\"a\", \"a_c\", true, 0, 0)], Any[])), Dict{String, Train}(\"1\" => Train(\"1\", \"l\", \"fw\", false, 2, Commuter[])), Dict{String, Vector}(\"l_fw\" => [\"a\", \"b\", \"c\"], \"l_bw\" => [\"c\", \"b\", \"a\"]), Dict{String, Vector}(\"a_c\" => [[\"c\", \"l_fw\"]], \"b_c\" => [[\"c\", \"l_fw\"]], \"c_a\" => [[\"a\", \"l_bw\"]], \"c_b\" => [[\"b\", \"l_bw\"]], \"a_b\" => [[\"b\", \"l_fw\"]], \"b_a\" => [[\"a\", \"l_bw\"]])), :time => 1))\n",
      "Event(6, spawn_commuter!, Dict{Symbol, Any}(:station => \"a\", :metro => Metro(Dict{String, Station}(\"c\" => Station(\"c\", [\"l\"], \"Station C\", 6.0, 2, Dict{String, Vector}(\"l_bw\" => Any[\"b\", 2]), 2, Commuter[], Any[]), \"b\" => Station(\"b\", [\"l\"], \"Station B\", 6.0, 1, Dict{String, Vector}(\"l_fw\" => Any[\"c\", 2], \"l_bw\" => Any[\"a\", 1]), 2, Commuter[], Any[]), \"a\" => Station(\"a\", [\"l\"], \"Station A\", 6.0, 0, Dict{String, Vector}(\"l_fw\" => Any[\"b\", 1]), 2, Commuter[Commuter(\"a\", \"a_c\", true, 0, 0)], Any[])), Dict{String, Train}(\"1\" => Train(\"1\", \"l\", \"fw\", false, 2, Commuter[])), Dict{String, Vector}(\"l_fw\" => [\"a\", \"b\", \"c\"], \"l_bw\" => [\"c\", \"b\", \"a\"]), Dict{String, Vector}(\"a_c\" => [[\"c\", \"l_fw\"]], \"b_c\" => [[\"c\", \"l_fw\"]], \"c_a\" => [[\"a\", \"l_bw\"]], \"c_b\" => [[\"b\", \"l_bw\"]], \"a_b\" => [[\"b\", \"l_fw\"]], \"b_a\" => [[\"a\", \"l_bw\"]])), :time => 6.0))\n"
     ]
    }
   ],
   "source": [
    "simulate_1step!(metro, event_queue)"
   ]
  },
  {
   "cell_type": "code",
   "execution_count": 2,
   "id": "1fae6642",
   "metadata": {},
   "outputs": [],
   "source": [
    "for i in []\n",
    "    print(i)\n",
    "end"
   ]
  },
  {
   "cell_type": "code",
   "execution_count": null,
   "id": "283f1137",
   "metadata": {},
   "outputs": [],
   "source": []
  }
 ],
 "metadata": {
  "kernelspec": {
   "display_name": "Julia 1.8.5",
   "language": "julia",
   "name": "julia-1.8"
  },
  "language_info": {
   "file_extension": ".jl",
   "mimetype": "application/julia",
   "name": "julia",
   "version": "1.8.5"
  }
 },
 "nbformat": 4,
 "nbformat_minor": 5
}

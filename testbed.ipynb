{
 "cells": [
  {
   "cell_type": "code",
   "execution_count": 7,
   "id": "5067c9f9",
   "metadata": {},
   "outputs": [
    {
     "data": {
      "text/plain": [
       "store_final_data (generic function with 1 method)"
      ]
     },
     "execution_count": 7,
     "metadata": {},
     "output_type": "execute_result"
    }
   ],
   "source": [
    "using Logging\n",
    "using Plots, DataFrames, StatsPlots, Distributions\n",
    "using BenchmarkTools\n",
    "\n",
    "include(\"simul_functions.jl\")\n",
    "include(\"construction_functions.jl\")\n",
    "include(\"station_functions.jl\")\n",
    "include(\"train_functions.jl\")\n",
    "include(\"pathfinding_functions.jl\")\n",
    "include(\"commuter_functions.jl\")\n",
    "include(\"classes.jl\")\n",
    "include(\"heap_functions.jl\")\n",
    "include(\"hdf5_functions.jl\")"
   ]
  },
  {
   "cell_type": "code",
   "execution_count": 2,
   "id": "0d88a667",
   "metadata": {},
   "outputs": [
    {
     "data": {
      "text/plain": [
       "ConsoleLogger(IJulia.IJuliaStdio{Base.PipeEndpoint}(IOContext(Base.PipeEndpoint(Base.Libc.WindowsRawSocket(0x00000000000003e4) open, 0 bytes waiting))), Info, Logging.default_metafmt, true, 0, Dict{Any, Int64}())"
      ]
     },
     "execution_count": 2,
     "metadata": {},
     "output_type": "execute_result"
    }
   ],
   "source": [
    "# io = open(\"log.txt\", \"w+\")\n",
    "# logger = SimpleLogger(io)\n",
    "logger = ConsoleLogger(stdout, Logging.Debug)\n",
    "# fileLogger = SimpleLogger(io, Logging.Debug)\n",
    "# global_logger(fileLogger)\n",
    "global_logger(logger)"
   ]
  },
  {
   "cell_type": "code",
   "execution_count": 3,
   "id": "827b5a35",
   "metadata": {},
   "outputs": [
    {
     "name": "stdout",
     "output_type": "stream",
     "text": [
      "\u001b[34m\u001b[1m┌ \u001b[22m\u001b[39m\u001b[34m\u001b[1mDebug: \u001b[22m\u001b[39mfloyd_warshall done\n",
      "\u001b[34m\u001b[1m└ \u001b[22m\u001b[39m\u001b[90m@ Main C:\\Users\\gabes\\Documents\\HighPerformanceComputing\\Project\\HPC_Project\\pathfinding_functions.jl:41\u001b[39m\n"
     ]
    }
   ],
   "source": [
    "\n",
    "max_time = 10000\n",
    "station_data = \"\"\"Station 1,red01\n",
    "Station 2,red02/pur02\n",
    "Station 3,red03/pur03\n",
    "Station 4,pur01\n",
    "Station 5,pur04\"\"\"\n",
    "\n",
    "travel_data = Dict(\n",
    "\t\"pur\" => \"\"\"pur01,pur02,2\n",
    "pur02,pur03,2\n",
    "pur03,pur04,2\"\"\",\n",
    "\t\"red\" => \"\"\"red01,red02,2\n",
    "red02,red03,2\"\"\"\n",
    "\t)\n",
    "\n",
    "# not being used at the moment\n",
    "train_wait_time = \"\"\"red01,1\n",
    "red02,1\n",
    "red03,1\n",
    "pur01,1\n",
    "pur04,1\"\"\"\n",
    "\n",
    "trainPeriod = 1\n",
    "trainCapacity = 150\n",
    "\n",
    "spawn_labels = [\"Station 1\", \"Station 2\", \"Station 3\", \"Station 4\", \"Station 5\"]\n",
    "spawn_rates = [0 2 2 2 2;\n",
    "1 0 1 1 1;\n",
    "3 3 0 3 3;\n",
    "1 1 1 0 1;\n",
    "1 1 1 1 0]\n",
    "\n",
    "station_dict = construct_station_dict(station_data)\n",
    "\n",
    "station_name_id_map = construct_station_name_id_map(station_dict)\n",
    "\n",
    "# construct the edges\n",
    "start_stations = construct_edges_from_edges_dict!(station_dict, travel_data)\n",
    "\n",
    "lines = construct_lines_from_start_stations(station_dict, start_stations)\n",
    "\n",
    "commuter_graph = construct_commuter_graph(station_dict)\n",
    "\n",
    "floyd_warshall!(commuter_graph)\n",
    "\n",
    "get_all_path_pairs!(commuter_graph)\n",
    "\n",
    "paths = get_interchange_paths(station_dict, lines, commuter_graph)\n",
    "\n",
    "trains = Dict()\n",
    "events = []\n",
    "for line_code in keys(lines)\n",
    "\tline_duration = get_line_duration(station_dict, lines, line_code)\n",
    "\tdepot_id = lines[line_code][\"FW\"][1]\n",
    "\tresult = create_period_train_placement_events(line_code, line_duration, 2, 100, depot_id)\n",
    "\n",
    "\tfor (k,v) in result[\"trains\"]\n",
    "\t\ttrains[k] = v \n",
    "\tend \n",
    "\n",
    "\tappend!(events, result[\"events\"])\n",
    "end\n",
    "\n",
    "# spawn_events = create_spawn_events(spawn_labels, spawn_rates, station_name_id_map)\n",
    "\n",
    "# append!(events, spawn_events)\n",
    "\n",
    "metro = Metro(station_dict, trains, lines, paths);"
   ]
  },
  {
   "cell_type": "code",
   "execution_count": 12,
   "id": "0c6b03d4",
   "metadata": {},
   "outputs": [
    {
     "data": {
      "text/plain": [
       "3.35"
      ]
     },
     "execution_count": 12,
     "metadata": {},
     "output_type": "execute_result"
    }
   ],
   "source": [
    "round(rand(Exponential(2), 1)[1]; digits=2)"
   ]
  },
  {
   "cell_type": "code",
   "execution_count": 9,
   "id": "f3990e76",
   "metadata": {},
   "outputs": [],
   "source": [
    "build_min_heap!(events)"
   ]
  },
  {
   "cell_type": "code",
   "execution_count": 10,
   "id": "74e695e9",
   "metadata": {},
   "outputs": [
    {
     "data": {
      "text/plain": [
       "15-element Vector{Any}:\n",
       " Event(0.0, train_reach_station!, Dict{Symbol, Any}(:station => \"station_4\", :train => \"train_pur_7\", :time => 0))\n",
       " Event(0.0, train_reach_station!, Dict{Symbol, Any}(:station => \"station_1\", :train => \"train_red_3\", :time => 0))\n",
       " Event(4.0, train_reach_station!, Dict{Symbol, Any}(:station => \"station_4\", :train => \"train_pur_8\", :time => 4.0))\n",
       " Event(6.0, train_reach_station!, Dict{Symbol, Any}(:station => \"station_4\", :train => \"train_pur_2\", :time => 6.0))\n",
       " Event(2.0, train_reach_station!, Dict{Symbol, Any}(:station => \"station_4\", :train => \"train_pur_5\", :time => 2.0))\n",
       " Event(4.0, train_reach_station!, Dict{Symbol, Any}(:station => \"station_1\", :train => \"train_red_6\", :time => 4.0))\n",
       " Event(8.0, train_reach_station!, Dict{Symbol, Any}(:station => \"station_1\", :train => \"train_red_5\", :time => 8.0))\n",
       " Event(14.0, train_reach_station!, Dict{Symbol, Any}(:station => \"station_4\", :train => \"train_pur_3\", :time => 14.0))\n",
       " Event(16.0, train_reach_station!, Dict{Symbol, Any}(:station => \"station_4\", :train => \"train_pur_1\", :time => 16.0))\n",
       " Event(8.0, train_reach_station!, Dict{Symbol, Any}(:station => \"station_4\", :train => \"train_pur_6\", :time => 8.0))\n",
       " Event(2.0, train_reach_station!, Dict{Symbol, Any}(:station => \"station_1\", :train => \"train_red_4\", :time => 2.0))\n",
       " Event(10.0, train_reach_station!, Dict{Symbol, Any}(:station => \"station_4\", :train => \"train_pur_4\", :time => 10.0))\n",
       " Event(6.0, train_reach_station!, Dict{Symbol, Any}(:station => \"station_1\", :train => \"train_red_1\", :time => 6.0))\n",
       " Event(12.0, train_reach_station!, Dict{Symbol, Any}(:station => \"station_4\", :train => \"train_pur_9\", :time => 12.0))\n",
       " Event(10.0, train_reach_station!, Dict{Symbol, Any}(:station => \"station_1\", :train => \"train_red_2\", :time => 10.0))"
      ]
     },
     "execution_count": 10,
     "metadata": {},
     "output_type": "execute_result"
    }
   ],
   "source": [
    "events"
   ]
  },
  {
   "cell_type": "code",
   "execution_count": 11,
   "id": "c742ddfa",
   "metadata": {},
   "outputs": [
    {
     "name": "stdout",
     "output_type": "stream",
     "text": [
      "Event(0.0, train_reach_station!, Dict{Symbol, Any}(:station => \"station_4\", :train => \"train_pur_7\", :time => 0))\n",
      "Event(0.0, train_reach_station!, Dict{Symbol, Any}(:station => \"station_1\", :train => \"train_red_3\", :time => 0))\n",
      "Event(2.0, train_reach_station!, Dict{Symbol, Any}(:station => \"station_4\", :train => \"train_pur_5\", :time => 2.0))\n",
      "Event(2.0, train_reach_station!, Dict{Symbol, Any}(:station => \"station_1\", :train => \"train_red_4\", :time => 2.0))\n",
      "Event(4.0, train_reach_station!, Dict{Symbol, Any}(:station => \"station_4\", :train => \"train_pur_8\", :time => 4.0))\n",
      "Event(4.0, train_reach_station!, Dict{Symbol, Any}(:station => \"station_1\", :train => \"train_red_6\", :time => 4.0))\n",
      "Event(6.0, train_reach_station!, Dict{Symbol, Any}(:station => \"station_1\", :train => \"train_red_1\", :time => 6.0))\n",
      "Event(6.0, train_reach_station!, Dict{Symbol, Any}(:station => \"station_4\", :train => \"train_pur_2\", :time => 6.0))\n",
      "Event(8.0, train_reach_station!, Dict{Symbol, Any}(:station => \"station_4\", :train => \"train_pur_6\", :time => 8.0))\n",
      "Event(8.0, train_reach_station!, Dict{Symbol, Any}(:station => \"station_1\", :train => \"train_red_5\", :time => 8.0))\n",
      "Event(10.0, train_reach_station!, Dict{Symbol, Any}(:station => \"station_4\", :train => \"train_pur_4\", :time => 10.0))\n",
      "Event(10.0, train_reach_station!, Dict{Symbol, Any}(:station => \"station_1\", :train => \"train_red_2\", :time => 10.0))\n",
      "Event(12.0, train_reach_station!, Dict{Symbol, Any}(:station => \"station_4\", :train => \"train_pur_9\", :time => 12.0))\n",
      "Event(14.0, train_reach_station!, Dict{Symbol, Any}(:station => \"station_4\", :train => \"train_pur_3\", :time => 14.0))\n",
      "Event(16.0, train_reach_station!, Dict{Symbol, Any}(:station => \"station_4\", :train => \"train_pur_1\", :time => 16.0))\n"
     ]
    }
   ],
   "source": [
    "for i in 1:15\n",
    "    println(heappop!(events))\n",
    "end"
   ]
  },
  {
   "cell_type": "code",
   "execution_count": 15,
   "id": "6a809c6b",
   "metadata": {},
   "outputs": [
    {
     "data": {
      "text/plain": [
       "2-element Vector{Any}:\n",
       " [\"station_1.red\", \"station_2.red\", \"station_2.pur\", \"station_3.pur\", \"station_5.pur\"]\n",
       " [\"station_1.red\", \"station_2.red\", \"station_3.red\", \"station_3.pur\", \"station_5.pur\"]"
      ]
     },
     "metadata": {},
     "output_type": "display_data"
    }
   ],
   "source": [
    "display(commuter_graph.commuter_paths[\"station_1.red\"][\"station_5.pur\"])"
   ]
  },
  {
   "cell_type": "code",
   "execution_count": 28,
   "id": "cf8b0da0",
   "metadata": {},
   "outputs": [
    {
     "data": {
      "text/plain": [
       "12.0"
      ]
     },
     "execution_count": 28,
     "metadata": {},
     "output_type": "execute_result"
    }
   ],
   "source": [
    "get_line_duration(station_dict, lines, \"red\")"
   ]
  },
  {
   "cell_type": "code",
   "execution_count": 32,
   "id": "ad0930d8",
   "metadata": {},
   "outputs": [
    {
     "data": {
      "text/plain": [
       "Dict{Any, Any} with 2 entries:\n",
       "  \"events\" => Any[Event(0, train_reach_station!, Dict{Symbol, Any}(:station=>\"s…\n",
       "  \"trains\" => Dict{Any, Any}(\"train_red_6//1\"=>Train(\"train_red_6//1\", \"red\", \"…"
      ]
     },
     "execution_count": 32,
     "metadata": {},
     "output_type": "execute_result"
    }
   ],
   "source": [
    "result = create_period_train_placement_events(\"red\", 12, 2, 100, \"station_1\")"
   ]
  },
  {
   "cell_type": "code",
   "execution_count": 48,
   "id": "b10f1a6c",
   "metadata": {},
   "outputs": [
    {
     "data": {
      "text/plain": [
       "Event(2, train_reach_station!, Dict{Symbol, Any}(:station => \"station_1\", :train => \"train_red_3//1\", :time => 2.0))"
      ]
     },
     "execution_count": 48,
     "metadata": {},
     "output_type": "execute_result"
    }
   ],
   "source": [
    "result[\"events\"][2]"
   ]
  },
  {
   "cell_type": "code",
   "execution_count": 27,
   "id": "24d2f641",
   "metadata": {},
   "outputs": [
    {
     "data": {
      "text/plain": [
       "\"station_1\""
      ]
     },
     "execution_count": 27,
     "metadata": {},
     "output_type": "execute_result"
    }
   ],
   "source": [
    "lines[\"red\"][\"FW\"][1]"
   ]
  },
  {
   "cell_type": "code",
   "execution_count": 17,
   "id": "65783224",
   "metadata": {},
   "outputs": [
    {
     "name": "stdout",
     "output_type": "stream",
     "text": [
      "station_5station_2station_1station_3station_4"
     ]
    }
   ],
   "source": [
    "for i in keys(station_dict)\n",
    "    print(i)\n",
    "end"
   ]
  },
  {
   "cell_type": "code",
   "execution_count": 44,
   "id": "2f334b8f",
   "metadata": {},
   "outputs": [
    {
     "data": {
      "text/plain": [
       "1-element Vector{Any}:\n",
       " \"pur\""
      ]
     },
     "execution_count": 44,
     "metadata": {},
     "output_type": "execute_result"
    }
   ],
   "source": [
    "station_dict[\"station_5\"].codes"
   ]
  },
  {
   "cell_type": "code",
   "execution_count": 63,
   "id": "744d0de1",
   "metadata": {},
   "outputs": [
    {
     "data": {
      "text/plain": [
       "Dict{Any, Any} with 2 entries:\n",
       "  \"pur\" => Dict{Any, Any}(\"FW\"=>[\"station_4\", \"station_2\", \"station_3\", \"statio…\n",
       "  \"red\" => Dict{Any, Any}(\"FW\"=>[\"station_1\", \"station_2\", \"station_3\"], \"BW\"=>…"
      ]
     },
     "execution_count": 63,
     "metadata": {},
     "output_type": "execute_result"
    }
   ],
   "source": [
    "lines"
   ]
  },
  {
   "cell_type": "code",
   "execution_count": 51,
   "id": "7b2c96e5",
   "metadata": {},
   "outputs": [
    {
     "name": "stdout",
     "output_type": "stream",
     "text": [
      "1\n",
      "23\n",
      "23\n",
      "1\n"
     ]
    }
   ],
   "source": [
    "for (x, y) in [(1,23), (23,1)]\n",
    "    println(x)\n",
    "    println(y)\n",
    "end"
   ]
  },
  {
   "cell_type": "code",
   "execution_count": 64,
   "id": "7681e619",
   "metadata": {},
   "outputs": [
    {
     "data": {
      "text/plain": [
       "4"
      ]
     },
     "execution_count": 64,
     "metadata": {},
     "output_type": "execute_result"
    }
   ],
   "source": [
    "findfirst(==(\"station_5\"), lines[\"pur\"][\"FW\"])"
   ]
  },
  {
   "cell_type": "code",
   "execution_count": 74,
   "id": "c7b217ff",
   "metadata": {},
   "outputs": [
    {
     "data": {
      "text/plain": [
       "Dict{Any, Any} with 5 entries:\n",
       "  \"station_4\" => Dict{Any, Any}(\"station_2\"=>Dict{Any, Any}(\"pur_FW\"=>Any[\"stat…\n",
       "  \"station_2\" => Dict{Any, Any}(\"station_4\"=>Dict{Any, Any}(\"pur_BW\"=>Any[\"stat…\n",
       "  \"station_1\" => Dict{Any, Any}(\"station_4\"=>Dict{Any, Any}(\"red_FW\"=>Any[\"stat…\n",
       "  \"station_3\" => Dict{Any, Any}(\"station_2\"=>Dict{Any, Any}(\"red_BW\"=>Any[\"stat…\n",
       "  \"station_5\" => Dict{Any, Any}(\"station_2\"=>Dict{Any, Any}(\"pur_BW\"=>Any[\"stat…"
      ]
     },
     "execution_count": 74,
     "metadata": {},
     "output_type": "execute_result"
    }
   ],
   "source": [
    "paths = get_interchange_paths(station_dict, lines, commuter_graph)"
   ]
  },
  {
   "cell_type": "code",
   "execution_count": 78,
   "id": "b61d7587",
   "metadata": {},
   "outputs": [
    {
     "data": {
      "text/plain": [
       "Dict{Any, Any} with 4 entries:\n",
       "  \"station_4\" => Dict{Any, Any}(\"pur_BW\"=>Any[\"station_4\"])\n",
       "  \"station_1\" => Dict{Any, Any}(\"red_BW\"=>Any[\"station_1\"])\n",
       "  \"station_3\" => Dict{Any, Any}(\"red_FW\"=>Any[\"station_3\"], \"pur_FW\"=>Any[\"stat…\n",
       "  \"station_5\" => Dict{Any, Any}(\"pur_FW\"=>Any[\"station_5\"])"
      ]
     },
     "execution_count": 78,
     "metadata": {},
     "output_type": "execute_result"
    }
   ],
   "source": [
    "paths[\"station_2\"]"
   ]
  },
  {
   "cell_type": "code",
   "execution_count": 71,
   "id": "0614b5a4",
   "metadata": {},
   "outputs": [
    {
     "data": {
      "text/plain": [
       "3"
      ]
     },
     "execution_count": 71,
     "metadata": {},
     "output_type": "execute_result"
    }
   ],
   "source": [
    "size(lines[\"red\"][\"FW\"])[1]"
   ]
  },
  {
   "cell_type": "code",
   "execution_count": 45,
   "id": "c5d662b3",
   "metadata": {},
   "outputs": [
    {
     "data": {
      "text/plain": [
       "1"
      ]
     },
     "execution_count": 45,
     "metadata": {},
     "output_type": "execute_result"
    }
   ],
   "source": [
    "trunc(Int, 4/3)"
   ]
  },
  {
   "cell_type": "code",
   "execution_count": 12,
   "id": "ca5a852a",
   "metadata": {},
   "outputs": [
    {
     "data": {
      "text/plain": [
       "0.8827619021614435"
      ]
     },
     "execution_count": 12,
     "metadata": {},
     "output_type": "execute_result"
    }
   ],
   "source": [
    "rand(Exponential(2), 1)[1]"
   ]
  },
  {
   "cell_type": "code",
   "execution_count": 24,
   "id": "19ecc2bd",
   "metadata": {},
   "outputs": [
    {
     "data": {
      "text/plain": [
       "3-element Vector{Int64}:\n",
       " 1\n",
       " 2\n",
       " 3"
      ]
     },
     "execution_count": 24,
     "metadata": {},
     "output_type": "execute_result"
    }
   ],
   "source": [
    "x = [1, 2, 3]"
   ]
  },
  {
   "cell_type": "code",
   "execution_count": 25,
   "id": "4e6a0ed8",
   "metadata": {},
   "outputs": [
    {
     "name": "stdout",
     "output_type": "stream",
     "text": [
      "2\n"
     ]
    }
   ],
   "source": [
    "for i in 3: -1 : 1\n",
    "    if i == 2\n",
    "        println(splice!(x,i))\n",
    "    end\n",
    "end"
   ]
  },
  {
   "cell_type": "code",
   "execution_count": 2,
   "id": "40ec3079",
   "metadata": {},
   "outputs": [],
   "source": [
    "using HDF5"
   ]
  },
  {
   "cell_type": "code",
   "execution_count": 3,
   "id": "ba09cab8",
   "metadata": {},
   "outputs": [
    {
     "data": {
      "text/plain": [
       "🗂️ HDF5.File: (read-only) data/runsData.h5\n",
       "└─ 📂 dataset_d_100_run_2023-04-06T20:57:52.892\n",
       "   ├─ 📂 percentage_wait_time\n",
       "   │  ├─ 📂 station_1\n",
       "   │  │  ├─ 🔢 station_2\n",
       "   │  │  ├─ 🔢 station_3\n",
       "   │  │  ├─ 🔢 station_4\n",
       "   │  │  └─ 🔢 station_5\n",
       "   │  ├─ 📂 station_2\n",
       "   │  │  ├─ 🔢 station_1\n",
       "   │  │  ├─ 🔢 station_3\n",
       "   │  │  ├─ 🔢 station_4\n",
       "   │  │  └─ 🔢 station_5\n",
       "   │  ├─ 📂 station_3\n",
       "   │  │  ├─ 🔢 station_1\n",
       "   │  │  ├─ 🔢 station_2\n",
       "   │  │  ├─ 🔢 station_4\n",
       "   │  │  └─ 🔢 station_5\n",
       "   │  ├─ 📂 station_4\n",
       "   │  │  ├─ 🔢 station_1\n",
       "   │  │  ├─ 🔢 station_2\n",
       "   │  │  ├─ 🔢 station_3\n",
       "   │  │  └─ 🔢 station_5\n",
       "   │  └─ 📂 station_5\n",
       "   │     ├─ 🔢 station_1\n",
       "   │     ├─ 🔢 station_2\n",
       "   │     ├─ 🔢 station_3\n",
       "   │     └─ 🔢 station_4\n",
       "   ├─ 📂 station_commuter_count\n",
       "   │  ├─ 📂 station_1\n",
       "   │  │  ├─ 🔢 count\n",
       "   │  │  ├─ 🔢 event\n",
       "   │  │  └─ 🔢 time\n",
       "   │  ├─ 📂 station_2\n",
       "   │  │  ├─ 🔢 count\n",
       "   │  │  ├─ 🔢 event\n",
       "   │  │  └─ 🔢 time\n",
       "   │  ├─ 📂 station_3\n",
       "   │  │  ├─ 🔢 count\n",
       "   │  │  ├─ 🔢 event\n",
       "   │  │  └─ 🔢 time\n",
       "   │  ├─ 📂 station_4\n",
       "   │  │  ├─ 🔢 count\n",
       "   │  │  ├─ 🔢 event\n",
       "   │  │  └─ 🔢 time\n",
       "   │  └─ 📂 station_5\n",
       "   │     ├─ 🔢 count\n",
       "   │     ├─ 🔢 event\n",
       "   │     └─ 🔢 time\n",
       "   ├─ 📂 station_train_commuter_count\n",
       "   │  ├─ 📂 station_1\n",
       "   │  │  ├─ 🔢 count\n",
       "   │  │  ├─ 🔢 event\n",
       "   │  │  └─ 🔢 time\n",
       "   │  ├─ 📂 station_2\n",
       "   │  │  ├─ 🔢 count\n",
       "   │  │  ├─ 🔢 event\n",
       "   │  │  └─ 🔢 time\n",
       "   │  ├─ 📂 station_3\n",
       "   │  │  ├─ 🔢 count\n",
       "   │  │  ├─ 🔢 event\n",
       "   │  │  └─ 🔢 time\n",
       "   │  ├─ 📂 station_4\n",
       "   │  │  ├─ 🔢 count\n",
       "   │  │  ├─ 🔢 event\n",
       "   │  │  └─ 🔢 time\n",
       "   │  └─ 📂 station_5\n",
       "   │     ├─ 🔢 count\n",
       "   │     ├─ 🔢 event\n",
       "   │     └─ 🔢 time\n",
       "   ├─ 📂 travel_times\n",
       "   │  ├─ 📂 station_1\n",
       "   │  │  ├─ 🔢 station_2\n",
       "   │  │  ├─ 🔢 station_3\n",
       "   │  │  ├─ 🔢 station_4\n",
       "   │  │  └─ 🔢 station_5\n",
       "   │  ├─ 📂 station_2\n",
       "   │  │  ├─ 🔢 station_1\n",
       "   │  │  ├─ 🔢 station_3\n",
       "   │  │  ├─ 🔢 station_4\n",
       "   │  │  └─ 🔢 station_5\n",
       "   │  ├─ 📂 station_3\n",
       "   │  │  ├─ 🔢 station_1\n",
       "   │  │  ├─ 🔢 station_2\n",
       "   │  │  ├─ 🔢 station_4\n",
       "   │  │  └─ 🔢 station_5\n",
       "   │  ├─ 📂 station_4\n",
       "   │  │  ├─ 🔢 station_1\n",
       "   │  │  ├─ 🔢 station_2\n",
       "   │  │  ├─ 🔢 station_3\n",
       "   │  │  └─ 🔢 station_5\n",
       "   │  └─ 📂 station_5\n",
       "   │     ├─ 🔢 station_1\n",
       "   │     ├─ 🔢 station_2\n",
       "   │     ├─ 🔢 station_3\n",
       "   │     └─ 🔢 station_4\n",
       "   └─ 📂 wait_times\n",
       "      ├─ 🔢 station_1\n",
       "      ├─ 🔢 station_2\n",
       "      ├─ 🔢 station_3\n",
       "      ├─ 🔢 station_4\n",
       "      └─ 🔢 station_5"
      ]
     },
     "execution_count": 3,
     "metadata": {},
     "output_type": "execute_result"
    }
   ],
   "source": [
    "data = h5open(\"data/runsData.h5\")"
   ]
  },
  {
   "cell_type": "code",
   "execution_count": 28,
   "id": "919ff64a",
   "metadata": {},
   "outputs": [
    {
     "data": {
      "text/plain": [
       "🔢 HDF5.Dataset: /dataset_d_100_run_2023-04-06T20:57:52.892/wait_times/station_2 (file: data/runsData.h5 xfer_mode: 0)"
      ]
     },
     "execution_count": 28,
     "metadata": {},
     "output_type": "execute_result"
    }
   ],
   "source": [
    "f = data[\"dataset_d_100_run_2023-04-06T20:57:52.892/wait_times/station_2\"]"
   ]
  },
  {
   "cell_type": "code",
   "execution_count": 29,
   "id": "5cb3ee82",
   "metadata": {},
   "outputs": [
    {
     "data": {
      "text/plain": [
       "1640-element Vector{Float64}:\n",
       " 3.9052252711392663\n",
       " 3.8005350488928493\n",
       " 3.7097047820470253\n",
       " 3.5532935727606842\n",
       " 3.4020533586307655\n",
       " 2.90004882011739\n",
       " 2.6012672038052957\n",
       " 2.5569343424910826\n",
       " 2.5483979482571923\n",
       " 1.5806013831097911\n",
       " 1.4089182876476012\n",
       " 1.1944831986135425\n",
       " 1.1623315229180586\n",
       " ⋮\n",
       " 1.0\n",
       " 0.754263511224309\n",
       " 0.23297299652611514\n",
       " 0.19572753949253752\n",
       " 0.044112404526984506\n",
       " 1.949006254734286\n",
       " 1.3682381911176549\n",
       " 1.2902487406537375\n",
       " 1.248633815165661\n",
       " 1.0\n",
       " 0.754263511224309\n",
       " 0.19572753949253752"
      ]
     },
     "execution_count": 29,
     "metadata": {},
     "output_type": "execute_result"
    }
   ],
   "source": [
    "read(f)"
   ]
  },
  {
   "cell_type": "code",
   "execution_count": 30,
   "id": "a33337b6",
   "metadata": {},
   "outputs": [],
   "source": [
    "using Plots"
   ]
  },
  {
   "cell_type": "code",
   "execution_count": 31,
   "id": "3fa1ea89",
   "metadata": {},
   "outputs": [
    {
     "data": {
      "image/svg+xml": [
       "<?xml version=\"1.0\" encoding=\"utf-8\"?>\n",
       "<svg xmlns=\"http://www.w3.org/2000/svg\" xmlns:xlink=\"http://www.w3.org/1999/xlink\" width=\"600\" height=\"400\" viewBox=\"0 0 2400 1600\">\n",
       "<defs>\n",
       "  <clipPath id=\"clip820\">\n",
       "    <rect x=\"0\" y=\"0\" width=\"2400\" height=\"1600\"/>\n",
       "  </clipPath>\n",
       "</defs>\n",
       "<path clip-path=\"url(#clip820)\" d=\"M0 1600 L2400 1600 L2400 0 L0 0  Z\" fill=\"#ffffff\" fill-rule=\"evenodd\" fill-opacity=\"1\"/>\n",
       "<defs>\n",
       "  <clipPath id=\"clip821\">\n",
       "    <rect x=\"480\" y=\"0\" width=\"1681\" height=\"1600\"/>\n",
       "  </clipPath>\n",
       "</defs>\n",
       "<path clip-path=\"url(#clip820)\" d=\"M138.959 1486.45 L2352.76 1486.45 L2352.76 47.2441 L138.959 47.2441  Z\" fill=\"#ffffff\" fill-rule=\"evenodd\" fill-opacity=\"1\"/>\n",
       "<defs>\n",
       "  <clipPath id=\"clip822\">\n",
       "    <rect x=\"138\" y=\"47\" width=\"2215\" height=\"1440\"/>\n",
       "  </clipPath>\n",
       "</defs>\n",
       "<polyline clip-path=\"url(#clip822)\" style=\"stroke:#000000; stroke-linecap:round; stroke-linejoin:round; stroke-width:2; stroke-opacity:0.1; fill:none\" points=\"200.34,1486.45 200.34,47.2441 \"/>\n",
       "<polyline clip-path=\"url(#clip822)\" style=\"stroke:#000000; stroke-linecap:round; stroke-linejoin:round; stroke-width:2; stroke-opacity:0.1; fill:none\" points=\"837.462,1486.45 837.462,47.2441 \"/>\n",
       "<polyline clip-path=\"url(#clip822)\" style=\"stroke:#000000; stroke-linecap:round; stroke-linejoin:round; stroke-width:2; stroke-opacity:0.1; fill:none\" points=\"1474.58,1486.45 1474.58,47.2441 \"/>\n",
       "<polyline clip-path=\"url(#clip822)\" style=\"stroke:#000000; stroke-linecap:round; stroke-linejoin:round; stroke-width:2; stroke-opacity:0.1; fill:none\" points=\"2111.71,1486.45 2111.71,47.2441 \"/>\n",
       "<polyline clip-path=\"url(#clip820)\" style=\"stroke:#000000; stroke-linecap:round; stroke-linejoin:round; stroke-width:4; stroke-opacity:1; fill:none\" points=\"138.959,1486.45 2352.76,1486.45 \"/>\n",
       "<polyline clip-path=\"url(#clip820)\" style=\"stroke:#000000; stroke-linecap:round; stroke-linejoin:round; stroke-width:4; stroke-opacity:1; fill:none\" points=\"200.34,1486.45 200.34,1467.55 \"/>\n",
       "<polyline clip-path=\"url(#clip820)\" style=\"stroke:#000000; stroke-linecap:round; stroke-linejoin:round; stroke-width:4; stroke-opacity:1; fill:none\" points=\"837.462,1486.45 837.462,1467.55 \"/>\n",
       "<polyline clip-path=\"url(#clip820)\" style=\"stroke:#000000; stroke-linecap:round; stroke-linejoin:round; stroke-width:4; stroke-opacity:1; fill:none\" points=\"1474.58,1486.45 1474.58,1467.55 \"/>\n",
       "<polyline clip-path=\"url(#clip820)\" style=\"stroke:#000000; stroke-linecap:round; stroke-linejoin:round; stroke-width:4; stroke-opacity:1; fill:none\" points=\"2111.71,1486.45 2111.71,1467.55 \"/>\n",
       "<path clip-path=\"url(#clip820)\" d=\"M200.34 1517.37 Q196.729 1517.37 194.9 1520.93 Q193.094 1524.47 193.094 1531.6 Q193.094 1538.71 194.9 1542.27 Q196.729 1545.82 200.34 1545.82 Q203.974 1545.82 205.78 1542.27 Q207.608 1538.71 207.608 1531.6 Q207.608 1524.47 205.78 1520.93 Q203.974 1517.37 200.34 1517.37 M200.34 1513.66 Q206.15 1513.66 209.206 1518.27 Q212.284 1522.85 212.284 1531.6 Q212.284 1540.33 209.206 1544.94 Q206.15 1549.52 200.34 1549.52 Q194.53 1549.52 191.451 1544.94 Q188.395 1540.33 188.395 1531.6 Q188.395 1522.85 191.451 1518.27 Q194.53 1513.66 200.34 1513.66 Z\" fill=\"#000000\" fill-rule=\"evenodd\" fill-opacity=\"1\" /><path clip-path=\"url(#clip820)\" d=\"M797.08 1514.29 L815.437 1514.29 L815.437 1518.22 L801.363 1518.22 L801.363 1526.7 Q802.381 1526.35 803.4 1526.19 Q804.418 1526 805.437 1526 Q811.224 1526 814.604 1529.17 Q817.983 1532.34 817.983 1537.76 Q817.983 1543.34 814.511 1546.44 Q811.039 1549.52 804.719 1549.52 Q802.543 1549.52 800.275 1549.15 Q798.03 1548.78 795.622 1548.04 L795.622 1543.34 Q797.705 1544.47 799.928 1545.03 Q802.15 1545.58 804.627 1545.58 Q808.631 1545.58 810.969 1543.48 Q813.307 1541.37 813.307 1537.76 Q813.307 1534.15 810.969 1532.04 Q808.631 1529.94 804.627 1529.94 Q802.752 1529.94 800.877 1530.35 Q799.025 1530.77 797.08 1531.65 L797.08 1514.29 Z\" fill=\"#000000\" fill-rule=\"evenodd\" fill-opacity=\"1\" /><path clip-path=\"url(#clip820)\" d=\"M837.196 1517.37 Q833.585 1517.37 831.756 1520.93 Q829.951 1524.47 829.951 1531.6 Q829.951 1538.71 831.756 1542.27 Q833.585 1545.82 837.196 1545.82 Q840.83 1545.82 842.636 1542.27 Q844.464 1538.71 844.464 1531.6 Q844.464 1524.47 842.636 1520.93 Q840.83 1517.37 837.196 1517.37 M837.196 1513.66 Q843.006 1513.66 846.062 1518.27 Q849.14 1522.85 849.14 1531.6 Q849.14 1540.33 846.062 1544.94 Q843.006 1549.52 837.196 1549.52 Q831.386 1549.52 828.307 1544.94 Q825.252 1540.33 825.252 1531.6 Q825.252 1522.85 828.307 1518.27 Q831.386 1513.66 837.196 1513.66 Z\" fill=\"#000000\" fill-rule=\"evenodd\" fill-opacity=\"1\" /><path clip-path=\"url(#clip820)\" d=\"M867.358 1517.37 Q863.747 1517.37 861.918 1520.93 Q860.113 1524.47 860.113 1531.6 Q860.113 1538.71 861.918 1542.27 Q863.747 1545.82 867.358 1545.82 Q870.992 1545.82 872.798 1542.27 Q874.626 1538.71 874.626 1531.6 Q874.626 1524.47 872.798 1520.93 Q870.992 1517.37 867.358 1517.37 M867.358 1513.66 Q873.168 1513.66 876.224 1518.27 Q879.302 1522.85 879.302 1531.6 Q879.302 1540.33 876.224 1544.94 Q873.168 1549.52 867.358 1549.52 Q861.548 1549.52 858.469 1544.94 Q855.414 1540.33 855.414 1531.6 Q855.414 1522.85 858.469 1518.27 Q861.548 1513.66 867.358 1513.66 Z\" fill=\"#000000\" fill-rule=\"evenodd\" fill-opacity=\"1\" /><path clip-path=\"url(#clip820)\" d=\"M1419.11 1544.91 L1426.75 1544.91 L1426.75 1518.55 L1418.44 1520.21 L1418.44 1515.95 L1426.7 1514.29 L1431.38 1514.29 L1431.38 1544.91 L1439.02 1544.91 L1439.02 1548.85 L1419.11 1548.85 L1419.11 1544.91 Z\" fill=\"#000000\" fill-rule=\"evenodd\" fill-opacity=\"1\" /><path clip-path=\"url(#clip820)\" d=\"M1458.46 1517.37 Q1454.85 1517.37 1453.02 1520.93 Q1451.22 1524.47 1451.22 1531.6 Q1451.22 1538.71 1453.02 1542.27 Q1454.85 1545.82 1458.46 1545.82 Q1462.1 1545.82 1463.9 1542.27 Q1465.73 1538.71 1465.73 1531.6 Q1465.73 1524.47 1463.9 1520.93 Q1462.1 1517.37 1458.46 1517.37 M1458.46 1513.66 Q1464.27 1513.66 1467.33 1518.27 Q1470.41 1522.85 1470.41 1531.6 Q1470.41 1540.33 1467.33 1544.94 Q1464.27 1549.52 1458.46 1549.52 Q1452.65 1549.52 1449.57 1544.94 Q1446.52 1540.33 1446.52 1531.6 Q1446.52 1522.85 1449.57 1518.27 Q1452.65 1513.66 1458.46 1513.66 Z\" fill=\"#000000\" fill-rule=\"evenodd\" fill-opacity=\"1\" /><path clip-path=\"url(#clip820)\" d=\"M1488.62 1517.37 Q1485.01 1517.37 1483.18 1520.93 Q1481.38 1524.47 1481.38 1531.6 Q1481.38 1538.71 1483.18 1542.27 Q1485.01 1545.82 1488.62 1545.82 Q1492.26 1545.82 1494.06 1542.27 Q1495.89 1538.71 1495.89 1531.6 Q1495.89 1524.47 1494.06 1520.93 Q1492.26 1517.37 1488.62 1517.37 M1488.62 1513.66 Q1494.43 1513.66 1497.49 1518.27 Q1500.57 1522.85 1500.57 1531.6 Q1500.57 1540.33 1497.49 1544.94 Q1494.43 1549.52 1488.62 1549.52 Q1482.81 1549.52 1479.74 1544.94 Q1476.68 1540.33 1476.68 1531.6 Q1476.68 1522.85 1479.74 1518.27 Q1482.81 1513.66 1488.62 1513.66 Z\" fill=\"#000000\" fill-rule=\"evenodd\" fill-opacity=\"1\" /><path clip-path=\"url(#clip820)\" d=\"M1518.79 1517.37 Q1515.17 1517.37 1513.35 1520.93 Q1511.54 1524.47 1511.54 1531.6 Q1511.54 1538.71 1513.35 1542.27 Q1515.17 1545.82 1518.79 1545.82 Q1522.42 1545.82 1524.23 1542.27 Q1526.05 1538.71 1526.05 1531.6 Q1526.05 1524.47 1524.23 1520.93 Q1522.42 1517.37 1518.79 1517.37 M1518.79 1513.66 Q1524.6 1513.66 1527.65 1518.27 Q1530.73 1522.85 1530.73 1531.6 Q1530.73 1540.33 1527.65 1544.94 Q1524.6 1549.52 1518.79 1549.52 Q1512.98 1549.52 1509.9 1544.94 Q1506.84 1540.33 1506.84 1531.6 Q1506.84 1522.85 1509.9 1518.27 Q1512.98 1513.66 1518.79 1513.66 Z\" fill=\"#000000\" fill-rule=\"evenodd\" fill-opacity=\"1\" /><path clip-path=\"url(#clip820)\" d=\"M2056.23 1544.91 L2063.87 1544.91 L2063.87 1518.55 L2055.56 1520.21 L2055.56 1515.95 L2063.83 1514.29 L2068.5 1514.29 L2068.5 1544.91 L2076.14 1544.91 L2076.14 1548.85 L2056.23 1548.85 L2056.23 1544.91 Z\" fill=\"#000000\" fill-rule=\"evenodd\" fill-opacity=\"1\" /><path clip-path=\"url(#clip820)\" d=\"M2085.63 1514.29 L2103.99 1514.29 L2103.99 1518.22 L2089.91 1518.22 L2089.91 1526.7 Q2090.93 1526.35 2091.95 1526.19 Q2092.97 1526 2093.99 1526 Q2099.77 1526 2103.15 1529.17 Q2106.53 1532.34 2106.53 1537.76 Q2106.53 1543.34 2103.06 1546.44 Q2099.59 1549.52 2093.27 1549.52 Q2091.09 1549.52 2088.83 1549.15 Q2086.58 1548.78 2084.17 1548.04 L2084.17 1543.34 Q2086.26 1544.47 2088.48 1545.03 Q2090.7 1545.58 2093.18 1545.58 Q2097.18 1545.58 2099.52 1543.48 Q2101.86 1541.37 2101.86 1537.76 Q2101.86 1534.15 2099.52 1532.04 Q2097.18 1529.94 2093.18 1529.94 Q2091.3 1529.94 2089.43 1530.35 Q2087.58 1530.77 2085.63 1531.65 L2085.63 1514.29 Z\" fill=\"#000000\" fill-rule=\"evenodd\" fill-opacity=\"1\" /><path clip-path=\"url(#clip820)\" d=\"M2125.75 1517.37 Q2122.14 1517.37 2120.31 1520.93 Q2118.5 1524.47 2118.5 1531.6 Q2118.5 1538.71 2120.31 1542.27 Q2122.14 1545.82 2125.75 1545.82 Q2129.38 1545.82 2131.19 1542.27 Q2133.01 1538.71 2133.01 1531.6 Q2133.01 1524.47 2131.19 1520.93 Q2129.38 1517.37 2125.75 1517.37 M2125.75 1513.66 Q2131.56 1513.66 2134.61 1518.27 Q2137.69 1522.85 2137.69 1531.6 Q2137.69 1540.33 2134.61 1544.94 Q2131.56 1549.52 2125.75 1549.52 Q2119.94 1549.52 2116.86 1544.94 Q2113.8 1540.33 2113.8 1531.6 Q2113.8 1522.85 2116.86 1518.27 Q2119.94 1513.66 2125.75 1513.66 Z\" fill=\"#000000\" fill-rule=\"evenodd\" fill-opacity=\"1\" /><path clip-path=\"url(#clip820)\" d=\"M2155.91 1517.37 Q2152.3 1517.37 2150.47 1520.93 Q2148.66 1524.47 2148.66 1531.6 Q2148.66 1538.71 2150.47 1542.27 Q2152.3 1545.82 2155.91 1545.82 Q2159.54 1545.82 2161.35 1542.27 Q2163.18 1538.71 2163.18 1531.6 Q2163.18 1524.47 2161.35 1520.93 Q2159.54 1517.37 2155.91 1517.37 M2155.91 1513.66 Q2161.72 1513.66 2164.77 1518.27 Q2167.85 1522.85 2167.85 1531.6 Q2167.85 1540.33 2164.77 1544.94 Q2161.72 1549.52 2155.91 1549.52 Q2150.1 1549.52 2147.02 1544.94 Q2143.96 1540.33 2143.96 1531.6 Q2143.96 1522.85 2147.02 1518.27 Q2150.1 1513.66 2155.91 1513.66 Z\" fill=\"#000000\" fill-rule=\"evenodd\" fill-opacity=\"1\" /><polyline clip-path=\"url(#clip822)\" style=\"stroke:#000000; stroke-linecap:round; stroke-linejoin:round; stroke-width:2; stroke-opacity:0.1; fill:none\" points=\"138.959,1446.47 2352.76,1446.47 \"/>\n",
       "<polyline clip-path=\"url(#clip822)\" style=\"stroke:#000000; stroke-linecap:round; stroke-linejoin:round; stroke-width:2; stroke-opacity:0.1; fill:none\" points=\"138.959,1019.41 2352.76,1019.41 \"/>\n",
       "<polyline clip-path=\"url(#clip822)\" style=\"stroke:#000000; stroke-linecap:round; stroke-linejoin:round; stroke-width:2; stroke-opacity:0.1; fill:none\" points=\"138.959,592.351 2352.76,592.351 \"/>\n",
       "<polyline clip-path=\"url(#clip822)\" style=\"stroke:#000000; stroke-linecap:round; stroke-linejoin:round; stroke-width:2; stroke-opacity:0.1; fill:none\" points=\"138.959,165.293 2352.76,165.293 \"/>\n",
       "<polyline clip-path=\"url(#clip820)\" style=\"stroke:#000000; stroke-linecap:round; stroke-linejoin:round; stroke-width:4; stroke-opacity:1; fill:none\" points=\"138.959,1486.45 138.959,47.2441 \"/>\n",
       "<polyline clip-path=\"url(#clip820)\" style=\"stroke:#000000; stroke-linecap:round; stroke-linejoin:round; stroke-width:4; stroke-opacity:1; fill:none\" points=\"138.959,1446.47 157.857,1446.47 \"/>\n",
       "<polyline clip-path=\"url(#clip820)\" style=\"stroke:#000000; stroke-linecap:round; stroke-linejoin:round; stroke-width:4; stroke-opacity:1; fill:none\" points=\"138.959,1019.41 157.857,1019.41 \"/>\n",
       "<polyline clip-path=\"url(#clip820)\" style=\"stroke:#000000; stroke-linecap:round; stroke-linejoin:round; stroke-width:4; stroke-opacity:1; fill:none\" points=\"138.959,592.351 157.857,592.351 \"/>\n",
       "<polyline clip-path=\"url(#clip820)\" style=\"stroke:#000000; stroke-linecap:round; stroke-linejoin:round; stroke-width:4; stroke-opacity:1; fill:none\" points=\"138.959,165.293 157.857,165.293 \"/>\n",
       "<path clip-path=\"url(#clip820)\" d=\"M91.0151 1432.27 Q87.404 1432.27 85.5753 1435.83 Q83.7697 1439.37 83.7697 1446.5 Q83.7697 1453.61 85.5753 1457.17 Q87.404 1460.71 91.0151 1460.71 Q94.6493 1460.71 96.4548 1457.17 Q98.2835 1453.61 98.2835 1446.5 Q98.2835 1439.37 96.4548 1435.83 Q94.6493 1432.27 91.0151 1432.27 M91.0151 1428.56 Q96.8252 1428.56 99.8808 1433.17 Q102.959 1437.75 102.959 1446.5 Q102.959 1455.23 99.8808 1459.83 Q96.8252 1464.42 91.0151 1464.42 Q85.2049 1464.42 82.1262 1459.83 Q79.0707 1455.23 79.0707 1446.5 Q79.0707 1437.75 82.1262 1433.17 Q85.2049 1428.56 91.0151 1428.56 Z\" fill=\"#000000\" fill-rule=\"evenodd\" fill-opacity=\"1\" /><path clip-path=\"url(#clip820)\" d=\"M82.0568 1002.13 L100.413 1002.13 L100.413 1006.06 L86.3392 1006.06 L86.3392 1014.54 Q87.3577 1014.19 88.3762 1014.03 Q89.3947 1013.84 90.4132 1013.84 Q96.2002 1013.84 99.5798 1017.01 Q102.959 1020.18 102.959 1025.6 Q102.959 1031.18 99.4872 1034.28 Q96.015 1037.36 89.6956 1037.36 Q87.5197 1037.36 85.2512 1036.99 Q83.0058 1036.62 80.5984 1035.88 L80.5984 1031.18 Q82.6818 1032.31 84.904 1032.87 Q87.1262 1033.42 89.603 1033.42 Q93.6076 1033.42 95.9456 1031.32 Q98.2835 1029.21 98.2835 1025.6 Q98.2835 1021.99 95.9456 1019.88 Q93.6076 1017.78 89.603 1017.78 Q87.728 1017.78 85.8531 1018.19 Q84.0012 1018.61 82.0568 1019.49 L82.0568 1002.13 Z\" fill=\"#000000\" fill-rule=\"evenodd\" fill-opacity=\"1\" /><path clip-path=\"url(#clip820)\" d=\"M51.6634 605.696 L59.3023 605.696 L59.3023 579.33 L50.9921 580.997 L50.9921 576.737 L59.256 575.071 L63.9319 575.071 L63.9319 605.696 L71.5707 605.696 L71.5707 609.631 L51.6634 609.631 L51.6634 605.696 Z\" fill=\"#000000\" fill-rule=\"evenodd\" fill-opacity=\"1\" /><path clip-path=\"url(#clip820)\" d=\"M91.0151 578.149 Q87.404 578.149 85.5753 581.714 Q83.7697 585.256 83.7697 592.386 Q83.7697 599.492 85.5753 603.057 Q87.404 606.598 91.0151 606.598 Q94.6493 606.598 96.4548 603.057 Q98.2835 599.492 98.2835 592.386 Q98.2835 585.256 96.4548 581.714 Q94.6493 578.149 91.0151 578.149 M91.0151 574.446 Q96.8252 574.446 99.8808 579.052 Q102.959 583.636 102.959 592.386 Q102.959 601.112 99.8808 605.719 Q96.8252 610.302 91.0151 610.302 Q85.2049 610.302 82.1262 605.719 Q79.0707 601.112 79.0707 592.386 Q79.0707 583.636 82.1262 579.052 Q85.2049 574.446 91.0151 574.446 Z\" fill=\"#000000\" fill-rule=\"evenodd\" fill-opacity=\"1\" /><path clip-path=\"url(#clip820)\" d=\"M52.6588 178.638 L60.2976 178.638 L60.2976 152.272 L51.9875 153.939 L51.9875 149.68 L60.2513 148.013 L64.9272 148.013 L64.9272 178.638 L72.5661 178.638 L72.5661 182.573 L52.6588 182.573 L52.6588 178.638 Z\" fill=\"#000000\" fill-rule=\"evenodd\" fill-opacity=\"1\" /><path clip-path=\"url(#clip820)\" d=\"M82.0568 148.013 L100.413 148.013 L100.413 151.948 L86.3392 151.948 L86.3392 160.42 Q87.3577 160.073 88.3762 159.911 Q89.3947 159.726 90.4132 159.726 Q96.2002 159.726 99.5798 162.897 Q102.959 166.068 102.959 171.485 Q102.959 177.064 99.4872 180.166 Q96.015 183.244 89.6956 183.244 Q87.5197 183.244 85.2512 182.874 Q83.0058 182.504 80.5984 181.763 L80.5984 177.064 Q82.6818 178.198 84.904 178.754 Q87.1262 179.309 89.603 179.309 Q93.6076 179.309 95.9456 177.203 Q98.2835 175.096 98.2835 171.485 Q98.2835 167.874 95.9456 165.768 Q93.6076 163.661 89.603 163.661 Q87.728 163.661 85.8531 164.078 Q84.0012 164.494 82.0568 165.374 L82.0568 148.013 Z\" fill=\"#000000\" fill-rule=\"evenodd\" fill-opacity=\"1\" /><polyline clip-path=\"url(#clip822)\" style=\"stroke:#009af9; stroke-linecap:round; stroke-linejoin:round; stroke-width:4; stroke-opacity:1; fill:none\" points=\"201.614,1112.92 202.888,1121.86 204.163,1129.61 205.437,1142.97 206.711,1155.89 207.985,1198.77 209.26,1224.29 210.534,1228.07 211.808,1228.8 213.082,1311.46 214.357,1326.13 215.631,1344.44 216.905,1347.19 218.179,1361.05 219.453,1361.05 220.728,1391.17 222.002,1403 223.276,1405.28 224.55,1112.92 225.825,1121.86 227.099,1142.97 228.373,1155.89 229.647,1228.8 230.922,1347.19 232.196,1361.05 233.47,1361.05 234.744,1403 236.019,942.092 237.293,951.034 238.567,972.151 239.841,985.069 241.116,1057.98 242.39,1176.37 243.664,1190.23 244.938,1190.23 246.213,1232.17 247.487,1303.45 248.761,1361.05 250.035,1361.05 251.31,1361.05 252.584,1361.05 253.858,1369.05 255.132,1375.82 256.407,1432.9 257.681,1445.56 258.955,942.092 260.229,951.034 261.504,972.151 262.778,985.069 264.052,1057.98 265.326,1176.37 266.601,1190.23 267.875,1190.23 269.149,1232.17 270.423,1303.45 271.698,1361.05 272.972,1361.05 274.246,1361.05 275.52,1361.05 276.795,1432.9 278.069,1445.56 279.343,771.269 280.617,780.211 281.891,801.328 283.166,814.245 284.44,887.158 285.714,1005.54 286.988,1019.41 288.263,1019.41 289.537,1061.35 290.811,1132.63 292.085,1190.23 293.36,1190.23 294.634,1190.23 295.908,1190.23 297.182,1274.73 298.457,1276.12 299.731,1286.91 301.005,1322.33 302.279,1339.94 303.554,1348.55 304.828,1361.05 306.102,1435.45 307.376,771.269 308.651,780.211 309.925,801.328 311.199,814.245 312.473,887.158 313.748,1005.54 315.022,1019.41 316.296,1019.41 317.57,1061.35 318.845,1132.63 320.119,1190.23 321.393,1190.23 322.667,1190.23 323.942,1190.23 325.216,1274.73 326.49,1276.12 327.764,1322.33 329.039,1361.05 330.313,1435.45 331.587,600.446 332.861,609.387 334.136,630.505 335.41,643.422 336.684,716.334 337.958,834.721 339.232,848.585 340.507,848.585 341.781,890.528 343.055,961.807 344.329,1019.41 345.604,1019.41 346.878,1019.41 348.152,1019.41 349.426,1103.91 350.701,1151.51 351.975,1190.23 353.249,1264.63 354.523,1299.5 355.798,1335.33 357.072,1361.05 358.346,1361.05 359.62,1361.05 360.895,1361.05 362.169,1361.05 363.443,1395.16 364.717,1404.78 365.992,1405.23 367.266,1432.89 368.54,1441.77 369.814,600.446 371.089,609.387 372.363,848.585 373.637,890.528 374.911,1190.23 376.186,1299.5 377.46,1335.33 378.734,1361.05 380.008,1361.05 381.283,1395.16 382.557,1405.23 383.831,1432.89 385.105,1441.77 386.38,600.446 387.654,609.387 388.928,848.585 390.202,890.528 391.477,1190.23 392.751,1299.5 394.025,1335.33 395.299,1361.05 396.574,1361.05 397.848,1405.23 399.122,1432.89 400.396,1441.77 401.67,429.623 402.945,438.564 404.219,677.762 405.493,719.705 406.767,1019.41 408.042,1164.51 409.316,1190.23 410.59,1262.06 411.864,1281.05 413.139,1281.69 414.413,1287.04 415.687,1297.22 416.961,1361.05 418.236,1361.05 419.51,1361.05 420.784,1361.05 422.058,1361.05 423.333,1361.05 424.607,1363.8 425.881,1395.02 427.155,429.623 428.43,438.564 429.704,677.762 430.978,719.705 432.252,1019.41 433.527,1164.51 434.801,1190.23 436.075,1262.06 437.349,1281.05 438.624,1287.04 439.898,1297.22 441.172,1361.05 442.446,1361.05 443.721,1361.05 444.995,1361.05 446.269,1363.8 447.543,1395.02 448.818,429.623 450.092,438.564 451.366,677.762 452.64,719.705 453.915,1019.41 455.189,1164.51 456.463,1190.23 457.737,1262.06 459.012,1297.22 460.286,1361.05 461.56,1361.05 462.834,1361.05 464.108,1361.05 465.383,1395.02 466.657,258.799 467.931,267.741 469.205,506.939 470.48,548.881 471.754,848.585 473.028,993.682 474.302,1019.41 475.577,1091.24 476.851,1126.39 478.125,1190.23 479.399,1190.23 480.674,1190.23 481.948,1288.44 483.222,1335.36 484.496,1361.05 485.771,1361.05 487.045,1361.05 488.319,1361.05 489.593,1395.18 490.868,1406.32 492.142,1418.48 493.416,258.799 494.69,267.741 495.965,506.939 497.239,548.881 498.513,848.585 499.787,993.682 501.062,1019.41 502.336,1091.24 503.61,1126.39 504.884,1190.23 506.159,1190.23 507.433,1190.23 508.707,1335.36 509.981,1361.05 511.256,1361.05 512.53,1361.05 513.804,1361.05 515.078,1395.18 516.353,1406.32 517.627,1418.48 518.901,258.799 520.175,267.741 521.45,506.939 522.724,548.881 523.998,848.585 525.272,993.682 526.546,1019.41 527.821,1091.24 529.095,1126.39 530.369,1190.23 531.643,1190.23 532.918,1190.23 534.192,1335.36 535.466,1361.05 536.74,1361.05 538.015,1361.05 539.289,1361.05 540.563,1395.18 541.837,1406.32 543.112,87.9763 544.386,96.918 545.66,336.116 546.934,378.058 548.209,677.762 549.483,822.859 550.757,848.585 552.031,920.416 553.306,955.569 554.58,1019.41 555.854,1019.41 557.128,1019.41 558.403,1164.54 559.677,1224.35 560.951,1290.39 562.225,1361.05 563.5,1361.05 564.774,1361.05 566.048,1361.05 567.322,1361.05 568.597,1361.05 569.871,1361.05 571.145,1361.05 572.419,1361.05 573.694,1361.05 574.968,1361.05 576.242,1361.05 577.516,1361.05 578.791,1361.05 580.065,1361.05 581.339,1361.05 582.613,1366.23 583.887,1371.85 585.162,1395.34 586.436,87.9763 587.71,96.918 588.984,336.116 590.259,378.058 591.533,677.762 592.807,822.859 594.081,848.585 595.356,920.416 596.63,955.569 597.904,1019.41 599.178,1019.41 600.453,1019.41 601.727,1164.54 603.001,1224.35 604.275,1290.39 605.55,1361.05 606.824,1361.05 608.098,1361.05 609.372,1361.05 610.647,1366.23 611.921,1371.85 613.195,1395.34 614.469,87.9763 615.744,96.918 617.018,336.116 618.292,378.058 619.566,677.762 620.841,822.859 622.115,848.585 623.389,920.416 624.663,955.569 625.938,1019.41 627.212,1019.41 628.486,1019.41 629.76,1164.54 631.035,1224.35 632.309,1290.39 633.583,1361.05 634.857,1361.05 636.132,1361.05 637.406,1361.05 638.68,1366.23 639.954,1371.85 641.229,1395.34 642.503,1290.39 643.777,1366.23 645.051,1371.85 646.325,1287.82 647.6,1321.21 648.874,1361.05 650.148,1361.05 651.422,1361.05 652.697,1361.05 653.971,1361.05 655.245,1393.83 656.519,1396.73 657.794,1416.22 659.068,1423.06 660.342,1433.04 661.616,1444.38 662.891,1321.21 664.165,1361.05 665.439,1361.05 666.713,1361.05 667.988,1361.05 669.262,1361.05 670.536,1393.83 671.81,1396.73 673.085,1321.21 674.359,1361.05 675.633,1361.05 676.907,1361.05 678.182,1361.05 679.456,1361.05 680.73,1393.83 682.004,1396.73 683.279,1361.05 684.553,1361.05 685.827,1361.05 687.101,1361.05 688.376,1361.05 689.65,1393.83 690.924,1280.81 692.198,1313.73 693.473,1323.47 694.747,1361.05 696.021,1361.05 697.295,1361.05 698.57,1361.05 699.844,1361.05 701.118,1361.05 702.392,1361.05 703.667,1378.45 704.941,1379.93 706.215,1403.1 707.489,1436.84 708.763,1280.81 710.038,1313.73 711.312,1323.47 712.586,1361.05 713.86,1361.05 715.135,1361.05 716.409,1361.05 717.683,1361.05 718.957,1361.05 720.232,1361.05 721.506,1379.93 722.78,1403.1 724.054,1436.84 725.329,1313.73 726.603,1361.05 727.877,1361.05 729.151,1361.05 730.426,1361.05 731.7,1361.05 732.974,1361.05 734.248,1361.05 735.523,1379.93 736.797,1361.05 738.071,1361.05 739.345,1361.05 740.62,1361.05 741.894,1346.29 743.168,1356.71 744.442,1361.05 745.717,1361.05 746.991,1361.05 748.265,1361.05 749.539,1361.05 750.814,1361.05 752.088,1361.05 753.362,1361.05 754.636,1395.86 755.911,1401.18 757.185,1430.66 758.459,1441.33 759.733,1356.71 761.008,1361.05 762.282,1361.05 763.556,1401.18 764.83,1430.66 766.105,1441.33 767.379,1361.05 768.653,1361.05 769.927,1441.33 771.201,1361.05 772.476,1361.05 773.75,1441.33 775.024,1277.37 776.298,1318.33 777.573,1334.78 778.847,1361.05 780.121,1361.05 781.395,1361.05 782.67,1361.05 783.944,1375.07 785.218,1424.84 786.492,1427.79 787.767,1318.33 789.041,1361.05 790.315,1361.05 791.589,1361.05 792.864,1361.05 794.138,1427.79 795.412,1318.33 796.686,1361.05 797.961,1427.79 799.235,1318.33 800.509,1361.05 801.783,1427.79 803.058,1295.64 804.332,1312.62 805.606,1361.05 806.88,1361.05 808.155,1361.05 809.429,1361.05 810.703,1361.05 811.977,1361.05 813.252,1361.05 814.526,1361.05 815.8,1361.05 817.074,1361.05 818.349,1361.05 819.623,1361.05 820.897,1370.99 822.171,1382.61 823.446,1424.12 824.72,1443.31 825.994,1295.64 827.268,1312.62 828.542,1361.05 829.817,1361.05 831.091,1361.05 832.365,1361.05 833.639,1361.05 834.914,1361.05 836.188,1361.05 837.462,1361.05 838.736,1361.05 840.011,1361.05 841.285,1370.99 842.559,1312.62 843.833,1361.05 845.108,1361.05 846.382,1361.05 847.656,1361.05 848.93,1361.05 850.205,1361.05 851.479,1361.05 852.753,1312.62 854.027,1361.05 855.302,1361.05 856.576,1361.05 857.85,1361.05 859.124,1361.05 860.399,1361.05 861.673,1361.05 862.947,1350.42 864.221,1357.98 865.496,1361.05 866.77,1368.16 868.044,1370.15 869.318,1392.36 870.593,1396.55 871.867,1397 873.141,1420.61 874.415,1350.42 875.69,1361.05 876.964,1368.16 878.238,1370.15 879.512,1350.42 880.787,1277.03 882.061,1352.8 883.335,1361.05 884.609,1361.05 885.884,1361.05 887.158,1361.05 888.432,1361.05 889.706,1364.47 890.98,1381.95 892.255,1386.74 893.529,1390.24 894.803,1352.8 896.077,1364.47 897.352,1381.95 898.626,1386.74 899.9,1390.24 901.174,1364.47 902.449,1390.24 903.723,1293.34 904.997,1335.93 906.271,1339.57 907.546,1347.14 908.82,1361.05 910.094,1361.05 911.368,1396.09 912.643,1410.43 913.917,1421.36 915.191,1429.03 916.465,1432.25 917.74,1339.57 919.014,1361.05 920.288,1361.05 921.562,1396.09 922.837,1410.43 924.111,1421.36 925.385,1339.57 926.659,1361.05 927.934,1361.05 929.208,1396.09 930.482,1410.43 931.756,1421.36 933.031,1361.05 934.305,1361.05 935.579,1278.91 936.853,1283.65 938.128,1295.53 939.402,1303.73 940.676,1318.73 941.95,1319.46 943.225,1348.61 944.499,1361.05 945.773,1361.05 947.047,1361.09 948.322,1362.88 949.596,1385.04 950.87,1427.65 952.144,1443.19 953.418,1283.65 954.693,1303.73 955.967,1318.73 957.241,1362.88 958.515,1385.04 959.79,1443.19 961.064,1283.65 962.338,1303.73 963.612,1318.73 964.887,1385.04 966.161,1443.19 967.435,1304.85 968.709,1305.35 969.984,1321.19 971.258,1336.81 972.532,1347.4 973.806,1361.05 975.081,1361.05 976.355,1361.05 977.629,1390.59 978.903,1403.63 980.178,1422.74 981.452,1425.43 982.726,1428.83 984,1321.19 985.275,1336.81 986.549,1361.05 987.823,1361.05 989.097,1361.05 990.372,1390.59 991.646,1422.74 992.92,1425.43 994.194,1321.19 995.469,1336.81 996.743,1361.05 998.017,1361.05 999.291,1361.05 1000.57,1390.59 1001.84,1422.74 1003.11,1425.43 1004.39,1336.81 1005.66,1361.05 1006.94,1390.59 1008.21,1330.29 1009.49,1346.77 1010.76,1358.9 1012.03,1361.05 1013.31,1361.05 1014.58,1381.05 1015.86,1383.07 1017.13,1418.83 1018.4,1358.9 1019.68,1361.05 1020.95,1361.05 1022.23,1381.05 1023.5,1358.9 1024.78,1361.05 1026.05,1361.05 1027.32,1283.42 1028.6,1298.27 1029.87,1324.3 1031.15,1346.35 1032.42,1355.25 1033.7,1361.05 1034.97,1361.05 1036.24,1361.05 1037.52,1361.05 1038.79,1361.05 1040.07,1361.05 1041.34,1371.77 1042.62,1429.51 1043.89,1439.48 1045.16,1298.27 1046.44,1324.3 1047.71,1346.35 1048.99,1355.25 1050.26,1361.05 1051.54,1361.05 1052.81,1371.77 1054.08,1429.51 1055.36,1439.48 1056.63,1324.3 1057.91,1346.35 1059.18,1361.05 1060.46,1361.05 1061.73,1371.77 1063,1429.51 1064.28,1439.48 1065.55,1324.3 1066.83,1371.77 1068.1,1429.51 1069.37,1439.48 1070.65,1301.41 1071.92,1309.03 1073.2,1333.05 1074.47,1353 1075.75,1361.05 1077.02,1361.05 1078.29,1361.05 1079.57,1369.44 1080.84,1371.28 1082.12,1393.22 1083.39,1396.71 1084.67,1439.49 1085.94,1301.41 1087.21,1333.05 1088.49,1361.05 1089.76,1361.05 1091.04,1361.05 1092.31,1369.44 1093.59,1301.41 1094.86,1333.05 1096.13,1361.05 1097.41,1361.05 1098.68,1361.05 1099.96,1369.44 1101.23,1282.58 1102.51,1313.36 1103.78,1314.78 1105.05,1315.16 1106.33,1340.25 1107.6,1361.05 1108.88,1366.94 1110.15,1408.91 1111.42,1409.95 1112.7,1282.58 1113.97,1340.25 1115.25,1408.91 1116.52,1409.95 1117.8,1409.95 1119.07,1283.57 1120.34,1286.01 1121.62,1308.98 1122.89,1361.05 1124.17,1361.05 1125.44,1361.05 1126.72,1372.19 1127.99,1374.72 1129.26,1378.19 1130.54,1380.02 1131.81,1382.05 1133.09,1386.26 1134.36,1394.07 1135.64,1428.02 1136.91,1432.5 1138.18,1283.57 1139.46,1286.01 1140.73,1308.98 1142.01,1361.05 1143.28,1361.05 1144.56,1361.05 1145.83,1372.19 1147.1,1374.72 1148.38,1378.19 1149.65,1380.02 1150.93,1382.05 1152.2,1386.26 1153.47,1428.02 1154.75,1432.5 1156.02,1283.57 1157.3,1286.01 1158.57,1308.98 1159.85,1361.05 1161.12,1361.05 1162.39,1361.05 1163.67,1372.19 1164.94,1378.19 1166.22,1380.02 1167.49,1382.05 1168.77,1286.01 1170.04,1361.05 1171.31,1378.19 1172.59,1382.05 1173.86,1278.03 1175.14,1328.57 1176.41,1351.5 1177.69,1361.05 1178.96,1361.05 1180.23,1361.05 1181.51,1361.05 1182.78,1421.2 1184.06,1278.03 1185.33,1328.57 1186.61,1351.5 1187.88,1361.05 1189.15,1361.05 1190.43,1361.05 1191.7,1361.05 1192.98,1421.2 1194.25,1278.03 1195.53,1328.57 1196.8,1361.05 1198.07,1361.05 1199.35,1328.57 1200.62,1321.42 1201.9,1327.63 1203.17,1330.14 1204.44,1361.05 1205.72,1361.05 1206.99,1361.05 1208.27,1361.05 1209.54,1361.05 1210.82,1361.05 1212.09,1361.05 1213.36,1363.98 1214.64,1379.08 1215.91,1399.27 1217.19,1403.13 1218.46,1420.19 1219.74,1330.14 1221.01,1361.05 1222.28,1361.05 1223.56,1361.05 1224.83,1361.05 1226.11,1361.05 1227.38,1361.05 1228.66,1361.05 1229.93,1363.98 1231.2,1399.27 1232.48,1403.13 1233.75,1330.14 1235.03,1361.05 1236.3,1361.05 1237.58,1361.05 1238.85,1361.05 1240.12,1363.98 1241.4,1399.27 1242.67,1403.13 1243.95,1361.05 1245.22,1361.05 1246.49,1361.05 1247.77,1361.05 1249.04,1363.98 1250.32,1403.13 1251.59,1285.06 1252.87,1292.49 1254.14,1305.44 1255.41,1318.16 1256.69,1346.78 1257.96,1356.16 1259.24,1361.05 1260.51,1361.05 1261.79,1361.05 1263.06,1370.15 1264.33,1419.97 1265.61,1285.06 1266.88,1292.49 1268.16,1318.16 1269.43,1346.78 1270.71,1356.16 1271.98,1361.05 1273.25,1361.05 1274.53,1361.05 1275.8,1370.15 1277.08,1292.49 1278.35,1318.16 1279.63,1346.78 1280.9,1361.05 1282.17,1361.05 1283.45,1361.05 1284.72,1370.15 1286,1318.16 1287.27,1346.78 1288.54,1361.05 1289.82,1361.05 1291.09,1361.05 1292.37,1370.15 1293.64,1307.63 1294.92,1329.12 1296.19,1361.05 1297.46,1361.05 1298.74,1361.05 1300.01,1368.49 1301.29,1369.85 1302.56,1424.17 1303.84,1424.93 1305.11,1438.46 1306.38,1307.63 1307.66,1361.05 1308.93,1361.05 1310.21,1361.05 1311.48,1369.85 1312.76,1424.17 1314.03,1424.93 1315.3,1438.46 1316.58,1307.63 1317.85,1361.05 1319.13,1361.05 1320.4,1424.93 1321.68,1297.43 1322.95,1361.05 1324.22,1361.05 1325.5,1361.05 1326.77,1361.05 1328.05,1371.1 1329.32,1373.23 1330.59,1389.14 1331.87,1403.05 1333.14,1403.24 1334.42,1432.67 1335.69,1443.06 1336.97,1297.43 1338.24,1361.05 1339.51,1361.05 1340.79,1361.05 1342.06,1361.05 1343.34,1373.23 1344.61,1389.14 1345.89,1403.05 1347.16,1403.24 1348.43,1432.67 1349.71,1443.06 1350.98,1361.05 1352.26,1373.23 1353.53,1389.14 1354.81,1403.05 1356.08,1403.24 1357.35,1432.67 1358.63,1389.14 1359.9,1432.67 1361.18,1298.16 1362.45,1298.68 1363.73,1308.39 1365,1309.9 1366.27,1317.71 1367.55,1326.22 1368.82,1331.61 1370.1,1361.05 1371.37,1361.05 1372.65,1361.05 1373.92,1361.05 1375.19,1361.05 1376.47,1361.05 1377.74,1375.95 1379.02,1421.56 1380.29,1421.89 1381.56,1438.31 1382.84,1439.2 1384.11,1298.68 1385.39,1309.9 1386.66,1317.71 1387.94,1331.61 1389.21,1361.05 1390.48,1421.56 1391.76,1439.2 1393.03,1298.68 1394.31,1309.9 1395.58,1317.71 1396.86,1361.05 1398.13,1421.56 1399.4,1439.2 1400.68,1309.9 1401.95,1361.05 1403.23,1277.3 1404.5,1303.39 1405.78,1313.56 1407.05,1324.34 1408.32,1341.02 1409.6,1343.05 1410.87,1361.05 1412.15,1361.05 1413.42,1361.05 1414.7,1373.29 1415.97,1373.89 1417.24,1403.21 1418.52,1415.34 1419.79,1441.38 1421.07,1277.3 1422.34,1303.39 1423.61,1341.02 1424.89,1343.05 1426.16,1361.05 1427.44,1361.05 1428.71,1361.05 1429.99,1373.29 1431.26,1277.3 1432.53,1303.39 1433.81,1343.05 1435.08,1361.05 1436.36,1361.05 1437.63,1373.29 1438.91,1277.3 1440.18,1303.39 1441.45,1343.05 1442.73,1361.05 1444,1361.05 1445.28,1373.29 1446.55,1279.68 1447.83,1280.05 1449.1,1294.25 1450.37,1361.05 1451.65,1361.05 1452.92,1361.05 1454.2,1361.05 1455.47,1380.21 1456.75,1388.38 1458.02,1388.75 1459.29,1393.99 1460.57,1399.55 1461.84,1407.61 1463.12,1440.01 1464.39,1443.91 1465.66,1279.68 1466.94,1280.05 1468.21,1294.25 1469.49,1361.05 1470.76,1361.05 1472.04,1361.05 1473.31,1361.05 1474.58,1388.75 1475.86,1393.99 1477.13,1407.61 1478.41,1440.01 1479.68,1279.68 1480.96,1388.75 1482.23,1440.01 1483.5,1281.59 1484.78,1303.51 1486.05,1311.71 1487.33,1336.1 1488.6,1338.74 1489.88,1355.01 1491.15,1358.03 1492.42,1361.05 1493.7,1361.05 1494.97,1361.05 1496.25,1371.57 1497.52,1381.63 1498.8,1381.81 1500.07,1405.86 1501.34,1412.7 1502.62,1427.89 1503.89,1429.42 1505.17,1281.59 1506.44,1303.51 1507.71,1311.71 1508.99,1336.1 1510.26,1338.74 1511.54,1355.01 1512.81,1358.03 1514.09,1361.05 1515.36,1361.05 1516.63,1361.05 1517.91,1371.57 1519.18,1381.63 1520.46,1381.81 1521.73,1412.7 1523.01,1427.89 1524.28,1281.59 1525.55,1303.51 1526.83,1311.71 1528.1,1336.1 1529.38,1338.74 1530.65,1355.01 1531.93,1358.03 1533.2,1361.05 1534.47,1361.05 1535.75,1361.05 1537.02,1371.57 1538.3,1381.63 1539.57,1381.81 1540.85,1412.7 1542.12,1427.89 1543.39,1311.71 1544.67,1338.74 1545.94,1358.03 1547.22,1361.05 1548.49,1361.05 1549.77,1371.57 1551.04,1412.7 1552.31,1282.86 1553.59,1284.05 1554.86,1293.19 1556.14,1325.89 1557.41,1335.2 1558.68,1361.05 1559.96,1361.05 1561.23,1368.88 1562.51,1412.2 1563.78,1422.12 1565.06,1439.27 1566.33,1442.93 1567.6,1284.05 1568.88,1293.19 1570.15,1325.89 1571.43,1335.2 1572.7,1361.05 1573.98,1361.05 1575.25,1368.88 1576.52,1439.27 1577.8,1442.93 1579.07,1284.05 1580.35,1293.19 1581.62,1361.05 1582.9,1439.27 1584.17,1442.93 1585.44,1284.05 1586.72,1293.19 1587.99,1439.27 1589.27,1442.93 1590.54,1294.67 1591.82,1311.25 1593.09,1330.46 1594.36,1339.15 1595.64,1361.05 1596.91,1361.05 1598.19,1361.05 1599.46,1368.85 1600.73,1369.24 1602.01,1370.33 1603.28,1413.27 1604.56,1424.02 1605.83,1445.72 1607.11,1294.67 1608.38,1361.05 1609.65,1361.05 1610.93,1361.05 1612.2,1368.85 1613.48,1369.24 1614.75,1413.27 1616.03,1424.02 1617.3,1445.72 1618.57,1294.67 1619.85,1361.05 1621.12,1361.05 1622.4,1424.02 1623.67,1361.05 1624.95,1361.05 1626.22,1315.29 1627.49,1317.81 1628.77,1360.86 1630.04,1361.05 1631.32,1361.05 1632.59,1361.05 1633.87,1364.52 1635.14,1368.59 1636.41,1382.6 1637.69,1407.28 1638.96,1427.39 1640.24,1360.86 1641.51,1361.05 1642.78,1361.05 1644.06,1361.05 1645.33,1368.59 1646.61,1407.28 1647.88,1427.39 1649.16,1361.05 1650.43,1361.05 1651.7,1361.05 1652.98,1368.59 1654.25,1427.39 1655.53,1361.05 1656.8,1361.05 1658.08,1361.05 1659.35,1294.67 1660.62,1300.57 1661.9,1308.97 1663.17,1318.21 1664.45,1327.19 1665.72,1332.25 1667,1338.95 1668.27,1351.31 1669.54,1361.05 1670.82,1361.05 1672.09,1361.05 1673.37,1369.33 1674.64,1377.63 1675.92,1380.97 1677.19,1381.42 1678.46,1382.04 1679.74,1409.95 1681.01,1415.62 1682.29,1300.57 1683.56,1308.97 1684.84,1318.21 1686.11,1327.19 1687.38,1332.25 1688.66,1338.95 1689.93,1351.31 1691.21,1361.05 1692.48,1361.05 1693.75,1361.05 1695.03,1369.33 1696.3,1377.63 1697.58,1381.42 1698.85,1382.04 1700.13,1409.95 1701.4,1308.97 1702.67,1318.21 1703.95,1332.25 1705.22,1338.95 1706.5,1361.05 1707.77,1361.05 1709.05,1361.05 1710.32,1369.33 1711.59,1409.95 1712.87,1308.97 1714.14,1318.21 1715.42,1338.95 1716.69,1369.33 1717.97,1409.95 1719.24,1287.13 1720.51,1299.9 1721.79,1319.33 1723.06,1322.62 1724.34,1326.85 1725.61,1357.83 1726.89,1361.05 1728.16,1361.05 1729.43,1361.05 1730.71,1361.84 1731.98,1361.99 1733.26,1366.35 1734.53,1367.91 1735.8,1411.45 1737.08,1420.8 1738.35,1287.13 1739.63,1299.9 1740.9,1319.33 1742.18,1326.85 1743.45,1361.05 1744.72,1361.84 1746,1361.99 1747.27,1366.35 1748.55,1411.45 1749.82,1420.8 1751.1,1319.33 1752.37,1326.85 1753.64,1361.05 1754.92,1361.84 1756.19,1361.99 1757.47,1366.35 1758.74,1411.45 1760.02,1420.8 1761.29,1319.33 1762.56,1361.84 1763.84,1361.99 1765.11,1366.35 1766.39,1411.45 1767.66,1420.8 1768.94,1301.24 1770.21,1305.73 1771.48,1327.73 1772.76,1336.94 1774.03,1353.35 1775.31,1355.64 1776.58,1361.05 1777.85,1361.05 1779.13,1361.05 1780.4,1361.05 1781.68,1361.05 1782.95,1385.14 1784.23,1385.95 1785.5,1396.28 1786.77,1419.83 1788.05,1420.73 1789.32,1426.61 1790.6,1301.24 1791.87,1327.73 1793.15,1336.94 1794.42,1353.35 1795.69,1355.64 1796.97,1361.05 1798.24,1385.14 1799.52,1419.83 1800.79,1420.73 1802.07,1426.61 1803.34,1301.24 1804.61,1327.73 1805.89,1336.94 1807.16,1353.35 1808.44,1355.64 1809.71,1361.05 1810.99,1385.14 1812.26,1419.83 1813.53,1420.73 1814.81,1426.61 1816.08,1301.24 1817.36,1327.73 1818.63,1361.05 1819.9,1385.14 1821.18,1420.73 1822.45,1426.61 1823.73,1289.37 1825,1350.94 1826.28,1361.05 1827.55,1361.05 1828.82,1361.05 1830.1,1386.08 1831.37,1419.4 1832.65,1289.37 1833.92,1350.94 1835.2,1361.05 1836.47,1361.05 1837.74,1386.08 1839.02,1289.37 1840.29,1350.94 1841.57,1361.05 1842.84,1361.05 1844.12,1386.08 1845.39,1361.05 1846.66,1279.4 1847.94,1323.85 1849.21,1355.3 1850.49,1361.05 1851.76,1361.05 1853.04,1361.05 1854.31,1397.49 1855.58,1397.85 1856.86,1407.83 1858.13,1424.45 1859.41,1323.85 1860.68,1355.3 1861.96,1361.05 1863.23,1397.49 1864.5,1397.85 1865.78,1407.83 1867.05,1424.45 1868.33,1361.05 1869.6,1397.49 1870.87,1397.85 1872.15,1424.45 1873.42,1361.05 1874.7,1397.49 1875.97,1397.85 1877.25,1424.45 1878.52,1298.79 1879.79,1306.37 1881.07,1328.81 1882.34,1333.58 1883.62,1349.47 1884.89,1361.05 1886.17,1361.05 1887.44,1361.05 1888.71,1361.05 1889.99,1361.05 1891.26,1361.55 1892.54,1397.43 1893.81,1414.4 1895.09,1415.62 1896.36,1298.79 1897.63,1306.37 1898.91,1333.58 1900.18,1349.47 1901.46,1361.05 1902.73,1361.55 1904.01,1415.62 1905.28,1298.79 1906.55,1361.05 1907.83,1361.55 1909.1,1415.62 1910.38,1298.79 1911.65,1361.05 1912.92,1361.55 1914.2,1415.62 1915.47,1277.28 1916.75,1316.69 1918.02,1327.88 1919.3,1353.11 1920.57,1355.08 1921.84,1361.05 1923.12,1361.05 1924.39,1361.05 1925.67,1361.05 1926.94,1361.05 1928.22,1400.04 1929.49,1400.05 1930.76,1406.64 1932.04,1407.21 1933.31,1316.69 1934.59,1327.88 1935.86,1353.11 1937.14,1355.08 1938.41,1361.05 1939.68,1361.05 1940.96,1361.05 1942.23,1361.05 1943.51,1361.05 1944.78,1400.04 1946.06,1406.64 1947.33,1316.69 1948.6,1353.11 1949.88,1361.05 1951.15,1361.05 1952.43,1400.04 1953.7,1406.64 1954.97,1316.69 1956.25,1353.11 1957.52,1400.04 1958.8,1293.49 1960.07,1298.14 1961.35,1314.85 1962.62,1321.3 1963.89,1330.3 1965.17,1344.69 1966.44,1355 1967.72,1361.05 1968.99,1361.05 1970.27,1361.05 1971.54,1361.05 1972.81,1361.05 1974.09,1437.65 1975.36,1293.49 1976.64,1298.14 1977.91,1314.85 1979.19,1330.3 1980.46,1344.69 1981.73,1355 1983.01,1361.05 1984.28,1361.05 1985.56,1361.05 1986.83,1361.05 1988.11,1437.65 1989.38,1293.49 1990.65,1298.14 1991.93,1314.85 1993.2,1355 1994.48,1361.05 1995.75,1361.05 1997.02,1437.65 1998.3,1293.49 1999.57,1298.14 2000.85,1314.85 2002.12,1355 2003.4,1361.05 2004.67,1361.05 2005.94,1437.65 2007.22,1306.33 2008.49,1322.51 2009.77,1361.05 2011.04,1361.05 2012.32,1361.05 2013.59,1361.05 2014.86,1361.05 2016.14,1361.05 2017.41,1361.05 2018.69,1361.05 2019.96,1367.6 2021.24,1375.1 2022.51,1375.82 2023.78,1397.67 2025.06,1400.07 2026.33,1409.02 2027.61,1421.9 2028.88,1439.09 2030.16,1322.51 2031.43,1361.05 2032.7,1361.05 2033.98,1361.05 2035.25,1361.05 2036.53,1361.05 2037.8,1361.05 2039.08,1367.6 2040.35,1375.1 2041.62,1375.82 2042.9,1397.67 2044.17,1400.07 2045.45,1409.02 2046.72,1439.09 2047.99,1322.51 2049.27,1367.6 2050.54,1375.1 2051.82,1375.82 2053.09,1400.07 2054.37,1286.61 2055.64,1295.33 2056.91,1340.31 2058.19,1347.28 2059.46,1361.05 2060.74,1361.05 2062.01,1370.31 2063.29,1412.87 2064.56,1444.23 2065.83,1295.33 2067.11,1340.31 2068.38,1347.28 2069.66,1361.05 2070.93,1361.05 2072.21,1444.23 2073.48,1295.33 2074.75,1340.31 2076.03,1347.28 2077.3,1361.05 2078.58,1361.05 2079.85,1444.23 2081.13,1295.33 2082.4,1347.28 2083.67,1276.54 2084.95,1308.04 2086.22,1312.1 2087.5,1329.74 2088.77,1348.06 2090.04,1361.05 2091.32,1361.05 2092.59,1361.05 2093.87,1361.05 2095.14,1362.88 2096.42,1439.73 2097.69,1308.04 2098.96,1312.1 2100.24,1329.74 2101.51,1348.06 2102.79,1361.05 2104.06,1361.05 2105.34,1361.05 2106.61,1361.05 2107.88,1362.88 2109.16,1439.73 2110.43,1308.04 2111.71,1329.74 2112.98,1348.06 2114.26,1439.73 2115.53,1308.04 2116.8,1348.06 2118.08,1439.73 2119.35,1276.75 2120.63,1276.96 2121.9,1288.78 2123.18,1307.06 2124.45,1318.34 2125.72,1342.61 2127,1354.25 2128.27,1361.05 2129.55,1361.05 2130.82,1361.05 2132.09,1361.05 2133.37,1361.05 2134.64,1361.05 2135.92,1361.05 2137.19,1365.38 2138.47,1375.89 2139.74,1409.4 2141.01,1411.39 2142.29,1444.52 2143.56,1276.96 2144.84,1307.06 2146.11,1318.34 2147.39,1354.25 2148.66,1361.05 2149.93,1361.05 2151.21,1361.05 2152.48,1361.05 2153.76,1361.05 2155.03,1361.05 2156.31,1361.05 2157.58,1375.89 2158.85,1409.4 2160.13,1411.39 2161.4,1444.52 2162.68,1276.96 2163.95,1307.06 2165.23,1318.34 2166.5,1354.25 2167.77,1361.05 2169.05,1361.05 2170.32,1361.05 2171.6,1361.05 2172.87,1409.4 2174.15,1411.39 2175.42,1318.34 2176.69,1361.05 2177.97,1409.4 2179.24,1411.39 2180.52,1280.79 2181.79,1289.38 2183.06,1291.44 2184.34,1361.05 2185.61,1361.05 2186.89,1361.05 2188.16,1361.05 2189.44,1361.05 2190.71,1361.05 2191.98,1361.05 2193.26,1363.89 2194.53,1364.23 2195.81,1371.28 2197.08,1385.56 2198.36,1396.31 2199.63,1400.83 2200.9,1430.75 2202.18,1441.97 2203.45,1442.86 2204.73,1289.38 2206,1291.44 2207.28,1361.05 2208.55,1361.05 2209.82,1361.05 2211.1,1361.05 2212.37,1361.05 2213.65,1361.05 2214.92,1361.05 2216.2,1363.89 2217.47,1364.23 2218.74,1371.28 2220.02,1385.56 2221.29,1396.31 2222.57,1400.83 2223.84,1441.97 2225.11,1289.38 2226.39,1361.05 2227.66,1361.05 2228.94,1361.05 2230.21,1361.05 2231.49,1361.05 2232.76,1361.05 2234.03,1361.05 2235.31,1363.89 2236.58,1364.23 2237.86,1371.28 2239.13,1396.31 2240.41,1441.97 2241.68,1289.38 2242.95,1364.23 2244.23,1371.28 2245.5,1276.56 2246.78,1280 2248.05,1300.34 2249.33,1329.6 2250.6,1333.28 2251.87,1336.26 2253.15,1339.82 2254.42,1361.05 2255.7,1361.05 2256.97,1361.05 2258.25,1361.05 2259.52,1361.05 2260.79,1382.04 2262.07,1426.57 2263.34,1429.75 2264.62,1442.7 2265.89,1280 2267.16,1300.34 2268.44,1329.6 2269.71,1333.28 2270.99,1336.26 2272.26,1339.82 2273.54,1361.05 2274.81,1361.05 2276.08,1361.05 2277.36,1382.04 2278.63,1426.57 2279.91,1429.75 2281.18,1442.7 2282.46,1280 2283.73,1329.6 2285,1336.26 2286.28,1339.82 2287.55,1361.05 2288.83,1382.04 2290.1,1429.75 \"/>\n",
       "<path clip-path=\"url(#clip820)\" d=\"M2005.15 198.898 L2278.96 198.898 L2278.96 95.2176 L2005.15 95.2176  Z\" fill=\"#ffffff\" fill-rule=\"evenodd\" fill-opacity=\"1\"/>\n",
       "<polyline clip-path=\"url(#clip820)\" style=\"stroke:#000000; stroke-linecap:round; stroke-linejoin:round; stroke-width:4; stroke-opacity:1; fill:none\" points=\"2005.15,198.898 2278.96,198.898 2278.96,95.2176 2005.15,95.2176 2005.15,198.898 \"/>\n",
       "<polyline clip-path=\"url(#clip820)\" style=\"stroke:#009af9; stroke-linecap:round; stroke-linejoin:round; stroke-width:4; stroke-opacity:1; fill:none\" points=\"2029.75,147.058 2177.34,147.058 \"/>\n",
       "<path clip-path=\"url(#clip820)\" d=\"M2215.78 166.745 Q2213.97 171.375 2212.26 172.787 Q2210.55 174.199 2207.68 174.199 L2204.27 174.199 L2204.27 170.634 L2206.77 170.634 Q2208.53 170.634 2209.5 169.8 Q2210.48 168.967 2211.66 165.865 L2212.42 163.921 L2201.93 138.412 L2206.45 138.412 L2214.55 158.689 L2222.65 138.412 L2227.17 138.412 L2215.78 166.745 Z\" fill=\"#000000\" fill-rule=\"evenodd\" fill-opacity=\"1\" /><path clip-path=\"url(#clip820)\" d=\"M2234.46 160.402 L2242.1 160.402 L2242.1 134.037 L2233.79 135.703 L2233.79 131.444 L2242.05 129.778 L2246.73 129.778 L2246.73 160.402 L2254.36 160.402 L2254.36 164.338 L2234.46 164.338 L2234.46 160.402 Z\" fill=\"#000000\" fill-rule=\"evenodd\" fill-opacity=\"1\" /></svg>\n"
      ]
     },
     "execution_count": 31,
     "metadata": {},
     "output_type": "execute_result"
    }
   ],
   "source": [
    "plot(read(f))"
   ]
  },
  {
   "cell_type": "code",
   "execution_count": null,
   "id": "1da074d4",
   "metadata": {},
   "outputs": [],
   "source": []
  }
 ],
 "metadata": {
  "kernelspec": {
   "display_name": "Julia 1.8.5",
   "language": "julia",
   "name": "julia-1.8"
  },
  "language_info": {
   "file_extension": ".jl",
   "mimetype": "application/julia",
   "name": "julia",
   "version": "1.8.5"
  }
 },
 "nbformat": 4,
 "nbformat_minor": 5
}

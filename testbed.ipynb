{
 "cells": [
  {
   "cell_type": "code",
   "execution_count": 1,
   "id": "17ddcafa",
   "metadata": {},
   "outputs": [],
   "source": [
    "mutable struct Train\n",
    "\tpath::Vector\n",
    "\tmovement::Bool\n",
    "\tlocation::Any\n",
    "\ttime_to_next_action::Int64\n",
    "\tcapacity::Int64\n",
    "\tcommuters::Vector\n",
    "end\n"
   ]
  },
  {
   "cell_type": "code",
   "execution_count": 2,
   "id": "eb0ca84e",
   "metadata": {},
   "outputs": [
    {
     "data": {
      "text/plain": [
       "Train(Any[], false, 1, 10, 200, Any[])"
      ]
     },
     "execution_count": 2,
     "metadata": {},
     "output_type": "execute_result"
    }
   ],
   "source": [
    "t = Train([], false, 1, 10, 200, [])"
   ]
  },
  {
   "cell_type": "code",
   "execution_count": 4,
   "id": "a51f6a4e",
   "metadata": {},
   "outputs": [
    {
     "data": {
      "text/plain": [
       "false"
      ]
     },
     "execution_count": 4,
     "metadata": {},
     "output_type": "execute_result"
    }
   ],
   "source": [
    "t.movement"
   ]
  },
  {
   "cell_type": "code",
   "execution_count": 6,
   "id": "04c32ec7",
   "metadata": {},
   "outputs": [
    {
     "data": {
      "text/plain": [
       "true"
      ]
     },
     "execution_count": 6,
     "metadata": {},
     "output_type": "execute_result"
    }
   ],
   "source": [
    "2 in [1,2,3]"
   ]
  },
  {
   "cell_type": "code",
   "execution_count": 9,
   "id": "e5121ba0",
   "metadata": {},
   "outputs": [
    {
     "data": {
      "text/plain": [
       "2-element Vector{Vector{Int64}}:\n",
       " [1, 2]\n",
       " [1, 2]"
      ]
     },
     "execution_count": 9,
     "metadata": {},
     "output_type": "execute_result"
    }
   ],
   "source": [
    "[[1,2], [1,2]]"
   ]
  },
  {
   "cell_type": "code",
   "execution_count": 10,
   "id": "0317b647",
   "metadata": {},
   "outputs": [],
   "source": [
    "struct Event\n",
    "\ttime::Int64\n",
    "\tfun::Any # the function to execute\n",
    "\tparams::Dict\n",
    "end"
   ]
  },
  {
   "cell_type": "code",
   "execution_count": 13,
   "id": "ddfbd6e7",
   "metadata": {},
   "outputs": [
    {
     "data": {
      "text/plain": [
       "Event(1, sum, Dict{Any, Any}())"
      ]
     },
     "execution_count": 13,
     "metadata": {},
     "output_type": "execute_result"
    }
   ],
   "source": [
    "a = Event(1, sum, Dict())"
   ]
  },
  {
   "cell_type": "code",
   "execution_count": 14,
   "id": "b164ced8",
   "metadata": {},
   "outputs": [
    {
     "data": {
      "text/plain": [
       "Event(2, sum, Dict{Any, Any}())"
      ]
     },
     "execution_count": 14,
     "metadata": {},
     "output_type": "execute_result"
    }
   ],
   "source": [
    "b = Event(2, sum, Dict())"
   ]
  },
  {
   "cell_type": "code",
   "execution_count": 15,
   "id": "43444980",
   "metadata": {},
   "outputs": [
    {
     "data": {
      "text/plain": [
       "Event(3, sum, Dict{Any, Any}())"
      ]
     },
     "execution_count": 15,
     "metadata": {},
     "output_type": "execute_result"
    }
   ],
   "source": [
    "c = Event(3, sum, Dict())"
   ]
  },
  {
   "cell_type": "code",
   "execution_count": 16,
   "id": "d99d6a62",
   "metadata": {},
   "outputs": [
    {
     "name": "stderr",
     "output_type": "stream",
     "text": [
      "\u001b[32m\u001b[1m    Updating\u001b[22m\u001b[39m registry at `C:\\Users\\gabes\\.julia\\registries\\General.toml`\n",
      "\u001b[32m\u001b[1m   Resolving\u001b[22m\u001b[39m package versions...\n",
      "\u001b[32m\u001b[1m    Updating\u001b[22m\u001b[39m `C:\\Users\\gabes\\.julia\\environments\\v1.8\\Project.toml`\n",
      " \u001b[90m [864edb3b] \u001b[39m\u001b[92m+ DataStructures v0.18.13\u001b[39m\n",
      "\u001b[32m\u001b[1m  No Changes\u001b[22m\u001b[39m to `C:\\Users\\gabes\\.julia\\environments\\v1.8\\Manifest.toml`\n"
     ]
    }
   ],
   "source": [
    "using Pkg\n",
    "Pkg.add(\"DataStructures\")"
   ]
  },
  {
   "cell_type": "code",
   "execution_count": 32,
   "id": "114f8213",
   "metadata": {},
   "outputs": [
    {
     "data": {
      "text/plain": [
       "0"
      ]
     },
     "execution_count": 32,
     "metadata": {},
     "output_type": "execute_result"
    }
   ],
   "source": [
    "convert(Int32, floor(0.5))"
   ]
  },
  {
   "cell_type": "code",
   "execution_count": 36,
   "id": "27bf20ca",
   "metadata": {},
   "outputs": [
    {
     "data": {
      "text/plain": [
       "Any[]"
      ]
     },
     "execution_count": 36,
     "metadata": {},
     "output_type": "execute_result"
    }
   ],
   "source": [
    "event_heap = []"
   ]
  },
  {
   "cell_type": "code",
   "execution_count": 33,
   "id": "37f46bfe",
   "metadata": {},
   "outputs": [
    {
     "data": {
      "text/plain": [
       "heappop! (generic function with 1 method)"
      ]
     },
     "execution_count": 33,
     "metadata": {},
     "output_type": "execute_result"
    }
   ],
   "source": [
    "include(\"heap_functions.jl\")"
   ]
  },
  {
   "cell_type": "code",
   "execution_count": 51,
   "id": "49898e97",
   "metadata": {},
   "outputs": [],
   "source": [
    "heappush!(event_heap, a)"
   ]
  },
  {
   "cell_type": "code",
   "execution_count": 52,
   "id": "845f0071",
   "metadata": {},
   "outputs": [
    {
     "data": {
      "text/plain": [
       "2-element Vector{Any}:\n",
       " Event(1, sum, Dict{Any, Any}())\n",
       " Event(2, sum, Dict{Any, Any}())"
      ]
     },
     "execution_count": 52,
     "metadata": {},
     "output_type": "execute_result"
    }
   ],
   "source": [
    "event_heap"
   ]
  },
  {
   "cell_type": "code",
   "execution_count": 41,
   "id": "bc609ac7",
   "metadata": {},
   "outputs": [],
   "source": [
    "heappush!(event_heap, a)"
   ]
  },
  {
   "cell_type": "code",
   "execution_count": 47,
   "id": "4bf2c2f7",
   "metadata": {},
   "outputs": [
    {
     "data": {
      "text/plain": [
       "Event(3, sum, Dict{Any, Any}())"
      ]
     },
     "execution_count": 47,
     "metadata": {},
     "output_type": "execute_result"
    }
   ],
   "source": [
    "heappop!(event_heap)"
   ]
  },
  {
   "cell_type": "code",
   "execution_count": 54,
   "id": "c8b88bdb",
   "metadata": {},
   "outputs": [
    {
     "data": {
      "text/plain": [
       "Event(1, sum, Dict{Any, Any}())"
      ]
     },
     "metadata": {},
     "output_type": "display_data"
    },
    {
     "data": {
      "text/plain": [
       "Event(2, sum, Dict{Any, Any}())"
      ]
     },
     "metadata": {},
     "output_type": "display_data"
    }
   ],
   "source": [
    "for x in event_heap\n",
    "    display(x)\n",
    "end"
   ]
  },
  {
   "cell_type": "code",
   "execution_count": 55,
   "id": "64ac4d1f",
   "metadata": {},
   "outputs": [
    {
     "data": {
      "text/plain": [
       "\"2\""
      ]
     },
     "execution_count": 55,
     "metadata": {},
     "output_type": "execute_result"
    }
   ],
   "source": [
    "x = \"1\"\n",
    "y = \"2\""
   ]
  },
  {
   "cell_type": "code",
   "execution_count": 60,
   "id": "e31a5e88",
   "metadata": {},
   "outputs": [
    {
     "data": {
      "text/plain": [
       "\"1_y\""
      ]
     },
     "execution_count": 60,
     "metadata": {},
     "output_type": "execute_result"
    }
   ],
   "source": [
    "x * \"_\" * \"y\""
   ]
  },
  {
   "cell_type": "code",
   "execution_count": 61,
   "id": "7628f4d0",
   "metadata": {},
   "outputs": [
    {
     "data": {
      "text/plain": [
       "Dict{Any, Any}()"
      ]
     },
     "execution_count": 61,
     "metadata": {},
     "output_type": "execute_result"
    }
   ],
   "source": [
    "d = Dict()"
   ]
  },
  {
   "cell_type": "code",
   "execution_count": 63,
   "id": "424b0acf",
   "metadata": {},
   "outputs": [
    {
     "data": {
      "text/plain": [
       "0"
      ]
     },
     "execution_count": 63,
     "metadata": {},
     "output_type": "execute_result"
    }
   ],
   "source": [
    "get(d, \"b\", 0)"
   ]
  },
  {
   "cell_type": "code",
   "execution_count": null,
   "id": "c4fd1485",
   "metadata": {},
   "outputs": [],
   "source": []
  }
 ],
 "metadata": {
  "kernelspec": {
   "display_name": "Julia 1.8.5",
   "language": "julia",
   "name": "julia-1.8"
  },
  "language_info": {
   "file_extension": ".jl",
   "mimetype": "application/julia",
   "name": "julia",
   "version": "1.8.5"
  }
 },
 "nbformat": 4,
 "nbformat_minor": 5
}

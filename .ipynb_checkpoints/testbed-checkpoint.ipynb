{
 "cells": [
  {
   "cell_type": "code",
   "execution_count": 7,
   "id": "5067c9f9",
   "metadata": {},
   "outputs": [
    {
     "data": {
      "text/plain": [
       "store_final_data (generic function with 1 method)"
      ]
     },
     "execution_count": 7,
     "metadata": {},
     "output_type": "execute_result"
    }
   ],
   "source": [
    "using Logging\n",
    "using Plots, DataFrames, StatsPlots, Distributions\n",
    "using BenchmarkTools\n",
    "\n",
    "include(\"simul_functions.jl\")\n",
    "include(\"construction_functions.jl\")\n",
    "include(\"station_functions.jl\")\n",
    "include(\"train_functions.jl\")\n",
    "include(\"pathfinding_functions.jl\")\n",
    "include(\"commuter_functions.jl\")\n",
    "include(\"classes.jl\")\n",
    "include(\"heap_functions.jl\")\n",
    "include(\"hdf5_functions.jl\")"
   ]
  },
  {
   "cell_type": "code",
   "execution_count": 2,
   "id": "0d88a667",
   "metadata": {},
   "outputs": [
    {
     "data": {
      "text/plain": [
       "ConsoleLogger(IJulia.IJuliaStdio{Base.PipeEndpoint}(IOContext(Base.PipeEndpoint(Base.Libc.WindowsRawSocket(0x00000000000003e4) open, 0 bytes waiting))), Info, Logging.default_metafmt, true, 0, Dict{Any, Int64}())"
      ]
     },
     "execution_count": 2,
     "metadata": {},
     "output_type": "execute_result"
    }
   ],
   "source": [
    "# io = open(\"log.txt\", \"w+\")\n",
    "# logger = SimpleLogger(io)\n",
    "logger = ConsoleLogger(stdout, Logging.Debug)\n",
    "# fileLogger = SimpleLogger(io, Logging.Debug)\n",
    "# global_logger(fileLogger)\n",
    "global_logger(logger)"
   ]
  },
  {
   "cell_type": "code",
   "execution_count": 3,
   "id": "827b5a35",
   "metadata": {},
   "outputs": [
    {
     "name": "stdout",
     "output_type": "stream",
     "text": [
      "\u001b[34m\u001b[1m┌ \u001b[22m\u001b[39m\u001b[34m\u001b[1mDebug: \u001b[22m\u001b[39mfloyd_warshall done\n",
      "\u001b[34m\u001b[1m└ \u001b[22m\u001b[39m\u001b[90m@ Main C:\\Users\\gabes\\Documents\\HighPerformanceComputing\\Project\\HPC_Project\\pathfinding_functions.jl:41\u001b[39m\n"
     ]
    }
   ],
   "source": [
    "\n",
    "max_time = 10000\n",
    "station_data = \"\"\"Station 1,red01\n",
    "Station 2,red02/pur02\n",
    "Station 3,red03/pur03\n",
    "Station 4,pur01\n",
    "Station 5,pur04\"\"\"\n",
    "\n",
    "travel_data = Dict(\n",
    "\t\"pur\" => \"\"\"pur01,pur02,2\n",
    "pur02,pur03,2\n",
    "pur03,pur04,2\"\"\",\n",
    "\t\"red\" => \"\"\"red01,red02,2\n",
    "red02,red03,2\"\"\"\n",
    "\t)\n",
    "\n",
    "# not being used at the moment\n",
    "train_wait_time = \"\"\"red01,1\n",
    "red02,1\n",
    "red03,1\n",
    "pur01,1\n",
    "pur04,1\"\"\"\n",
    "\n",
    "trainPeriod = 1\n",
    "trainCapacity = 150\n",
    "\n",
    "spawn_labels = [\"Station 1\", \"Station 2\", \"Station 3\", \"Station 4\", \"Station 5\"]\n",
    "spawn_rates = [0 2 2 2 2;\n",
    "1 0 1 1 1;\n",
    "3 3 0 3 3;\n",
    "1 1 1 0 1;\n",
    "1 1 1 1 0]\n",
    "\n",
    "station_dict = construct_station_dict(station_data)\n",
    "\n",
    "station_name_id_map = construct_station_name_id_map(station_dict)\n",
    "\n",
    "# construct the edges\n",
    "start_stations = construct_edges_from_edges_dict!(station_dict, travel_data)\n",
    "\n",
    "lines = construct_lines_from_start_stations(station_dict, start_stations)\n",
    "\n",
    "commuter_graph = construct_commuter_graph(station_dict)\n",
    "\n",
    "floyd_warshall!(commuter_graph)\n",
    "\n",
    "get_all_path_pairs!(commuter_graph)\n",
    "\n",
    "paths = get_interchange_paths(station_dict, lines, commuter_graph)\n",
    "\n",
    "trains = Dict()\n",
    "events = []\n",
    "for line_code in keys(lines)\n",
    "\tline_duration = get_line_duration(station_dict, lines, line_code)\n",
    "\tdepot_id = lines[line_code][\"FW\"][1]\n",
    "\tresult = create_period_train_placement_events(line_code, line_duration, 2, 100, depot_id)\n",
    "\n",
    "\tfor (k,v) in result[\"trains\"]\n",
    "\t\ttrains[k] = v \n",
    "\tend \n",
    "\n",
    "\tappend!(events, result[\"events\"])\n",
    "end\n",
    "\n",
    "# spawn_events = create_spawn_events(spawn_labels, spawn_rates, station_name_id_map)\n",
    "\n",
    "# append!(events, spawn_events)\n",
    "\n",
    "metro = Metro(station_dict, trains, lines, paths);"
   ]
  },
  {
   "cell_type": "code",
   "execution_count": 12,
   "id": "bf2306f5",
   "metadata": {},
   "outputs": [
    {
     "data": {
      "text/plain": [
       "3.35"
      ]
     },
     "execution_count": 12,
     "metadata": {},
     "output_type": "execute_result"
    }
   ],
   "source": [
    "round(rand(Exponential(2), 1)[1]; digits=2)"
   ]
  },
  {
   "cell_type": "code",
   "execution_count": 9,
   "id": "f3990e76",
   "metadata": {},
   "outputs": [],
   "source": [
    "build_min_heap!(events)"
   ]
  },
  {
   "cell_type": "code",
   "execution_count": 10,
   "id": "7622890f",
   "metadata": {},
   "outputs": [
    {
     "data": {
      "text/plain": [
       "15-element Vector{Any}:\n",
       " Event(0.0, train_reach_station!, Dict{Symbol, Any}(:station => \"station_4\", :train => \"train_pur_7\", :time => 0))\n",
       " Event(0.0, train_reach_station!, Dict{Symbol, Any}(:station => \"station_1\", :train => \"train_red_3\", :time => 0))\n",
       " Event(4.0, train_reach_station!, Dict{Symbol, Any}(:station => \"station_4\", :train => \"train_pur_8\", :time => 4.0))\n",
       " Event(6.0, train_reach_station!, Dict{Symbol, Any}(:station => \"station_4\", :train => \"train_pur_2\", :time => 6.0))\n",
       " Event(2.0, train_reach_station!, Dict{Symbol, Any}(:station => \"station_4\", :train => \"train_pur_5\", :time => 2.0))\n",
       " Event(4.0, train_reach_station!, Dict{Symbol, Any}(:station => \"station_1\", :train => \"train_red_6\", :time => 4.0))\n",
       " Event(8.0, train_reach_station!, Dict{Symbol, Any}(:station => \"station_1\", :train => \"train_red_5\", :time => 8.0))\n",
       " Event(14.0, train_reach_station!, Dict{Symbol, Any}(:station => \"station_4\", :train => \"train_pur_3\", :time => 14.0))\n",
       " Event(16.0, train_reach_station!, Dict{Symbol, Any}(:station => \"station_4\", :train => \"train_pur_1\", :time => 16.0))\n",
       " Event(8.0, train_reach_station!, Dict{Symbol, Any}(:station => \"station_4\", :train => \"train_pur_6\", :time => 8.0))\n",
       " Event(2.0, train_reach_station!, Dict{Symbol, Any}(:station => \"station_1\", :train => \"train_red_4\", :time => 2.0))\n",
       " Event(10.0, train_reach_station!, Dict{Symbol, Any}(:station => \"station_4\", :train => \"train_pur_4\", :time => 10.0))\n",
       " Event(6.0, train_reach_station!, Dict{Symbol, Any}(:station => \"station_1\", :train => \"train_red_1\", :time => 6.0))\n",
       " Event(12.0, train_reach_station!, Dict{Symbol, Any}(:station => \"station_4\", :train => \"train_pur_9\", :time => 12.0))\n",
       " Event(10.0, train_reach_station!, Dict{Symbol, Any}(:station => \"station_1\", :train => \"train_red_2\", :time => 10.0))"
      ]
     },
     "execution_count": 10,
     "metadata": {},
     "output_type": "execute_result"
    }
   ],
   "source": [
    "events"
   ]
  },
  {
   "cell_type": "code",
   "execution_count": 11,
   "id": "c742ddfa",
   "metadata": {},
   "outputs": [
    {
     "name": "stdout",
     "output_type": "stream",
     "text": [
      "Event(0.0, train_reach_station!, Dict{Symbol, Any}(:station => \"station_4\", :train => \"train_pur_7\", :time => 0))\n",
      "Event(0.0, train_reach_station!, Dict{Symbol, Any}(:station => \"station_1\", :train => \"train_red_3\", :time => 0))\n",
      "Event(2.0, train_reach_station!, Dict{Symbol, Any}(:station => \"station_4\", :train => \"train_pur_5\", :time => 2.0))\n",
      "Event(2.0, train_reach_station!, Dict{Symbol, Any}(:station => \"station_1\", :train => \"train_red_4\", :time => 2.0))\n",
      "Event(4.0, train_reach_station!, Dict{Symbol, Any}(:station => \"station_4\", :train => \"train_pur_8\", :time => 4.0))\n",
      "Event(4.0, train_reach_station!, Dict{Symbol, Any}(:station => \"station_1\", :train => \"train_red_6\", :time => 4.0))\n",
      "Event(6.0, train_reach_station!, Dict{Symbol, Any}(:station => \"station_1\", :train => \"train_red_1\", :time => 6.0))\n",
      "Event(6.0, train_reach_station!, Dict{Symbol, Any}(:station => \"station_4\", :train => \"train_pur_2\", :time => 6.0))\n",
      "Event(8.0, train_reach_station!, Dict{Symbol, Any}(:station => \"station_4\", :train => \"train_pur_6\", :time => 8.0))\n",
      "Event(8.0, train_reach_station!, Dict{Symbol, Any}(:station => \"station_1\", :train => \"train_red_5\", :time => 8.0))\n",
      "Event(10.0, train_reach_station!, Dict{Symbol, Any}(:station => \"station_4\", :train => \"train_pur_4\", :time => 10.0))\n",
      "Event(10.0, train_reach_station!, Dict{Symbol, Any}(:station => \"station_1\", :train => \"train_red_2\", :time => 10.0))\n",
      "Event(12.0, train_reach_station!, Dict{Symbol, Any}(:station => \"station_4\", :train => \"train_pur_9\", :time => 12.0))\n",
      "Event(14.0, train_reach_station!, Dict{Symbol, Any}(:station => \"station_4\", :train => \"train_pur_3\", :time => 14.0))\n",
      "Event(16.0, train_reach_station!, Dict{Symbol, Any}(:station => \"station_4\", :train => \"train_pur_1\", :time => 16.0))\n"
     ]
    }
   ],
   "source": [
    "for i in 1:15\n",
    "    println(heappop!(events))\n",
    "end"
   ]
  },
  {
   "cell_type": "code",
   "execution_count": 15,
   "id": "6635f9b6",
   "metadata": {},
   "outputs": [
    {
     "data": {
      "text/plain": [
       "2-element Vector{Any}:\n",
       " [\"station_1.red\", \"station_2.red\", \"station_2.pur\", \"station_3.pur\", \"station_5.pur\"]\n",
       " [\"station_1.red\", \"station_2.red\", \"station_3.red\", \"station_3.pur\", \"station_5.pur\"]"
      ]
     },
     "metadata": {},
     "output_type": "display_data"
    }
   ],
   "source": [
    "display(commuter_graph.commuter_paths[\"station_1.red\"][\"station_5.pur\"])"
   ]
  },
  {
   "cell_type": "code",
   "execution_count": 28,
   "id": "5df53265",
   "metadata": {},
   "outputs": [
    {
     "data": {
      "text/plain": [
       "12.0"
      ]
     },
     "execution_count": 28,
     "metadata": {},
     "output_type": "execute_result"
    }
   ],
   "source": [
    "get_line_duration(station_dict, lines, \"red\")"
   ]
  },
  {
   "cell_type": "code",
   "execution_count": 32,
   "id": "73127448",
   "metadata": {},
   "outputs": [
    {
     "data": {
      "text/plain": [
       "Dict{Any, Any} with 2 entries:\n",
       "  \"events\" => Any[Event(0, train_reach_station!, Dict{Symbol, Any}(:station=>\"s…\n",
       "  \"trains\" => Dict{Any, Any}(\"train_red_6//1\"=>Train(\"train_red_6//1\", \"red\", \"…"
      ]
     },
     "execution_count": 32,
     "metadata": {},
     "output_type": "execute_result"
    }
   ],
   "source": [
    "result = create_period_train_placement_events(\"red\", 12, 2, 100, \"station_1\")"
   ]
  },
  {
   "cell_type": "code",
   "execution_count": 48,
   "id": "83b3dacd",
   "metadata": {},
   "outputs": [
    {
     "data": {
      "text/plain": [
       "Event(2, train_reach_station!, Dict{Symbol, Any}(:station => \"station_1\", :train => \"train_red_3//1\", :time => 2.0))"
      ]
     },
     "execution_count": 48,
     "metadata": {},
     "output_type": "execute_result"
    }
   ],
   "source": [
    "result[\"events\"][2]"
   ]
  },
  {
   "cell_type": "code",
   "execution_count": 27,
   "id": "72b612ac",
   "metadata": {},
   "outputs": [
    {
     "data": {
      "text/plain": [
       "\"station_1\""
      ]
     },
     "execution_count": 27,
     "metadata": {},
     "output_type": "execute_result"
    }
   ],
   "source": [
    "lines[\"red\"][\"FW\"][1]"
   ]
  },
  {
   "cell_type": "code",
   "execution_count": 17,
   "id": "bfb8c835",
   "metadata": {},
   "outputs": [
    {
     "name": "stdout",
     "output_type": "stream",
     "text": [
      "station_5station_2station_1station_3station_4"
     ]
    }
   ],
   "source": [
    "for i in keys(station_dict)\n",
    "    print(i)\n",
    "end"
   ]
  },
  {
   "cell_type": "code",
   "execution_count": 44,
   "id": "3bf43a05",
   "metadata": {},
   "outputs": [
    {
     "data": {
      "text/plain": [
       "1-element Vector{Any}:\n",
       " \"pur\""
      ]
     },
     "execution_count": 44,
     "metadata": {},
     "output_type": "execute_result"
    }
   ],
   "source": [
    "station_dict[\"station_5\"].codes"
   ]
  },
  {
   "cell_type": "code",
   "execution_count": 63,
   "id": "a675c10e",
   "metadata": {},
   "outputs": [
    {
     "data": {
      "text/plain": [
       "Dict{Any, Any} with 2 entries:\n",
       "  \"pur\" => Dict{Any, Any}(\"FW\"=>[\"station_4\", \"station_2\", \"station_3\", \"statio…\n",
       "  \"red\" => Dict{Any, Any}(\"FW\"=>[\"station_1\", \"station_2\", \"station_3\"], \"BW\"=>…"
      ]
     },
     "execution_count": 63,
     "metadata": {},
     "output_type": "execute_result"
    }
   ],
   "source": [
    "lines"
   ]
  },
  {
   "cell_type": "code",
   "execution_count": 51,
   "id": "7ef5224a",
   "metadata": {},
   "outputs": [
    {
     "name": "stdout",
     "output_type": "stream",
     "text": [
      "1\n",
      "23\n",
      "23\n",
      "1\n"
     ]
    }
   ],
   "source": [
    "for (x, y) in [(1,23), (23,1)]\n",
    "    println(x)\n",
    "    println(y)\n",
    "end"
   ]
  },
  {
   "cell_type": "code",
   "execution_count": 64,
   "id": "efa162d7",
   "metadata": {},
   "outputs": [
    {
     "data": {
      "text/plain": [
       "4"
      ]
     },
     "execution_count": 64,
     "metadata": {},
     "output_type": "execute_result"
    }
   ],
   "source": [
    "findfirst(==(\"station_5\"), lines[\"pur\"][\"FW\"])"
   ]
  },
  {
   "cell_type": "code",
   "execution_count": 74,
   "id": "a3770e98",
   "metadata": {},
   "outputs": [
    {
     "data": {
      "text/plain": [
       "Dict{Any, Any} with 5 entries:\n",
       "  \"station_4\" => Dict{Any, Any}(\"station_2\"=>Dict{Any, Any}(\"pur_FW\"=>Any[\"stat…\n",
       "  \"station_2\" => Dict{Any, Any}(\"station_4\"=>Dict{Any, Any}(\"pur_BW\"=>Any[\"stat…\n",
       "  \"station_1\" => Dict{Any, Any}(\"station_4\"=>Dict{Any, Any}(\"red_FW\"=>Any[\"stat…\n",
       "  \"station_3\" => Dict{Any, Any}(\"station_2\"=>Dict{Any, Any}(\"red_BW\"=>Any[\"stat…\n",
       "  \"station_5\" => Dict{Any, Any}(\"station_2\"=>Dict{Any, Any}(\"pur_BW\"=>Any[\"stat…"
      ]
     },
     "execution_count": 74,
     "metadata": {},
     "output_type": "execute_result"
    }
   ],
   "source": [
    "paths = get_interchange_paths(station_dict, lines, commuter_graph)"
   ]
  },
  {
   "cell_type": "code",
   "execution_count": 78,
   "id": "3b395013",
   "metadata": {},
   "outputs": [
    {
     "data": {
      "text/plain": [
       "Dict{Any, Any} with 4 entries:\n",
       "  \"station_4\" => Dict{Any, Any}(\"pur_BW\"=>Any[\"station_4\"])\n",
       "  \"station_1\" => Dict{Any, Any}(\"red_BW\"=>Any[\"station_1\"])\n",
       "  \"station_3\" => Dict{Any, Any}(\"red_FW\"=>Any[\"station_3\"], \"pur_FW\"=>Any[\"stat…\n",
       "  \"station_5\" => Dict{Any, Any}(\"pur_FW\"=>Any[\"station_5\"])"
      ]
     },
     "execution_count": 78,
     "metadata": {},
     "output_type": "execute_result"
    }
   ],
   "source": [
    "paths[\"station_2\"]"
   ]
  },
  {
   "cell_type": "code",
   "execution_count": 71,
   "id": "088b8741",
   "metadata": {},
   "outputs": [
    {
     "data": {
      "text/plain": [
       "3"
      ]
     },
     "execution_count": 71,
     "metadata": {},
     "output_type": "execute_result"
    }
   ],
   "source": [
    "size(lines[\"red\"][\"FW\"])[1]"
   ]
  },
  {
   "cell_type": "code",
   "execution_count": 45,
   "id": "e5d3b83d",
   "metadata": {},
   "outputs": [
    {
     "data": {
      "text/plain": [
       "1"
      ]
     },
     "execution_count": 45,
     "metadata": {},
     "output_type": "execute_result"
    }
   ],
   "source": [
    "trunc(Int, 4/3)"
   ]
  },
  {
   "cell_type": "code",
   "execution_count": 12,
   "id": "ea9d3a30",
   "metadata": {},
   "outputs": [
    {
     "data": {
      "text/plain": [
       "0.8827619021614435"
      ]
     },
     "execution_count": 12,
     "metadata": {},
     "output_type": "execute_result"
    }
   ],
   "source": [
    "rand(Exponential(2), 1)[1]"
   ]
  },
  {
   "cell_type": "code",
   "execution_count": 24,
   "id": "71f6f68b",
   "metadata": {},
   "outputs": [
    {
     "data": {
      "text/plain": [
       "3-element Vector{Int64}:\n",
       " 1\n",
       " 2\n",
       " 3"
      ]
     },
     "execution_count": 24,
     "metadata": {},
     "output_type": "execute_result"
    }
   ],
   "source": [
    "x = [1, 2, 3]"
   ]
  },
  {
   "cell_type": "code",
   "execution_count": 25,
   "id": "6948a1ba",
   "metadata": {},
   "outputs": [
    {
     "name": "stdout",
     "output_type": "stream",
     "text": [
      "2\n"
     ]
    }
   ],
   "source": [
    "for i in 3: -1 : 1\n",
    "    if i == 2\n",
    "        println(splice!(x,i))\n",
    "    end\n",
    "end"
   ]
  },
  {
   "cell_type": "code",
   "execution_count": 13,
   "id": "4209b1ce",
   "metadata": {},
   "outputs": [
    {
     "data": {
      "text/plain": [
       "🗂️ HDF5.File: (read-only) data/runsData.h5\n",
       "└─ 📂 dataset_d_10000_run_2023-04-06T20:50:49.591\n",
       "   ├─ 📂 percentage_wait_time\n",
       "   │  ├─ 📂 station_1\n",
       "   │  │  ├─ 🔢 station_2\n",
       "   │  │  ├─ 🔢 station_3\n",
       "   │  │  ├─ 🔢 station_4\n",
       "   │  │  └─ 🔢 station_5\n",
       "   │  ├─ 📂 station_2\n",
       "   │  │  ├─ 🔢 station_1\n",
       "   │  │  ├─ 🔢 station_3\n",
       "   │  │  ├─ 🔢 station_4\n",
       "   │  │  └─ 🔢 station_5\n",
       "   │  ├─ 📂 station_3\n",
       "   │  │  ├─ 🔢 station_1\n",
       "   │  │  ├─ 🔢 station_2\n",
       "   │  │  ├─ 🔢 station_4\n",
       "   │  │  └─ 🔢 station_5\n",
       "   │  ├─ 📂 station_4\n",
       "   │  │  ├─ 🔢 station_1\n",
       "   │  │  ├─ 🔢 station_2\n",
       "   │  │  ├─ 🔢 station_3\n",
       "   │  │  └─ 🔢 station_5\n",
       "   │  └─ 📂 station_5\n",
       "   │     ├─ 🔢 station_1\n",
       "   │     ├─ 🔢 station_2\n",
       "   │     ├─ 🔢 station_3\n",
       "   │     └─ 🔢 station_4\n",
       "   ├─ 📂 station_commuter_count\n",
       "   │  ├─ 📂 station_1\n",
       "   │  │  ├─ 🔢 count\n",
       "   │  │  ├─ 🔢 event\n",
       "   │  │  └─ 🔢 time\n",
       "   │  ├─ 📂 station_2\n",
       "   │  │  ├─ 🔢 count\n",
       "   │  │  ├─ 🔢 event\n",
       "   │  │  └─ 🔢 time\n",
       "   │  ├─ 📂 station_3\n",
       "   │  │  ├─ 🔢 count\n",
       "   │  │  ├─ 🔢 event\n",
       "   │  │  └─ 🔢 time\n",
       "   │  ├─ 📂 station_4\n",
       "   │  │  ├─ 🔢 count\n",
       "   │  │  ├─ 🔢 event\n",
       "   │  │  └─ 🔢 time\n",
       "   │  └─ 📂 station_5\n",
       "   │     ├─ 🔢 count\n",
       "   │     ├─ 🔢 event\n",
       "   │     └─ 🔢 time\n",
       "   ├─ 📂 station_train_commuter_count\n",
       "   │  ├─ 📂 station_1\n",
       "   │  │  ├─ 🔢 count\n",
       "   │  │  ├─ 🔢 event\n",
       "   │  │  └─ 🔢 time\n",
       "   │  ├─ 📂 station_2\n",
       "   │  │  ├─ 🔢 count\n",
       "   │  │  ├─ 🔢 event\n",
       "   │  │  └─ 🔢 time\n",
       "   │  ├─ 📂 station_3\n",
       "   │  │  ├─ 🔢 count\n",
       "   │  │  ├─ 🔢 event\n",
       "   │  │  └─ 🔢 time\n",
       "   │  ├─ 📂 station_4\n",
       "   │  │  ├─ 🔢 count\n",
       "   │  │  ├─ 🔢 event\n",
       "   │  │  └─ 🔢 time\n",
       "   │  └─ 📂 station_5\n",
       "   │     ├─ 🔢 count\n",
       "   │     ├─ 🔢 event\n",
       "   │     └─ 🔢 time\n",
       "   ├─ 📂 travel_times\n",
       "   │  ├─ 📂 station_1\n",
       "   │  │  ├─ 🔢 station_2\n",
       "   │  │  ├─ 🔢 station_3\n",
       "   │  │  ├─ 🔢 station_4\n",
       "   │  │  └─ 🔢 station_5\n",
       "   │  ├─ 📂 station_2\n",
       "   │  │  ├─ 🔢 station_1\n",
       "   │  │  ├─ 🔢 station_3\n",
       "   │  │  ├─ 🔢 station_4\n",
       "   │  │  └─ 🔢 station_5\n",
       "   │  ├─ 📂 station_3\n",
       "   │  │  ├─ 🔢 station_1\n",
       "   │  │  ├─ 🔢 station_2\n",
       "   │  │  ├─ 🔢 station_4\n",
       "   │  │  └─ 🔢 station_5\n",
       "   │  ├─ 📂 station_4\n",
       "   │  │  ├─ 🔢 station_1\n",
       "   │  │  ├─ 🔢 station_2\n",
       "   │  │  ├─ 🔢 station_3\n",
       "   │  │  └─ 🔢 station_5\n",
       "   │  └─ 📂 station_5\n",
       "   │     ├─ 🔢 station_1\n",
       "   │     ├─ 🔢 station_2\n",
       "   │     ├─ 🔢 station_3\n",
       "   │     └─ 🔢 station_4\n",
       "   └─ 📂 wait_times\n",
       "      ├─ 🔢 station_1\n",
       "      ├─ 🔢 station_2\n",
       "      ├─ 🔢 station_3\n",
       "      ├─ 🔢 station_4\n",
       "      └─ 🔢 station_5"
      ]
     },
     "execution_count": 13,
     "metadata": {},
     "output_type": "execute_result"
    }
   ],
   "source": [
    "data = h5open(\"data/runsData.h5\")"
   ]
  },
  {
   "cell_type": "code",
   "execution_count": 15,
   "id": "edf889ac",
   "metadata": {},
   "outputs": [
    {
     "data": {
      "text/plain": [
       "📂 HDF5.Group: /dataset_d_10000_run_2023-04-06T20:50:49.591/station_commuter_count/station_1 (file: data/runsData.h5)\n",
       "├─ 🔢 count\n",
       "├─ 🔢 event\n",
       "└─ 🔢 time"
      ]
     },
     "execution_count": 15,
     "metadata": {},
     "output_type": "execute_result"
    }
   ],
   "source": [
    "f = data[\"dataset_d_10000_run_2023-04-06T20:50:49.591/station_commuter_count/station_1\"]"
   ]
  },
  {
   "cell_type": "code",
   "execution_count": 17,
   "id": "dd071698",
   "metadata": {},
   "outputs": [
    {
     "data": {
      "text/plain": [
       "🔢 HDF5.Dataset: /dataset_d_10000_run_2023-04-06T20:50:49.591/station_commuter_count/station_1/count (file: data/runsData.h5 xfer_mode: 0)"
      ]
     },
     "execution_count": 17,
     "metadata": {},
     "output_type": "execute_result"
    }
   ],
   "source": [
    "f[\"count\"]"
   ]
  },
  {
   "cell_type": "code",
   "execution_count": null,
   "id": "0dfc62bb",
   "metadata": {},
   "outputs": [],
   "source": []
  }
 ],
 "metadata": {
  "kernelspec": {
   "display_name": "Julia 1.8.5",
   "language": "julia",
   "name": "julia-1.8"
  },
  "language_info": {
   "file_extension": ".jl",
   "mimetype": "application/julia",
   "name": "julia",
   "version": "1.8.5"
  }
 },
 "nbformat": 4,
 "nbformat_minor": 5
}

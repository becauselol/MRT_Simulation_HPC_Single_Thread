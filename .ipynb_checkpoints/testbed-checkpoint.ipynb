{
 "cells": [
  {
   "cell_type": "code",
   "execution_count": 22,
   "id": "5067c9f9",
   "metadata": {},
   "outputs": [
    {
     "data": {
      "text/plain": [
       "store_final_data (generic function with 1 method)"
      ]
     },
     "execution_count": 22,
     "metadata": {},
     "output_type": "execute_result"
    }
   ],
   "source": [
    "using Logging\n",
    "using DataFrames, Distributions\n",
    "using BenchmarkTools, CSV\n",
    "\n",
    "include(\"simul_functions.jl\")\n",
    "include(\"construction_functions.jl\")\n",
    "include(\"station_functions.jl\")\n",
    "include(\"train_functions.jl\")\n",
    "include(\"pathfinding_functions.jl\")\n",
    "include(\"commuter_functions.jl\")\n",
    "include(\"classes.jl\")\n",
    "include(\"heap_functions.jl\")\n",
    "include(\"hdf5_functions.jl\")"
   ]
  },
  {
   "cell_type": "code",
   "execution_count": 23,
   "id": "0d88a667",
   "metadata": {},
   "outputs": [
    {
     "data": {
      "text/plain": [
       "ConsoleLogger(IJulia.IJuliaStdio{Base.PipeEndpoint}(IOContext(Base.PipeEndpoint(Base.Libc.WindowsRawSocket(0x00000000000003b4) open, 0 bytes waiting))), Debug, Logging.default_metafmt, true, 0, Dict{Any, Int64}())"
      ]
     },
     "execution_count": 23,
     "metadata": {},
     "output_type": "execute_result"
    }
   ],
   "source": [
    "# io = open(\"log.txt\", \"w+\")\n",
    "# logger = SimpleLogger(io)\n",
    "logger = ConsoleLogger(stdout, Logging.Debug)\n",
    "# fileLogger = SimpleLogger(io, Logging.Debug)\n",
    "# global_logger(fileLogger)\n",
    "global_logger(logger)"
   ]
  },
  {
   "cell_type": "code",
   "execution_count": 24,
   "id": "827b5a35",
   "metadata": {},
   "outputs": [
    {
     "name": "stdout",
     "output_type": "stream",
     "text": [
      "\u001b[36m\u001b[1m[ \u001b[22m\u001b[39m\u001b[36m\u001b[1mInfo: \u001b[22m\u001b[39minitialization starting at time 2023-04-11T02:51:48.517\n",
      "\u001b[34m\u001b[1m┌ \u001b[22m\u001b[39m\u001b[34m\u001b[1mDebug: \u001b[22m\u001b[39mfloyd_warshall done\n",
      "\u001b[34m\u001b[1m└ \u001b[22m\u001b[39m\u001b[90m@ Main C:\\Users\\gabes\\Documents\\HighPerformanceComputing\\Project\\HPC_Project\\pathfinding_functions.jl:41\u001b[39m\n",
      "\u001b[36m\u001b[1m[ \u001b[22m\u001b[39m\u001b[36m\u001b[1mInfo: \u001b[22m\u001b[39minitialization finish at time 2023-04-11T02:51:53.568\n"
     ]
    }
   ],
   "source": [
    "max_time = 1440\n",
    "start_time = 345\n",
    "# station_data = \"\"\"Station 1,red01\n",
    "# Station 2,red02/pur02\n",
    "# Station 3,red03/pur03\n",
    "# Station 4,pur01\n",
    "# Station 5,pur04\n",
    "# Station 6,red04\"\"\"\n",
    "\n",
    "# travel_data = Dict(\n",
    "# \t\"pur\" => \"\"\"pur01,pur02,2\n",
    "# pur02,pur03,2\n",
    "# pur03,pur04,2\"\"\",\n",
    "# \t\"red\" => \"\"\"red01,red02,2\n",
    "# red02,red03,2\n",
    "# red03,red04,2\"\"\"\n",
    "# \t)\n",
    "\n",
    "# # not being used at the moment\n",
    "# train_wait_time = \"\"\"red01,1\n",
    "# red02,1\n",
    "# red03,1\n",
    "# pur01,1\n",
    "# pur04,1\"\"\"\n",
    "\n",
    "train_period = 2\n",
    "train_capacity = 1000\n",
    "\n",
    "# spawn_labels = [\"Station 1\", \"Station 2\", \"Station 3\", \"Station 4\", \"Station 5\", \"Station 6\"]\n",
    "# spawn_rates = [0 1 1 1 1 1;\n",
    "# 1 0 1 1 1 1;\n",
    "# 1 1 0 1 1 1;\n",
    "# 1 1 1 0 1 1;\n",
    "# 1 1 1 1 0 1;\n",
    "# 1 1 1 1 1 0]\n",
    "@info \"initialization starting at time $(now())\"\n",
    "station_dict = construct_station_dict(\"data/input/station_data.csv\")\n",
    "\n",
    "station_name_id_map = construct_station_name_id_map(station_dict)\n",
    "\n",
    "# construct the edges\n",
    "start_stations = construct_edges_from_edges_dict!(station_dict, [\"tel\", \"ccl\", \"ewl\", \"nsl\", \"nel\", \"cgl\", \"dtl\"])\n",
    "\n",
    "lines = construct_lines_from_start_stations(station_dict, start_stations)\n",
    "\n",
    "commuter_graph = construct_commuter_graph(station_dict)\n",
    "\n",
    "floyd_warshall!(commuter_graph)\n",
    "\n",
    "get_all_path_pairs!(commuter_graph)\n",
    "\n",
    "paths = get_interchange_paths(station_dict, lines, commuter_graph)\n",
    "\n",
    "trains = Dict()\n",
    "event_queue = []\n",
    "for line_code in keys(lines)\n",
    "\tline_duration = get_line_duration(station_dict, lines, line_code)\n",
    "\tdepot_id = lines[line_code][\"FW\"][1]\n",
    "\tresult = create_period_train_placement_events(line_code, line_duration, train_period, train_capacity, depot_id, \"FW\", start_time)\n",
    "\n",
    "\tfor (k,v) in result[\"trains\"]\n",
    "\t\ttrains[k] = v \n",
    "\tend \n",
    "\n",
    "\tappend!(event_queue, result[\"events\"])\n",
    "end\n",
    "\n",
    "spawn_events = create_spawn_events!(\"data/input/spawn_data.csv\", station_dict, 345)\n",
    "\n",
    "append!(event_queue, spawn_events)\n",
    "\n",
    "metro = Metro(station_dict, trains, lines, paths);\n",
    "\n",
    "build_min_heap!(event_queue)\n",
    "\n",
    "data_store = Data_Store(Dict(), Dict(), Dict(), Dict(), Dict())\n",
    "@info \"initialization finish at time $(now())\""
   ]
  },
  {
   "cell_type": "code",
   "execution_count": 25,
   "id": "9c2bdcb7",
   "metadata": {},
   "outputs": [
    {
     "data": {
      "text/plain": [
       "11187-element Vector{Any}:\n",
       " Event(345.00000013628147, spawn_commuter!, Dict{Symbol, Any}(:station => \"station_14\", :rate => 0.004166666666666667, :target => \"station_61\", :time => 345.00000013628147))\n",
       " Event(345.00000020311916, spawn_commuter!, Dict{Symbol, Any}(:station => \"station_100\", :rate => 0.0008333333333333334, :target => \"station_123\", :time => 345.00000020311916))\n",
       " Event(345.0000016212304, spawn_commuter!, Dict{Symbol, Any}(:station => \"station_125\", :rate => 0.0016666666666666668, :target => \"station_32\", :time => 345.0000016212304))\n",
       " Event(345.000004277922, spawn_commuter!, Dict{Symbol, Any}(:station => \"station_11\", :rate => 0.0025, :target => \"station_115\", :time => 345.000004277922))\n",
       " Event(345.00000062239184, spawn_commuter!, Dict{Symbol, Any}(:station => \"station_6\", :rate => 0.0008333333333333334, :target => \"station_134\", :time => 345.00000062239184))\n",
       " Event(345.0000031335358, spawn_commuter!, Dict{Symbol, Any}(:station => \"station_30\", :rate => 0.0008333333333333334, :target => \"station_18\", :time => 345.0000031335358))\n",
       " Event(345.0000018734416, spawn_commuter!, Dict{Symbol, Any}(:station => \"station_67\", :rate => 0.0016666666666666668, :target => \"station_48\", :time => 345.0000018734416))\n",
       " Event(345.00000756889347, spawn_commuter!, Dict{Symbol, Any}(:station => \"station_98\", :rate => 0.0008333333333333334, :target => \"station_118\", :time => 345.00000756889347))\n",
       " Event(345.000011477283, spawn_commuter!, Dict{Symbol, Any}(:station => \"station_8\", :rate => 0.0016666666666666668, :target => \"station_109\", :time => 345.000011477283))\n",
       " Event(345.0000025298491, spawn_commuter!, Dict{Symbol, Any}(:station => \"station_113\", :rate => 0.0008333333333333334, :target => \"station_105\", :time => 345.0000025298491))\n",
       " Event(345.0000112613041, spawn_commuter!, Dict{Symbol, Any}(:station => \"station_55\", :rate => 0.0008333333333333334, :target => \"station_47\", :time => 345.0000112613041))\n",
       " Event(345.0000036779718, spawn_commuter!, Dict{Symbol, Any}(:station => \"station_74\", :rate => 0.016666666666666666, :target => \"station_106\", :time => 345.0000036779718))\n",
       " Event(345.0000093175304, spawn_commuter!, Dict{Symbol, Any}(:station => \"station_125\", :rate => 0.0008333333333333334, :target => \"station_92\", :time => 345.0000093175304))\n",
       " ⋮\n",
       " Event(360.05147397765273, spawn_commuter!, Dict{Symbol, Any}(:station => \"station_103\", :rate => 0.030833333333333334, :target => \"station_63\", :time => 360.05147397765273))\n",
       " Event(360.0028947216742, spawn_commuter!, Dict{Symbol, Any}(:station => \"station_43\", :rate => 0.0016666666666666668, :target => \"station_8\", :time => 360.0028947216742))\n",
       " Event(480.00175446470405, spawn_commuter!, Dict{Symbol, Any}(:station => \"station_43\", :rate => 0.0025, :target => \"station_64\", :time => 480.00175446470405))\n",
       " Event(540.0051804970456, spawn_commuter!, Dict{Symbol, Any}(:station => \"station_73\", :rate => 0.006666666666666667, :target => \"station_41\", :time => 540.0051804970456))\n",
       " Event(780.0002153410879, spawn_commuter!, Dict{Symbol, Any}(:station => \"station_43\", :rate => 0.0008333333333333334, :target => \"station_16\", :time => 780.0002153410879))\n",
       " Event(480.00178762248936, spawn_commuter!, Dict{Symbol, Any}(:station => \"station_43\", :rate => 0.01, :target => \"station_49\", :time => 480.00178762248936))\n",
       " Event(468.0, train_reach_station!, Dict{Symbol, Any}(:station => \"station_35\", :train => \"train_ccl_3\", :time => 468.0))\n",
       " Event(420.0029650206717, spawn_commuter!, Dict{Symbol, Any}(:station => \"station_43\", :rate => 0.0008333333333333334, :target => \"station_59\", :time => 420.0029650206717))\n",
       " Event(600.0018462335921, spawn_commuter!, Dict{Symbol, Any}(:station => \"station_43\", :rate => 0.0008333333333333334, :target => \"station_113\", :time => 600.0018462335921))\n",
       " Event(360.0491657183447, spawn_commuter!, Dict{Symbol, Any}(:station => \"station_103\", :rate => 0.0475, :target => \"station_119\", :time => 360.0491657183447))\n",
       " Event(600.0023731111474, spawn_commuter!, Dict{Symbol, Any}(:station => \"station_43\", :rate => 0.0008333333333333334, :target => \"station_124\", :time => 600.0023731111474))\n",
       " Event(420.00055422916284, spawn_commuter!, Dict{Symbol, Any}(:station => \"station_43\", :rate => 0.0008333333333333334, :target => \"station_21\", :time => 420.00055422916284))"
      ]
     },
     "execution_count": 25,
     "metadata": {},
     "output_type": "execute_result"
    }
   ],
   "source": [
    "event_queue"
   ]
  },
  {
   "cell_type": "code",
   "execution_count": 12,
   "id": "0c6b03d4",
   "metadata": {},
   "outputs": [
    {
     "data": {
      "text/plain": [
       "3.35"
      ]
     },
     "execution_count": 12,
     "metadata": {},
     "output_type": "execute_result"
    }
   ],
   "source": [
    "round(rand(Exponential(2), 1)[1]; digits=2)"
   ]
  },
  {
   "cell_type": "code",
   "execution_count": 5,
   "id": "f3990e76",
   "metadata": {},
   "outputs": [],
   "source": [
    "build_min_heap!(event_queue)"
   ]
  },
  {
   "cell_type": "code",
   "execution_count": 42,
   "id": "311d0235",
   "metadata": {},
   "outputs": [
    {
     "data": {
      "text/plain": [
       "455"
      ]
     },
     "execution_count": 42,
     "metadata": {},
     "output_type": "execute_result"
    }
   ],
   "source": [
    "time = 455"
   ]
  },
  {
   "cell_type": "code",
   "execution_count": 49,
   "id": "8c6d2b34",
   "metadata": {},
   "outputs": [
    {
     "data": {
      "text/plain": [
       "Dict{Any, Any}()"
      ]
     },
     "execution_count": 49,
     "metadata": {},
     "output_type": "execute_result"
    }
   ],
   "source": [
    "test_dict = Dict()"
   ]
  },
  {
   "cell_type": "code",
   "execution_count": 50,
   "id": "4d93fe3a",
   "metadata": {},
   "outputs": [
    {
     "ename": "LoadError",
     "evalue": "syntax: break or continue outside loop",
     "output_type": "error",
     "traceback": [
      "syntax: break or continue outside loop",
      "",
      "Stacktrace:",
      " [1] top-level scope",
      "   @ In[50]:3"
     ]
    }
   ],
   "source": [
    "current_hour = convert(Int32, floor(time/60))\n",
    "\n",
    "if !haskey(test_dict, current_hour)\n",
    "    hours = [5,6,7,8,9,10,11,12,13,14,15,16,17,18,19,20,21,22,23]\n",
    "    index = findfirst(==(current_hour), hours)\n",
    "    index += 1\n",
    "    while index <= size(hours)[1] && !haskey(test_dict, hours[index])\n",
    "        index += 1\n",
    "    end\n",
    "    if index > size(hours)[1]\n",
    "        println(\"escapes\")\n",
    "    end\n",
    "\n",
    "    station_start_spawn_hour = hours[index]\n",
    "    station_start_spawn_time = station_start_spawn_hour * 60\n",
    "else\n",
    "    station_start_spawn_hour = current_hour\n",
    "    station_start_spawn_time = time\n",
    "end\n",
    "println(station_start_spawn_time);"
   ]
  },
  {
   "cell_type": "code",
   "execution_count": 14,
   "id": "74e695e9",
   "metadata": {},
   "outputs": [
    {
     "name": "stdout",
     "output_type": "stream",
     "text": [
      "\u001b[34m\u001b[1m┌ \u001b[22m\u001b[39m\u001b[34m\u001b[1mDebug: \u001b[22m\u001b[39mLoading cache file C:\\Users\\gabes\\.julia\\compiled\\v1.8\\WeakRefStrings\\muGbw_lKq5L.ji for WeakRefStrings [ea10d353-3f73-51f8-a26c-33c1cb351aa5]\n",
      "\u001b[34m\u001b[1m└ \u001b[22m\u001b[39m\u001b[90m@ Base loading.jl:806\u001b[39m\n",
      "\u001b[34m\u001b[1m┌ \u001b[22m\u001b[39m\u001b[34m\u001b[1mDebug: \u001b[22m\u001b[39mLoading cache file C:\\Users\\gabes\\.julia\\compiled\\v1.8\\TranscodingStreams\\eJQ7D_lKq5L.ji for TranscodingStreams [3bb67fe8-82b1-5028-8e26-92a6c54297fa]\n",
      "\u001b[34m\u001b[1m└ \u001b[22m\u001b[39m\u001b[90m@ Base loading.jl:806\u001b[39m\n",
      "\u001b[34m\u001b[1m┌ \u001b[22m\u001b[39m\u001b[34m\u001b[1mDebug: \u001b[22m\u001b[39mLoading cache file C:\\Users\\gabes\\.julia\\compiled\\v1.8\\CodecZlib\\1TI30_lKq5L.ji for CodecZlib [944b1d66-785c-5afd-91f1-9de20f533193]\n",
      "\u001b[34m\u001b[1m└ \u001b[22m\u001b[39m\u001b[90m@ Base loading.jl:806\u001b[39m\n",
      "\u001b[34m\u001b[1m┌ \u001b[22m\u001b[39m\u001b[34m\u001b[1mDebug: \u001b[22m\u001b[39mLoading cache file C:\\Users\\gabes\\.julia\\compiled\\v1.8\\FilePathsBase\\Efv1v_lKq5L.ji for FilePathsBase [48062228-2e41-5def-b9a4-89aafe57970f]\n",
      "\u001b[34m\u001b[1m└ \u001b[22m\u001b[39m\u001b[90m@ Base loading.jl:806\u001b[39m\n",
      "\u001b[34m\u001b[1m┌ \u001b[22m\u001b[39m\u001b[34m\u001b[1mDebug: \u001b[22m\u001b[39mLoading cache file C:\\Users\\gabes\\.julia\\compiled\\v1.8\\WorkerUtilities\\8EFUg_lKq5L.ji for WorkerUtilities [76eceee3-57b5-4d4a-8e66-0e911cebbf60]\n",
      "\u001b[34m\u001b[1m└ \u001b[22m\u001b[39m\u001b[90m@ Base loading.jl:806\u001b[39m\n",
      "\u001b[34m\u001b[1m┌ \u001b[22m\u001b[39m\u001b[34m\u001b[1mDebug: \u001b[22m\u001b[39mLoading cache file C:\\Users\\gabes\\.julia\\compiled\\v1.8\\CSV\\HHBkp_lKq5L.ji for CSV [336ed68f-0bac-5ca0-87d4-7b16caf5d00b]\n",
      "\u001b[34m\u001b[1m└ \u001b[22m\u001b[39m\u001b[90m@ Base loading.jl:806\u001b[39m\n"
     ]
    }
   ],
   "source": [
    "using CSV"
   ]
  },
  {
   "cell_type": "code",
   "execution_count": 12,
   "id": "a13a6a1e",
   "metadata": {},
   "outputs": [
    {
     "data": {
      "text/plain": [
       "392492-element CSV.File:\n",
       " CSV.Row: (Column1 = 9, Column2 = String15(\"EW32\"), Column3 = String15(\"DT24\"), Column4 = 0.05)\n",
       " CSV.Row: (Column1 = 6, Column2 = String15(\"BP4\"), Column3 = String15(\"EW31\"), Column4 = 1.8)\n",
       " CSV.Row: (Column1 = 12, Column2 = String15(\"SW5\"), Column3 = String15(\"NE15\"), Column4 = 1.65)\n",
       " CSV.Row: (Column1 = 12, Column2 = String15(\"NE15\"), Column3 = String15(\"SW5\"), Column4 = 1.55)\n",
       " CSV.Row: (Column1 = 19, Column2 = String15(\"DT23\"), Column3 = String15(\"SW8\"), Column4 = 0.7)\n",
       " CSV.Row: (Column1 = 9, Column2 = String15(\"PE5\"), Column3 = String15(\"DT7\"), Column4 = 0.05)\n",
       " CSV.Row: (Column1 = 15, Column2 = String15(\"TE5\"), Column3 = String15(\"CC27\"), Column4 = 0.05)\n",
       " CSV.Row: (Column1 = 15, Column2 = String15(\"CC27\"), Column3 = String15(\"TE5\"), Column4 = 0.25)\n",
       " CSV.Row: (Column1 = 14, Column2 = String15(\"NE10\"), Column3 = String15(\"NS3\"), Column4 = 0.4)\n",
       " CSV.Row: (Column1 = 14, Column2 = String15(\"NS3\"), Column3 = String15(\"NE10\"), Column4 = 0.15)\n",
       " CSV.Row: (Column1 = 9, Column2 = String15(\"PW1\"), Column3 = String15(\"PW4\"), Column4 = 2.6)\n",
       " CSV.Row: (Column1 = 9, Column2 = String15(\"PW4\"), Column3 = String15(\"PW1\"), Column4 = 3.65)\n",
       " CSV.Row: (Column1 = 7, Column2 = String15(\"NE7/DT12\"), Column3 = String15(\"DT7\"), Column4 = 15.45)\n",
       " ⋮\n",
       " CSV.Row: (Column1 = 9, Column2 = String15(\"EW22\"), Column3 = String15(\"SE3\"), Column4 = 0.15)\n",
       " CSV.Row: (Column1 = 6, Column2 = String15(\"EW20\"), Column3 = String15(\"NS12\"), Column4 = 0.15)\n",
       " CSV.Row: (Column1 = 6, Column2 = String15(\"NS12\"), Column3 = String15(\"EW20\"), Column4 = 1.35)\n",
       " CSV.Row: (Column1 = 0, Column2 = String15(\"NE7/DT12\"), Column3 = String15(\"NE16/STC\"), Column4 = 0.15)\n",
       " CSV.Row: (Column1 = 10, Column2 = String15(\"NS20\"), Column3 = String15(\"NS21/DT11\"), Column4 = 68.1)\n",
       " CSV.Row: (Column1 = 10, Column2 = String15(\"NS21/DT11\"), Column3 = String15(\"NS20\"), Column4 = 111.7)\n",
       " CSV.Row: (Column1 = 15, Column2 = String15(\"SW2\"), Column3 = String15(\"PE3\"), Column4 = 0.45)\n",
       " CSV.Row: (Column1 = 15, Column2 = String15(\"PE3\"), Column3 = String15(\"SW2\"), Column4 = 1.6)\n",
       " CSV.Row: (Column1 = 11, Column2 = String15(\"CC12\"), Column3 = String15(\"NE9\"), Column4 = 0.45)\n",
       " CSV.Row: (Column1 = 11, Column2 = String15(\"NE9\"), Column3 = String15(\"CC12\"), Column4 = 0.75)\n",
       " CSV.Row: (Column1 = 13, Column2 = String15(\"NS4/BP1\"), Column3 = String15(\"NE8\"), Column4 = 1.05)\n",
       " CSV.Row: (Column1 = 13, Column2 = String15(\"NE8\"), Column3 = String15(\"NS4/BP1\"), Column4 = 1.05)"
      ]
     },
     "execution_count": 12,
     "metadata": {},
     "output_type": "execute_result"
    }
   ],
   "source": [
    "string = CSV.File(\"data/input/spawn_data.csv\", header=false)"
   ]
  },
  {
   "cell_type": "code",
   "execution_count": 25,
   "id": "99f2e8c7",
   "metadata": {},
   "outputs": [
    {
     "name": "stdout",
     "output_type": "stream",
     "text": [
      "TE1\n",
      "TE2\n",
      "TE3\n",
      "TE4\n",
      "TE5\n",
      "TE6\n",
      "TE7\n",
      "TE8\n",
      "TE9\n",
      "TE10\n",
      "TE11\n",
      "TE12\n",
      "TE13\n",
      "TE14\n",
      "TE15\n",
      "TE16\n",
      "TE17\n",
      "TE18\n",
      "TE19\n",
      "TE20\n",
      "TE21\n"
     ]
    }
   ],
   "source": [
    "for row in string\n",
    "    println(row[1])\n",
    "end"
   ]
  },
  {
   "cell_type": "code",
   "execution_count": 16,
   "id": "fcbff811",
   "metadata": {},
   "outputs": [
    {
     "data": {
      "text/plain": [
       "Dict{Any, Any}()"
      ]
     },
     "execution_count": 16,
     "metadata": {},
     "output_type": "execute_result"
    }
   ],
   "source": [
    "metro.stations[\"station_1\"].spawn_rate[\"1\"] = Dict()"
   ]
  },
  {
   "cell_type": "code",
   "execution_count": 17,
   "id": "64ddd340",
   "metadata": {},
   "outputs": [
    {
     "data": {
      "text/plain": [
       "5"
      ]
     },
     "execution_count": 17,
     "metadata": {},
     "output_type": "execute_result"
    }
   ],
   "source": [
    "metro.stations[\"station_1\"].spawn_rate[\"1\"][\"station_2\"] = 5"
   ]
  },
  {
   "cell_type": "code",
   "execution_count": 8,
   "id": "6a809c6b",
   "metadata": {},
   "outputs": [
    {
     "data": {
      "text/plain": [
       "Dict{Any, Any} with 5 entries:\n",
       "  \"station_4\" => Dict{Any, Any}(\"red_FW\"=>Any[\"station_2\"])\n",
       "  \"station_2\" => Dict{Any, Any}(\"red_FW\"=>Any[\"station_2\"])\n",
       "  \"station_6\" => Dict{Any, Any}(\"red_FW\"=>Any[\"station_6\"])\n",
       "  \"station_3\" => Dict{Any, Any}(\"red_FW\"=>Any[\"station_3\"])\n",
       "  \"station_5\" => Dict{Any, Any}(\"red_FW\"=>Any[\"station_2\", \"station_3\"])"
      ]
     },
     "execution_count": 8,
     "metadata": {},
     "output_type": "execute_result"
    }
   ],
   "source": [
    "metro.paths[\"station_1\"]"
   ]
  },
  {
   "cell_type": "code",
   "execution_count": 16,
   "id": "4201fb64",
   "metadata": {},
   "outputs": [
    {
     "data": {
      "text/plain": [
       "Dict{Any, Any} with 5 entries:\n",
       "  \"station_2\" => Dict{Any, Any}(\"pur_BW\"=>Any[\"station_2\"])\n",
       "  \"station_6\" => Dict{Any, Any}(\"pur_BW\"=>Any[\"station_3\"])\n",
       "  \"station_1\" => Dict{Any, Any}(\"pur_BW\"=>Any[\"station_2\", \"station_3\"])\n",
       "  \"station_3\" => Dict{Any, Any}(\"pur_BW\"=>Any[\"station_3\"])\n",
       "  \"station_4\" => Dict{Any, Any}(\"pur_BW\"=>Any[\"station_4\"])"
      ]
     },
     "execution_count": 16,
     "metadata": {},
     "output_type": "execute_result"
    }
   ],
   "source": [
    "metro.paths[\"station_5\"]"
   ]
  },
  {
   "cell_type": "code",
   "execution_count": 34,
   "id": "464bca5b",
   "metadata": {},
   "outputs": [
    {
     "data": {
      "text/plain": [
       "4-element Vector{Any}:\n",
       " [\"station_4.pur\", \"station_2.pur\", \"station_2.red\", \"station_3.red\", \"station_6.red\"]\n",
       " [\"station_4.pur\", \"station_2.pur\", \"station_3.pur\", \"station_3.red\", \"station_6.red\"]\n",
       " [\"station_4.pur\", \"station_2.pur\", \"station_3.pur\", \"station_3.red\", \"station_6.red\"]\n",
       " [\"station_4.pur\", \"station_2.pur\", \"station_3.pur\", \"station_3.red\", \"station_6.red\"]"
      ]
     },
     "execution_count": 34,
     "metadata": {},
     "output_type": "execute_result"
    }
   ],
   "source": [
    "commuter_graph.commuter_paths[\"station_4.pur\"][\"station_6.red\"]"
   ]
  },
  {
   "cell_type": "code",
   "execution_count": 28,
   "id": "763bd57f",
   "metadata": {
    "scrolled": true
   },
   "outputs": [
    {
     "data": {
      "text/plain": [
       "Dict{Any, Any} with 1 entry:\n",
       "  \"pur_FW\" => Any[\"station_2\", \"station_3\"]"
      ]
     },
     "execution_count": 28,
     "metadata": {},
     "output_type": "execute_result"
    }
   ],
   "source": [
    "metro.paths[\"station_4\"][\"station_6\"]"
   ]
  },
  {
   "cell_type": "code",
   "execution_count": 25,
   "id": "6c75247b",
   "metadata": {},
   "outputs": [
    {
     "data": {
      "text/plain": [
       "Dict{Any, Any} with 5 entries:\n",
       "  \"station_4\" => Dict{Any, Any}(\"red_BW\"=>Any[\"station_2\", \"station_3\"])\n",
       "  \"station_2\" => Dict{Any, Any}(\"red_BW\"=>Any[\"station_2\"])\n",
       "  \"station_1\" => Dict{Any, Any}(\"red_BW\"=>Any[\"station_1\"])\n",
       "  \"station_3\" => Dict{Any, Any}(\"red_BW\"=>Any[\"station_3\"])\n",
       "  \"station_5\" => Dict{Any, Any}(\"red_BW\"=>Any[\"station_3\"])"
      ]
     },
     "execution_count": 25,
     "metadata": {},
     "output_type": "execute_result"
    }
   ],
   "source": [
    "metro.paths[\"station_6\"]"
   ]
  },
  {
   "cell_type": "code",
   "execution_count": 28,
   "id": "cf8b0da0",
   "metadata": {},
   "outputs": [
    {
     "data": {
      "text/plain": [
       "12.0"
      ]
     },
     "execution_count": 28,
     "metadata": {},
     "output_type": "execute_result"
    }
   ],
   "source": [
    "get_line_duration(station_dict, lines, \"red\")"
   ]
  },
  {
   "cell_type": "code",
   "execution_count": 32,
   "id": "ad0930d8",
   "metadata": {},
   "outputs": [
    {
     "data": {
      "text/plain": [
       "Dict{Any, Any} with 2 entries:\n",
       "  \"events\" => Any[Event(0, train_reach_station!, Dict{Symbol, Any}(:station=>\"s…\n",
       "  \"trains\" => Dict{Any, Any}(\"train_red_6//1\"=>Train(\"train_red_6//1\", \"red\", \"…"
      ]
     },
     "execution_count": 32,
     "metadata": {},
     "output_type": "execute_result"
    }
   ],
   "source": [
    "result = create_period_train_placement_events(\"red\", 12, 2, 100, \"station_1\")"
   ]
  },
  {
   "cell_type": "code",
   "execution_count": 48,
   "id": "b10f1a6c",
   "metadata": {},
   "outputs": [
    {
     "data": {
      "text/plain": [
       "Event(2, train_reach_station!, Dict{Symbol, Any}(:station => \"station_1\", :train => \"train_red_3//1\", :time => 2.0))"
      ]
     },
     "execution_count": 48,
     "metadata": {},
     "output_type": "execute_result"
    }
   ],
   "source": [
    "result[\"events\"][2]"
   ]
  },
  {
   "cell_type": "code",
   "execution_count": 27,
   "id": "24d2f641",
   "metadata": {},
   "outputs": [
    {
     "data": {
      "text/plain": [
       "\"station_1\""
      ]
     },
     "execution_count": 27,
     "metadata": {},
     "output_type": "execute_result"
    }
   ],
   "source": [
    "lines[\"red\"][\"FW\"][1]"
   ]
  },
  {
   "cell_type": "code",
   "execution_count": 17,
   "id": "65783224",
   "metadata": {},
   "outputs": [
    {
     "name": "stdout",
     "output_type": "stream",
     "text": [
      "station_5station_2station_1station_3station_4"
     ]
    }
   ],
   "source": [
    "for i in keys(station_dict)\n",
    "    print(i)\n",
    "end"
   ]
  },
  {
   "cell_type": "code",
   "execution_count": 44,
   "id": "2f334b8f",
   "metadata": {},
   "outputs": [
    {
     "data": {
      "text/plain": [
       "1-element Vector{Any}:\n",
       " \"pur\""
      ]
     },
     "execution_count": 44,
     "metadata": {},
     "output_type": "execute_result"
    }
   ],
   "source": [
    "station_dict[\"station_5\"].codes"
   ]
  },
  {
   "cell_type": "code",
   "execution_count": 23,
   "id": "744d0de1",
   "metadata": {},
   "outputs": [
    {
     "data": {
      "text/plain": [
       "5"
      ]
     },
     "execution_count": 23,
     "metadata": {},
     "output_type": "execute_result"
    }
   ],
   "source": [
    "convert(Int32, floor(340/60))"
   ]
  },
  {
   "cell_type": "code",
   "execution_count": 51,
   "id": "7b2c96e5",
   "metadata": {},
   "outputs": [
    {
     "name": "stdout",
     "output_type": "stream",
     "text": [
      "1\n",
      "23\n",
      "23\n",
      "1\n"
     ]
    }
   ],
   "source": [
    "for (x, y) in [(1,23), (23,1)]\n",
    "    println(x)\n",
    "    println(y)\n",
    "end"
   ]
  },
  {
   "cell_type": "code",
   "execution_count": 64,
   "id": "7681e619",
   "metadata": {},
   "outputs": [
    {
     "data": {
      "text/plain": [
       "4"
      ]
     },
     "execution_count": 64,
     "metadata": {},
     "output_type": "execute_result"
    }
   ],
   "source": [
    "findfirst(==(\"station_5\"), lines[\"pur\"][\"FW\"])"
   ]
  },
  {
   "cell_type": "code",
   "execution_count": 74,
   "id": "c7b217ff",
   "metadata": {},
   "outputs": [
    {
     "data": {
      "text/plain": [
       "Dict{Any, Any} with 5 entries:\n",
       "  \"station_4\" => Dict{Any, Any}(\"station_2\"=>Dict{Any, Any}(\"pur_FW\"=>Any[\"stat…\n",
       "  \"station_2\" => Dict{Any, Any}(\"station_4\"=>Dict{Any, Any}(\"pur_BW\"=>Any[\"stat…\n",
       "  \"station_1\" => Dict{Any, Any}(\"station_4\"=>Dict{Any, Any}(\"red_FW\"=>Any[\"stat…\n",
       "  \"station_3\" => Dict{Any, Any}(\"station_2\"=>Dict{Any, Any}(\"red_BW\"=>Any[\"stat…\n",
       "  \"station_5\" => Dict{Any, Any}(\"station_2\"=>Dict{Any, Any}(\"pur_BW\"=>Any[\"stat…"
      ]
     },
     "execution_count": 74,
     "metadata": {},
     "output_type": "execute_result"
    }
   ],
   "source": [
    "paths = get_interchange_paths(station_dict, lines, commuter_graph)"
   ]
  },
  {
   "cell_type": "code",
   "execution_count": 78,
   "id": "b61d7587",
   "metadata": {},
   "outputs": [
    {
     "data": {
      "text/plain": [
       "Dict{Any, Any} with 4 entries:\n",
       "  \"station_4\" => Dict{Any, Any}(\"pur_BW\"=>Any[\"station_4\"])\n",
       "  \"station_1\" => Dict{Any, Any}(\"red_BW\"=>Any[\"station_1\"])\n",
       "  \"station_3\" => Dict{Any, Any}(\"red_FW\"=>Any[\"station_3\"], \"pur_FW\"=>Any[\"stat…\n",
       "  \"station_5\" => Dict{Any, Any}(\"pur_FW\"=>Any[\"station_5\"])"
      ]
     },
     "execution_count": 78,
     "metadata": {},
     "output_type": "execute_result"
    }
   ],
   "source": [
    "paths[\"station_2\"]"
   ]
  },
  {
   "cell_type": "code",
   "execution_count": 71,
   "id": "0614b5a4",
   "metadata": {},
   "outputs": [
    {
     "data": {
      "text/plain": [
       "3"
      ]
     },
     "execution_count": 71,
     "metadata": {},
     "output_type": "execute_result"
    }
   ],
   "source": [
    "size(lines[\"red\"][\"FW\"])[1]"
   ]
  },
  {
   "cell_type": "code",
   "execution_count": 45,
   "id": "c5d662b3",
   "metadata": {},
   "outputs": [
    {
     "data": {
      "text/plain": [
       "1"
      ]
     },
     "execution_count": 45,
     "metadata": {},
     "output_type": "execute_result"
    }
   ],
   "source": [
    "trunc(Int, 4/3)"
   ]
  },
  {
   "cell_type": "code",
   "execution_count": 12,
   "id": "ca5a852a",
   "metadata": {},
   "outputs": [
    {
     "data": {
      "text/plain": [
       "0.8827619021614435"
      ]
     },
     "execution_count": 12,
     "metadata": {},
     "output_type": "execute_result"
    }
   ],
   "source": [
    "rand(Exponential(2), 1)[1]"
   ]
  },
  {
   "cell_type": "code",
   "execution_count": 24,
   "id": "19ecc2bd",
   "metadata": {},
   "outputs": [
    {
     "data": {
      "text/plain": [
       "3-element Vector{Int64}:\n",
       " 1\n",
       " 2\n",
       " 3"
      ]
     },
     "execution_count": 24,
     "metadata": {},
     "output_type": "execute_result"
    }
   ],
   "source": [
    "x = [1, 2, 3]"
   ]
  },
  {
   "cell_type": "code",
   "execution_count": 25,
   "id": "4e6a0ed8",
   "metadata": {},
   "outputs": [
    {
     "name": "stdout",
     "output_type": "stream",
     "text": [
      "2\n"
     ]
    }
   ],
   "source": [
    "for i in 3: -1 : 1\n",
    "    if i == 2\n",
    "        println(splice!(x,i))\n",
    "    end\n",
    "end"
   ]
  },
  {
   "cell_type": "code",
   "execution_count": 1,
   "id": "40ec3079",
   "metadata": {},
   "outputs": [],
   "source": [
    "using HDF5"
   ]
  },
  {
   "cell_type": "code",
   "execution_count": 2,
   "id": "a33337b6",
   "metadata": {},
   "outputs": [],
   "source": [
    "using Plots"
   ]
  },
  {
   "cell_type": "code",
   "execution_count": 3,
   "id": "ba09cab8",
   "metadata": {},
   "outputs": [
    {
     "data": {
      "text/plain": [
       "🗂️ HDF5.File: (read-only) data/runsData.h5\n",
       "└─ 📂 dataset_d_100_run_2023-04-11T00:48:17.501\n",
       "   ├─ 📂 percentage_wait_time\n",
       "   │  ├─ 📂 station_1\n",
       "   │  │  ├─ 🔢 station_2\n",
       "   │  │  ├─ 🔢 station_3\n",
       "   │  │  ├─ 🔢 station_4\n",
       "   │  │  ├─ 🔢 station_5\n",
       "   │  │  └─ 🔢 station_6\n",
       "   │  ├─ 📂 station_2\n",
       "   │  │  ├─ 🔢 station_1\n",
       "   │  │  ├─ 🔢 station_3\n",
       "   │  │  ├─ 🔢 station_4\n",
       "   │  │  ├─ 🔢 station_5\n",
       "   │  │  └─ 🔢 station_6\n",
       "   │  ├─ 📂 station_3\n",
       "   │  │  ├─ 🔢 station_1\n",
       "   │  │  ├─ 🔢 station_2\n",
       "   │  │  ├─ 🔢 station_4\n",
       "   │  │  ├─ 🔢 station_5\n",
       "   │  │  └─ 🔢 station_6\n",
       "   │  ├─ 📂 station_4\n",
       "   │  │  ├─ 🔢 station_1\n",
       "   │  │  ├─ 🔢 station_2\n",
       "   │  │  ├─ 🔢 station_3\n",
       "   │  │  ├─ 🔢 station_5\n",
       "   │  │  └─ 🔢 station_6\n",
       "   │  ├─ 📂 station_5\n",
       "   │  │  ├─ 🔢 station_1\n",
       "   │  │  ├─ 🔢 station_2\n",
       "   │  │  ├─ 🔢 station_3\n",
       "   │  │  ├─ 🔢 station_4\n",
       "   │  │  └─ 🔢 station_6\n",
       "   │  └─ 📂 station_6\n",
       "   │     ├─ 🔢 station_1\n",
       "   │     ├─ 🔢 station_2\n",
       "   │     ├─ 🔢 station_3\n",
       "   │     ├─ 🔢 station_4\n",
       "   │     └─ 🔢 station_5\n",
       "   ├─ 📂 station_commuter_count\n",
       "   │  ├─ 📂 station_1\n",
       "   │  │  ├─ 🔢 count\n",
       "   │  │  ├─ 🔢 event\n",
       "   │  │  └─ 🔢 time\n",
       "   │  ├─ 📂 station_2\n",
       "   │  │  ├─ 🔢 count\n",
       "   │  │  ├─ 🔢 event\n",
       "   │  │  └─ 🔢 time\n",
       "   │  ├─ 📂 station_3\n",
       "   │  │  ├─ 🔢 count\n",
       "   │  │  ├─ 🔢 event\n",
       "   │  │  └─ 🔢 time\n",
       "   │  ├─ 📂 station_4\n",
       "   │  │  ├─ 🔢 count\n",
       "   │  │  ├─ 🔢 event\n",
       "   │  │  └─ 🔢 time\n",
       "   │  ├─ 📂 station_5\n",
       "   │  │  ├─ 🔢 count\n",
       "   │  │  ├─ 🔢 event\n",
       "   │  │  └─ 🔢 time\n",
       "   │  └─ 📂 station_6\n",
       "   │     ├─ 🔢 count\n",
       "   │     ├─ 🔢 event\n",
       "   │     └─ 🔢 time\n",
       "   ├─ 📂 station_train_commuter_count\n",
       "   │  ├─ 📂 station_1\n",
       "   │  │  ├─ 🔢 count\n",
       "   │  │  ├─ 🔢 event\n",
       "   │  │  └─ 🔢 time\n",
       "   │  ├─ 📂 station_2\n",
       "   │  │  ├─ 🔢 count\n",
       "   │  │  ├─ 🔢 event\n",
       "   │  │  └─ 🔢 time\n",
       "   │  ├─ 📂 station_3\n",
       "   │  │  ├─ 🔢 count\n",
       "   │  │  ├─ 🔢 event\n",
       "   │  │  └─ 🔢 time\n",
       "   │  ├─ 📂 station_4\n",
       "   │  │  ├─ 🔢 count\n",
       "   │  │  ├─ 🔢 event\n",
       "   │  │  └─ 🔢 time\n",
       "   │  ├─ 📂 station_5\n",
       "   │  │  ├─ 🔢 count\n",
       "   │  │  ├─ 🔢 event\n",
       "   │  │  └─ 🔢 time\n",
       "   │  └─ 📂 station_6\n",
       "   │     ├─ 🔢 count\n",
       "   │     ├─ 🔢 event\n",
       "   │     └─ 🔢 time\n",
       "   ├─ 📂 travel_times\n",
       "   │  ├─ 📂 station_1\n",
       "   │  │  ├─ 🔢 station_2\n",
       "   │  │  ├─ 🔢 station_3\n",
       "   │  │  ├─ 🔢 station_4\n",
       "   │  │  ├─ 🔢 station_5\n",
       "   │  │  └─ 🔢 station_6\n",
       "   │  ├─ 📂 station_2\n",
       "   │  │  ├─ 🔢 station_1\n",
       "   │  │  ├─ 🔢 station_3\n",
       "   │  │  ├─ 🔢 station_4\n",
       "   │  │  ├─ 🔢 station_5\n",
       "   │  │  └─ 🔢 station_6\n",
       "   │  ├─ 📂 station_3\n",
       "   │  │  ├─ 🔢 station_1\n",
       "   │  │  ├─ 🔢 station_2\n",
       "   │  │  ├─ 🔢 station_4\n",
       "   │  │  ├─ 🔢 station_5\n",
       "   │  │  └─ 🔢 station_6\n",
       "   │  ├─ 📂 station_4\n",
       "   │  │  ├─ 🔢 station_1\n",
       "   │  │  ├─ 🔢 station_2\n",
       "   │  │  ├─ 🔢 station_3\n",
       "   │  │  ├─ 🔢 station_5\n",
       "   │  │  └─ 🔢 station_6\n",
       "   │  ├─ 📂 station_5\n",
       "   │  │  ├─ 🔢 station_1\n",
       "   │  │  ├─ 🔢 station_2\n",
       "   │  │  ├─ 🔢 station_3\n",
       "   │  │  ├─ 🔢 station_4\n",
       "   │  │  └─ 🔢 station_6\n",
       "   │  └─ 📂 station_6\n",
       "   │     ├─ 🔢 station_1\n",
       "   │     ├─ 🔢 station_2\n",
       "   │     ├─ 🔢 station_3\n",
       "   │     ├─ 🔢 station_4\n",
       "   │     └─ 🔢 station_5\n",
       "   └─ 📂 wait_times\n",
       "      ├─ 🔢 station_1\n",
       "      ├─ 🔢 station_2\n",
       "      ├─ 🔢 station_3\n",
       "      ├─ 🔢 station_4\n",
       "      ├─ 🔢 station_5\n",
       "      └─ 🔢 station_6"
      ]
     },
     "execution_count": 3,
     "metadata": {},
     "output_type": "execute_result"
    }
   ],
   "source": [
    "data = h5open(\"data/runsData.h5\")"
   ]
  },
  {
   "cell_type": "code",
   "execution_count": 4,
   "id": "919ff64a",
   "metadata": {},
   "outputs": [
    {
     "data": {
      "text/plain": [
       "🔢 HDF5.Dataset: /dataset_d_100_run_2023-04-11T00:48:17.501/wait_times/station_2 (file: data/runsData.h5 xfer_mode: 0)"
      ]
     },
     "execution_count": 4,
     "metadata": {},
     "output_type": "execute_result"
    }
   ],
   "source": [
    "stn_2 = data[\"dataset_d_100_run_2023-04-11T00:48:17.501/wait_times/station_2\"]"
   ]
  },
  {
   "cell_type": "code",
   "execution_count": 5,
   "id": "29110c63",
   "metadata": {},
   "outputs": [
    {
     "data": {
      "text/plain": [
       "🔢 HDF5.Dataset: /dataset_d_100_run_2023-04-11T00:48:17.501/wait_times/station_3 (file: data/runsData.h5 xfer_mode: 0)"
      ]
     },
     "execution_count": 5,
     "metadata": {},
     "output_type": "execute_result"
    }
   ],
   "source": [
    "stn_3 = data[\"dataset_d_100_run_2023-04-11T00:48:17.501/wait_times/station_3\"]"
   ]
  },
  {
   "cell_type": "code",
   "execution_count": 6,
   "id": "5cb3ee82",
   "metadata": {},
   "outputs": [
    {
     "data": {
      "image/svg+xml": [
       "<?xml version=\"1.0\" encoding=\"utf-8\"?>\n",
       "<svg xmlns=\"http://www.w3.org/2000/svg\" xmlns:xlink=\"http://www.w3.org/1999/xlink\" width=\"600\" height=\"400\" viewBox=\"0 0 2400 1600\">\n",
       "<defs>\n",
       "  <clipPath id=\"clip720\">\n",
       "    <rect x=\"0\" y=\"0\" width=\"2400\" height=\"1600\"/>\n",
       "  </clipPath>\n",
       "</defs>\n",
       "<path clip-path=\"url(#clip720)\" d=\"M0 1600 L2400 1600 L2400 0 L0 0  Z\" fill=\"#ffffff\" fill-rule=\"evenodd\" fill-opacity=\"1\"/>\n",
       "<defs>\n",
       "  <clipPath id=\"clip721\">\n",
       "    <rect x=\"480\" y=\"0\" width=\"1681\" height=\"1600\"/>\n",
       "  </clipPath>\n",
       "</defs>\n",
       "<path clip-path=\"url(#clip720)\" d=\"M172.015 1486.45 L2352.76 1486.45 L2352.76 47.2441 L172.015 47.2441  Z\" fill=\"#ffffff\" fill-rule=\"evenodd\" fill-opacity=\"1\"/>\n",
       "<defs>\n",
       "  <clipPath id=\"clip722\">\n",
       "    <rect x=\"172\" y=\"47\" width=\"2182\" height=\"1440\"/>\n",
       "  </clipPath>\n",
       "</defs>\n",
       "<polyline clip-path=\"url(#clip722)\" style=\"stroke:#000000; stroke-linecap:round; stroke-linejoin:round; stroke-width:2; stroke-opacity:0.1; fill:none\" points=\"291.959,1486.45 291.959,47.2441 \"/>\n",
       "<polyline clip-path=\"url(#clip722)\" style=\"stroke:#000000; stroke-linecap:round; stroke-linejoin:round; stroke-width:2; stroke-opacity:0.1; fill:none\" points=\"777.172,1486.45 777.172,47.2441 \"/>\n",
       "<polyline clip-path=\"url(#clip722)\" style=\"stroke:#000000; stroke-linecap:round; stroke-linejoin:round; stroke-width:2; stroke-opacity:0.1; fill:none\" points=\"1262.39,1486.45 1262.39,47.2441 \"/>\n",
       "<polyline clip-path=\"url(#clip722)\" style=\"stroke:#000000; stroke-linecap:round; stroke-linejoin:round; stroke-width:2; stroke-opacity:0.1; fill:none\" points=\"1747.6,1486.45 1747.6,47.2441 \"/>\n",
       "<polyline clip-path=\"url(#clip722)\" style=\"stroke:#000000; stroke-linecap:round; stroke-linejoin:round; stroke-width:2; stroke-opacity:0.1; fill:none\" points=\"2232.81,1486.45 2232.81,47.2441 \"/>\n",
       "<polyline clip-path=\"url(#clip720)\" style=\"stroke:#000000; stroke-linecap:round; stroke-linejoin:round; stroke-width:4; stroke-opacity:1; fill:none\" points=\"172.015,1486.45 2352.76,1486.45 \"/>\n",
       "<polyline clip-path=\"url(#clip720)\" style=\"stroke:#000000; stroke-linecap:round; stroke-linejoin:round; stroke-width:4; stroke-opacity:1; fill:none\" points=\"291.959,1486.45 291.959,1467.55 \"/>\n",
       "<polyline clip-path=\"url(#clip720)\" style=\"stroke:#000000; stroke-linecap:round; stroke-linejoin:round; stroke-width:4; stroke-opacity:1; fill:none\" points=\"777.172,1486.45 777.172,1467.55 \"/>\n",
       "<polyline clip-path=\"url(#clip720)\" style=\"stroke:#000000; stroke-linecap:round; stroke-linejoin:round; stroke-width:4; stroke-opacity:1; fill:none\" points=\"1262.39,1486.45 1262.39,1467.55 \"/>\n",
       "<polyline clip-path=\"url(#clip720)\" style=\"stroke:#000000; stroke-linecap:round; stroke-linejoin:round; stroke-width:4; stroke-opacity:1; fill:none\" points=\"1747.6,1486.45 1747.6,1467.55 \"/>\n",
       "<polyline clip-path=\"url(#clip720)\" style=\"stroke:#000000; stroke-linecap:round; stroke-linejoin:round; stroke-width:4; stroke-opacity:1; fill:none\" points=\"2232.81,1486.45 2232.81,1467.55 \"/>\n",
       "<path clip-path=\"url(#clip720)\" d=\"M269.344 1517.37 Q265.733 1517.37 263.904 1520.93 Q262.099 1524.47 262.099 1531.6 Q262.099 1538.71 263.904 1542.27 Q265.733 1545.82 269.344 1545.82 Q272.978 1545.82 274.784 1542.27 Q276.612 1538.71 276.612 1531.6 Q276.612 1524.47 274.784 1520.93 Q272.978 1517.37 269.344 1517.37 M269.344 1513.66 Q275.154 1513.66 278.21 1518.27 Q281.288 1522.85 281.288 1531.6 Q281.288 1540.33 278.21 1544.94 Q275.154 1549.52 269.344 1549.52 Q263.534 1549.52 260.455 1544.94 Q257.399 1540.33 257.399 1531.6 Q257.399 1522.85 260.455 1518.27 Q263.534 1513.66 269.344 1513.66 Z\" fill=\"#000000\" fill-rule=\"evenodd\" fill-opacity=\"1\" /><path clip-path=\"url(#clip720)\" d=\"M289.506 1542.97 L294.39 1542.97 L294.39 1548.85 L289.506 1548.85 L289.506 1542.97 Z\" fill=\"#000000\" fill-rule=\"evenodd\" fill-opacity=\"1\" /><path clip-path=\"url(#clip720)\" d=\"M314.575 1517.37 Q310.964 1517.37 309.135 1520.93 Q307.33 1524.47 307.33 1531.6 Q307.33 1538.71 309.135 1542.27 Q310.964 1545.82 314.575 1545.82 Q318.209 1545.82 320.015 1542.27 Q321.844 1538.71 321.844 1531.6 Q321.844 1524.47 320.015 1520.93 Q318.209 1517.37 314.575 1517.37 M314.575 1513.66 Q320.385 1513.66 323.441 1518.27 Q326.519 1522.85 326.519 1531.6 Q326.519 1540.33 323.441 1544.94 Q320.385 1549.52 314.575 1549.52 Q308.765 1549.52 305.686 1544.94 Q302.631 1540.33 302.631 1531.6 Q302.631 1522.85 305.686 1518.27 Q308.765 1513.66 314.575 1513.66 Z\" fill=\"#000000\" fill-rule=\"evenodd\" fill-opacity=\"1\" /><path clip-path=\"url(#clip720)\" d=\"M755.054 1517.37 Q751.443 1517.37 749.615 1520.93 Q747.809 1524.47 747.809 1531.6 Q747.809 1538.71 749.615 1542.27 Q751.443 1545.82 755.054 1545.82 Q758.689 1545.82 760.494 1542.27 Q762.323 1538.71 762.323 1531.6 Q762.323 1524.47 760.494 1520.93 Q758.689 1517.37 755.054 1517.37 M755.054 1513.66 Q760.865 1513.66 763.92 1518.27 Q766.999 1522.85 766.999 1531.6 Q766.999 1540.33 763.92 1544.94 Q760.865 1549.52 755.054 1549.52 Q749.244 1549.52 746.166 1544.94 Q743.11 1540.33 743.11 1531.6 Q743.11 1522.85 746.166 1518.27 Q749.244 1513.66 755.054 1513.66 Z\" fill=\"#000000\" fill-rule=\"evenodd\" fill-opacity=\"1\" /><path clip-path=\"url(#clip720)\" d=\"M775.216 1542.97 L780.101 1542.97 L780.101 1548.85 L775.216 1548.85 L775.216 1542.97 Z\" fill=\"#000000\" fill-rule=\"evenodd\" fill-opacity=\"1\" /><path clip-path=\"url(#clip720)\" d=\"M790.332 1514.29 L808.688 1514.29 L808.688 1518.22 L794.614 1518.22 L794.614 1526.7 Q795.633 1526.35 796.651 1526.19 Q797.67 1526 798.688 1526 Q804.476 1526 807.855 1529.17 Q811.235 1532.34 811.235 1537.76 Q811.235 1543.34 807.763 1546.44 Q804.29 1549.52 797.971 1549.52 Q795.795 1549.52 793.526 1549.15 Q791.281 1548.78 788.874 1548.04 L788.874 1543.34 Q790.957 1544.47 793.179 1545.03 Q795.401 1545.58 797.878 1545.58 Q801.883 1545.58 804.221 1543.48 Q806.559 1541.37 806.559 1537.76 Q806.559 1534.15 804.221 1532.04 Q801.883 1529.94 797.878 1529.94 Q796.003 1529.94 794.128 1530.35 Q792.276 1530.77 790.332 1531.65 L790.332 1514.29 Z\" fill=\"#000000\" fill-rule=\"evenodd\" fill-opacity=\"1\" /><path clip-path=\"url(#clip720)\" d=\"M1229.54 1544.91 L1237.18 1544.91 L1237.18 1518.55 L1228.87 1520.21 L1228.87 1515.95 L1237.13 1514.29 L1241.81 1514.29 L1241.81 1544.91 L1249.45 1544.91 L1249.45 1548.85 L1229.54 1548.85 L1229.54 1544.91 Z\" fill=\"#000000\" fill-rule=\"evenodd\" fill-opacity=\"1\" /><path clip-path=\"url(#clip720)\" d=\"M1258.89 1542.97 L1263.77 1542.97 L1263.77 1548.85 L1258.89 1548.85 L1258.89 1542.97 Z\" fill=\"#000000\" fill-rule=\"evenodd\" fill-opacity=\"1\" /><path clip-path=\"url(#clip720)\" d=\"M1283.96 1517.37 Q1280.35 1517.37 1278.52 1520.93 Q1276.71 1524.47 1276.71 1531.6 Q1276.71 1538.71 1278.52 1542.27 Q1280.35 1545.82 1283.96 1545.82 Q1287.59 1545.82 1289.4 1542.27 Q1291.23 1538.71 1291.23 1531.6 Q1291.23 1524.47 1289.4 1520.93 Q1287.59 1517.37 1283.96 1517.37 M1283.96 1513.66 Q1289.77 1513.66 1292.83 1518.27 Q1295.9 1522.85 1295.9 1531.6 Q1295.9 1540.33 1292.83 1544.94 Q1289.77 1549.52 1283.96 1549.52 Q1278.15 1549.52 1275.07 1544.94 Q1272.01 1540.33 1272.01 1531.6 Q1272.01 1522.85 1275.07 1518.27 Q1278.15 1513.66 1283.96 1513.66 Z\" fill=\"#000000\" fill-rule=\"evenodd\" fill-opacity=\"1\" /><path clip-path=\"url(#clip720)\" d=\"M1715.25 1544.91 L1722.89 1544.91 L1722.89 1518.55 L1714.58 1520.21 L1714.58 1515.95 L1722.84 1514.29 L1727.52 1514.29 L1727.52 1544.91 L1735.16 1544.91 L1735.16 1548.85 L1715.25 1548.85 L1715.25 1544.91 Z\" fill=\"#000000\" fill-rule=\"evenodd\" fill-opacity=\"1\" /><path clip-path=\"url(#clip720)\" d=\"M1744.6 1542.97 L1749.48 1542.97 L1749.48 1548.85 L1744.6 1548.85 L1744.6 1542.97 Z\" fill=\"#000000\" fill-rule=\"evenodd\" fill-opacity=\"1\" /><path clip-path=\"url(#clip720)\" d=\"M1759.72 1514.29 L1778.07 1514.29 L1778.07 1518.22 L1764 1518.22 L1764 1526.7 Q1765.02 1526.35 1766.04 1526.19 Q1767.05 1526 1768.07 1526 Q1773.86 1526 1777.24 1529.17 Q1780.62 1532.34 1780.62 1537.76 Q1780.62 1543.34 1777.15 1546.44 Q1773.67 1549.52 1767.36 1549.52 Q1765.18 1549.52 1762.91 1549.15 Q1760.67 1548.78 1758.26 1548.04 L1758.26 1543.34 Q1760.34 1544.47 1762.56 1545.03 Q1764.79 1545.58 1767.26 1545.58 Q1771.27 1545.58 1773.61 1543.48 Q1775.94 1541.37 1775.94 1537.76 Q1775.94 1534.15 1773.61 1532.04 Q1771.27 1529.94 1767.26 1529.94 Q1765.39 1529.94 1763.51 1530.35 Q1761.66 1530.77 1759.72 1531.65 L1759.72 1514.29 Z\" fill=\"#000000\" fill-rule=\"evenodd\" fill-opacity=\"1\" /><path clip-path=\"url(#clip720)\" d=\"M2204.05 1544.91 L2220.37 1544.91 L2220.37 1548.85 L2198.42 1548.85 L2198.42 1544.91 Q2201.09 1542.16 2205.67 1537.53 Q2210.28 1532.88 2211.46 1531.53 Q2213.7 1529.01 2214.58 1527.27 Q2215.48 1525.51 2215.48 1523.82 Q2215.48 1521.07 2213.54 1519.33 Q2211.62 1517.6 2208.52 1517.6 Q2206.32 1517.6 2203.86 1518.36 Q2201.43 1519.13 2198.66 1520.68 L2198.66 1515.95 Q2201.48 1514.82 2203.93 1514.24 Q2206.39 1513.66 2208.42 1513.66 Q2213.8 1513.66 2216.99 1516.35 Q2220.18 1519.03 2220.18 1523.52 Q2220.18 1525.65 2219.37 1527.57 Q2218.59 1529.47 2216.48 1532.07 Q2215.9 1532.74 2212.8 1535.95 Q2209.7 1539.15 2204.05 1544.91 Z\" fill=\"#000000\" fill-rule=\"evenodd\" fill-opacity=\"1\" /><path clip-path=\"url(#clip720)\" d=\"M2230.18 1542.97 L2235.07 1542.97 L2235.07 1548.85 L2230.18 1548.85 L2230.18 1542.97 Z\" fill=\"#000000\" fill-rule=\"evenodd\" fill-opacity=\"1\" /><path clip-path=\"url(#clip720)\" d=\"M2255.25 1517.37 Q2251.64 1517.37 2249.81 1520.93 Q2248.01 1524.47 2248.01 1531.6 Q2248.01 1538.71 2249.81 1542.27 Q2251.64 1545.82 2255.25 1545.82 Q2258.89 1545.82 2260.69 1542.27 Q2262.52 1538.71 2262.52 1531.6 Q2262.52 1524.47 2260.69 1520.93 Q2258.89 1517.37 2255.25 1517.37 M2255.25 1513.66 Q2261.06 1513.66 2264.12 1518.27 Q2267.2 1522.85 2267.2 1531.6 Q2267.2 1540.33 2264.12 1544.94 Q2261.06 1549.52 2255.25 1549.52 Q2249.44 1549.52 2246.36 1544.94 Q2243.31 1540.33 2243.31 1531.6 Q2243.31 1522.85 2246.36 1518.27 Q2249.44 1513.66 2255.25 1513.66 Z\" fill=\"#000000\" fill-rule=\"evenodd\" fill-opacity=\"1\" /><polyline clip-path=\"url(#clip722)\" style=\"stroke:#000000; stroke-linecap:round; stroke-linejoin:round; stroke-width:2; stroke-opacity:0.1; fill:none\" points=\"172.015,1445.72 2352.76,1445.72 \"/>\n",
       "<polyline clip-path=\"url(#clip722)\" style=\"stroke:#000000; stroke-linecap:round; stroke-linejoin:round; stroke-width:2; stroke-opacity:0.1; fill:none\" points=\"172.015,1095.78 2352.76,1095.78 \"/>\n",
       "<polyline clip-path=\"url(#clip722)\" style=\"stroke:#000000; stroke-linecap:round; stroke-linejoin:round; stroke-width:2; stroke-opacity:0.1; fill:none\" points=\"172.015,745.85 2352.76,745.85 \"/>\n",
       "<polyline clip-path=\"url(#clip722)\" style=\"stroke:#000000; stroke-linecap:round; stroke-linejoin:round; stroke-width:2; stroke-opacity:0.1; fill:none\" points=\"172.015,395.917 2352.76,395.917 \"/>\n",
       "<polyline clip-path=\"url(#clip720)\" style=\"stroke:#000000; stroke-linecap:round; stroke-linejoin:round; stroke-width:4; stroke-opacity:1; fill:none\" points=\"172.015,1486.45 172.015,47.2441 \"/>\n",
       "<polyline clip-path=\"url(#clip720)\" style=\"stroke:#000000; stroke-linecap:round; stroke-linejoin:round; stroke-width:4; stroke-opacity:1; fill:none\" points=\"172.015,1445.72 190.912,1445.72 \"/>\n",
       "<polyline clip-path=\"url(#clip720)\" style=\"stroke:#000000; stroke-linecap:round; stroke-linejoin:round; stroke-width:4; stroke-opacity:1; fill:none\" points=\"172.015,1095.78 190.912,1095.78 \"/>\n",
       "<polyline clip-path=\"url(#clip720)\" style=\"stroke:#000000; stroke-linecap:round; stroke-linejoin:round; stroke-width:4; stroke-opacity:1; fill:none\" points=\"172.015,745.85 190.912,745.85 \"/>\n",
       "<polyline clip-path=\"url(#clip720)\" style=\"stroke:#000000; stroke-linecap:round; stroke-linejoin:round; stroke-width:4; stroke-opacity:1; fill:none\" points=\"172.015,395.917 190.912,395.917 \"/>\n",
       "<path clip-path=\"url(#clip720)\" d=\"M124.07 1431.51 Q120.459 1431.51 118.631 1435.08 Q116.825 1438.62 116.825 1445.75 Q116.825 1452.86 118.631 1456.42 Q120.459 1459.96 124.07 1459.96 Q127.705 1459.96 129.51 1456.42 Q131.339 1452.86 131.339 1445.75 Q131.339 1438.62 129.51 1435.08 Q127.705 1431.51 124.07 1431.51 M124.07 1427.81 Q129.881 1427.81 132.936 1432.42 Q136.015 1437 136.015 1445.75 Q136.015 1454.48 132.936 1459.08 Q129.881 1463.67 124.07 1463.67 Q118.26 1463.67 115.182 1459.08 Q112.126 1454.48 112.126 1445.75 Q112.126 1437 115.182 1432.42 Q118.26 1427.81 124.07 1427.81 Z\" fill=\"#000000\" fill-rule=\"evenodd\" fill-opacity=\"1\" /><path clip-path=\"url(#clip720)\" d=\"M57.7745 1109.13 L74.0939 1109.13 L74.0939 1113.06 L52.1495 1113.06 L52.1495 1109.13 Q54.8115 1106.37 59.3949 1101.74 Q64.0013 1097.09 65.1819 1095.75 Q67.4272 1093.22 68.3068 1091.49 Q69.2096 1089.73 69.2096 1088.04 Q69.2096 1085.29 67.2652 1083.55 Q65.3439 1081.81 62.2421 1081.81 Q60.043 1081.81 57.5893 1082.58 Q55.1588 1083.34 52.381 1084.89 L52.381 1080.17 Q55.2051 1079.04 57.6588 1078.46 Q60.1124 1077.88 62.1495 1077.88 Q67.5198 1077.88 70.7142 1080.56 Q73.9087 1083.25 73.9087 1087.74 Q73.9087 1089.87 73.0985 1091.79 Q72.3115 1093.69 70.205 1096.28 Q69.6263 1096.95 66.5245 1100.17 Q63.4226 1103.36 57.7745 1109.13 Z\" fill=\"#000000\" fill-rule=\"evenodd\" fill-opacity=\"1\" /><path clip-path=\"url(#clip720)\" d=\"M93.9086 1081.58 Q90.2975 1081.58 88.4688 1085.15 Q86.6632 1088.69 86.6632 1095.82 Q86.6632 1102.92 88.4688 1106.49 Q90.2975 1110.03 93.9086 1110.03 Q97.5428 1110.03 99.3483 1106.49 Q101.177 1102.92 101.177 1095.82 Q101.177 1088.69 99.3483 1085.15 Q97.5428 1081.58 93.9086 1081.58 M93.9086 1077.88 Q99.7187 1077.88 102.774 1082.48 Q105.853 1087.07 105.853 1095.82 Q105.853 1104.54 102.774 1109.15 Q99.7187 1113.73 93.9086 1113.73 Q88.0984 1113.73 85.0197 1109.15 Q81.9642 1104.54 81.9642 1095.82 Q81.9642 1087.07 85.0197 1082.48 Q88.0984 1077.88 93.9086 1077.88 Z\" fill=\"#000000\" fill-rule=\"evenodd\" fill-opacity=\"1\" /><path clip-path=\"url(#clip720)\" d=\"M124.07 1081.58 Q120.459 1081.58 118.631 1085.15 Q116.825 1088.69 116.825 1095.82 Q116.825 1102.92 118.631 1106.49 Q120.459 1110.03 124.07 1110.03 Q127.705 1110.03 129.51 1106.49 Q131.339 1102.92 131.339 1095.82 Q131.339 1088.69 129.51 1085.15 Q127.705 1081.58 124.07 1081.58 M124.07 1077.88 Q129.881 1077.88 132.936 1082.48 Q136.015 1087.07 136.015 1095.82 Q136.015 1104.54 132.936 1109.15 Q129.881 1113.73 124.07 1113.73 Q118.26 1113.73 115.182 1109.15 Q112.126 1104.54 112.126 1095.82 Q112.126 1087.07 115.182 1082.48 Q118.26 1077.88 124.07 1077.88 Z\" fill=\"#000000\" fill-rule=\"evenodd\" fill-opacity=\"1\" /><path clip-path=\"url(#clip720)\" d=\"M66.5939 732.644 L54.7884 751.093 L66.5939 751.093 L66.5939 732.644 M65.367 728.57 L71.2466 728.57 L71.2466 751.093 L76.1772 751.093 L76.1772 754.982 L71.2466 754.982 L71.2466 763.13 L66.5939 763.13 L66.5939 754.982 L50.9921 754.982 L50.9921 750.468 L65.367 728.57 Z\" fill=\"#000000\" fill-rule=\"evenodd\" fill-opacity=\"1\" /><path clip-path=\"url(#clip720)\" d=\"M93.9086 731.649 Q90.2975 731.649 88.4688 735.213 Q86.6632 738.755 86.6632 745.885 Q86.6632 752.991 88.4688 756.556 Q90.2975 760.098 93.9086 760.098 Q97.5428 760.098 99.3483 756.556 Q101.177 752.991 101.177 745.885 Q101.177 738.755 99.3483 735.213 Q97.5428 731.649 93.9086 731.649 M93.9086 727.945 Q99.7187 727.945 102.774 732.551 Q105.853 737.135 105.853 745.885 Q105.853 754.612 102.774 759.218 Q99.7187 763.801 93.9086 763.801 Q88.0984 763.801 85.0197 759.218 Q81.9642 754.612 81.9642 745.885 Q81.9642 737.135 85.0197 732.551 Q88.0984 727.945 93.9086 727.945 Z\" fill=\"#000000\" fill-rule=\"evenodd\" fill-opacity=\"1\" /><path clip-path=\"url(#clip720)\" d=\"M124.07 731.649 Q120.459 731.649 118.631 735.213 Q116.825 738.755 116.825 745.885 Q116.825 752.991 118.631 756.556 Q120.459 760.098 124.07 760.098 Q127.705 760.098 129.51 756.556 Q131.339 752.991 131.339 745.885 Q131.339 738.755 129.51 735.213 Q127.705 731.649 124.07 731.649 M124.07 727.945 Q129.881 727.945 132.936 732.551 Q136.015 737.135 136.015 745.885 Q136.015 754.612 132.936 759.218 Q129.881 763.801 124.07 763.801 Q118.26 763.801 115.182 759.218 Q112.126 754.612 112.126 745.885 Q112.126 737.135 115.182 732.551 Q118.26 727.945 124.07 727.945 Z\" fill=\"#000000\" fill-rule=\"evenodd\" fill-opacity=\"1\" /><path clip-path=\"url(#clip720)\" d=\"M64.3254 394.054 Q61.1773 394.054 59.3254 396.207 Q57.4967 398.359 57.4967 402.109 Q57.4967 405.836 59.3254 408.012 Q61.1773 410.165 64.3254 410.165 Q67.4735 410.165 69.3022 408.012 Q71.1541 405.836 71.1541 402.109 Q71.1541 398.359 69.3022 396.207 Q67.4735 394.054 64.3254 394.054 M73.6077 379.401 L73.6077 383.66 Q71.8485 382.827 70.0429 382.387 Q68.2606 381.947 66.5013 381.947 Q61.8717 381.947 59.418 385.072 Q56.9875 388.197 56.6402 394.517 Q58.006 392.503 60.0662 391.438 Q62.1263 390.35 64.6032 390.35 Q69.8115 390.35 72.8207 393.521 Q75.8531 396.669 75.8531 402.109 Q75.8531 407.433 72.705 410.651 Q69.5568 413.868 64.3254 413.868 Q58.33 413.868 55.1588 409.285 Q51.9875 404.679 51.9875 395.952 Q51.9875 387.757 55.8764 382.896 Q59.7652 378.012 66.3161 378.012 Q68.0754 378.012 69.8578 378.359 Q71.6633 378.707 73.6077 379.401 Z\" fill=\"#000000\" fill-rule=\"evenodd\" fill-opacity=\"1\" /><path clip-path=\"url(#clip720)\" d=\"M93.9086 381.716 Q90.2975 381.716 88.4688 385.281 Q86.6632 388.822 86.6632 395.952 Q86.6632 403.058 88.4688 406.623 Q90.2975 410.165 93.9086 410.165 Q97.5428 410.165 99.3483 406.623 Q101.177 403.058 101.177 395.952 Q101.177 388.822 99.3483 385.281 Q97.5428 381.716 93.9086 381.716 M93.9086 378.012 Q99.7187 378.012 102.774 382.619 Q105.853 387.202 105.853 395.952 Q105.853 404.679 102.774 409.285 Q99.7187 413.868 93.9086 413.868 Q88.0984 413.868 85.0197 409.285 Q81.9642 404.679 81.9642 395.952 Q81.9642 387.202 85.0197 382.619 Q88.0984 378.012 93.9086 378.012 Z\" fill=\"#000000\" fill-rule=\"evenodd\" fill-opacity=\"1\" /><path clip-path=\"url(#clip720)\" d=\"M124.07 381.716 Q120.459 381.716 118.631 385.281 Q116.825 388.822 116.825 395.952 Q116.825 403.058 118.631 406.623 Q120.459 410.165 124.07 410.165 Q127.705 410.165 129.51 406.623 Q131.339 403.058 131.339 395.952 Q131.339 388.822 129.51 385.281 Q127.705 381.716 124.07 381.716 M124.07 378.012 Q129.881 378.012 132.936 382.619 Q136.015 387.202 136.015 395.952 Q136.015 404.679 132.936 409.285 Q129.881 413.868 124.07 413.868 Q118.26 413.868 115.182 409.285 Q112.126 404.679 112.126 395.952 Q112.126 387.202 115.182 382.619 Q118.26 378.012 124.07 378.012 Z\" fill=\"#000000\" fill-rule=\"evenodd\" fill-opacity=\"1\" /><path clip-path=\"url(#clip722)\" d=\"M291.959 1403.72 L291.959 1445.72 L340.481 1445.72 L340.481 1403.72 L291.959 1403.72 L291.959 1403.72  Z\" fill=\"#009af9\" fill-rule=\"evenodd\" fill-opacity=\"1\"/>\n",
       "<polyline clip-path=\"url(#clip722)\" style=\"stroke:#000000; stroke-linecap:round; stroke-linejoin:round; stroke-width:4; stroke-opacity:1; fill:none\" points=\"291.959,1403.72 291.959,1445.72 340.481,1445.72 340.481,1403.72 291.959,1403.72 \"/>\n",
       "<path clip-path=\"url(#clip722)\" d=\"M340.481 1401.97 L340.481 1445.72 L389.002 1445.72 L389.002 1401.97 L340.481 1401.97 L340.481 1401.97  Z\" fill=\"#009af9\" fill-rule=\"evenodd\" fill-opacity=\"1\"/>\n",
       "<polyline clip-path=\"url(#clip722)\" style=\"stroke:#000000; stroke-linecap:round; stroke-linejoin:round; stroke-width:4; stroke-opacity:1; fill:none\" points=\"340.481,1401.97 340.481,1445.72 389.002,1445.72 389.002,1401.97 340.481,1401.97 \"/>\n",
       "<path clip-path=\"url(#clip722)\" d=\"M389.002 1394.98 L389.002 1445.72 L437.523 1445.72 L437.523 1394.98 L389.002 1394.98 L389.002 1394.98  Z\" fill=\"#009af9\" fill-rule=\"evenodd\" fill-opacity=\"1\"/>\n",
       "<polyline clip-path=\"url(#clip722)\" style=\"stroke:#000000; stroke-linecap:round; stroke-linejoin:round; stroke-width:4; stroke-opacity:1; fill:none\" points=\"389.002,1394.98 389.002,1445.72 437.523,1445.72 437.523,1394.98 389.002,1394.98 \"/>\n",
       "<path clip-path=\"url(#clip722)\" d=\"M437.523 1400.22 L437.523 1445.72 L486.045 1445.72 L486.045 1400.22 L437.523 1400.22 L437.523 1400.22  Z\" fill=\"#009af9\" fill-rule=\"evenodd\" fill-opacity=\"1\"/>\n",
       "<polyline clip-path=\"url(#clip722)\" style=\"stroke:#000000; stroke-linecap:round; stroke-linejoin:round; stroke-width:4; stroke-opacity:1; fill:none\" points=\"437.523,1400.22 437.523,1445.72 486.045,1445.72 486.045,1400.22 437.523,1400.22 \"/>\n",
       "<path clip-path=\"url(#clip722)\" d=\"M486.045 1384.48 L486.045 1445.72 L534.566 1445.72 L534.566 1384.48 L486.045 1384.48 L486.045 1384.48  Z\" fill=\"#009af9\" fill-rule=\"evenodd\" fill-opacity=\"1\"/>\n",
       "<polyline clip-path=\"url(#clip722)\" style=\"stroke:#000000; stroke-linecap:round; stroke-linejoin:round; stroke-width:4; stroke-opacity:1; fill:none\" points=\"486.045,1384.48 486.045,1445.72 534.566,1445.72 534.566,1384.48 486.045,1384.48 \"/>\n",
       "<path clip-path=\"url(#clip722)\" d=\"M534.566 1403.72 L534.566 1445.72 L583.087 1445.72 L583.087 1403.72 L534.566 1403.72 L534.566 1403.72  Z\" fill=\"#009af9\" fill-rule=\"evenodd\" fill-opacity=\"1\"/>\n",
       "<polyline clip-path=\"url(#clip722)\" style=\"stroke:#000000; stroke-linecap:round; stroke-linejoin:round; stroke-width:4; stroke-opacity:1; fill:none\" points=\"534.566,1403.72 534.566,1445.72 583.087,1445.72 583.087,1403.72 534.566,1403.72 \"/>\n",
       "<path clip-path=\"url(#clip722)\" d=\"M583.087 1422.97 L583.087 1445.72 L631.609 1445.72 L631.609 1422.97 L583.087 1422.97 L583.087 1422.97  Z\" fill=\"#009af9\" fill-rule=\"evenodd\" fill-opacity=\"1\"/>\n",
       "<polyline clip-path=\"url(#clip722)\" style=\"stroke:#000000; stroke-linecap:round; stroke-linejoin:round; stroke-width:4; stroke-opacity:1; fill:none\" points=\"583.087,1422.97 583.087,1445.72 631.609,1445.72 631.609,1422.97 583.087,1422.97 \"/>\n",
       "<path clip-path=\"url(#clip722)\" d=\"M631.609 1410.72 L631.609 1445.72 L680.13 1445.72 L680.13 1410.72 L631.609 1410.72 L631.609 1410.72  Z\" fill=\"#009af9\" fill-rule=\"evenodd\" fill-opacity=\"1\"/>\n",
       "<polyline clip-path=\"url(#clip722)\" style=\"stroke:#000000; stroke-linecap:round; stroke-linejoin:round; stroke-width:4; stroke-opacity:1; fill:none\" points=\"631.609,1410.72 631.609,1445.72 680.13,1445.72 680.13,1410.72 631.609,1410.72 \"/>\n",
       "<path clip-path=\"url(#clip722)\" d=\"M680.13 1403.72 L680.13 1445.72 L728.651 1445.72 L728.651 1403.72 L680.13 1403.72 L680.13 1403.72  Z\" fill=\"#009af9\" fill-rule=\"evenodd\" fill-opacity=\"1\"/>\n",
       "<polyline clip-path=\"url(#clip722)\" style=\"stroke:#000000; stroke-linecap:round; stroke-linejoin:round; stroke-width:4; stroke-opacity:1; fill:none\" points=\"680.13,1403.72 680.13,1445.72 728.651,1445.72 728.651,1403.72 680.13,1403.72 \"/>\n",
       "<path clip-path=\"url(#clip722)\" d=\"M728.651 1422.97 L728.651 1445.72 L777.172 1445.72 L777.172 1422.97 L728.651 1422.97 L728.651 1422.97  Z\" fill=\"#009af9\" fill-rule=\"evenodd\" fill-opacity=\"1\"/>\n",
       "<polyline clip-path=\"url(#clip722)\" style=\"stroke:#000000; stroke-linecap:round; stroke-linejoin:round; stroke-width:4; stroke-opacity:1; fill:none\" points=\"728.651,1422.97 728.651,1445.72 777.172,1445.72 777.172,1422.97 728.651,1422.97 \"/>\n",
       "<path clip-path=\"url(#clip722)\" d=\"M777.172 1400.22 L777.172 1445.72 L825.694 1445.72 L825.694 1400.22 L777.172 1400.22 L777.172 1400.22  Z\" fill=\"#009af9\" fill-rule=\"evenodd\" fill-opacity=\"1\"/>\n",
       "<polyline clip-path=\"url(#clip722)\" style=\"stroke:#000000; stroke-linecap:round; stroke-linejoin:round; stroke-width:4; stroke-opacity:1; fill:none\" points=\"777.172,1400.22 777.172,1445.72 825.694,1445.72 825.694,1400.22 777.172,1400.22 \"/>\n",
       "<path clip-path=\"url(#clip722)\" d=\"M825.694 1422.97 L825.694 1445.72 L874.215 1445.72 L874.215 1422.97 L825.694 1422.97 L825.694 1422.97  Z\" fill=\"#009af9\" fill-rule=\"evenodd\" fill-opacity=\"1\"/>\n",
       "<polyline clip-path=\"url(#clip722)\" style=\"stroke:#000000; stroke-linecap:round; stroke-linejoin:round; stroke-width:4; stroke-opacity:1; fill:none\" points=\"825.694,1422.97 825.694,1445.72 874.215,1445.72 874.215,1422.97 825.694,1422.97 \"/>\n",
       "<path clip-path=\"url(#clip722)\" d=\"M874.215 1431.72 L874.215 1445.72 L922.736 1445.72 L922.736 1431.72 L874.215 1431.72 L874.215 1431.72  Z\" fill=\"#009af9\" fill-rule=\"evenodd\" fill-opacity=\"1\"/>\n",
       "<polyline clip-path=\"url(#clip722)\" style=\"stroke:#000000; stroke-linecap:round; stroke-linejoin:round; stroke-width:4; stroke-opacity:1; fill:none\" points=\"874.215,1431.72 874.215,1445.72 922.736,1445.72 922.736,1431.72 874.215,1431.72 \"/>\n",
       "<path clip-path=\"url(#clip722)\" d=\"M922.736 1412.47 L922.736 1445.72 L971.258 1445.72 L971.258 1412.47 L922.736 1412.47 L922.736 1412.47  Z\" fill=\"#009af9\" fill-rule=\"evenodd\" fill-opacity=\"1\"/>\n",
       "<polyline clip-path=\"url(#clip722)\" style=\"stroke:#000000; stroke-linecap:round; stroke-linejoin:round; stroke-width:4; stroke-opacity:1; fill:none\" points=\"922.736,1412.47 922.736,1445.72 971.258,1445.72 971.258,1412.47 922.736,1412.47 \"/>\n",
       "<path clip-path=\"url(#clip722)\" d=\"M971.258 1387.98 L971.258 1445.72 L1019.78 1445.72 L1019.78 1387.98 L971.258 1387.98 L971.258 1387.98  Z\" fill=\"#009af9\" fill-rule=\"evenodd\" fill-opacity=\"1\"/>\n",
       "<polyline clip-path=\"url(#clip722)\" style=\"stroke:#000000; stroke-linecap:round; stroke-linejoin:round; stroke-width:4; stroke-opacity:1; fill:none\" points=\"971.258,1387.98 971.258,1445.72 1019.78,1445.72 1019.78,1387.98 971.258,1387.98 \"/>\n",
       "<path clip-path=\"url(#clip722)\" d=\"M1019.78 1419.47 L1019.78 1445.72 L1068.3 1445.72 L1068.3 1419.47 L1019.78 1419.47 L1019.78 1419.47  Z\" fill=\"#009af9\" fill-rule=\"evenodd\" fill-opacity=\"1\"/>\n",
       "<polyline clip-path=\"url(#clip722)\" style=\"stroke:#000000; stroke-linecap:round; stroke-linejoin:round; stroke-width:4; stroke-opacity:1; fill:none\" points=\"1019.78,1419.47 1019.78,1445.72 1068.3,1445.72 1068.3,1419.47 1019.78,1419.47 \"/>\n",
       "<path clip-path=\"url(#clip722)\" d=\"M1068.3 1419.47 L1068.3 1445.72 L1116.82 1445.72 L1116.82 1419.47 L1068.3 1419.47 L1068.3 1419.47  Z\" fill=\"#009af9\" fill-rule=\"evenodd\" fill-opacity=\"1\"/>\n",
       "<polyline clip-path=\"url(#clip722)\" style=\"stroke:#000000; stroke-linecap:round; stroke-linejoin:round; stroke-width:4; stroke-opacity:1; fill:none\" points=\"1068.3,1419.47 1068.3,1445.72 1116.82,1445.72 1116.82,1419.47 1068.3,1419.47 \"/>\n",
       "<path clip-path=\"url(#clip722)\" d=\"M1116.82 1415.97 L1116.82 1445.72 L1165.34 1445.72 L1165.34 1415.97 L1116.82 1415.97 L1116.82 1415.97  Z\" fill=\"#009af9\" fill-rule=\"evenodd\" fill-opacity=\"1\"/>\n",
       "<polyline clip-path=\"url(#clip722)\" style=\"stroke:#000000; stroke-linecap:round; stroke-linejoin:round; stroke-width:4; stroke-opacity:1; fill:none\" points=\"1116.82,1415.97 1116.82,1445.72 1165.34,1445.72 1165.34,1415.97 1116.82,1415.97 \"/>\n",
       "<path clip-path=\"url(#clip722)\" d=\"M1165.34 1424.72 L1165.34 1445.72 L1213.86 1445.72 L1213.86 1424.72 L1165.34 1424.72 L1165.34 1424.72  Z\" fill=\"#009af9\" fill-rule=\"evenodd\" fill-opacity=\"1\"/>\n",
       "<polyline clip-path=\"url(#clip722)\" style=\"stroke:#000000; stroke-linecap:round; stroke-linejoin:round; stroke-width:4; stroke-opacity:1; fill:none\" points=\"1165.34,1424.72 1165.34,1445.72 1213.86,1445.72 1213.86,1424.72 1165.34,1424.72 \"/>\n",
       "<path clip-path=\"url(#clip722)\" d=\"M1213.86 1419.47 L1213.86 1445.72 L1262.39 1445.72 L1262.39 1419.47 L1213.86 1419.47 L1213.86 1419.47  Z\" fill=\"#009af9\" fill-rule=\"evenodd\" fill-opacity=\"1\"/>\n",
       "<polyline clip-path=\"url(#clip722)\" style=\"stroke:#000000; stroke-linecap:round; stroke-linejoin:round; stroke-width:4; stroke-opacity:1; fill:none\" points=\"1213.86,1419.47 1213.86,1445.72 1262.39,1445.72 1262.39,1419.47 1213.86,1419.47 \"/>\n",
       "<path clip-path=\"url(#clip722)\" d=\"M1262.39 87.9763 L1262.39 1445.72 L1310.91 1445.72 L1310.91 87.9763 L1262.39 87.9763 L1262.39 87.9763  Z\" fill=\"#009af9\" fill-rule=\"evenodd\" fill-opacity=\"1\"/>\n",
       "<polyline clip-path=\"url(#clip722)\" style=\"stroke:#000000; stroke-linecap:round; stroke-linejoin:round; stroke-width:4; stroke-opacity:1; fill:none\" points=\"1262.39,87.9763 1262.39,1445.72 1310.91,1445.72 1310.91,87.9763 1262.39,87.9763 \"/>\n",
       "<path clip-path=\"url(#clip722)\" d=\"M1310.91 1380.98 L1310.91 1445.72 L1359.43 1445.72 L1359.43 1380.98 L1310.91 1380.98 L1310.91 1380.98  Z\" fill=\"#009af9\" fill-rule=\"evenodd\" fill-opacity=\"1\"/>\n",
       "<polyline clip-path=\"url(#clip722)\" style=\"stroke:#000000; stroke-linecap:round; stroke-linejoin:round; stroke-width:4; stroke-opacity:1; fill:none\" points=\"1310.91,1380.98 1310.91,1445.72 1359.43,1445.72 1359.43,1380.98 1310.91,1380.98 \"/>\n",
       "<path clip-path=\"url(#clip722)\" d=\"M1359.43 1412.47 L1359.43 1445.72 L1407.95 1445.72 L1407.95 1412.47 L1359.43 1412.47 L1359.43 1412.47  Z\" fill=\"#009af9\" fill-rule=\"evenodd\" fill-opacity=\"1\"/>\n",
       "<polyline clip-path=\"url(#clip722)\" style=\"stroke:#000000; stroke-linecap:round; stroke-linejoin:round; stroke-width:4; stroke-opacity:1; fill:none\" points=\"1359.43,1412.47 1359.43,1445.72 1407.95,1445.72 1407.95,1412.47 1359.43,1412.47 \"/>\n",
       "<path clip-path=\"url(#clip722)\" d=\"M1407.95 1422.97 L1407.95 1445.72 L1456.47 1445.72 L1456.47 1422.97 L1407.95 1422.97 L1407.95 1422.97  Z\" fill=\"#009af9\" fill-rule=\"evenodd\" fill-opacity=\"1\"/>\n",
       "<polyline clip-path=\"url(#clip722)\" style=\"stroke:#000000; stroke-linecap:round; stroke-linejoin:round; stroke-width:4; stroke-opacity:1; fill:none\" points=\"1407.95,1422.97 1407.95,1445.72 1456.47,1445.72 1456.47,1422.97 1407.95,1422.97 \"/>\n",
       "<path clip-path=\"url(#clip722)\" d=\"M1456.47 1393.23 L1456.47 1445.72 L1504.99 1445.72 L1504.99 1393.23 L1456.47 1393.23 L1456.47 1393.23  Z\" fill=\"#009af9\" fill-rule=\"evenodd\" fill-opacity=\"1\"/>\n",
       "<polyline clip-path=\"url(#clip722)\" style=\"stroke:#000000; stroke-linecap:round; stroke-linejoin:round; stroke-width:4; stroke-opacity:1; fill:none\" points=\"1456.47,1393.23 1456.47,1445.72 1504.99,1445.72 1504.99,1393.23 1456.47,1393.23 \"/>\n",
       "<path clip-path=\"url(#clip722)\" d=\"M1504.99 1407.22 L1504.99 1445.72 L1553.51 1445.72 L1553.51 1407.22 L1504.99 1407.22 L1504.99 1407.22  Z\" fill=\"#009af9\" fill-rule=\"evenodd\" fill-opacity=\"1\"/>\n",
       "<polyline clip-path=\"url(#clip722)\" style=\"stroke:#000000; stroke-linecap:round; stroke-linejoin:round; stroke-width:4; stroke-opacity:1; fill:none\" points=\"1504.99,1407.22 1504.99,1445.72 1553.51,1445.72 1553.51,1407.22 1504.99,1407.22 \"/>\n",
       "<path clip-path=\"url(#clip722)\" d=\"M1553.51 1412.47 L1553.51 1445.72 L1602.03 1445.72 L1602.03 1412.47 L1553.51 1412.47 L1553.51 1412.47  Z\" fill=\"#009af9\" fill-rule=\"evenodd\" fill-opacity=\"1\"/>\n",
       "<polyline clip-path=\"url(#clip722)\" style=\"stroke:#000000; stroke-linecap:round; stroke-linejoin:round; stroke-width:4; stroke-opacity:1; fill:none\" points=\"1553.51,1412.47 1553.51,1445.72 1602.03,1445.72 1602.03,1412.47 1553.51,1412.47 \"/>\n",
       "<path clip-path=\"url(#clip722)\" d=\"M1602.03 1414.22 L1602.03 1445.72 L1650.56 1445.72 L1650.56 1414.22 L1602.03 1414.22 L1602.03 1414.22  Z\" fill=\"#009af9\" fill-rule=\"evenodd\" fill-opacity=\"1\"/>\n",
       "<polyline clip-path=\"url(#clip722)\" style=\"stroke:#000000; stroke-linecap:round; stroke-linejoin:round; stroke-width:4; stroke-opacity:1; fill:none\" points=\"1602.03,1414.22 1602.03,1445.72 1650.56,1445.72 1650.56,1414.22 1602.03,1414.22 \"/>\n",
       "<path clip-path=\"url(#clip722)\" d=\"M1650.56 1410.72 L1650.56 1445.72 L1699.08 1445.72 L1699.08 1410.72 L1650.56 1410.72 L1650.56 1410.72  Z\" fill=\"#009af9\" fill-rule=\"evenodd\" fill-opacity=\"1\"/>\n",
       "<polyline clip-path=\"url(#clip722)\" style=\"stroke:#000000; stroke-linecap:round; stroke-linejoin:round; stroke-width:4; stroke-opacity:1; fill:none\" points=\"1650.56,1410.72 1650.56,1445.72 1699.08,1445.72 1699.08,1410.72 1650.56,1410.72 \"/>\n",
       "<path clip-path=\"url(#clip722)\" d=\"M1699.08 1377.48 L1699.08 1445.72 L1747.6 1445.72 L1747.6 1377.48 L1699.08 1377.48 L1699.08 1377.48  Z\" fill=\"#009af9\" fill-rule=\"evenodd\" fill-opacity=\"1\"/>\n",
       "<polyline clip-path=\"url(#clip722)\" style=\"stroke:#000000; stroke-linecap:round; stroke-linejoin:round; stroke-width:4; stroke-opacity:1; fill:none\" points=\"1699.08,1377.48 1699.08,1445.72 1747.6,1445.72 1747.6,1377.48 1699.08,1377.48 \"/>\n",
       "<path clip-path=\"url(#clip722)\" d=\"M1747.6 1405.47 L1747.6 1445.72 L1796.12 1445.72 L1796.12 1405.47 L1747.6 1405.47 L1747.6 1405.47  Z\" fill=\"#009af9\" fill-rule=\"evenodd\" fill-opacity=\"1\"/>\n",
       "<polyline clip-path=\"url(#clip722)\" style=\"stroke:#000000; stroke-linecap:round; stroke-linejoin:round; stroke-width:4; stroke-opacity:1; fill:none\" points=\"1747.6,1405.47 1747.6,1445.72 1796.12,1445.72 1796.12,1405.47 1747.6,1405.47 \"/>\n",
       "<path clip-path=\"url(#clip722)\" d=\"M1796.12 1401.97 L1796.12 1445.72 L1844.64 1445.72 L1844.64 1401.97 L1796.12 1401.97 L1796.12 1401.97  Z\" fill=\"#009af9\" fill-rule=\"evenodd\" fill-opacity=\"1\"/>\n",
       "<polyline clip-path=\"url(#clip722)\" style=\"stroke:#000000; stroke-linecap:round; stroke-linejoin:round; stroke-width:4; stroke-opacity:1; fill:none\" points=\"1796.12,1401.97 1796.12,1445.72 1844.64,1445.72 1844.64,1401.97 1796.12,1401.97 \"/>\n",
       "<path clip-path=\"url(#clip722)\" d=\"M1844.64 1386.23 L1844.64 1445.72 L1893.16 1445.72 L1893.16 1386.23 L1844.64 1386.23 L1844.64 1386.23  Z\" fill=\"#009af9\" fill-rule=\"evenodd\" fill-opacity=\"1\"/>\n",
       "<polyline clip-path=\"url(#clip722)\" style=\"stroke:#000000; stroke-linecap:round; stroke-linejoin:round; stroke-width:4; stroke-opacity:1; fill:none\" points=\"1844.64,1386.23 1844.64,1445.72 1893.16,1445.72 1893.16,1386.23 1844.64,1386.23 \"/>\n",
       "<path clip-path=\"url(#clip722)\" d=\"M1893.16 1408.97 L1893.16 1445.72 L1941.68 1445.72 L1941.68 1408.97 L1893.16 1408.97 L1893.16 1408.97  Z\" fill=\"#009af9\" fill-rule=\"evenodd\" fill-opacity=\"1\"/>\n",
       "<polyline clip-path=\"url(#clip722)\" style=\"stroke:#000000; stroke-linecap:round; stroke-linejoin:round; stroke-width:4; stroke-opacity:1; fill:none\" points=\"1893.16,1408.97 1893.16,1445.72 1941.68,1445.72 1941.68,1408.97 1893.16,1408.97 \"/>\n",
       "<path clip-path=\"url(#clip722)\" d=\"M1941.68 1429.97 L1941.68 1445.72 L1990.2 1445.72 L1990.2 1429.97 L1941.68 1429.97 L1941.68 1429.97  Z\" fill=\"#009af9\" fill-rule=\"evenodd\" fill-opacity=\"1\"/>\n",
       "<polyline clip-path=\"url(#clip722)\" style=\"stroke:#000000; stroke-linecap:round; stroke-linejoin:round; stroke-width:4; stroke-opacity:1; fill:none\" points=\"1941.68,1429.97 1941.68,1445.72 1990.2,1445.72 1990.2,1429.97 1941.68,1429.97 \"/>\n",
       "<path clip-path=\"url(#clip722)\" d=\"M1990.2 1384.48 L1990.2 1445.72 L2038.73 1445.72 L2038.73 1384.48 L1990.2 1384.48 L1990.2 1384.48  Z\" fill=\"#009af9\" fill-rule=\"evenodd\" fill-opacity=\"1\"/>\n",
       "<polyline clip-path=\"url(#clip722)\" style=\"stroke:#000000; stroke-linecap:round; stroke-linejoin:round; stroke-width:4; stroke-opacity:1; fill:none\" points=\"1990.2,1384.48 1990.2,1445.72 2038.73,1445.72 2038.73,1384.48 1990.2,1384.48 \"/>\n",
       "<path clip-path=\"url(#clip722)\" d=\"M2038.73 1410.72 L2038.73 1445.72 L2087.25 1445.72 L2087.25 1410.72 L2038.73 1410.72 L2038.73 1410.72  Z\" fill=\"#009af9\" fill-rule=\"evenodd\" fill-opacity=\"1\"/>\n",
       "<polyline clip-path=\"url(#clip722)\" style=\"stroke:#000000; stroke-linecap:round; stroke-linejoin:round; stroke-width:4; stroke-opacity:1; fill:none\" points=\"2038.73,1410.72 2038.73,1445.72 2087.25,1445.72 2087.25,1410.72 2038.73,1410.72 \"/>\n",
       "<path clip-path=\"url(#clip722)\" d=\"M2087.25 1356.48 L2087.25 1445.72 L2135.77 1445.72 L2135.77 1356.48 L2087.25 1356.48 L2087.25 1356.48  Z\" fill=\"#009af9\" fill-rule=\"evenodd\" fill-opacity=\"1\"/>\n",
       "<polyline clip-path=\"url(#clip722)\" style=\"stroke:#000000; stroke-linecap:round; stroke-linejoin:round; stroke-width:4; stroke-opacity:1; fill:none\" points=\"2087.25,1356.48 2087.25,1445.72 2135.77,1445.72 2135.77,1356.48 2087.25,1356.48 \"/>\n",
       "<path clip-path=\"url(#clip722)\" d=\"M2135.77 1400.22 L2135.77 1445.72 L2184.29 1445.72 L2184.29 1400.22 L2135.77 1400.22 L2135.77 1400.22  Z\" fill=\"#009af9\" fill-rule=\"evenodd\" fill-opacity=\"1\"/>\n",
       "<polyline clip-path=\"url(#clip722)\" style=\"stroke:#000000; stroke-linecap:round; stroke-linejoin:round; stroke-width:4; stroke-opacity:1; fill:none\" points=\"2135.77,1400.22 2135.77,1445.72 2184.29,1445.72 2184.29,1400.22 2135.77,1400.22 \"/>\n",
       "<path clip-path=\"url(#clip722)\" d=\"M2184.29 1415.97 L2184.29 1445.72 L2232.81 1445.72 L2232.81 1415.97 L2184.29 1415.97 L2184.29 1415.97  Z\" fill=\"#009af9\" fill-rule=\"evenodd\" fill-opacity=\"1\"/>\n",
       "<polyline clip-path=\"url(#clip722)\" style=\"stroke:#000000; stroke-linecap:round; stroke-linejoin:round; stroke-width:4; stroke-opacity:1; fill:none\" points=\"2184.29,1415.97 2184.29,1445.72 2232.81,1445.72 2232.81,1415.97 2184.29,1415.97 \"/>\n",
       "<circle clip-path=\"url(#clip722)\" style=\"fill:#009af9; stroke:none; fill-opacity:0\" cx=\"316.22\" cy=\"1403.72\" r=\"2\"/>\n",
       "<circle clip-path=\"url(#clip722)\" style=\"fill:#009af9; stroke:none; fill-opacity:0\" cx=\"364.741\" cy=\"1401.97\" r=\"2\"/>\n",
       "<circle clip-path=\"url(#clip722)\" style=\"fill:#009af9; stroke:none; fill-opacity:0\" cx=\"413.263\" cy=\"1394.98\" r=\"2\"/>\n",
       "<circle clip-path=\"url(#clip722)\" style=\"fill:#009af9; stroke:none; fill-opacity:0\" cx=\"461.784\" cy=\"1400.22\" r=\"2\"/>\n",
       "<circle clip-path=\"url(#clip722)\" style=\"fill:#009af9; stroke:none; fill-opacity:0\" cx=\"510.305\" cy=\"1384.48\" r=\"2\"/>\n",
       "<circle clip-path=\"url(#clip722)\" style=\"fill:#009af9; stroke:none; fill-opacity:0\" cx=\"558.827\" cy=\"1403.72\" r=\"2\"/>\n",
       "<circle clip-path=\"url(#clip722)\" style=\"fill:#009af9; stroke:none; fill-opacity:0\" cx=\"607.348\" cy=\"1422.97\" r=\"2\"/>\n",
       "<circle clip-path=\"url(#clip722)\" style=\"fill:#009af9; stroke:none; fill-opacity:0\" cx=\"655.869\" cy=\"1410.72\" r=\"2\"/>\n",
       "<circle clip-path=\"url(#clip722)\" style=\"fill:#009af9; stroke:none; fill-opacity:0\" cx=\"704.39\" cy=\"1403.72\" r=\"2\"/>\n",
       "<circle clip-path=\"url(#clip722)\" style=\"fill:#009af9; stroke:none; fill-opacity:0\" cx=\"752.912\" cy=\"1422.97\" r=\"2\"/>\n",
       "<circle clip-path=\"url(#clip722)\" style=\"fill:#009af9; stroke:none; fill-opacity:0\" cx=\"801.433\" cy=\"1400.22\" r=\"2\"/>\n",
       "<circle clip-path=\"url(#clip722)\" style=\"fill:#009af9; stroke:none; fill-opacity:0\" cx=\"849.954\" cy=\"1422.97\" r=\"2\"/>\n",
       "<circle clip-path=\"url(#clip722)\" style=\"fill:#009af9; stroke:none; fill-opacity:0\" cx=\"898.476\" cy=\"1431.72\" r=\"2\"/>\n",
       "<circle clip-path=\"url(#clip722)\" style=\"fill:#009af9; stroke:none; fill-opacity:0\" cx=\"946.997\" cy=\"1412.47\" r=\"2\"/>\n",
       "<circle clip-path=\"url(#clip722)\" style=\"fill:#009af9; stroke:none; fill-opacity:0\" cx=\"995.518\" cy=\"1387.98\" r=\"2\"/>\n",
       "<circle clip-path=\"url(#clip722)\" style=\"fill:#009af9; stroke:none; fill-opacity:0\" cx=\"1044.04\" cy=\"1419.47\" r=\"2\"/>\n",
       "<circle clip-path=\"url(#clip722)\" style=\"fill:#009af9; stroke:none; fill-opacity:0\" cx=\"1092.56\" cy=\"1419.47\" r=\"2\"/>\n",
       "<circle clip-path=\"url(#clip722)\" style=\"fill:#009af9; stroke:none; fill-opacity:0\" cx=\"1141.08\" cy=\"1415.97\" r=\"2\"/>\n",
       "<circle clip-path=\"url(#clip722)\" style=\"fill:#009af9; stroke:none; fill-opacity:0\" cx=\"1189.6\" cy=\"1424.72\" r=\"2\"/>\n",
       "<circle clip-path=\"url(#clip722)\" style=\"fill:#009af9; stroke:none; fill-opacity:0\" cx=\"1238.12\" cy=\"1419.47\" r=\"2\"/>\n",
       "<circle clip-path=\"url(#clip722)\" style=\"fill:#009af9; stroke:none; fill-opacity:0\" cx=\"1286.65\" cy=\"87.9763\" r=\"2\"/>\n",
       "<circle clip-path=\"url(#clip722)\" style=\"fill:#009af9; stroke:none; fill-opacity:0\" cx=\"1335.17\" cy=\"1380.98\" r=\"2\"/>\n",
       "<circle clip-path=\"url(#clip722)\" style=\"fill:#009af9; stroke:none; fill-opacity:0\" cx=\"1383.69\" cy=\"1412.47\" r=\"2\"/>\n",
       "<circle clip-path=\"url(#clip722)\" style=\"fill:#009af9; stroke:none; fill-opacity:0\" cx=\"1432.21\" cy=\"1422.97\" r=\"2\"/>\n",
       "<circle clip-path=\"url(#clip722)\" style=\"fill:#009af9; stroke:none; fill-opacity:0\" cx=\"1480.73\" cy=\"1393.23\" r=\"2\"/>\n",
       "<circle clip-path=\"url(#clip722)\" style=\"fill:#009af9; stroke:none; fill-opacity:0\" cx=\"1529.25\" cy=\"1407.22\" r=\"2\"/>\n",
       "<circle clip-path=\"url(#clip722)\" style=\"fill:#009af9; stroke:none; fill-opacity:0\" cx=\"1577.77\" cy=\"1412.47\" r=\"2\"/>\n",
       "<circle clip-path=\"url(#clip722)\" style=\"fill:#009af9; stroke:none; fill-opacity:0\" cx=\"1626.3\" cy=\"1414.22\" r=\"2\"/>\n",
       "<circle clip-path=\"url(#clip722)\" style=\"fill:#009af9; stroke:none; fill-opacity:0\" cx=\"1674.82\" cy=\"1410.72\" r=\"2\"/>\n",
       "<circle clip-path=\"url(#clip722)\" style=\"fill:#009af9; stroke:none; fill-opacity:0\" cx=\"1723.34\" cy=\"1377.48\" r=\"2\"/>\n",
       "<circle clip-path=\"url(#clip722)\" style=\"fill:#009af9; stroke:none; fill-opacity:0\" cx=\"1771.86\" cy=\"1405.47\" r=\"2\"/>\n",
       "<circle clip-path=\"url(#clip722)\" style=\"fill:#009af9; stroke:none; fill-opacity:0\" cx=\"1820.38\" cy=\"1401.97\" r=\"2\"/>\n",
       "<circle clip-path=\"url(#clip722)\" style=\"fill:#009af9; stroke:none; fill-opacity:0\" cx=\"1868.9\" cy=\"1386.23\" r=\"2\"/>\n",
       "<circle clip-path=\"url(#clip722)\" style=\"fill:#009af9; stroke:none; fill-opacity:0\" cx=\"1917.42\" cy=\"1408.97\" r=\"2\"/>\n",
       "<circle clip-path=\"url(#clip722)\" style=\"fill:#009af9; stroke:none; fill-opacity:0\" cx=\"1965.94\" cy=\"1429.97\" r=\"2\"/>\n",
       "<circle clip-path=\"url(#clip722)\" style=\"fill:#009af9; stroke:none; fill-opacity:0\" cx=\"2014.47\" cy=\"1384.48\" r=\"2\"/>\n",
       "<circle clip-path=\"url(#clip722)\" style=\"fill:#009af9; stroke:none; fill-opacity:0\" cx=\"2062.99\" cy=\"1410.72\" r=\"2\"/>\n",
       "<circle clip-path=\"url(#clip722)\" style=\"fill:#009af9; stroke:none; fill-opacity:0\" cx=\"2111.51\" cy=\"1356.48\" r=\"2\"/>\n",
       "<circle clip-path=\"url(#clip722)\" style=\"fill:#009af9; stroke:none; fill-opacity:0\" cx=\"2160.03\" cy=\"1400.22\" r=\"2\"/>\n",
       "<circle clip-path=\"url(#clip722)\" style=\"fill:#009af9; stroke:none; fill-opacity:0\" cx=\"2208.55\" cy=\"1415.97\" r=\"2\"/>\n",
       "<path clip-path=\"url(#clip720)\" d=\"M2009.56 198.898 L2280.06 198.898 L2280.06 95.2176 L2009.56 95.2176  Z\" fill=\"#ffffff\" fill-rule=\"evenodd\" fill-opacity=\"1\"/>\n",
       "<polyline clip-path=\"url(#clip720)\" style=\"stroke:#000000; stroke-linecap:round; stroke-linejoin:round; stroke-width:4; stroke-opacity:1; fill:none\" points=\"2009.56,198.898 2280.06,198.898 2280.06,95.2176 2009.56,95.2176 2009.56,198.898 \"/>\n",
       "<path clip-path=\"url(#clip720)\" d=\"M2033.79 167.794 L2179.17 167.794 L2179.17 126.322 L2033.79 126.322 L2033.79 167.794  Z\" fill=\"#009af9\" fill-rule=\"evenodd\" fill-opacity=\"1\"/>\n",
       "<polyline clip-path=\"url(#clip720)\" style=\"stroke:#000000; stroke-linecap:round; stroke-linejoin:round; stroke-width:4; stroke-opacity:1; fill:none\" points=\"2033.79,167.794 2179.17,167.794 2179.17,126.322 2033.79,126.322 2033.79,167.794 \"/>\n",
       "<path clip-path=\"url(#clip720)\" d=\"M2217.25 166.745 Q2215.44 171.375 2213.73 172.787 Q2212.01 174.199 2209.14 174.199 L2205.74 174.199 L2205.74 170.634 L2208.24 170.634 Q2210 170.634 2210.97 169.8 Q2211.95 168.967 2213.13 165.865 L2213.89 163.921 L2203.4 138.412 L2207.92 138.412 L2216.02 158.689 L2224.12 138.412 L2228.64 138.412 L2217.25 166.745 Z\" fill=\"#000000\" fill-rule=\"evenodd\" fill-opacity=\"1\" /><path clip-path=\"url(#clip720)\" d=\"M2235.93 160.402 L2243.57 160.402 L2243.57 134.037 L2235.26 135.703 L2235.26 131.444 L2243.52 129.778 L2248.2 129.778 L2248.2 160.402 L2255.83 160.402 L2255.83 164.338 L2235.93 164.338 L2235.93 160.402 Z\" fill=\"#000000\" fill-rule=\"evenodd\" fill-opacity=\"1\" /></svg>\n"
      ]
     },
     "execution_count": 6,
     "metadata": {},
     "output_type": "execute_result"
    }
   ],
   "source": [
    "histogram(read(stn_2))"
   ]
  },
  {
   "cell_type": "code",
   "execution_count": 7,
   "id": "8128d5db",
   "metadata": {},
   "outputs": [
    {
     "data": {
      "image/svg+xml": [
       "<?xml version=\"1.0\" encoding=\"utf-8\"?>\n",
       "<svg xmlns=\"http://www.w3.org/2000/svg\" xmlns:xlink=\"http://www.w3.org/1999/xlink\" width=\"600\" height=\"400\" viewBox=\"0 0 2400 1600\">\n",
       "<defs>\n",
       "  <clipPath id=\"clip760\">\n",
       "    <rect x=\"0\" y=\"0\" width=\"2400\" height=\"1600\"/>\n",
       "  </clipPath>\n",
       "</defs>\n",
       "<path clip-path=\"url(#clip760)\" d=\"M0 1600 L2400 1600 L2400 0 L0 0  Z\" fill=\"#ffffff\" fill-rule=\"evenodd\" fill-opacity=\"1\"/>\n",
       "<defs>\n",
       "  <clipPath id=\"clip761\">\n",
       "    <rect x=\"480\" y=\"0\" width=\"1681\" height=\"1600\"/>\n",
       "  </clipPath>\n",
       "</defs>\n",
       "<path clip-path=\"url(#clip760)\" d=\"M172.015 1486.45 L2352.76 1486.45 L2352.76 47.2441 L172.015 47.2441  Z\" fill=\"#ffffff\" fill-rule=\"evenodd\" fill-opacity=\"1\"/>\n",
       "<defs>\n",
       "  <clipPath id=\"clip762\">\n",
       "    <rect x=\"172\" y=\"47\" width=\"2182\" height=\"1440\"/>\n",
       "  </clipPath>\n",
       "</defs>\n",
       "<polyline clip-path=\"url(#clip762)\" style=\"stroke:#000000; stroke-linecap:round; stroke-linejoin:round; stroke-width:2; stroke-opacity:0.1; fill:none\" points=\"291.959,1486.45 291.959,47.2441 \"/>\n",
       "<polyline clip-path=\"url(#clip762)\" style=\"stroke:#000000; stroke-linecap:round; stroke-linejoin:round; stroke-width:2; stroke-opacity:0.1; fill:none\" points=\"777.172,1486.45 777.172,47.2441 \"/>\n",
       "<polyline clip-path=\"url(#clip762)\" style=\"stroke:#000000; stroke-linecap:round; stroke-linejoin:round; stroke-width:2; stroke-opacity:0.1; fill:none\" points=\"1262.39,1486.45 1262.39,47.2441 \"/>\n",
       "<polyline clip-path=\"url(#clip762)\" style=\"stroke:#000000; stroke-linecap:round; stroke-linejoin:round; stroke-width:2; stroke-opacity:0.1; fill:none\" points=\"1747.6,1486.45 1747.6,47.2441 \"/>\n",
       "<polyline clip-path=\"url(#clip762)\" style=\"stroke:#000000; stroke-linecap:round; stroke-linejoin:round; stroke-width:2; stroke-opacity:0.1; fill:none\" points=\"2232.81,1486.45 2232.81,47.2441 \"/>\n",
       "<polyline clip-path=\"url(#clip760)\" style=\"stroke:#000000; stroke-linecap:round; stroke-linejoin:round; stroke-width:4; stroke-opacity:1; fill:none\" points=\"172.015,1486.45 2352.76,1486.45 \"/>\n",
       "<polyline clip-path=\"url(#clip760)\" style=\"stroke:#000000; stroke-linecap:round; stroke-linejoin:round; stroke-width:4; stroke-opacity:1; fill:none\" points=\"291.959,1486.45 291.959,1467.55 \"/>\n",
       "<polyline clip-path=\"url(#clip760)\" style=\"stroke:#000000; stroke-linecap:round; stroke-linejoin:round; stroke-width:4; stroke-opacity:1; fill:none\" points=\"777.172,1486.45 777.172,1467.55 \"/>\n",
       "<polyline clip-path=\"url(#clip760)\" style=\"stroke:#000000; stroke-linecap:round; stroke-linejoin:round; stroke-width:4; stroke-opacity:1; fill:none\" points=\"1262.39,1486.45 1262.39,1467.55 \"/>\n",
       "<polyline clip-path=\"url(#clip760)\" style=\"stroke:#000000; stroke-linecap:round; stroke-linejoin:round; stroke-width:4; stroke-opacity:1; fill:none\" points=\"1747.6,1486.45 1747.6,1467.55 \"/>\n",
       "<polyline clip-path=\"url(#clip760)\" style=\"stroke:#000000; stroke-linecap:round; stroke-linejoin:round; stroke-width:4; stroke-opacity:1; fill:none\" points=\"2232.81,1486.45 2232.81,1467.55 \"/>\n",
       "<path clip-path=\"url(#clip760)\" d=\"M269.344 1517.37 Q265.733 1517.37 263.904 1520.93 Q262.099 1524.47 262.099 1531.6 Q262.099 1538.71 263.904 1542.27 Q265.733 1545.82 269.344 1545.82 Q272.978 1545.82 274.784 1542.27 Q276.612 1538.71 276.612 1531.6 Q276.612 1524.47 274.784 1520.93 Q272.978 1517.37 269.344 1517.37 M269.344 1513.66 Q275.154 1513.66 278.21 1518.27 Q281.288 1522.85 281.288 1531.6 Q281.288 1540.33 278.21 1544.94 Q275.154 1549.52 269.344 1549.52 Q263.534 1549.52 260.455 1544.94 Q257.399 1540.33 257.399 1531.6 Q257.399 1522.85 260.455 1518.27 Q263.534 1513.66 269.344 1513.66 Z\" fill=\"#000000\" fill-rule=\"evenodd\" fill-opacity=\"1\" /><path clip-path=\"url(#clip760)\" d=\"M289.506 1542.97 L294.39 1542.97 L294.39 1548.85 L289.506 1548.85 L289.506 1542.97 Z\" fill=\"#000000\" fill-rule=\"evenodd\" fill-opacity=\"1\" /><path clip-path=\"url(#clip760)\" d=\"M314.575 1517.37 Q310.964 1517.37 309.135 1520.93 Q307.33 1524.47 307.33 1531.6 Q307.33 1538.71 309.135 1542.27 Q310.964 1545.82 314.575 1545.82 Q318.209 1545.82 320.015 1542.27 Q321.844 1538.71 321.844 1531.6 Q321.844 1524.47 320.015 1520.93 Q318.209 1517.37 314.575 1517.37 M314.575 1513.66 Q320.385 1513.66 323.441 1518.27 Q326.519 1522.85 326.519 1531.6 Q326.519 1540.33 323.441 1544.94 Q320.385 1549.52 314.575 1549.52 Q308.765 1549.52 305.686 1544.94 Q302.631 1540.33 302.631 1531.6 Q302.631 1522.85 305.686 1518.27 Q308.765 1513.66 314.575 1513.66 Z\" fill=\"#000000\" fill-rule=\"evenodd\" fill-opacity=\"1\" /><path clip-path=\"url(#clip760)\" d=\"M755.054 1517.37 Q751.443 1517.37 749.615 1520.93 Q747.809 1524.47 747.809 1531.6 Q747.809 1538.71 749.615 1542.27 Q751.443 1545.82 755.054 1545.82 Q758.689 1545.82 760.494 1542.27 Q762.323 1538.71 762.323 1531.6 Q762.323 1524.47 760.494 1520.93 Q758.689 1517.37 755.054 1517.37 M755.054 1513.66 Q760.865 1513.66 763.92 1518.27 Q766.999 1522.85 766.999 1531.6 Q766.999 1540.33 763.92 1544.94 Q760.865 1549.52 755.054 1549.52 Q749.244 1549.52 746.166 1544.94 Q743.11 1540.33 743.11 1531.6 Q743.11 1522.85 746.166 1518.27 Q749.244 1513.66 755.054 1513.66 Z\" fill=\"#000000\" fill-rule=\"evenodd\" fill-opacity=\"1\" /><path clip-path=\"url(#clip760)\" d=\"M775.216 1542.97 L780.101 1542.97 L780.101 1548.85 L775.216 1548.85 L775.216 1542.97 Z\" fill=\"#000000\" fill-rule=\"evenodd\" fill-opacity=\"1\" /><path clip-path=\"url(#clip760)\" d=\"M790.332 1514.29 L808.688 1514.29 L808.688 1518.22 L794.614 1518.22 L794.614 1526.7 Q795.633 1526.35 796.651 1526.19 Q797.67 1526 798.688 1526 Q804.476 1526 807.855 1529.17 Q811.235 1532.34 811.235 1537.76 Q811.235 1543.34 807.763 1546.44 Q804.29 1549.52 797.971 1549.52 Q795.795 1549.52 793.526 1549.15 Q791.281 1548.78 788.874 1548.04 L788.874 1543.34 Q790.957 1544.47 793.179 1545.03 Q795.401 1545.58 797.878 1545.58 Q801.883 1545.58 804.221 1543.48 Q806.559 1541.37 806.559 1537.76 Q806.559 1534.15 804.221 1532.04 Q801.883 1529.94 797.878 1529.94 Q796.003 1529.94 794.128 1530.35 Q792.276 1530.77 790.332 1531.65 L790.332 1514.29 Z\" fill=\"#000000\" fill-rule=\"evenodd\" fill-opacity=\"1\" /><path clip-path=\"url(#clip760)\" d=\"M1229.54 1544.91 L1237.18 1544.91 L1237.18 1518.55 L1228.87 1520.21 L1228.87 1515.95 L1237.13 1514.29 L1241.81 1514.29 L1241.81 1544.91 L1249.45 1544.91 L1249.45 1548.85 L1229.54 1548.85 L1229.54 1544.91 Z\" fill=\"#000000\" fill-rule=\"evenodd\" fill-opacity=\"1\" /><path clip-path=\"url(#clip760)\" d=\"M1258.89 1542.97 L1263.77 1542.97 L1263.77 1548.85 L1258.89 1548.85 L1258.89 1542.97 Z\" fill=\"#000000\" fill-rule=\"evenodd\" fill-opacity=\"1\" /><path clip-path=\"url(#clip760)\" d=\"M1283.96 1517.37 Q1280.35 1517.37 1278.52 1520.93 Q1276.71 1524.47 1276.71 1531.6 Q1276.71 1538.71 1278.52 1542.27 Q1280.35 1545.82 1283.96 1545.82 Q1287.59 1545.82 1289.4 1542.27 Q1291.23 1538.71 1291.23 1531.6 Q1291.23 1524.47 1289.4 1520.93 Q1287.59 1517.37 1283.96 1517.37 M1283.96 1513.66 Q1289.77 1513.66 1292.83 1518.27 Q1295.9 1522.85 1295.9 1531.6 Q1295.9 1540.33 1292.83 1544.94 Q1289.77 1549.52 1283.96 1549.52 Q1278.15 1549.52 1275.07 1544.94 Q1272.01 1540.33 1272.01 1531.6 Q1272.01 1522.85 1275.07 1518.27 Q1278.15 1513.66 1283.96 1513.66 Z\" fill=\"#000000\" fill-rule=\"evenodd\" fill-opacity=\"1\" /><path clip-path=\"url(#clip760)\" d=\"M1715.25 1544.91 L1722.89 1544.91 L1722.89 1518.55 L1714.58 1520.21 L1714.58 1515.95 L1722.84 1514.29 L1727.52 1514.29 L1727.52 1544.91 L1735.16 1544.91 L1735.16 1548.85 L1715.25 1548.85 L1715.25 1544.91 Z\" fill=\"#000000\" fill-rule=\"evenodd\" fill-opacity=\"1\" /><path clip-path=\"url(#clip760)\" d=\"M1744.6 1542.97 L1749.48 1542.97 L1749.48 1548.85 L1744.6 1548.85 L1744.6 1542.97 Z\" fill=\"#000000\" fill-rule=\"evenodd\" fill-opacity=\"1\" /><path clip-path=\"url(#clip760)\" d=\"M1759.72 1514.29 L1778.07 1514.29 L1778.07 1518.22 L1764 1518.22 L1764 1526.7 Q1765.02 1526.35 1766.04 1526.19 Q1767.05 1526 1768.07 1526 Q1773.86 1526 1777.24 1529.17 Q1780.62 1532.34 1780.62 1537.76 Q1780.62 1543.34 1777.15 1546.44 Q1773.67 1549.52 1767.36 1549.52 Q1765.18 1549.52 1762.91 1549.15 Q1760.67 1548.78 1758.26 1548.04 L1758.26 1543.34 Q1760.34 1544.47 1762.56 1545.03 Q1764.79 1545.58 1767.26 1545.58 Q1771.27 1545.58 1773.61 1543.48 Q1775.94 1541.37 1775.94 1537.76 Q1775.94 1534.15 1773.61 1532.04 Q1771.27 1529.94 1767.26 1529.94 Q1765.39 1529.94 1763.51 1530.35 Q1761.66 1530.77 1759.72 1531.65 L1759.72 1514.29 Z\" fill=\"#000000\" fill-rule=\"evenodd\" fill-opacity=\"1\" /><path clip-path=\"url(#clip760)\" d=\"M2204.05 1544.91 L2220.37 1544.91 L2220.37 1548.85 L2198.42 1548.85 L2198.42 1544.91 Q2201.09 1542.16 2205.67 1537.53 Q2210.28 1532.88 2211.46 1531.53 Q2213.7 1529.01 2214.58 1527.27 Q2215.48 1525.51 2215.48 1523.82 Q2215.48 1521.07 2213.54 1519.33 Q2211.62 1517.6 2208.52 1517.6 Q2206.32 1517.6 2203.86 1518.36 Q2201.43 1519.13 2198.66 1520.68 L2198.66 1515.95 Q2201.48 1514.82 2203.93 1514.24 Q2206.39 1513.66 2208.42 1513.66 Q2213.8 1513.66 2216.99 1516.35 Q2220.18 1519.03 2220.18 1523.52 Q2220.18 1525.65 2219.37 1527.57 Q2218.59 1529.47 2216.48 1532.07 Q2215.9 1532.74 2212.8 1535.95 Q2209.7 1539.15 2204.05 1544.91 Z\" fill=\"#000000\" fill-rule=\"evenodd\" fill-opacity=\"1\" /><path clip-path=\"url(#clip760)\" d=\"M2230.18 1542.97 L2235.07 1542.97 L2235.07 1548.85 L2230.18 1548.85 L2230.18 1542.97 Z\" fill=\"#000000\" fill-rule=\"evenodd\" fill-opacity=\"1\" /><path clip-path=\"url(#clip760)\" d=\"M2255.25 1517.37 Q2251.64 1517.37 2249.81 1520.93 Q2248.01 1524.47 2248.01 1531.6 Q2248.01 1538.71 2249.81 1542.27 Q2251.64 1545.82 2255.25 1545.82 Q2258.89 1545.82 2260.69 1542.27 Q2262.52 1538.71 2262.52 1531.6 Q2262.52 1524.47 2260.69 1520.93 Q2258.89 1517.37 2255.25 1517.37 M2255.25 1513.66 Q2261.06 1513.66 2264.12 1518.27 Q2267.2 1522.85 2267.2 1531.6 Q2267.2 1540.33 2264.12 1544.94 Q2261.06 1549.52 2255.25 1549.52 Q2249.44 1549.52 2246.36 1544.94 Q2243.31 1540.33 2243.31 1531.6 Q2243.31 1522.85 2246.36 1518.27 Q2249.44 1513.66 2255.25 1513.66 Z\" fill=\"#000000\" fill-rule=\"evenodd\" fill-opacity=\"1\" /><polyline clip-path=\"url(#clip762)\" style=\"stroke:#000000; stroke-linecap:round; stroke-linejoin:round; stroke-width:2; stroke-opacity:0.1; fill:none\" points=\"172.015,1445.72 2352.76,1445.72 \"/>\n",
       "<polyline clip-path=\"url(#clip762)\" style=\"stroke:#000000; stroke-linecap:round; stroke-linejoin:round; stroke-width:2; stroke-opacity:0.1; fill:none\" points=\"172.015,1095.78 2352.76,1095.78 \"/>\n",
       "<polyline clip-path=\"url(#clip762)\" style=\"stroke:#000000; stroke-linecap:round; stroke-linejoin:round; stroke-width:2; stroke-opacity:0.1; fill:none\" points=\"172.015,745.85 2352.76,745.85 \"/>\n",
       "<polyline clip-path=\"url(#clip762)\" style=\"stroke:#000000; stroke-linecap:round; stroke-linejoin:round; stroke-width:2; stroke-opacity:0.1; fill:none\" points=\"172.015,395.917 2352.76,395.917 \"/>\n",
       "<polyline clip-path=\"url(#clip760)\" style=\"stroke:#000000; stroke-linecap:round; stroke-linejoin:round; stroke-width:4; stroke-opacity:1; fill:none\" points=\"172.015,1486.45 172.015,47.2441 \"/>\n",
       "<polyline clip-path=\"url(#clip760)\" style=\"stroke:#000000; stroke-linecap:round; stroke-linejoin:round; stroke-width:4; stroke-opacity:1; fill:none\" points=\"172.015,1445.72 190.912,1445.72 \"/>\n",
       "<polyline clip-path=\"url(#clip760)\" style=\"stroke:#000000; stroke-linecap:round; stroke-linejoin:round; stroke-width:4; stroke-opacity:1; fill:none\" points=\"172.015,1095.78 190.912,1095.78 \"/>\n",
       "<polyline clip-path=\"url(#clip760)\" style=\"stroke:#000000; stroke-linecap:round; stroke-linejoin:round; stroke-width:4; stroke-opacity:1; fill:none\" points=\"172.015,745.85 190.912,745.85 \"/>\n",
       "<polyline clip-path=\"url(#clip760)\" style=\"stroke:#000000; stroke-linecap:round; stroke-linejoin:round; stroke-width:4; stroke-opacity:1; fill:none\" points=\"172.015,395.917 190.912,395.917 \"/>\n",
       "<path clip-path=\"url(#clip760)\" d=\"M124.07 1431.51 Q120.459 1431.51 118.631 1435.08 Q116.825 1438.62 116.825 1445.75 Q116.825 1452.86 118.631 1456.42 Q120.459 1459.96 124.07 1459.96 Q127.705 1459.96 129.51 1456.42 Q131.339 1452.86 131.339 1445.75 Q131.339 1438.62 129.51 1435.08 Q127.705 1431.51 124.07 1431.51 M124.07 1427.81 Q129.881 1427.81 132.936 1432.42 Q136.015 1437 136.015 1445.75 Q136.015 1454.48 132.936 1459.08 Q129.881 1463.67 124.07 1463.67 Q118.26 1463.67 115.182 1459.08 Q112.126 1454.48 112.126 1445.75 Q112.126 1437 115.182 1432.42 Q118.26 1427.81 124.07 1427.81 Z\" fill=\"#000000\" fill-rule=\"evenodd\" fill-opacity=\"1\" /><path clip-path=\"url(#clip760)\" d=\"M57.7745 1109.13 L74.0939 1109.13 L74.0939 1113.06 L52.1495 1113.06 L52.1495 1109.13 Q54.8115 1106.37 59.3949 1101.74 Q64.0013 1097.09 65.1819 1095.75 Q67.4272 1093.22 68.3068 1091.49 Q69.2096 1089.73 69.2096 1088.04 Q69.2096 1085.29 67.2652 1083.55 Q65.3439 1081.81 62.2421 1081.81 Q60.043 1081.81 57.5893 1082.58 Q55.1588 1083.34 52.381 1084.89 L52.381 1080.17 Q55.2051 1079.04 57.6588 1078.46 Q60.1124 1077.88 62.1495 1077.88 Q67.5198 1077.88 70.7142 1080.56 Q73.9087 1083.25 73.9087 1087.74 Q73.9087 1089.87 73.0985 1091.79 Q72.3115 1093.69 70.205 1096.28 Q69.6263 1096.95 66.5245 1100.17 Q63.4226 1103.36 57.7745 1109.13 Z\" fill=\"#000000\" fill-rule=\"evenodd\" fill-opacity=\"1\" /><path clip-path=\"url(#clip760)\" d=\"M93.9086 1081.58 Q90.2975 1081.58 88.4688 1085.15 Q86.6632 1088.69 86.6632 1095.82 Q86.6632 1102.92 88.4688 1106.49 Q90.2975 1110.03 93.9086 1110.03 Q97.5428 1110.03 99.3483 1106.49 Q101.177 1102.92 101.177 1095.82 Q101.177 1088.69 99.3483 1085.15 Q97.5428 1081.58 93.9086 1081.58 M93.9086 1077.88 Q99.7187 1077.88 102.774 1082.48 Q105.853 1087.07 105.853 1095.82 Q105.853 1104.54 102.774 1109.15 Q99.7187 1113.73 93.9086 1113.73 Q88.0984 1113.73 85.0197 1109.15 Q81.9642 1104.54 81.9642 1095.82 Q81.9642 1087.07 85.0197 1082.48 Q88.0984 1077.88 93.9086 1077.88 Z\" fill=\"#000000\" fill-rule=\"evenodd\" fill-opacity=\"1\" /><path clip-path=\"url(#clip760)\" d=\"M124.07 1081.58 Q120.459 1081.58 118.631 1085.15 Q116.825 1088.69 116.825 1095.82 Q116.825 1102.92 118.631 1106.49 Q120.459 1110.03 124.07 1110.03 Q127.705 1110.03 129.51 1106.49 Q131.339 1102.92 131.339 1095.82 Q131.339 1088.69 129.51 1085.15 Q127.705 1081.58 124.07 1081.58 M124.07 1077.88 Q129.881 1077.88 132.936 1082.48 Q136.015 1087.07 136.015 1095.82 Q136.015 1104.54 132.936 1109.15 Q129.881 1113.73 124.07 1113.73 Q118.26 1113.73 115.182 1109.15 Q112.126 1104.54 112.126 1095.82 Q112.126 1087.07 115.182 1082.48 Q118.26 1077.88 124.07 1077.88 Z\" fill=\"#000000\" fill-rule=\"evenodd\" fill-opacity=\"1\" /><path clip-path=\"url(#clip760)\" d=\"M66.5939 732.644 L54.7884 751.093 L66.5939 751.093 L66.5939 732.644 M65.367 728.57 L71.2466 728.57 L71.2466 751.093 L76.1772 751.093 L76.1772 754.982 L71.2466 754.982 L71.2466 763.13 L66.5939 763.13 L66.5939 754.982 L50.9921 754.982 L50.9921 750.468 L65.367 728.57 Z\" fill=\"#000000\" fill-rule=\"evenodd\" fill-opacity=\"1\" /><path clip-path=\"url(#clip760)\" d=\"M93.9086 731.649 Q90.2975 731.649 88.4688 735.213 Q86.6632 738.755 86.6632 745.885 Q86.6632 752.991 88.4688 756.556 Q90.2975 760.098 93.9086 760.098 Q97.5428 760.098 99.3483 756.556 Q101.177 752.991 101.177 745.885 Q101.177 738.755 99.3483 735.213 Q97.5428 731.649 93.9086 731.649 M93.9086 727.945 Q99.7187 727.945 102.774 732.551 Q105.853 737.135 105.853 745.885 Q105.853 754.612 102.774 759.218 Q99.7187 763.801 93.9086 763.801 Q88.0984 763.801 85.0197 759.218 Q81.9642 754.612 81.9642 745.885 Q81.9642 737.135 85.0197 732.551 Q88.0984 727.945 93.9086 727.945 Z\" fill=\"#000000\" fill-rule=\"evenodd\" fill-opacity=\"1\" /><path clip-path=\"url(#clip760)\" d=\"M124.07 731.649 Q120.459 731.649 118.631 735.213 Q116.825 738.755 116.825 745.885 Q116.825 752.991 118.631 756.556 Q120.459 760.098 124.07 760.098 Q127.705 760.098 129.51 756.556 Q131.339 752.991 131.339 745.885 Q131.339 738.755 129.51 735.213 Q127.705 731.649 124.07 731.649 M124.07 727.945 Q129.881 727.945 132.936 732.551 Q136.015 737.135 136.015 745.885 Q136.015 754.612 132.936 759.218 Q129.881 763.801 124.07 763.801 Q118.26 763.801 115.182 759.218 Q112.126 754.612 112.126 745.885 Q112.126 737.135 115.182 732.551 Q118.26 727.945 124.07 727.945 Z\" fill=\"#000000\" fill-rule=\"evenodd\" fill-opacity=\"1\" /><path clip-path=\"url(#clip760)\" d=\"M64.3254 394.054 Q61.1773 394.054 59.3254 396.207 Q57.4967 398.359 57.4967 402.109 Q57.4967 405.836 59.3254 408.012 Q61.1773 410.165 64.3254 410.165 Q67.4735 410.165 69.3022 408.012 Q71.1541 405.836 71.1541 402.109 Q71.1541 398.359 69.3022 396.207 Q67.4735 394.054 64.3254 394.054 M73.6077 379.401 L73.6077 383.66 Q71.8485 382.827 70.0429 382.387 Q68.2606 381.947 66.5013 381.947 Q61.8717 381.947 59.418 385.072 Q56.9875 388.197 56.6402 394.517 Q58.006 392.503 60.0662 391.438 Q62.1263 390.35 64.6032 390.35 Q69.8115 390.35 72.8207 393.521 Q75.8531 396.669 75.8531 402.109 Q75.8531 407.433 72.705 410.651 Q69.5568 413.868 64.3254 413.868 Q58.33 413.868 55.1588 409.285 Q51.9875 404.679 51.9875 395.952 Q51.9875 387.757 55.8764 382.896 Q59.7652 378.012 66.3161 378.012 Q68.0754 378.012 69.8578 378.359 Q71.6633 378.707 73.6077 379.401 Z\" fill=\"#000000\" fill-rule=\"evenodd\" fill-opacity=\"1\" /><path clip-path=\"url(#clip760)\" d=\"M93.9086 381.716 Q90.2975 381.716 88.4688 385.281 Q86.6632 388.822 86.6632 395.952 Q86.6632 403.058 88.4688 406.623 Q90.2975 410.165 93.9086 410.165 Q97.5428 410.165 99.3483 406.623 Q101.177 403.058 101.177 395.952 Q101.177 388.822 99.3483 385.281 Q97.5428 381.716 93.9086 381.716 M93.9086 378.012 Q99.7187 378.012 102.774 382.619 Q105.853 387.202 105.853 395.952 Q105.853 404.679 102.774 409.285 Q99.7187 413.868 93.9086 413.868 Q88.0984 413.868 85.0197 409.285 Q81.9642 404.679 81.9642 395.952 Q81.9642 387.202 85.0197 382.619 Q88.0984 378.012 93.9086 378.012 Z\" fill=\"#000000\" fill-rule=\"evenodd\" fill-opacity=\"1\" /><path clip-path=\"url(#clip760)\" d=\"M124.07 381.716 Q120.459 381.716 118.631 385.281 Q116.825 388.822 116.825 395.952 Q116.825 403.058 118.631 406.623 Q120.459 410.165 124.07 410.165 Q127.705 410.165 129.51 406.623 Q131.339 403.058 131.339 395.952 Q131.339 388.822 129.51 385.281 Q127.705 381.716 124.07 381.716 M124.07 378.012 Q129.881 378.012 132.936 382.619 Q136.015 387.202 136.015 395.952 Q136.015 404.679 132.936 409.285 Q129.881 413.868 124.07 413.868 Q118.26 413.868 115.182 409.285 Q112.126 404.679 112.126 395.952 Q112.126 387.202 115.182 382.619 Q118.26 378.012 124.07 378.012 Z\" fill=\"#000000\" fill-rule=\"evenodd\" fill-opacity=\"1\" /><path clip-path=\"url(#clip762)\" d=\"M291.959 1408.97 L291.959 1445.72 L340.481 1445.72 L340.481 1408.97 L291.959 1408.97 L291.959 1408.97  Z\" fill=\"#009af9\" fill-rule=\"evenodd\" fill-opacity=\"1\"/>\n",
       "<polyline clip-path=\"url(#clip762)\" style=\"stroke:#000000; stroke-linecap:round; stroke-linejoin:round; stroke-width:4; stroke-opacity:1; fill:none\" points=\"291.959,1408.97 291.959,1445.72 340.481,1445.72 340.481,1408.97 291.959,1408.97 \"/>\n",
       "<path clip-path=\"url(#clip762)\" d=\"M340.481 1428.22 L340.481 1445.72 L389.002 1445.72 L389.002 1428.22 L340.481 1428.22 L340.481 1428.22  Z\" fill=\"#009af9\" fill-rule=\"evenodd\" fill-opacity=\"1\"/>\n",
       "<polyline clip-path=\"url(#clip762)\" style=\"stroke:#000000; stroke-linecap:round; stroke-linejoin:round; stroke-width:4; stroke-opacity:1; fill:none\" points=\"340.481,1428.22 340.481,1445.72 389.002,1445.72 389.002,1428.22 340.481,1428.22 \"/>\n",
       "<path clip-path=\"url(#clip762)\" d=\"M389.002 1400.22 L389.002 1445.72 L437.523 1445.72 L437.523 1400.22 L389.002 1400.22 L389.002 1400.22  Z\" fill=\"#009af9\" fill-rule=\"evenodd\" fill-opacity=\"1\"/>\n",
       "<polyline clip-path=\"url(#clip762)\" style=\"stroke:#000000; stroke-linecap:round; stroke-linejoin:round; stroke-width:4; stroke-opacity:1; fill:none\" points=\"389.002,1400.22 389.002,1445.72 437.523,1445.72 437.523,1400.22 389.002,1400.22 \"/>\n",
       "<path clip-path=\"url(#clip762)\" d=\"M437.523 1382.73 L437.523 1445.72 L486.045 1445.72 L486.045 1382.73 L437.523 1382.73 L437.523 1382.73  Z\" fill=\"#009af9\" fill-rule=\"evenodd\" fill-opacity=\"1\"/>\n",
       "<polyline clip-path=\"url(#clip762)\" style=\"stroke:#000000; stroke-linecap:round; stroke-linejoin:round; stroke-width:4; stroke-opacity:1; fill:none\" points=\"437.523,1382.73 437.523,1445.72 486.045,1445.72 486.045,1382.73 437.523,1382.73 \"/>\n",
       "<path clip-path=\"url(#clip762)\" d=\"M486.045 1396.73 L486.045 1445.72 L534.566 1445.72 L534.566 1396.73 L486.045 1396.73 L486.045 1396.73  Z\" fill=\"#009af9\" fill-rule=\"evenodd\" fill-opacity=\"1\"/>\n",
       "<polyline clip-path=\"url(#clip762)\" style=\"stroke:#000000; stroke-linecap:round; stroke-linejoin:round; stroke-width:4; stroke-opacity:1; fill:none\" points=\"486.045,1396.73 486.045,1445.72 534.566,1445.72 534.566,1396.73 486.045,1396.73 \"/>\n",
       "<path clip-path=\"url(#clip762)\" d=\"M534.566 1410.72 L534.566 1445.72 L583.087 1445.72 L583.087 1410.72 L534.566 1410.72 L534.566 1410.72  Z\" fill=\"#009af9\" fill-rule=\"evenodd\" fill-opacity=\"1\"/>\n",
       "<polyline clip-path=\"url(#clip762)\" style=\"stroke:#000000; stroke-linecap:round; stroke-linejoin:round; stroke-width:4; stroke-opacity:1; fill:none\" points=\"534.566,1410.72 534.566,1445.72 583.087,1445.72 583.087,1410.72 534.566,1410.72 \"/>\n",
       "<path clip-path=\"url(#clip762)\" d=\"M583.087 1417.72 L583.087 1445.72 L631.609 1445.72 L631.609 1417.72 L583.087 1417.72 L583.087 1417.72  Z\" fill=\"#009af9\" fill-rule=\"evenodd\" fill-opacity=\"1\"/>\n",
       "<polyline clip-path=\"url(#clip762)\" style=\"stroke:#000000; stroke-linecap:round; stroke-linejoin:round; stroke-width:4; stroke-opacity:1; fill:none\" points=\"583.087,1417.72 583.087,1445.72 631.609,1445.72 631.609,1417.72 583.087,1417.72 \"/>\n",
       "<path clip-path=\"url(#clip762)\" d=\"M631.609 1408.97 L631.609 1445.72 L680.13 1445.72 L680.13 1408.97 L631.609 1408.97 L631.609 1408.97  Z\" fill=\"#009af9\" fill-rule=\"evenodd\" fill-opacity=\"1\"/>\n",
       "<polyline clip-path=\"url(#clip762)\" style=\"stroke:#000000; stroke-linecap:round; stroke-linejoin:round; stroke-width:4; stroke-opacity:1; fill:none\" points=\"631.609,1408.97 631.609,1445.72 680.13,1445.72 680.13,1408.97 631.609,1408.97 \"/>\n",
       "<path clip-path=\"url(#clip762)\" d=\"M680.13 1380.98 L680.13 1445.72 L728.651 1445.72 L728.651 1380.98 L680.13 1380.98 L680.13 1380.98  Z\" fill=\"#009af9\" fill-rule=\"evenodd\" fill-opacity=\"1\"/>\n",
       "<polyline clip-path=\"url(#clip762)\" style=\"stroke:#000000; stroke-linecap:round; stroke-linejoin:round; stroke-width:4; stroke-opacity:1; fill:none\" points=\"680.13,1380.98 680.13,1445.72 728.651,1445.72 728.651,1380.98 680.13,1380.98 \"/>\n",
       "<path clip-path=\"url(#clip762)\" d=\"M728.651 1401.97 L728.651 1445.72 L777.172 1445.72 L777.172 1401.97 L728.651 1401.97 L728.651 1401.97  Z\" fill=\"#009af9\" fill-rule=\"evenodd\" fill-opacity=\"1\"/>\n",
       "<polyline clip-path=\"url(#clip762)\" style=\"stroke:#000000; stroke-linecap:round; stroke-linejoin:round; stroke-width:4; stroke-opacity:1; fill:none\" points=\"728.651,1401.97 728.651,1445.72 777.172,1445.72 777.172,1401.97 728.651,1401.97 \"/>\n",
       "<path clip-path=\"url(#clip762)\" d=\"M777.172 1370.48 L777.172 1445.72 L825.694 1445.72 L825.694 1370.48 L777.172 1370.48 L777.172 1370.48  Z\" fill=\"#009af9\" fill-rule=\"evenodd\" fill-opacity=\"1\"/>\n",
       "<polyline clip-path=\"url(#clip762)\" style=\"stroke:#000000; stroke-linecap:round; stroke-linejoin:round; stroke-width:4; stroke-opacity:1; fill:none\" points=\"777.172,1370.48 777.172,1445.72 825.694,1445.72 825.694,1370.48 777.172,1370.48 \"/>\n",
       "<path clip-path=\"url(#clip762)\" d=\"M825.694 1398.47 L825.694 1445.72 L874.215 1445.72 L874.215 1398.47 L825.694 1398.47 L825.694 1398.47  Z\" fill=\"#009af9\" fill-rule=\"evenodd\" fill-opacity=\"1\"/>\n",
       "<polyline clip-path=\"url(#clip762)\" style=\"stroke:#000000; stroke-linecap:round; stroke-linejoin:round; stroke-width:4; stroke-opacity:1; fill:none\" points=\"825.694,1398.47 825.694,1445.72 874.215,1445.72 874.215,1398.47 825.694,1398.47 \"/>\n",
       "<path clip-path=\"url(#clip762)\" d=\"M874.215 1400.22 L874.215 1445.72 L922.736 1445.72 L922.736 1400.22 L874.215 1400.22 L874.215 1400.22  Z\" fill=\"#009af9\" fill-rule=\"evenodd\" fill-opacity=\"1\"/>\n",
       "<polyline clip-path=\"url(#clip762)\" style=\"stroke:#000000; stroke-linecap:round; stroke-linejoin:round; stroke-width:4; stroke-opacity:1; fill:none\" points=\"874.215,1400.22 874.215,1445.72 922.736,1445.72 922.736,1400.22 874.215,1400.22 \"/>\n",
       "<path clip-path=\"url(#clip762)\" d=\"M922.736 1372.23 L922.736 1445.72 L971.258 1445.72 L971.258 1372.23 L922.736 1372.23 L922.736 1372.23  Z\" fill=\"#009af9\" fill-rule=\"evenodd\" fill-opacity=\"1\"/>\n",
       "<polyline clip-path=\"url(#clip762)\" style=\"stroke:#000000; stroke-linecap:round; stroke-linejoin:round; stroke-width:4; stroke-opacity:1; fill:none\" points=\"922.736,1372.23 922.736,1445.72 971.258,1445.72 971.258,1372.23 922.736,1372.23 \"/>\n",
       "<path clip-path=\"url(#clip762)\" d=\"M971.258 1396.73 L971.258 1445.72 L1019.78 1445.72 L1019.78 1396.73 L971.258 1396.73 L971.258 1396.73  Z\" fill=\"#009af9\" fill-rule=\"evenodd\" fill-opacity=\"1\"/>\n",
       "<polyline clip-path=\"url(#clip762)\" style=\"stroke:#000000; stroke-linecap:round; stroke-linejoin:round; stroke-width:4; stroke-opacity:1; fill:none\" points=\"971.258,1396.73 971.258,1445.72 1019.78,1445.72 1019.78,1396.73 971.258,1396.73 \"/>\n",
       "<path clip-path=\"url(#clip762)\" d=\"M1019.78 1424.72 L1019.78 1445.72 L1068.3 1445.72 L1068.3 1424.72 L1019.78 1424.72 L1019.78 1424.72  Z\" fill=\"#009af9\" fill-rule=\"evenodd\" fill-opacity=\"1\"/>\n",
       "<polyline clip-path=\"url(#clip762)\" style=\"stroke:#000000; stroke-linecap:round; stroke-linejoin:round; stroke-width:4; stroke-opacity:1; fill:none\" points=\"1019.78,1424.72 1019.78,1445.72 1068.3,1445.72 1068.3,1424.72 1019.78,1424.72 \"/>\n",
       "<path clip-path=\"url(#clip762)\" d=\"M1068.3 1412.47 L1068.3 1445.72 L1116.82 1445.72 L1116.82 1412.47 L1068.3 1412.47 L1068.3 1412.47  Z\" fill=\"#009af9\" fill-rule=\"evenodd\" fill-opacity=\"1\"/>\n",
       "<polyline clip-path=\"url(#clip762)\" style=\"stroke:#000000; stroke-linecap:round; stroke-linejoin:round; stroke-width:4; stroke-opacity:1; fill:none\" points=\"1068.3,1412.47 1068.3,1445.72 1116.82,1445.72 1116.82,1412.47 1068.3,1412.47 \"/>\n",
       "<path clip-path=\"url(#clip762)\" d=\"M1116.82 1407.22 L1116.82 1445.72 L1165.34 1445.72 L1165.34 1407.22 L1116.82 1407.22 L1116.82 1407.22  Z\" fill=\"#009af9\" fill-rule=\"evenodd\" fill-opacity=\"1\"/>\n",
       "<polyline clip-path=\"url(#clip762)\" style=\"stroke:#000000; stroke-linecap:round; stroke-linejoin:round; stroke-width:4; stroke-opacity:1; fill:none\" points=\"1116.82,1407.22 1116.82,1445.72 1165.34,1445.72 1165.34,1407.22 1116.82,1407.22 \"/>\n",
       "<path clip-path=\"url(#clip762)\" d=\"M1165.34 1368.73 L1165.34 1445.72 L1213.86 1445.72 L1213.86 1368.73 L1165.34 1368.73 L1165.34 1368.73  Z\" fill=\"#009af9\" fill-rule=\"evenodd\" fill-opacity=\"1\"/>\n",
       "<polyline clip-path=\"url(#clip762)\" style=\"stroke:#000000; stroke-linecap:round; stroke-linejoin:round; stroke-width:4; stroke-opacity:1; fill:none\" points=\"1165.34,1368.73 1165.34,1445.72 1213.86,1445.72 1213.86,1368.73 1165.34,1368.73 \"/>\n",
       "<path clip-path=\"url(#clip762)\" d=\"M1213.86 1391.48 L1213.86 1445.72 L1262.39 1445.72 L1262.39 1391.48 L1213.86 1391.48 L1213.86 1391.48  Z\" fill=\"#009af9\" fill-rule=\"evenodd\" fill-opacity=\"1\"/>\n",
       "<polyline clip-path=\"url(#clip762)\" style=\"stroke:#000000; stroke-linecap:round; stroke-linejoin:round; stroke-width:4; stroke-opacity:1; fill:none\" points=\"1213.86,1391.48 1213.86,1445.72 1262.39,1445.72 1262.39,1391.48 1213.86,1391.48 \"/>\n",
       "<path clip-path=\"url(#clip762)\" d=\"M1262.39 87.9763 L1262.39 1445.72 L1310.91 1445.72 L1310.91 87.9763 L1262.39 87.9763 L1262.39 87.9763  Z\" fill=\"#009af9\" fill-rule=\"evenodd\" fill-opacity=\"1\"/>\n",
       "<polyline clip-path=\"url(#clip762)\" style=\"stroke:#000000; stroke-linecap:round; stroke-linejoin:round; stroke-width:4; stroke-opacity:1; fill:none\" points=\"1262.39,87.9763 1262.39,1445.72 1310.91,1445.72 1310.91,87.9763 1262.39,87.9763 \"/>\n",
       "<path clip-path=\"url(#clip762)\" d=\"M1310.91 1382.73 L1310.91 1445.72 L1359.43 1445.72 L1359.43 1382.73 L1310.91 1382.73 L1310.91 1382.73  Z\" fill=\"#009af9\" fill-rule=\"evenodd\" fill-opacity=\"1\"/>\n",
       "<polyline clip-path=\"url(#clip762)\" style=\"stroke:#000000; stroke-linecap:round; stroke-linejoin:round; stroke-width:4; stroke-opacity:1; fill:none\" points=\"1310.91,1382.73 1310.91,1445.72 1359.43,1445.72 1359.43,1382.73 1310.91,1382.73 \"/>\n",
       "<path clip-path=\"url(#clip762)\" d=\"M1359.43 1384.48 L1359.43 1445.72 L1407.95 1445.72 L1407.95 1384.48 L1359.43 1384.48 L1359.43 1384.48  Z\" fill=\"#009af9\" fill-rule=\"evenodd\" fill-opacity=\"1\"/>\n",
       "<polyline clip-path=\"url(#clip762)\" style=\"stroke:#000000; stroke-linecap:round; stroke-linejoin:round; stroke-width:4; stroke-opacity:1; fill:none\" points=\"1359.43,1384.48 1359.43,1445.72 1407.95,1445.72 1407.95,1384.48 1359.43,1384.48 \"/>\n",
       "<path clip-path=\"url(#clip762)\" d=\"M1407.95 1414.22 L1407.95 1445.72 L1456.47 1445.72 L1456.47 1414.22 L1407.95 1414.22 L1407.95 1414.22  Z\" fill=\"#009af9\" fill-rule=\"evenodd\" fill-opacity=\"1\"/>\n",
       "<polyline clip-path=\"url(#clip762)\" style=\"stroke:#000000; stroke-linecap:round; stroke-linejoin:round; stroke-width:4; stroke-opacity:1; fill:none\" points=\"1407.95,1414.22 1407.95,1445.72 1456.47,1445.72 1456.47,1414.22 1407.95,1414.22 \"/>\n",
       "<path clip-path=\"url(#clip762)\" d=\"M1456.47 1386.23 L1456.47 1445.72 L1504.99 1445.72 L1504.99 1386.23 L1456.47 1386.23 L1456.47 1386.23  Z\" fill=\"#009af9\" fill-rule=\"evenodd\" fill-opacity=\"1\"/>\n",
       "<polyline clip-path=\"url(#clip762)\" style=\"stroke:#000000; stroke-linecap:round; stroke-linejoin:round; stroke-width:4; stroke-opacity:1; fill:none\" points=\"1456.47,1386.23 1456.47,1445.72 1504.99,1445.72 1504.99,1386.23 1456.47,1386.23 \"/>\n",
       "<path clip-path=\"url(#clip762)\" d=\"M1504.99 1400.22 L1504.99 1445.72 L1553.51 1445.72 L1553.51 1400.22 L1504.99 1400.22 L1504.99 1400.22  Z\" fill=\"#009af9\" fill-rule=\"evenodd\" fill-opacity=\"1\"/>\n",
       "<polyline clip-path=\"url(#clip762)\" style=\"stroke:#000000; stroke-linecap:round; stroke-linejoin:round; stroke-width:4; stroke-opacity:1; fill:none\" points=\"1504.99,1400.22 1504.99,1445.72 1553.51,1445.72 1553.51,1400.22 1504.99,1400.22 \"/>\n",
       "<path clip-path=\"url(#clip762)\" d=\"M1553.51 1422.97 L1553.51 1445.72 L1602.03 1445.72 L1602.03 1422.97 L1553.51 1422.97 L1553.51 1422.97  Z\" fill=\"#009af9\" fill-rule=\"evenodd\" fill-opacity=\"1\"/>\n",
       "<polyline clip-path=\"url(#clip762)\" style=\"stroke:#000000; stroke-linecap:round; stroke-linejoin:round; stroke-width:4; stroke-opacity:1; fill:none\" points=\"1553.51,1422.97 1553.51,1445.72 1602.03,1445.72 1602.03,1422.97 1553.51,1422.97 \"/>\n",
       "<path clip-path=\"url(#clip762)\" d=\"M1602.03 1396.73 L1602.03 1445.72 L1650.56 1445.72 L1650.56 1396.73 L1602.03 1396.73 L1602.03 1396.73  Z\" fill=\"#009af9\" fill-rule=\"evenodd\" fill-opacity=\"1\"/>\n",
       "<polyline clip-path=\"url(#clip762)\" style=\"stroke:#000000; stroke-linecap:round; stroke-linejoin:round; stroke-width:4; stroke-opacity:1; fill:none\" points=\"1602.03,1396.73 1602.03,1445.72 1650.56,1445.72 1650.56,1396.73 1602.03,1396.73 \"/>\n",
       "<path clip-path=\"url(#clip762)\" d=\"M1650.56 1403.72 L1650.56 1445.72 L1699.08 1445.72 L1699.08 1403.72 L1650.56 1403.72 L1650.56 1403.72  Z\" fill=\"#009af9\" fill-rule=\"evenodd\" fill-opacity=\"1\"/>\n",
       "<polyline clip-path=\"url(#clip762)\" style=\"stroke:#000000; stroke-linecap:round; stroke-linejoin:round; stroke-width:4; stroke-opacity:1; fill:none\" points=\"1650.56,1403.72 1650.56,1445.72 1699.08,1445.72 1699.08,1403.72 1650.56,1403.72 \"/>\n",
       "<path clip-path=\"url(#clip762)\" d=\"M1699.08 1429.97 L1699.08 1445.72 L1747.6 1445.72 L1747.6 1429.97 L1699.08 1429.97 L1699.08 1429.97  Z\" fill=\"#009af9\" fill-rule=\"evenodd\" fill-opacity=\"1\"/>\n",
       "<polyline clip-path=\"url(#clip762)\" style=\"stroke:#000000; stroke-linecap:round; stroke-linejoin:round; stroke-width:4; stroke-opacity:1; fill:none\" points=\"1699.08,1429.97 1699.08,1445.72 1747.6,1445.72 1747.6,1429.97 1699.08,1429.97 \"/>\n",
       "<path clip-path=\"url(#clip762)\" d=\"M1747.6 1417.72 L1747.6 1445.72 L1796.12 1445.72 L1796.12 1417.72 L1747.6 1417.72 L1747.6 1417.72  Z\" fill=\"#009af9\" fill-rule=\"evenodd\" fill-opacity=\"1\"/>\n",
       "<polyline clip-path=\"url(#clip762)\" style=\"stroke:#000000; stroke-linecap:round; stroke-linejoin:round; stroke-width:4; stroke-opacity:1; fill:none\" points=\"1747.6,1417.72 1747.6,1445.72 1796.12,1445.72 1796.12,1417.72 1747.6,1417.72 \"/>\n",
       "<path clip-path=\"url(#clip762)\" d=\"M1796.12 1428.22 L1796.12 1445.72 L1844.64 1445.72 L1844.64 1428.22 L1796.12 1428.22 L1796.12 1428.22  Z\" fill=\"#009af9\" fill-rule=\"evenodd\" fill-opacity=\"1\"/>\n",
       "<polyline clip-path=\"url(#clip762)\" style=\"stroke:#000000; stroke-linecap:round; stroke-linejoin:round; stroke-width:4; stroke-opacity:1; fill:none\" points=\"1796.12,1428.22 1796.12,1445.72 1844.64,1445.72 1844.64,1428.22 1796.12,1428.22 \"/>\n",
       "<path clip-path=\"url(#clip762)\" d=\"M1844.64 1414.22 L1844.64 1445.72 L1893.16 1445.72 L1893.16 1414.22 L1844.64 1414.22 L1844.64 1414.22  Z\" fill=\"#009af9\" fill-rule=\"evenodd\" fill-opacity=\"1\"/>\n",
       "<polyline clip-path=\"url(#clip762)\" style=\"stroke:#000000; stroke-linecap:round; stroke-linejoin:round; stroke-width:4; stroke-opacity:1; fill:none\" points=\"1844.64,1414.22 1844.64,1445.72 1893.16,1445.72 1893.16,1414.22 1844.64,1414.22 \"/>\n",
       "<path clip-path=\"url(#clip762)\" d=\"M1893.16 1401.97 L1893.16 1445.72 L1941.68 1445.72 L1941.68 1401.97 L1893.16 1401.97 L1893.16 1401.97  Z\" fill=\"#009af9\" fill-rule=\"evenodd\" fill-opacity=\"1\"/>\n",
       "<polyline clip-path=\"url(#clip762)\" style=\"stroke:#000000; stroke-linecap:round; stroke-linejoin:round; stroke-width:4; stroke-opacity:1; fill:none\" points=\"1893.16,1401.97 1893.16,1445.72 1941.68,1445.72 1941.68,1401.97 1893.16,1401.97 \"/>\n",
       "<path clip-path=\"url(#clip762)\" d=\"M1941.68 1393.23 L1941.68 1445.72 L1990.2 1445.72 L1990.2 1393.23 L1941.68 1393.23 L1941.68 1393.23  Z\" fill=\"#009af9\" fill-rule=\"evenodd\" fill-opacity=\"1\"/>\n",
       "<polyline clip-path=\"url(#clip762)\" style=\"stroke:#000000; stroke-linecap:round; stroke-linejoin:round; stroke-width:4; stroke-opacity:1; fill:none\" points=\"1941.68,1393.23 1941.68,1445.72 1990.2,1445.72 1990.2,1393.23 1941.68,1393.23 \"/>\n",
       "<path clip-path=\"url(#clip762)\" d=\"M1990.2 1396.73 L1990.2 1445.72 L2038.73 1445.72 L2038.73 1396.73 L1990.2 1396.73 L1990.2 1396.73  Z\" fill=\"#009af9\" fill-rule=\"evenodd\" fill-opacity=\"1\"/>\n",
       "<polyline clip-path=\"url(#clip762)\" style=\"stroke:#000000; stroke-linecap:round; stroke-linejoin:round; stroke-width:4; stroke-opacity:1; fill:none\" points=\"1990.2,1396.73 1990.2,1445.72 2038.73,1445.72 2038.73,1396.73 1990.2,1396.73 \"/>\n",
       "<path clip-path=\"url(#clip762)\" d=\"M2038.73 1414.22 L2038.73 1445.72 L2087.25 1445.72 L2087.25 1414.22 L2038.73 1414.22 L2038.73 1414.22  Z\" fill=\"#009af9\" fill-rule=\"evenodd\" fill-opacity=\"1\"/>\n",
       "<polyline clip-path=\"url(#clip762)\" style=\"stroke:#000000; stroke-linecap:round; stroke-linejoin:round; stroke-width:4; stroke-opacity:1; fill:none\" points=\"2038.73,1414.22 2038.73,1445.72 2087.25,1445.72 2087.25,1414.22 2038.73,1414.22 \"/>\n",
       "<path clip-path=\"url(#clip762)\" d=\"M2087.25 1389.73 L2087.25 1445.72 L2135.77 1445.72 L2135.77 1389.73 L2087.25 1389.73 L2087.25 1389.73  Z\" fill=\"#009af9\" fill-rule=\"evenodd\" fill-opacity=\"1\"/>\n",
       "<polyline clip-path=\"url(#clip762)\" style=\"stroke:#000000; stroke-linecap:round; stroke-linejoin:round; stroke-width:4; stroke-opacity:1; fill:none\" points=\"2087.25,1389.73 2087.25,1445.72 2135.77,1445.72 2135.77,1389.73 2087.25,1389.73 \"/>\n",
       "<path clip-path=\"url(#clip762)\" d=\"M2135.77 1403.72 L2135.77 1445.72 L2184.29 1445.72 L2184.29 1403.72 L2135.77 1403.72 L2135.77 1403.72  Z\" fill=\"#009af9\" fill-rule=\"evenodd\" fill-opacity=\"1\"/>\n",
       "<polyline clip-path=\"url(#clip762)\" style=\"stroke:#000000; stroke-linecap:round; stroke-linejoin:round; stroke-width:4; stroke-opacity:1; fill:none\" points=\"2135.77,1403.72 2135.77,1445.72 2184.29,1445.72 2184.29,1403.72 2135.77,1403.72 \"/>\n",
       "<path clip-path=\"url(#clip762)\" d=\"M2184.29 1400.22 L2184.29 1445.72 L2232.81 1445.72 L2232.81 1400.22 L2184.29 1400.22 L2184.29 1400.22  Z\" fill=\"#009af9\" fill-rule=\"evenodd\" fill-opacity=\"1\"/>\n",
       "<polyline clip-path=\"url(#clip762)\" style=\"stroke:#000000; stroke-linecap:round; stroke-linejoin:round; stroke-width:4; stroke-opacity:1; fill:none\" points=\"2184.29,1400.22 2184.29,1445.72 2232.81,1445.72 2232.81,1400.22 2184.29,1400.22 \"/>\n",
       "<circle clip-path=\"url(#clip762)\" style=\"fill:#009af9; stroke:none; fill-opacity:0\" cx=\"316.22\" cy=\"1408.97\" r=\"2\"/>\n",
       "<circle clip-path=\"url(#clip762)\" style=\"fill:#009af9; stroke:none; fill-opacity:0\" cx=\"364.741\" cy=\"1428.22\" r=\"2\"/>\n",
       "<circle clip-path=\"url(#clip762)\" style=\"fill:#009af9; stroke:none; fill-opacity:0\" cx=\"413.263\" cy=\"1400.22\" r=\"2\"/>\n",
       "<circle clip-path=\"url(#clip762)\" style=\"fill:#009af9; stroke:none; fill-opacity:0\" cx=\"461.784\" cy=\"1382.73\" r=\"2\"/>\n",
       "<circle clip-path=\"url(#clip762)\" style=\"fill:#009af9; stroke:none; fill-opacity:0\" cx=\"510.305\" cy=\"1396.73\" r=\"2\"/>\n",
       "<circle clip-path=\"url(#clip762)\" style=\"fill:#009af9; stroke:none; fill-opacity:0\" cx=\"558.827\" cy=\"1410.72\" r=\"2\"/>\n",
       "<circle clip-path=\"url(#clip762)\" style=\"fill:#009af9; stroke:none; fill-opacity:0\" cx=\"607.348\" cy=\"1417.72\" r=\"2\"/>\n",
       "<circle clip-path=\"url(#clip762)\" style=\"fill:#009af9; stroke:none; fill-opacity:0\" cx=\"655.869\" cy=\"1408.97\" r=\"2\"/>\n",
       "<circle clip-path=\"url(#clip762)\" style=\"fill:#009af9; stroke:none; fill-opacity:0\" cx=\"704.39\" cy=\"1380.98\" r=\"2\"/>\n",
       "<circle clip-path=\"url(#clip762)\" style=\"fill:#009af9; stroke:none; fill-opacity:0\" cx=\"752.912\" cy=\"1401.97\" r=\"2\"/>\n",
       "<circle clip-path=\"url(#clip762)\" style=\"fill:#009af9; stroke:none; fill-opacity:0\" cx=\"801.433\" cy=\"1370.48\" r=\"2\"/>\n",
       "<circle clip-path=\"url(#clip762)\" style=\"fill:#009af9; stroke:none; fill-opacity:0\" cx=\"849.954\" cy=\"1398.47\" r=\"2\"/>\n",
       "<circle clip-path=\"url(#clip762)\" style=\"fill:#009af9; stroke:none; fill-opacity:0\" cx=\"898.476\" cy=\"1400.22\" r=\"2\"/>\n",
       "<circle clip-path=\"url(#clip762)\" style=\"fill:#009af9; stroke:none; fill-opacity:0\" cx=\"946.997\" cy=\"1372.23\" r=\"2\"/>\n",
       "<circle clip-path=\"url(#clip762)\" style=\"fill:#009af9; stroke:none; fill-opacity:0\" cx=\"995.518\" cy=\"1396.73\" r=\"2\"/>\n",
       "<circle clip-path=\"url(#clip762)\" style=\"fill:#009af9; stroke:none; fill-opacity:0\" cx=\"1044.04\" cy=\"1424.72\" r=\"2\"/>\n",
       "<circle clip-path=\"url(#clip762)\" style=\"fill:#009af9; stroke:none; fill-opacity:0\" cx=\"1092.56\" cy=\"1412.47\" r=\"2\"/>\n",
       "<circle clip-path=\"url(#clip762)\" style=\"fill:#009af9; stroke:none; fill-opacity:0\" cx=\"1141.08\" cy=\"1407.22\" r=\"2\"/>\n",
       "<circle clip-path=\"url(#clip762)\" style=\"fill:#009af9; stroke:none; fill-opacity:0\" cx=\"1189.6\" cy=\"1368.73\" r=\"2\"/>\n",
       "<circle clip-path=\"url(#clip762)\" style=\"fill:#009af9; stroke:none; fill-opacity:0\" cx=\"1238.12\" cy=\"1391.48\" r=\"2\"/>\n",
       "<circle clip-path=\"url(#clip762)\" style=\"fill:#009af9; stroke:none; fill-opacity:0\" cx=\"1286.65\" cy=\"87.9763\" r=\"2\"/>\n",
       "<circle clip-path=\"url(#clip762)\" style=\"fill:#009af9; stroke:none; fill-opacity:0\" cx=\"1335.17\" cy=\"1382.73\" r=\"2\"/>\n",
       "<circle clip-path=\"url(#clip762)\" style=\"fill:#009af9; stroke:none; fill-opacity:0\" cx=\"1383.69\" cy=\"1384.48\" r=\"2\"/>\n",
       "<circle clip-path=\"url(#clip762)\" style=\"fill:#009af9; stroke:none; fill-opacity:0\" cx=\"1432.21\" cy=\"1414.22\" r=\"2\"/>\n",
       "<circle clip-path=\"url(#clip762)\" style=\"fill:#009af9; stroke:none; fill-opacity:0\" cx=\"1480.73\" cy=\"1386.23\" r=\"2\"/>\n",
       "<circle clip-path=\"url(#clip762)\" style=\"fill:#009af9; stroke:none; fill-opacity:0\" cx=\"1529.25\" cy=\"1400.22\" r=\"2\"/>\n",
       "<circle clip-path=\"url(#clip762)\" style=\"fill:#009af9; stroke:none; fill-opacity:0\" cx=\"1577.77\" cy=\"1422.97\" r=\"2\"/>\n",
       "<circle clip-path=\"url(#clip762)\" style=\"fill:#009af9; stroke:none; fill-opacity:0\" cx=\"1626.3\" cy=\"1396.73\" r=\"2\"/>\n",
       "<circle clip-path=\"url(#clip762)\" style=\"fill:#009af9; stroke:none; fill-opacity:0\" cx=\"1674.82\" cy=\"1403.72\" r=\"2\"/>\n",
       "<circle clip-path=\"url(#clip762)\" style=\"fill:#009af9; stroke:none; fill-opacity:0\" cx=\"1723.34\" cy=\"1429.97\" r=\"2\"/>\n",
       "<circle clip-path=\"url(#clip762)\" style=\"fill:#009af9; stroke:none; fill-opacity:0\" cx=\"1771.86\" cy=\"1417.72\" r=\"2\"/>\n",
       "<circle clip-path=\"url(#clip762)\" style=\"fill:#009af9; stroke:none; fill-opacity:0\" cx=\"1820.38\" cy=\"1428.22\" r=\"2\"/>\n",
       "<circle clip-path=\"url(#clip762)\" style=\"fill:#009af9; stroke:none; fill-opacity:0\" cx=\"1868.9\" cy=\"1414.22\" r=\"2\"/>\n",
       "<circle clip-path=\"url(#clip762)\" style=\"fill:#009af9; stroke:none; fill-opacity:0\" cx=\"1917.42\" cy=\"1401.97\" r=\"2\"/>\n",
       "<circle clip-path=\"url(#clip762)\" style=\"fill:#009af9; stroke:none; fill-opacity:0\" cx=\"1965.94\" cy=\"1393.23\" r=\"2\"/>\n",
       "<circle clip-path=\"url(#clip762)\" style=\"fill:#009af9; stroke:none; fill-opacity:0\" cx=\"2014.47\" cy=\"1396.73\" r=\"2\"/>\n",
       "<circle clip-path=\"url(#clip762)\" style=\"fill:#009af9; stroke:none; fill-opacity:0\" cx=\"2062.99\" cy=\"1414.22\" r=\"2\"/>\n",
       "<circle clip-path=\"url(#clip762)\" style=\"fill:#009af9; stroke:none; fill-opacity:0\" cx=\"2111.51\" cy=\"1389.73\" r=\"2\"/>\n",
       "<circle clip-path=\"url(#clip762)\" style=\"fill:#009af9; stroke:none; fill-opacity:0\" cx=\"2160.03\" cy=\"1403.72\" r=\"2\"/>\n",
       "<circle clip-path=\"url(#clip762)\" style=\"fill:#009af9; stroke:none; fill-opacity:0\" cx=\"2208.55\" cy=\"1400.22\" r=\"2\"/>\n",
       "<path clip-path=\"url(#clip760)\" d=\"M2009.56 198.898 L2280.06 198.898 L2280.06 95.2176 L2009.56 95.2176  Z\" fill=\"#ffffff\" fill-rule=\"evenodd\" fill-opacity=\"1\"/>\n",
       "<polyline clip-path=\"url(#clip760)\" style=\"stroke:#000000; stroke-linecap:round; stroke-linejoin:round; stroke-width:4; stroke-opacity:1; fill:none\" points=\"2009.56,198.898 2280.06,198.898 2280.06,95.2176 2009.56,95.2176 2009.56,198.898 \"/>\n",
       "<path clip-path=\"url(#clip760)\" d=\"M2033.79 167.794 L2179.17 167.794 L2179.17 126.322 L2033.79 126.322 L2033.79 167.794  Z\" fill=\"#009af9\" fill-rule=\"evenodd\" fill-opacity=\"1\"/>\n",
       "<polyline clip-path=\"url(#clip760)\" style=\"stroke:#000000; stroke-linecap:round; stroke-linejoin:round; stroke-width:4; stroke-opacity:1; fill:none\" points=\"2033.79,167.794 2179.17,167.794 2179.17,126.322 2033.79,126.322 2033.79,167.794 \"/>\n",
       "<path clip-path=\"url(#clip760)\" d=\"M2217.25 166.745 Q2215.44 171.375 2213.73 172.787 Q2212.01 174.199 2209.14 174.199 L2205.74 174.199 L2205.74 170.634 L2208.24 170.634 Q2210 170.634 2210.97 169.8 Q2211.95 168.967 2213.13 165.865 L2213.89 163.921 L2203.4 138.412 L2207.92 138.412 L2216.02 158.689 L2224.12 138.412 L2228.64 138.412 L2217.25 166.745 Z\" fill=\"#000000\" fill-rule=\"evenodd\" fill-opacity=\"1\" /><path clip-path=\"url(#clip760)\" d=\"M2235.93 160.402 L2243.57 160.402 L2243.57 134.037 L2235.26 135.703 L2235.26 131.444 L2243.52 129.778 L2248.2 129.778 L2248.2 160.402 L2255.83 160.402 L2255.83 164.338 L2235.93 164.338 L2235.93 160.402 Z\" fill=\"#000000\" fill-rule=\"evenodd\" fill-opacity=\"1\" /></svg>\n"
      ]
     },
     "execution_count": 7,
     "metadata": {},
     "output_type": "execute_result"
    }
   ],
   "source": [
    "histogram(read(stn_3))"
   ]
  },
  {
   "cell_type": "code",
   "execution_count": 10,
   "id": "cda2f589",
   "metadata": {},
   "outputs": [
    {
     "data": {
      "text/plain": [
       "🔢 HDF5.Dataset: /dataset_d_100_run_2023-04-11T00:40:27.470/station_commuter_count/station_2/count (file: data/runsData.h5 xfer_mode: 0)"
      ]
     },
     "execution_count": 10,
     "metadata": {},
     "output_type": "execute_result"
    }
   ],
   "source": [
    "f = data[\"dataset_d_100_run_2023-04-11T00:40:27.470/station_commuter_count/station_2/count\"]"
   ]
  },
  {
   "cell_type": "code",
   "execution_count": 11,
   "id": "3fa1ea89",
   "metadata": {},
   "outputs": [
    {
     "data": {
      "image/svg+xml": [
       "<?xml version=\"1.0\" encoding=\"utf-8\"?>\n",
       "<svg xmlns=\"http://www.w3.org/2000/svg\" xmlns:xlink=\"http://www.w3.org/1999/xlink\" width=\"600\" height=\"400\" viewBox=\"0 0 2400 1600\">\n",
       "<defs>\n",
       "  <clipPath id=\"clip090\">\n",
       "    <rect x=\"0\" y=\"0\" width=\"2400\" height=\"1600\"/>\n",
       "  </clipPath>\n",
       "</defs>\n",
       "<path clip-path=\"url(#clip090)\" d=\"M0 1600 L2400 1600 L2400 0 L0 0  Z\" fill=\"#ffffff\" fill-rule=\"evenodd\" fill-opacity=\"1\"/>\n",
       "<defs>\n",
       "  <clipPath id=\"clip091\">\n",
       "    <rect x=\"480\" y=\"0\" width=\"1681\" height=\"1600\"/>\n",
       "  </clipPath>\n",
       "</defs>\n",
       "<path clip-path=\"url(#clip090)\" d=\"M141.853 1486.45 L2352.76 1486.45 L2352.76 47.2441 L141.853 47.2441  Z\" fill=\"#ffffff\" fill-rule=\"evenodd\" fill-opacity=\"1\"/>\n",
       "<defs>\n",
       "  <clipPath id=\"clip092\">\n",
       "    <rect x=\"141\" y=\"47\" width=\"2212\" height=\"1440\"/>\n",
       "  </clipPath>\n",
       "</defs>\n",
       "<polyline clip-path=\"url(#clip092)\" style=\"stroke:#000000; stroke-linecap:round; stroke-linejoin:round; stroke-width:2; stroke-opacity:0.1; fill:none\" points=\"202.144,1486.45 202.144,47.2441 \"/>\n",
       "<polyline clip-path=\"url(#clip092)\" style=\"stroke:#000000; stroke-linecap:round; stroke-linejoin:round; stroke-width:2; stroke-opacity:0.1; fill:none\" points=\"658.546,1486.45 658.546,47.2441 \"/>\n",
       "<polyline clip-path=\"url(#clip092)\" style=\"stroke:#000000; stroke-linecap:round; stroke-linejoin:round; stroke-width:2; stroke-opacity:0.1; fill:none\" points=\"1114.95,1486.45 1114.95,47.2441 \"/>\n",
       "<polyline clip-path=\"url(#clip092)\" style=\"stroke:#000000; stroke-linecap:round; stroke-linejoin:round; stroke-width:2; stroke-opacity:0.1; fill:none\" points=\"1571.35,1486.45 1571.35,47.2441 \"/>\n",
       "<polyline clip-path=\"url(#clip092)\" style=\"stroke:#000000; stroke-linecap:round; stroke-linejoin:round; stroke-width:2; stroke-opacity:0.1; fill:none\" points=\"2027.75,1486.45 2027.75,47.2441 \"/>\n",
       "<polyline clip-path=\"url(#clip090)\" style=\"stroke:#000000; stroke-linecap:round; stroke-linejoin:round; stroke-width:4; stroke-opacity:1; fill:none\" points=\"141.853,1486.45 2352.76,1486.45 \"/>\n",
       "<polyline clip-path=\"url(#clip090)\" style=\"stroke:#000000; stroke-linecap:round; stroke-linejoin:round; stroke-width:4; stroke-opacity:1; fill:none\" points=\"202.144,1486.45 202.144,1467.55 \"/>\n",
       "<polyline clip-path=\"url(#clip090)\" style=\"stroke:#000000; stroke-linecap:round; stroke-linejoin:round; stroke-width:4; stroke-opacity:1; fill:none\" points=\"658.546,1486.45 658.546,1467.55 \"/>\n",
       "<polyline clip-path=\"url(#clip090)\" style=\"stroke:#000000; stroke-linecap:round; stroke-linejoin:round; stroke-width:4; stroke-opacity:1; fill:none\" points=\"1114.95,1486.45 1114.95,1467.55 \"/>\n",
       "<polyline clip-path=\"url(#clip090)\" style=\"stroke:#000000; stroke-linecap:round; stroke-linejoin:round; stroke-width:4; stroke-opacity:1; fill:none\" points=\"1571.35,1486.45 1571.35,1467.55 \"/>\n",
       "<polyline clip-path=\"url(#clip090)\" style=\"stroke:#000000; stroke-linecap:round; stroke-linejoin:round; stroke-width:4; stroke-opacity:1; fill:none\" points=\"2027.75,1486.45 2027.75,1467.55 \"/>\n",
       "<path clip-path=\"url(#clip090)\" d=\"M202.144 1517.37 Q198.533 1517.37 196.704 1520.93 Q194.898 1524.47 194.898 1531.6 Q194.898 1538.71 196.704 1542.27 Q198.533 1545.82 202.144 1545.82 Q205.778 1545.82 207.583 1542.27 Q209.412 1538.71 209.412 1531.6 Q209.412 1524.47 207.583 1520.93 Q205.778 1517.37 202.144 1517.37 M202.144 1513.66 Q207.954 1513.66 211.009 1518.27 Q214.088 1522.85 214.088 1531.6 Q214.088 1540.33 211.009 1544.94 Q207.954 1549.52 202.144 1549.52 Q196.334 1549.52 193.255 1544.94 Q190.199 1540.33 190.199 1531.6 Q190.199 1522.85 193.255 1518.27 Q196.334 1513.66 202.144 1513.66 Z\" fill=\"#000000\" fill-rule=\"evenodd\" fill-opacity=\"1\" /><path clip-path=\"url(#clip090)\" d=\"M622.238 1544.91 L638.557 1544.91 L638.557 1548.85 L616.613 1548.85 L616.613 1544.91 Q619.275 1542.16 623.858 1537.53 Q628.465 1532.88 629.645 1531.53 Q631.891 1529.01 632.77 1527.27 Q633.673 1525.51 633.673 1523.82 Q633.673 1521.07 631.729 1519.33 Q629.807 1517.6 626.706 1517.6 Q624.507 1517.6 622.053 1518.36 Q619.622 1519.13 616.845 1520.68 L616.845 1515.95 Q619.669 1514.82 622.122 1514.24 Q624.576 1513.66 626.613 1513.66 Q631.983 1513.66 635.178 1516.35 Q638.372 1519.03 638.372 1523.52 Q638.372 1525.65 637.562 1527.57 Q636.775 1529.47 634.669 1532.07 Q634.09 1532.74 630.988 1535.95 Q627.886 1539.15 622.238 1544.91 Z\" fill=\"#000000\" fill-rule=\"evenodd\" fill-opacity=\"1\" /><path clip-path=\"url(#clip090)\" d=\"M658.372 1517.37 Q654.761 1517.37 652.932 1520.93 Q651.127 1524.47 651.127 1531.6 Q651.127 1538.71 652.932 1542.27 Q654.761 1545.82 658.372 1545.82 Q662.006 1545.82 663.812 1542.27 Q665.641 1538.71 665.641 1531.6 Q665.641 1524.47 663.812 1520.93 Q662.006 1517.37 658.372 1517.37 M658.372 1513.66 Q664.182 1513.66 667.238 1518.27 Q670.317 1522.85 670.317 1531.6 Q670.317 1540.33 667.238 1544.94 Q664.182 1549.52 658.372 1549.52 Q652.562 1549.52 649.483 1544.94 Q646.428 1540.33 646.428 1531.6 Q646.428 1522.85 649.483 1518.27 Q652.562 1513.66 658.372 1513.66 Z\" fill=\"#000000\" fill-rule=\"evenodd\" fill-opacity=\"1\" /><path clip-path=\"url(#clip090)\" d=\"M688.534 1517.37 Q684.923 1517.37 683.094 1520.93 Q681.289 1524.47 681.289 1531.6 Q681.289 1538.71 683.094 1542.27 Q684.923 1545.82 688.534 1545.82 Q692.168 1545.82 693.974 1542.27 Q695.802 1538.71 695.802 1531.6 Q695.802 1524.47 693.974 1520.93 Q692.168 1517.37 688.534 1517.37 M688.534 1513.66 Q694.344 1513.66 697.4 1518.27 Q700.478 1522.85 700.478 1531.6 Q700.478 1540.33 697.4 1544.94 Q694.344 1549.52 688.534 1549.52 Q682.724 1549.52 679.645 1544.94 Q676.59 1540.33 676.59 1531.6 Q676.59 1522.85 679.645 1518.27 Q682.724 1513.66 688.534 1513.66 Z\" fill=\"#000000\" fill-rule=\"evenodd\" fill-opacity=\"1\" /><path clip-path=\"url(#clip090)\" d=\"M1088.04 1518.36 L1076.23 1536.81 L1088.04 1536.81 L1088.04 1518.36 M1086.81 1514.29 L1092.69 1514.29 L1092.69 1536.81 L1097.62 1536.81 L1097.62 1540.7 L1092.69 1540.7 L1092.69 1548.85 L1088.04 1548.85 L1088.04 1540.7 L1072.44 1540.7 L1072.44 1536.19 L1086.81 1514.29 Z\" fill=\"#000000\" fill-rule=\"evenodd\" fill-opacity=\"1\" /><path clip-path=\"url(#clip090)\" d=\"M1115.35 1517.37 Q1111.74 1517.37 1109.91 1520.93 Q1108.11 1524.47 1108.11 1531.6 Q1108.11 1538.71 1109.91 1542.27 Q1111.74 1545.82 1115.35 1545.82 Q1118.99 1545.82 1120.79 1542.27 Q1122.62 1538.71 1122.62 1531.6 Q1122.62 1524.47 1120.79 1520.93 Q1118.99 1517.37 1115.35 1517.37 M1115.35 1513.66 Q1121.16 1513.66 1124.22 1518.27 Q1127.3 1522.85 1127.3 1531.6 Q1127.3 1540.33 1124.22 1544.94 Q1121.16 1549.52 1115.35 1549.52 Q1109.54 1549.52 1106.46 1544.94 Q1103.41 1540.33 1103.41 1531.6 Q1103.41 1522.85 1106.46 1518.27 Q1109.54 1513.66 1115.35 1513.66 Z\" fill=\"#000000\" fill-rule=\"evenodd\" fill-opacity=\"1\" /><path clip-path=\"url(#clip090)\" d=\"M1145.51 1517.37 Q1141.9 1517.37 1140.08 1520.93 Q1138.27 1524.47 1138.27 1531.6 Q1138.27 1538.71 1140.08 1542.27 Q1141.9 1545.82 1145.51 1545.82 Q1149.15 1545.82 1150.95 1542.27 Q1152.78 1538.71 1152.78 1531.6 Q1152.78 1524.47 1150.95 1520.93 Q1149.15 1517.37 1145.51 1517.37 M1145.51 1513.66 Q1151.32 1513.66 1154.38 1518.27 Q1157.46 1522.85 1157.46 1531.6 Q1157.46 1540.33 1154.38 1544.94 Q1151.32 1549.52 1145.51 1549.52 Q1139.7 1549.52 1136.63 1544.94 Q1133.57 1540.33 1133.57 1531.6 Q1133.57 1522.85 1136.63 1518.27 Q1139.7 1513.66 1145.51 1513.66 Z\" fill=\"#000000\" fill-rule=\"evenodd\" fill-opacity=\"1\" /><path clip-path=\"url(#clip090)\" d=\"M1541.67 1529.7 Q1538.53 1529.7 1536.67 1531.86 Q1534.85 1534.01 1534.85 1537.76 Q1534.85 1541.49 1536.67 1543.66 Q1538.53 1545.82 1541.67 1545.82 Q1544.82 1545.82 1546.65 1543.66 Q1548.5 1541.49 1548.5 1537.76 Q1548.5 1534.01 1546.65 1531.86 Q1544.82 1529.7 1541.67 1529.7 M1550.96 1515.05 L1550.96 1519.31 Q1549.2 1518.48 1547.39 1518.04 Q1545.61 1517.6 1543.85 1517.6 Q1539.22 1517.6 1536.77 1520.72 Q1534.34 1523.85 1533.99 1530.17 Q1535.35 1528.15 1537.41 1527.09 Q1539.48 1526 1541.95 1526 Q1547.16 1526 1550.17 1529.17 Q1553.2 1532.32 1553.2 1537.76 Q1553.2 1543.08 1550.05 1546.3 Q1546.91 1549.52 1541.67 1549.52 Q1535.68 1549.52 1532.51 1544.94 Q1529.34 1540.33 1529.34 1531.6 Q1529.34 1523.41 1533.23 1518.55 Q1537.11 1513.66 1543.66 1513.66 Q1545.42 1513.66 1547.21 1514.01 Q1549.01 1514.36 1550.96 1515.05 Z\" fill=\"#000000\" fill-rule=\"evenodd\" fill-opacity=\"1\" /><path clip-path=\"url(#clip090)\" d=\"M1571.26 1517.37 Q1567.65 1517.37 1565.82 1520.93 Q1564.01 1524.47 1564.01 1531.6 Q1564.01 1538.71 1565.82 1542.27 Q1567.65 1545.82 1571.26 1545.82 Q1574.89 1545.82 1576.7 1542.27 Q1578.53 1538.71 1578.53 1531.6 Q1578.53 1524.47 1576.7 1520.93 Q1574.89 1517.37 1571.26 1517.37 M1571.26 1513.66 Q1577.07 1513.66 1580.12 1518.27 Q1583.2 1522.85 1583.2 1531.6 Q1583.2 1540.33 1580.12 1544.94 Q1577.07 1549.52 1571.26 1549.52 Q1565.45 1549.52 1562.37 1544.94 Q1559.31 1540.33 1559.31 1531.6 Q1559.31 1522.85 1562.37 1518.27 Q1565.45 1513.66 1571.26 1513.66 Z\" fill=\"#000000\" fill-rule=\"evenodd\" fill-opacity=\"1\" /><path clip-path=\"url(#clip090)\" d=\"M1601.42 1517.37 Q1597.81 1517.37 1595.98 1520.93 Q1594.17 1524.47 1594.17 1531.6 Q1594.17 1538.71 1595.98 1542.27 Q1597.81 1545.82 1601.42 1545.82 Q1605.05 1545.82 1606.86 1542.27 Q1608.69 1538.71 1608.69 1531.6 Q1608.69 1524.47 1606.86 1520.93 Q1605.05 1517.37 1601.42 1517.37 M1601.42 1513.66 Q1607.23 1513.66 1610.28 1518.27 Q1613.36 1522.85 1613.36 1531.6 Q1613.36 1540.33 1610.28 1544.94 Q1607.23 1549.52 1601.42 1549.52 Q1595.61 1549.52 1592.53 1544.94 Q1589.47 1540.33 1589.47 1531.6 Q1589.47 1522.85 1592.53 1518.27 Q1595.61 1513.66 1601.42 1513.66 Z\" fill=\"#000000\" fill-rule=\"evenodd\" fill-opacity=\"1\" /><path clip-path=\"url(#clip090)\" d=\"M1997.54 1532.44 Q1994.21 1532.44 1992.29 1534.22 Q1990.39 1536 1990.39 1539.13 Q1990.39 1542.25 1992.29 1544.03 Q1994.21 1545.82 1997.54 1545.82 Q2000.88 1545.82 2002.8 1544.03 Q2004.72 1542.23 2004.72 1539.13 Q2004.72 1536 2002.8 1534.22 Q2000.9 1532.44 1997.54 1532.44 M1992.87 1530.45 Q1989.86 1529.7 1988.17 1527.64 Q1986.5 1525.58 1986.5 1522.62 Q1986.5 1518.48 1989.44 1516.07 Q1992.4 1513.66 1997.54 1513.66 Q2002.71 1513.66 2005.65 1516.07 Q2008.59 1518.48 2008.59 1522.62 Q2008.59 1525.58 2006.9 1527.64 Q2005.23 1529.7 2002.24 1530.45 Q2005.62 1531.23 2007.5 1533.52 Q2009.4 1535.82 2009.4 1539.13 Q2009.4 1544.15 2006.32 1546.83 Q2003.26 1549.52 1997.54 1549.52 Q1991.83 1549.52 1988.75 1546.83 Q1985.69 1544.15 1985.69 1539.13 Q1985.69 1535.82 1987.59 1533.52 Q1989.49 1531.23 1992.87 1530.45 M1991.15 1523.06 Q1991.15 1525.75 1992.82 1527.25 Q1994.51 1528.76 1997.54 1528.76 Q2000.55 1528.76 2002.24 1527.25 Q2003.96 1525.75 2003.96 1523.06 Q2003.96 1520.38 2002.24 1518.87 Q2000.55 1517.37 1997.54 1517.37 Q1994.51 1517.37 1992.82 1518.87 Q1991.15 1520.38 1991.15 1523.06 Z\" fill=\"#000000\" fill-rule=\"evenodd\" fill-opacity=\"1\" /><path clip-path=\"url(#clip090)\" d=\"M2027.71 1517.37 Q2024.09 1517.37 2022.27 1520.93 Q2020.46 1524.47 2020.46 1531.6 Q2020.46 1538.71 2022.27 1542.27 Q2024.09 1545.82 2027.71 1545.82 Q2031.34 1545.82 2033.15 1542.27 Q2034.97 1538.71 2034.97 1531.6 Q2034.97 1524.47 2033.15 1520.93 Q2031.34 1517.37 2027.71 1517.37 M2027.71 1513.66 Q2033.52 1513.66 2036.57 1518.27 Q2039.65 1522.85 2039.65 1531.6 Q2039.65 1540.33 2036.57 1544.94 Q2033.52 1549.52 2027.71 1549.52 Q2021.9 1549.52 2018.82 1544.94 Q2015.76 1540.33 2015.76 1531.6 Q2015.76 1522.85 2018.82 1518.27 Q2021.9 1513.66 2027.71 1513.66 Z\" fill=\"#000000\" fill-rule=\"evenodd\" fill-opacity=\"1\" /><path clip-path=\"url(#clip090)\" d=\"M2057.87 1517.37 Q2054.26 1517.37 2052.43 1520.93 Q2050.62 1524.47 2050.62 1531.6 Q2050.62 1538.71 2052.43 1542.27 Q2054.26 1545.82 2057.87 1545.82 Q2061.5 1545.82 2063.31 1542.27 Q2065.14 1538.71 2065.14 1531.6 Q2065.14 1524.47 2063.31 1520.93 Q2061.5 1517.37 2057.87 1517.37 M2057.87 1513.66 Q2063.68 1513.66 2066.73 1518.27 Q2069.81 1522.85 2069.81 1531.6 Q2069.81 1540.33 2066.73 1544.94 Q2063.68 1549.52 2057.87 1549.52 Q2052.06 1549.52 2048.98 1544.94 Q2045.92 1540.33 2045.92 1531.6 Q2045.92 1522.85 2048.98 1518.27 Q2052.06 1513.66 2057.87 1513.66 Z\" fill=\"#000000\" fill-rule=\"evenodd\" fill-opacity=\"1\" /><polyline clip-path=\"url(#clip092)\" style=\"stroke:#000000; stroke-linecap:round; stroke-linejoin:round; stroke-width:2; stroke-opacity:0.1; fill:none\" points=\"141.853,1445.72 2352.76,1445.72 \"/>\n",
       "<polyline clip-path=\"url(#clip092)\" style=\"stroke:#000000; stroke-linecap:round; stroke-linejoin:round; stroke-width:2; stroke-opacity:0.1; fill:none\" points=\"141.853,1168.63 2352.76,1168.63 \"/>\n",
       "<polyline clip-path=\"url(#clip092)\" style=\"stroke:#000000; stroke-linecap:round; stroke-linejoin:round; stroke-width:2; stroke-opacity:0.1; fill:none\" points=\"141.853,891.536 2352.76,891.536 \"/>\n",
       "<polyline clip-path=\"url(#clip092)\" style=\"stroke:#000000; stroke-linecap:round; stroke-linejoin:round; stroke-width:2; stroke-opacity:0.1; fill:none\" points=\"141.853,614.447 2352.76,614.447 \"/>\n",
       "<polyline clip-path=\"url(#clip092)\" style=\"stroke:#000000; stroke-linecap:round; stroke-linejoin:round; stroke-width:2; stroke-opacity:0.1; fill:none\" points=\"141.853,337.357 2352.76,337.357 \"/>\n",
       "<polyline clip-path=\"url(#clip092)\" style=\"stroke:#000000; stroke-linecap:round; stroke-linejoin:round; stroke-width:2; stroke-opacity:0.1; fill:none\" points=\"141.853,60.2673 2352.76,60.2673 \"/>\n",
       "<polyline clip-path=\"url(#clip090)\" style=\"stroke:#000000; stroke-linecap:round; stroke-linejoin:round; stroke-width:4; stroke-opacity:1; fill:none\" points=\"141.853,1486.45 141.853,47.2441 \"/>\n",
       "<polyline clip-path=\"url(#clip090)\" style=\"stroke:#000000; stroke-linecap:round; stroke-linejoin:round; stroke-width:4; stroke-opacity:1; fill:none\" points=\"141.853,1445.72 160.751,1445.72 \"/>\n",
       "<polyline clip-path=\"url(#clip090)\" style=\"stroke:#000000; stroke-linecap:round; stroke-linejoin:round; stroke-width:4; stroke-opacity:1; fill:none\" points=\"141.853,1168.63 160.751,1168.63 \"/>\n",
       "<polyline clip-path=\"url(#clip090)\" style=\"stroke:#000000; stroke-linecap:round; stroke-linejoin:round; stroke-width:4; stroke-opacity:1; fill:none\" points=\"141.853,891.536 160.751,891.536 \"/>\n",
       "<polyline clip-path=\"url(#clip090)\" style=\"stroke:#000000; stroke-linecap:round; stroke-linejoin:round; stroke-width:4; stroke-opacity:1; fill:none\" points=\"141.853,614.447 160.751,614.447 \"/>\n",
       "<polyline clip-path=\"url(#clip090)\" style=\"stroke:#000000; stroke-linecap:round; stroke-linejoin:round; stroke-width:4; stroke-opacity:1; fill:none\" points=\"141.853,337.357 160.751,337.357 \"/>\n",
       "<polyline clip-path=\"url(#clip090)\" style=\"stroke:#000000; stroke-linecap:round; stroke-linejoin:round; stroke-width:4; stroke-opacity:1; fill:none\" points=\"141.853,60.2673 160.751,60.2673 \"/>\n",
       "<path clip-path=\"url(#clip090)\" d=\"M93.9086 1431.51 Q90.2975 1431.51 88.4688 1435.08 Q86.6632 1438.62 86.6632 1445.75 Q86.6632 1452.86 88.4688 1456.42 Q90.2975 1459.96 93.9086 1459.96 Q97.5428 1459.96 99.3483 1456.42 Q101.177 1452.86 101.177 1445.75 Q101.177 1438.62 99.3483 1435.08 Q97.5428 1431.51 93.9086 1431.51 M93.9086 1427.81 Q99.7187 1427.81 102.774 1432.42 Q105.853 1437 105.853 1445.75 Q105.853 1454.48 102.774 1459.08 Q99.7187 1463.67 93.9086 1463.67 Q88.0984 1463.67 85.0197 1459.08 Q81.9642 1454.48 81.9642 1445.75 Q81.9642 1437 85.0197 1432.42 Q88.0984 1427.81 93.9086 1427.81 Z\" fill=\"#000000\" fill-rule=\"evenodd\" fill-opacity=\"1\" /><path clip-path=\"url(#clip090)\" d=\"M54.5569 1181.97 L62.1958 1181.97 L62.1958 1155.61 L53.8856 1157.27 L53.8856 1153.01 L62.1495 1151.35 L66.8254 1151.35 L66.8254 1181.97 L74.4642 1181.97 L74.4642 1185.91 L54.5569 1185.91 L54.5569 1181.97 Z\" fill=\"#000000\" fill-rule=\"evenodd\" fill-opacity=\"1\" /><path clip-path=\"url(#clip090)\" d=\"M93.9086 1154.42 Q90.2975 1154.42 88.4688 1157.99 Q86.6632 1161.53 86.6632 1168.66 Q86.6632 1175.77 88.4688 1179.33 Q90.2975 1182.87 93.9086 1182.87 Q97.5428 1182.87 99.3483 1179.33 Q101.177 1175.77 101.177 1168.66 Q101.177 1161.53 99.3483 1157.99 Q97.5428 1154.42 93.9086 1154.42 M93.9086 1150.72 Q99.7187 1150.72 102.774 1155.33 Q105.853 1159.91 105.853 1168.66 Q105.853 1177.39 102.774 1181.99 Q99.7187 1186.58 93.9086 1186.58 Q88.0984 1186.58 85.0197 1181.99 Q81.9642 1177.39 81.9642 1168.66 Q81.9642 1159.91 85.0197 1155.33 Q88.0984 1150.72 93.9086 1150.72 Z\" fill=\"#000000\" fill-rule=\"evenodd\" fill-opacity=\"1\" /><path clip-path=\"url(#clip090)\" d=\"M57.7745 904.881 L74.0939 904.881 L74.0939 908.816 L52.1495 908.816 L52.1495 904.881 Q54.8115 902.127 59.3949 897.497 Q64.0013 892.844 65.1819 891.502 Q67.4272 888.978 68.3068 887.242 Q69.2096 885.483 69.2096 883.793 Q69.2096 881.039 67.2652 879.303 Q65.3439 877.567 62.2421 877.567 Q60.043 877.567 57.5893 878.33 Q55.1588 879.094 52.381 880.645 L52.381 875.923 Q55.2051 874.789 57.6588 874.21 Q60.1124 873.631 62.1495 873.631 Q67.5198 873.631 70.7142 876.317 Q73.9087 879.002 73.9087 883.492 Q73.9087 885.622 73.0985 887.543 Q72.3115 889.441 70.205 892.034 Q69.6263 892.705 66.5245 895.923 Q63.4226 899.117 57.7745 904.881 Z\" fill=\"#000000\" fill-rule=\"evenodd\" fill-opacity=\"1\" /><path clip-path=\"url(#clip090)\" d=\"M93.9086 877.335 Q90.2975 877.335 88.4688 880.9 Q86.6632 884.441 86.6632 891.571 Q86.6632 898.678 88.4688 902.242 Q90.2975 905.784 93.9086 905.784 Q97.5428 905.784 99.3483 902.242 Q101.177 898.678 101.177 891.571 Q101.177 884.441 99.3483 880.9 Q97.5428 877.335 93.9086 877.335 M93.9086 873.631 Q99.7187 873.631 102.774 878.238 Q105.853 882.821 105.853 891.571 Q105.853 900.298 102.774 904.904 Q99.7187 909.488 93.9086 909.488 Q88.0984 909.488 85.0197 904.904 Q81.9642 900.298 81.9642 891.571 Q81.9642 882.821 85.0197 878.238 Q88.0984 873.631 93.9086 873.631 Z\" fill=\"#000000\" fill-rule=\"evenodd\" fill-opacity=\"1\" /><path clip-path=\"url(#clip090)\" d=\"M67.9133 613.093 Q71.2698 613.81 73.1448 616.079 Q75.0429 618.347 75.0429 621.68 Q75.0429 626.796 71.5244 629.597 Q68.0059 632.398 61.5245 632.398 Q59.3486 632.398 57.0338 631.958 Q54.7421 631.541 52.2884 630.685 L52.2884 626.171 Q54.2328 627.305 56.5477 627.884 Q58.8625 628.463 61.3856 628.463 Q65.7837 628.463 68.0754 626.727 Q70.3902 624.991 70.3902 621.68 Q70.3902 618.625 68.2374 616.912 Q66.1078 615.176 62.2884 615.176 L58.2606 615.176 L58.2606 611.333 L62.4735 611.333 Q65.9226 611.333 67.7513 609.968 Q69.58 608.579 69.58 605.986 Q69.58 603.324 67.6819 601.912 Q65.8069 600.477 62.2884 600.477 Q60.3671 600.477 58.168 600.893 Q55.969 601.31 53.3301 602.19 L53.3301 598.023 Q55.9921 597.282 58.3069 596.912 Q60.6449 596.542 62.705 596.542 Q68.0291 596.542 71.1309 598.972 Q74.2327 601.38 74.2327 605.5 Q74.2327 608.37 72.5892 610.361 Q70.9457 612.329 67.9133 613.093 Z\" fill=\"#000000\" fill-rule=\"evenodd\" fill-opacity=\"1\" /><path clip-path=\"url(#clip090)\" d=\"M93.9086 600.245 Q90.2975 600.245 88.4688 603.81 Q86.6632 607.352 86.6632 614.481 Q86.6632 621.588 88.4688 625.153 Q90.2975 628.694 93.9086 628.694 Q97.5428 628.694 99.3483 625.153 Q101.177 621.588 101.177 614.481 Q101.177 607.352 99.3483 603.81 Q97.5428 600.245 93.9086 600.245 M93.9086 596.542 Q99.7187 596.542 102.774 601.148 Q105.853 605.731 105.853 614.481 Q105.853 623.208 102.774 627.815 Q99.7187 632.398 93.9086 632.398 Q88.0984 632.398 85.0197 627.815 Q81.9642 623.208 81.9642 614.481 Q81.9642 605.731 85.0197 601.148 Q88.0984 596.542 93.9086 596.542 Z\" fill=\"#000000\" fill-rule=\"evenodd\" fill-opacity=\"1\" /><path clip-path=\"url(#clip090)\" d=\"M66.5939 324.151 L54.7884 342.6 L66.5939 342.6 L66.5939 324.151 M65.367 320.077 L71.2466 320.077 L71.2466 342.6 L76.1772 342.6 L76.1772 346.489 L71.2466 346.489 L71.2466 354.637 L66.5939 354.637 L66.5939 346.489 L50.9921 346.489 L50.9921 341.975 L65.367 320.077 Z\" fill=\"#000000\" fill-rule=\"evenodd\" fill-opacity=\"1\" /><path clip-path=\"url(#clip090)\" d=\"M93.9086 323.156 Q90.2975 323.156 88.4688 326.72 Q86.6632 330.262 86.6632 337.392 Q86.6632 344.498 88.4688 348.063 Q90.2975 351.605 93.9086 351.605 Q97.5428 351.605 99.3483 348.063 Q101.177 344.498 101.177 337.392 Q101.177 330.262 99.3483 326.72 Q97.5428 323.156 93.9086 323.156 M93.9086 319.452 Q99.7187 319.452 102.774 324.058 Q105.853 328.642 105.853 337.392 Q105.853 346.119 102.774 350.725 Q99.7187 355.308 93.9086 355.308 Q88.0984 355.308 85.0197 350.725 Q81.9642 346.119 81.9642 337.392 Q81.9642 328.642 85.0197 324.058 Q88.0984 319.452 93.9086 319.452 Z\" fill=\"#000000\" fill-rule=\"evenodd\" fill-opacity=\"1\" /><path clip-path=\"url(#clip090)\" d=\"M53.793 42.9873 L72.1494 42.9873 L72.1494 46.9225 L58.0754 46.9225 L58.0754 55.3947 Q59.0939 55.0474 60.1124 54.8854 Q61.131 54.7002 62.1495 54.7002 Q67.9365 54.7002 71.3161 57.8715 Q74.6957 61.0428 74.6957 66.4594 Q74.6957 72.0381 71.2235 75.1399 Q67.7513 78.2186 61.4319 78.2186 Q59.256 78.2186 56.9875 77.8482 Q54.7421 77.4779 52.3347 76.7371 L52.3347 72.0381 Q54.418 73.1723 56.6402 73.7279 Q58.8625 74.2834 61.3393 74.2834 Q65.3439 74.2834 67.6819 72.177 Q70.0198 70.0705 70.0198 66.4594 Q70.0198 62.8483 67.6819 60.7418 Q65.3439 58.6354 61.3393 58.6354 Q59.4643 58.6354 57.5893 59.052 Q55.7375 59.4687 53.793 60.3483 L53.793 42.9873 Z\" fill=\"#000000\" fill-rule=\"evenodd\" fill-opacity=\"1\" /><path clip-path=\"url(#clip090)\" d=\"M93.9086 46.066 Q90.2975 46.066 88.4688 49.6308 Q86.6632 53.1724 86.6632 60.302 Q86.6632 67.4085 88.4688 70.9733 Q90.2975 74.5149 93.9086 74.5149 Q97.5428 74.5149 99.3483 70.9733 Q101.177 67.4085 101.177 60.302 Q101.177 53.1724 99.3483 49.6308 Q97.5428 46.066 93.9086 46.066 M93.9086 42.3623 Q99.7187 42.3623 102.774 46.9688 Q105.853 51.5521 105.853 60.302 Q105.853 69.0288 102.774 73.6353 Q99.7187 78.2186 93.9086 78.2186 Q88.0984 78.2186 85.0197 73.6353 Q81.9642 69.0288 81.9642 60.302 Q81.9642 51.5521 85.0197 46.9688 Q88.0984 42.3623 93.9086 42.3623 Z\" fill=\"#000000\" fill-rule=\"evenodd\" fill-opacity=\"1\" /><polyline clip-path=\"url(#clip092)\" style=\"stroke:#009af9; stroke-linecap:round; stroke-linejoin:round; stroke-width:4; stroke-opacity:1; fill:none\" points=\"204.426,1445.72 206.708,1445.72 208.99,1445.72 211.272,1445.72 213.554,1445.72 215.836,1445.72 218.118,1445.72 220.4,1445.72 222.682,1445.72 224.964,1445.72 227.246,1445.72 229.528,1445.72 231.81,1445.72 234.092,1445.72 236.374,1445.72 238.656,1445.72 240.938,1445.72 243.22,1445.72 245.502,1445.72 247.784,1445.72 250.066,1445.72 252.348,1445.72 254.63,1445.72 256.912,1445.72 259.194,1445.72 261.476,1445.72 263.758,1445.72 266.04,1445.72 268.322,1445.72 270.604,1445.72 272.886,1445.72 275.168,1418.01 277.45,1390.3 279.732,1362.59 282.014,1334.88 284.296,1307.17 286.578,1307.17 288.86,1307.17 291.142,1307.17 293.424,1307.17 295.706,1279.46 297.988,1251.75 300.27,1224.04 302.552,1279.46 304.834,1418.01 307.116,1445.72 309.398,1445.72 311.68,1418.01 313.962,1390.3 316.244,1307.17 318.526,1251.75 320.808,1251.75 323.09,1224.04 325.372,1196.33 327.654,1168.63 329.936,1140.92 332.218,1113.21 334.5,1085.5 336.782,1057.79 339.064,1030.08 341.346,1140.92 343.628,1224.04 345.91,1334.88 348.192,1390.3 350.474,1390.3 352.756,1390.3 355.038,1390.3 357.32,1445.72 359.602,1418.01 361.884,1390.3 364.166,1390.3 366.448,1307.17 368.73,1279.46 371.012,1113.21 373.294,1085.5 375.576,1057.79 377.858,1030.08 380.14,1168.63 382.422,1251.75 384.704,1307.17 386.987,1445.72 389.269,1445.72 391.551,1445.72 393.833,1445.72 396.115,1418.01 398.397,1390.3 400.679,1362.59 402.961,1334.88 405.243,1307.17 407.525,1279.46 409.807,1251.75 412.089,1224.04 414.371,1196.33 416.653,1113.21 418.935,1085.5 421.217,974.663 423.499,974.663 425.781,946.954 428.063,919.245 430.345,891.536 432.627,863.827 434.909,836.118 437.191,891.536 439.473,946.954 441.755,1224.04 444.037,1251.75 446.319,1445.72 448.601,1445.72 450.883,1445.72 453.165,1445.72 455.447,1418.01 457.729,1390.3 460.011,1196.33 462.293,1085.5 464.575,836.118 466.857,808.409 469.139,780.7 471.421,752.992 473.703,725.283 475.985,697.574 478.267,836.118 480.549,919.245 482.831,1307.17 485.113,1307.17 487.395,1307.17 489.677,1418.01 491.959,1445.72 494.241,1445.72 496.523,1418.01 498.805,1390.3 501.087,1362.59 503.369,1334.88 505.651,1307.17 507.933,1279.46 510.215,1196.33 512.497,1113.21 514.779,1113.21 517.061,1002.37 519.343,974.663 521.625,946.954 523.907,919.245 526.189,891.536 528.471,863.827 530.753,836.118 533.035,808.409 535.317,780.7 537.599,974.663 539.881,1113.21 542.163,1113.21 544.445,1168.63 546.727,1168.63 549.009,1168.63 551.291,1334.88 553.573,1445.72 555.855,1418.01 558.137,1390.3 560.419,1307.17 562.701,1196.33 564.983,1140.92 567.265,946.954 569.547,919.245 571.829,891.536 574.111,863.827 576.393,1002.37 578.675,1030.08 580.957,1057.79 583.239,1307.17 585.521,1445.72 587.803,1445.72 590.085,1445.72 592.367,1445.72 594.649,1418.01 596.931,1390.3 599.213,1362.59 601.495,1334.88 603.777,1307.17 606.06,1279.46 608.342,1251.75 610.624,1224.04 612.906,1057.79 615.188,808.409 617.47,669.865 619.752,448.193 622.034,420.484 624.316,392.775 626.598,365.066 628.88,337.357 631.162,309.648 633.444,281.939 635.726,254.23 638.008,226.521 640.29,198.812 642.572,392.775 644.854,531.32 647.136,1002.37 649.418,1002.37 651.7,1002.37 653.982,1224.04 656.264,1445.72 658.546,1445.72 660.828,1418.01 663.11,1390.3 665.392,1362.59 667.674,1307.17 669.956,1168.63 672.238,1085.5 674.52,1002.37 676.802,974.663 679.084,946.954 681.366,919.245 683.648,891.536 685.93,863.827 688.212,946.954 690.494,1196.33 692.776,1196.33 695.058,1362.59 697.34,1390.3 699.622,1445.72 701.904,1445.72 704.186,1445.72 706.468,1418.01 708.75,1390.3 711.032,1362.59 713.314,1334.88 715.596,1140.92 717.878,1113.21 720.16,946.954 722.442,863.827 724.724,836.118 727.006,808.409 729.288,1085.5 731.57,1113.21 733.852,1279.46 736.134,1279.46 738.416,1390.3 740.698,1390.3 742.98,1445.72 745.262,1445.72 747.544,1418.01 749.826,1390.3 752.108,1362.59 754.39,1334.88 756.672,1307.17 758.954,1224.04 761.236,1113.21 763.518,919.245 765.8,863.827 768.082,836.118 770.364,1140.92 772.646,1279.46 774.928,1334.88 777.21,1390.3 779.492,1445.72 781.774,1445.72 784.056,1445.72 786.338,1445.72 788.62,1418.01 790.902,1390.3 793.184,1362.59 795.466,1334.88 797.748,1307.17 800.03,1279.46 802.312,1251.75 804.594,1224.04 806.876,1085.5 809.158,974.663 811.44,946.954 813.722,919.245 816.004,891.536 818.286,863.827 820.568,836.118 822.85,808.409 825.132,1030.08 827.415,1224.04 829.697,1251.75 831.979,1334.88 834.261,1445.72 836.543,1445.72 838.825,1445.72 841.107,1418.01 843.389,1390.3 845.671,1362.59 847.953,1334.88 850.235,1307.17 852.517,1196.33 854.799,1057.79 857.081,974.663 859.363,863.827 861.645,836.118 863.927,808.409 866.209,780.7 868.491,752.992 870.773,891.536 873.055,1224.04 875.337,1362.59 877.619,1390.3 879.901,1390.3 882.183,1445.72 884.465,1445.72 886.747,1445.72 889.029,1418.01 891.311,1390.3 893.593,1362.59 895.875,1334.88 898.157,1307.17 900.439,1279.46 902.721,1113.21 905.003,1085.5 907.285,1057.79 909.567,919.245 911.849,891.536 914.131,863.827 916.413,836.118 918.695,808.409 920.977,780.7 923.259,752.992 925.541,725.283 927.823,697.574 930.105,669.865 932.387,919.245 934.669,919.245 936.951,1057.79 939.233,1224.04 941.515,1390.3 943.797,1390.3 946.079,1445.72 948.361,1445.72 950.643,1418.01 952.925,1390.3 955.207,1362.59 957.489,1140.92 959.771,974.663 962.053,919.245 964.335,836.118 966.617,808.409 968.899,780.7 971.181,752.992 973.463,725.283 975.745,697.574 978.027,669.865 980.309,642.156 982.591,752.992 984.873,1113.21 987.155,1113.21 989.437,1279.46 991.719,1390.3 994.001,1390.3 996.283,1445.72 998.565,1445.72 1000.85,1418.01 1003.13,1390.3 1005.41,1362.59 1007.69,1334.88 1009.98,1307.17 1012.26,1224.04 1014.54,1196.33 1016.82,1030.08 1019.1,725.283 1021.39,697.574 1023.67,669.865 1025.95,642.156 1028.23,614.447 1030.51,586.738 1032.8,559.029 1035.08,531.32 1037.36,503.611 1039.64,475.902 1041.92,752.992 1044.21,919.245 1046.49,919.245 1048.77,1002.37 1051.05,1168.63 1053.33,1445.72 1055.62,1445.72 1057.9,1445.72 1060.18,1418.01 1062.46,1390.3 1064.74,1362.59 1067.03,1334.88 1069.31,1085.5 1071.59,946.954 1073.87,836.118 1076.15,697.574 1078.44,669.865 1080.72,642.156 1083,614.447 1085.28,586.738 1087.56,559.029 1089.85,531.32 1092.13,503.611 1094.41,725.283 1096.69,808.409 1098.97,1113.21 1101.26,1168.63 1103.54,1168.63 1105.82,1445.72 1108.1,1445.72 1110.38,1445.72 1112.67,1418.01 1114.95,1390.3 1117.23,1362.59 1119.51,1334.88 1121.79,1307.17 1124.08,1168.63 1126.36,946.954 1128.64,891.536 1130.92,725.283 1133.2,697.574 1135.49,669.865 1137.77,642.156 1140.05,919.245 1142.33,1002.37 1144.61,1224.04 1146.9,1224.04 1149.18,1334.88 1151.46,1445.72 1153.74,1445.72 1156.02,1445.72 1158.31,1418.01 1160.59,1390.3 1162.87,1362.59 1165.15,1334.88 1167.43,1307.17 1169.72,1279.46 1172,1251.75 1174.28,974.663 1176.56,780.7 1178.84,503.611 1181.13,337.357 1183.41,309.648 1185.69,281.939 1187.97,254.23 1190.25,226.521 1192.54,198.812 1194.82,171.103 1197.1,143.394 1199.38,115.685 1201.66,87.9763 1203.95,309.648 1206.23,475.902 1208.51,1002.37 1210.79,1224.04 1213.07,1224.04 1215.36,1445.72 1217.64,1445.72 1219.92,1445.72 1222.2,1418.01 1224.48,1390.3 1226.77,1362.59 1229.05,1334.88 1231.33,1307.17 1233.61,1140.92 1235.89,946.954 1238.18,808.409 1240.46,780.7 1242.74,752.992 1245.02,725.283 1247.3,697.574 1249.59,669.865 1251.87,642.156 1254.15,614.447 1256.43,642.156 1258.71,780.7 1261,1057.79 1263.28,1390.3 1265.56,1445.72 1267.84,1445.72 1270.12,1445.72 1272.41,1445.72 1274.69,1418.01 1276.97,1390.3 1279.25,1362.59 1281.53,1251.75 1283.82,1168.63 1286.1,1057.79 1288.38,919.245 1290.66,891.536 1292.94,863.827 1295.23,836.118 1297.51,808.409 1299.79,780.7 1302.07,752.992 1304.35,1002.37 1306.64,1085.5 1308.92,1085.5 1311.2,1085.5 1313.48,1307.17 1315.76,1362.59 1318.05,1445.72 1320.33,1445.72 1322.61,1418.01 1324.89,1390.3 1327.17,1362.59 1329.46,1334.88 1331.74,1307.17 1334.02,1168.63 1336.3,1057.79 1338.58,863.827 1340.87,836.118 1343.15,808.409 1345.43,780.7 1347.71,1085.5 1349.99,1085.5 1352.28,1196.33 1354.56,1251.75 1356.84,1334.88 1359.12,1445.72 1361.4,1445.72 1363.69,1445.72 1365.97,1418.01 1368.25,1168.63 1370.53,974.663 1372.81,863.827 1375.1,697.574 1377.38,669.865 1379.66,642.156 1381.94,614.447 1384.23,1002.37 1386.51,1085.5 1388.79,1251.75 1391.07,1390.3 1393.35,1390.3 1395.64,1445.72 1397.92,1445.72 1400.2,1445.72 1402.48,1418.01 1404.76,1390.3 1407.05,1362.59 1409.33,1334.88 1411.61,1307.17 1413.89,1279.46 1416.17,1140.92 1418.46,1030.08 1420.74,891.536 1423.02,863.827 1425.3,836.118 1427.58,808.409 1429.87,780.7 1432.15,752.992 1434.43,725.283 1436.71,697.574 1438.99,669.865 1441.28,891.536 1443.56,1030.08 1445.84,1030.08 1448.12,1224.04 1450.4,1362.59 1452.69,1362.59 1454.97,1445.72 1457.25,1418.01 1459.53,1390.3 1461.81,1362.59 1464.1,1334.88 1466.38,1307.17 1468.66,1224.04 1470.94,1085.5 1473.22,974.663 1475.51,808.409 1477.79,780.7 1480.07,752.992 1482.35,725.283 1484.63,697.574 1486.92,919.245 1489.2,1085.5 1491.48,1168.63 1493.76,1224.04 1496.04,1445.72 1498.33,1445.72 1500.61,1445.72 1502.89,1445.72 1505.17,1418.01 1507.45,1390.3 1509.74,1362.59 1512.02,1334.88 1514.3,1307.17 1516.58,1279.46 1518.86,1168.63 1521.15,1030.08 1523.43,891.536 1525.71,614.447 1527.99,586.738 1530.27,559.029 1532.56,531.32 1534.84,919.245 1537.12,919.245 1539.4,974.663 1541.68,1113.21 1543.97,1196.33 1546.25,1445.72 1548.53,1445.72 1550.81,1445.72 1553.09,1418.01 1555.38,1307.17 1557.66,1113.21 1559.94,863.827 1562.22,780.7 1564.5,752.992 1566.79,725.283 1569.07,697.574 1571.35,780.7 1573.63,1224.04 1575.91,1224.04 1578.2,1334.88 1580.48,1334.88 1582.76,1334.88 1585.04,1445.72 1587.32,1445.72 1589.61,1418.01 1591.89,1390.3 1594.17,1362.59 1596.45,1251.75 1598.73,1140.92 1601.02,1140.92 1603.3,1002.37 1605.58,974.663 1607.86,946.954 1610.14,919.245 1612.43,891.536 1614.71,974.663 1616.99,1140.92 1619.27,1168.63 1621.55,1168.63 1623.84,1168.63 1626.12,1251.75 1628.4,1251.75 1630.68,1445.72 1632.96,1418.01 1635.25,1390.3 1637.53,1362.59 1639.81,1334.88 1642.09,1307.17 1644.37,1279.46 1646.66,1251.75 1648.94,1224.04 1651.22,1196.33 1653.5,1168.63 1655.78,1140.92 1658.07,1002.37 1660.35,919.245 1662.63,752.992 1664.91,559.029 1667.19,531.32 1669.48,503.611 1671.76,475.902 1674.04,448.193 1676.32,420.484 1678.6,392.775 1680.89,559.029 1683.17,642.156 1685.45,1057.79 1687.73,1307.17 1690.01,1307.17 1692.3,1307.17 1694.58,1445.72 1696.86,1445.72 1699.14,1418.01 1701.42,1390.3 1703.71,1362.59 1705.99,1334.88 1708.27,1196.33 1710.55,1113.21 1712.83,1057.79 1715.12,1030.08 1717.4,1002.37 1719.68,974.663 1721.96,946.954 1724.24,1168.63 1726.53,1168.63 1728.81,1279.46 1731.09,1390.3 1733.37,1418.01 1735.65,1445.72 1737.94,1445.72 1740.22,1418.01 1742.5,1390.3 1744.78,1362.59 1747.06,1334.88 1749.35,1307.17 1751.63,1279.46 1753.91,1085.5 1756.19,1002.37 1758.47,891.536 1760.76,836.118 1763.04,808.409 1765.32,780.7 1767.6,752.992 1769.88,725.283 1772.17,808.409 1774.45,1113.21 1776.73,1279.46 1779.01,1334.88 1781.29,1445.72 1783.58,1445.72 1785.86,1445.72 1788.14,1445.72 1790.42,1418.01 1792.7,1390.3 1794.99,1362.59 1797.27,1334.88 1799.55,1307.17 1801.83,1251.75 1804.11,1196.33 1806.4,974.663 1808.68,863.827 1810.96,836.118 1813.24,808.409 1815.53,1057.79 1817.81,1196.33 1820.09,1279.46 1822.37,1279.46 1824.65,1279.46 1826.94,1390.3 1829.22,1390.3 1831.5,1445.72 1833.78,1418.01 1836.06,1196.33 1838.35,1168.63 1840.63,1085.5 1842.91,1057.79 1845.19,1030.08 1847.47,1002.37 1849.76,1113.21 1852.04,1140.92 1854.32,1196.33 1856.6,1362.59 1858.88,1362.59 1861.17,1362.59 1863.45,1445.72 1865.73,1445.72 1868.01,1418.01 1870.29,1390.3 1872.58,1362.59 1874.86,1334.88 1877.14,1307.17 1879.42,1251.75 1881.7,1140.92 1883.99,1057.79 1886.27,1030.08 1888.55,1002.37 1890.83,974.663 1893.11,946.954 1895.4,1030.08 1897.68,1113.21 1899.96,1196.33 1902.24,1251.75 1904.52,1445.72 1906.81,1445.72 1909.09,1445.72 1911.37,1445.72 1913.65,1418.01 1915.93,1390.3 1918.22,1307.17 1920.5,1224.04 1922.78,1085.5 1925.06,1030.08 1927.34,1002.37 1929.63,974.663 1931.91,946.954 1934.19,919.245 1936.47,1030.08 1938.75,1140.92 1941.04,1168.63 1943.32,1362.59 1945.6,1362.59 1947.88,1445.72 1950.16,1445.72 1952.45,1418.01 1954.73,1390.3 1957.01,1362.59 1959.29,1334.88 1961.57,1307.17 1963.86,1085.5 1966.14,1002.37 1968.42,919.245 1970.7,725.283 1972.98,697.574 1975.27,669.865 1977.55,642.156 1979.83,614.447 1982.11,586.738 1984.39,669.865 1986.68,808.409 1988.96,1196.33 1991.24,1196.33 1993.52,1196.33 1995.8,1279.46 1998.09,1279.46 2000.37,1445.72 2002.65,1418.01 2004.93,1390.3 2007.21,1362.59 2009.5,1334.88 2011.78,1307.17 2014.06,1251.75 2016.34,1196.33 2018.62,1057.79 2020.91,946.954 2023.19,919.245 2025.47,891.536 2027.75,863.827 2030.03,836.118 2032.32,808.409 2034.6,891.536 2036.88,1168.63 2039.16,1168.63 2041.44,1251.75 2043.73,1251.75 2046.01,1279.46 2048.29,1445.72 2050.57,1445.72 2052.85,1418.01 2055.14,1390.3 2057.42,1362.59 2059.7,1334.88 2061.98,1307.17 2064.26,1279.46 2066.55,1251.75 2068.83,1224.04 2071.11,1085.5 2073.39,1002.37 2075.67,752.992 2077.96,725.283 2080.24,697.574 2082.52,669.865 2084.8,642.156 2087.08,614.447 2089.37,586.738 2091.65,780.7 2093.93,891.536 2096.21,1002.37 2098.49,1307.17 2100.78,1307.17 2103.06,1307.17 2105.34,1307.17 2107.62,1445.72 2109.9,1418.01 2112.19,1390.3 2114.47,1362.59 2116.75,1251.75 2119.03,1140.92 2121.31,1057.79 2123.6,863.827 2125.88,836.118 2128.16,808.409 2130.44,780.7 2132.72,752.992 2135.01,725.283 2137.29,697.574 2139.57,669.865 2141.85,974.663 2144.13,1140.92 2146.42,1196.33 2148.7,1196.33 2150.98,1251.75 2153.26,1251.75 2155.54,1445.72 2157.83,1445.72 2160.11,1418.01 2162.39,1390.3 2164.67,1362.59 2166.95,1334.88 2169.24,1307.17 2171.52,1168.63 2173.8,1113.21 2176.08,1057.79 2178.36,946.954 2180.65,919.245 2182.93,891.536 2185.21,863.827 2187.49,836.118 2189.77,808.409 2192.06,780.7 2194.34,752.992 2196.62,725.283 2198.9,697.574 2201.18,669.865 2203.47,836.118 2205.75,1002.37 2208.03,1196.33 2210.31,1279.46 2212.59,1445.72 2214.88,1445.72 2217.16,1445.72 2219.44,1445.72 2221.72,1418.01 2224,1390.3 2226.29,1362.59 2228.57,1140.92 2230.85,1057.79 2233.13,946.954 2235.41,863.827 2237.7,836.118 2239.98,808.409 2242.26,780.7 2244.54,752.992 2246.82,808.409 2249.11,891.536 2251.39,1196.33 2253.67,1196.33 2255.95,1196.33 2258.24,1362.59 2260.52,1445.72 2262.8,1445.72 2265.08,1418.01 2267.36,1390.3 2269.65,1362.59 2271.93,1168.63 2274.21,1113.21 2276.49,1002.37 2278.77,836.118 2281.06,808.409 2283.34,780.7 2285.62,752.992 2287.9,725.283 2290.18,697.574 \"/>\n",
       "<path clip-path=\"url(#clip090)\" d=\"M2005.54 198.898 L2279.06 198.898 L2279.06 95.2176 L2005.54 95.2176  Z\" fill=\"#ffffff\" fill-rule=\"evenodd\" fill-opacity=\"1\"/>\n",
       "<polyline clip-path=\"url(#clip090)\" style=\"stroke:#000000; stroke-linecap:round; stroke-linejoin:round; stroke-width:4; stroke-opacity:1; fill:none\" points=\"2005.54,198.898 2279.06,198.898 2279.06,95.2176 2005.54,95.2176 2005.54,198.898 \"/>\n",
       "<polyline clip-path=\"url(#clip090)\" style=\"stroke:#009af9; stroke-linecap:round; stroke-linejoin:round; stroke-width:4; stroke-opacity:1; fill:none\" points=\"2030.1,147.058 2177.5,147.058 \"/>\n",
       "<path clip-path=\"url(#clip090)\" d=\"M2215.91 166.745 Q2214.1 171.375 2212.39 172.787 Q2210.67 174.199 2207.8 174.199 L2204.4 174.199 L2204.4 170.634 L2206.9 170.634 Q2208.66 170.634 2209.63 169.8 Q2210.6 168.967 2211.79 165.865 L2212.55 163.921 L2202.06 138.412 L2206.58 138.412 L2214.68 158.689 L2222.78 138.412 L2227.29 138.412 L2215.91 166.745 Z\" fill=\"#000000\" fill-rule=\"evenodd\" fill-opacity=\"1\" /><path clip-path=\"url(#clip090)\" d=\"M2234.59 160.402 L2242.23 160.402 L2242.23 134.037 L2233.91 135.703 L2233.91 131.444 L2242.18 129.778 L2246.85 129.778 L2246.85 160.402 L2254.49 160.402 L2254.49 164.338 L2234.59 164.338 L2234.59 160.402 Z\" fill=\"#000000\" fill-rule=\"evenodd\" fill-opacity=\"1\" /></svg>\n"
      ]
     },
     "execution_count": 11,
     "metadata": {},
     "output_type": "execute_result"
    }
   ],
   "source": [
    "plot(read(f))"
   ]
  },
  {
   "cell_type": "code",
   "execution_count": 27,
   "id": "1da074d4",
   "metadata": {},
   "outputs": [
    {
     "data": {
      "image/svg+xml": [
       "<?xml version=\"1.0\" encoding=\"utf-8\"?>\n",
       "<svg xmlns=\"http://www.w3.org/2000/svg\" xmlns:xlink=\"http://www.w3.org/1999/xlink\" width=\"600\" height=\"400\" viewBox=\"0 0 2400 1600\">\n",
       "<defs>\n",
       "  <clipPath id=\"clip010\">\n",
       "    <rect x=\"0\" y=\"0\" width=\"2400\" height=\"1600\"/>\n",
       "  </clipPath>\n",
       "</defs>\n",
       "<path clip-path=\"url(#clip010)\" d=\"M0 1600 L2400 1600 L2400 0 L0 0  Z\" fill=\"#ffffff\" fill-rule=\"evenodd\" fill-opacity=\"1\"/>\n",
       "<defs>\n",
       "  <clipPath id=\"clip011\">\n",
       "    <rect x=\"480\" y=\"0\" width=\"1681\" height=\"1600\"/>\n",
       "  </clipPath>\n",
       "</defs>\n",
       "<path clip-path=\"url(#clip010)\" d=\"M172.015 1486.45 L2352.76 1486.45 L2352.76 47.2441 L172.015 47.2441  Z\" fill=\"#ffffff\" fill-rule=\"evenodd\" fill-opacity=\"1\"/>\n",
       "<defs>\n",
       "  <clipPath id=\"clip012\">\n",
       "    <rect x=\"172\" y=\"47\" width=\"2182\" height=\"1440\"/>\n",
       "  </clipPath>\n",
       "</defs>\n",
       "<polyline clip-path=\"url(#clip012)\" style=\"stroke:#000000; stroke-linecap:round; stroke-linejoin:round; stroke-width:2; stroke-opacity:0.1; fill:none\" points=\"291.959,1486.45 291.959,47.2441 \"/>\n",
       "<polyline clip-path=\"url(#clip012)\" style=\"stroke:#000000; stroke-linecap:round; stroke-linejoin:round; stroke-width:2; stroke-opacity:0.1; fill:none\" points=\"777.172,1486.45 777.172,47.2441 \"/>\n",
       "<polyline clip-path=\"url(#clip012)\" style=\"stroke:#000000; stroke-linecap:round; stroke-linejoin:round; stroke-width:2; stroke-opacity:0.1; fill:none\" points=\"1262.39,1486.45 1262.39,47.2441 \"/>\n",
       "<polyline clip-path=\"url(#clip012)\" style=\"stroke:#000000; stroke-linecap:round; stroke-linejoin:round; stroke-width:2; stroke-opacity:0.1; fill:none\" points=\"1747.6,1486.45 1747.6,47.2441 \"/>\n",
       "<polyline clip-path=\"url(#clip012)\" style=\"stroke:#000000; stroke-linecap:round; stroke-linejoin:round; stroke-width:2; stroke-opacity:0.1; fill:none\" points=\"2232.81,1486.45 2232.81,47.2441 \"/>\n",
       "<polyline clip-path=\"url(#clip010)\" style=\"stroke:#000000; stroke-linecap:round; stroke-linejoin:round; stroke-width:4; stroke-opacity:1; fill:none\" points=\"172.015,1486.45 2352.76,1486.45 \"/>\n",
       "<polyline clip-path=\"url(#clip010)\" style=\"stroke:#000000; stroke-linecap:round; stroke-linejoin:round; stroke-width:4; stroke-opacity:1; fill:none\" points=\"291.959,1486.45 291.959,1467.55 \"/>\n",
       "<polyline clip-path=\"url(#clip010)\" style=\"stroke:#000000; stroke-linecap:round; stroke-linejoin:round; stroke-width:4; stroke-opacity:1; fill:none\" points=\"777.172,1486.45 777.172,1467.55 \"/>\n",
       "<polyline clip-path=\"url(#clip010)\" style=\"stroke:#000000; stroke-linecap:round; stroke-linejoin:round; stroke-width:4; stroke-opacity:1; fill:none\" points=\"1262.39,1486.45 1262.39,1467.55 \"/>\n",
       "<polyline clip-path=\"url(#clip010)\" style=\"stroke:#000000; stroke-linecap:round; stroke-linejoin:round; stroke-width:4; stroke-opacity:1; fill:none\" points=\"1747.6,1486.45 1747.6,1467.55 \"/>\n",
       "<polyline clip-path=\"url(#clip010)\" style=\"stroke:#000000; stroke-linecap:round; stroke-linejoin:round; stroke-width:4; stroke-opacity:1; fill:none\" points=\"2232.81,1486.45 2232.81,1467.55 \"/>\n",
       "<path clip-path=\"url(#clip010)\" d=\"M269.344 1517.37 Q265.733 1517.37 263.904 1520.93 Q262.099 1524.47 262.099 1531.6 Q262.099 1538.71 263.904 1542.27 Q265.733 1545.82 269.344 1545.82 Q272.978 1545.82 274.784 1542.27 Q276.612 1538.71 276.612 1531.6 Q276.612 1524.47 274.784 1520.93 Q272.978 1517.37 269.344 1517.37 M269.344 1513.66 Q275.154 1513.66 278.21 1518.27 Q281.288 1522.85 281.288 1531.6 Q281.288 1540.33 278.21 1544.94 Q275.154 1549.52 269.344 1549.52 Q263.534 1549.52 260.455 1544.94 Q257.399 1540.33 257.399 1531.6 Q257.399 1522.85 260.455 1518.27 Q263.534 1513.66 269.344 1513.66 Z\" fill=\"#000000\" fill-rule=\"evenodd\" fill-opacity=\"1\" /><path clip-path=\"url(#clip010)\" d=\"M289.506 1542.97 L294.39 1542.97 L294.39 1548.85 L289.506 1548.85 L289.506 1542.97 Z\" fill=\"#000000\" fill-rule=\"evenodd\" fill-opacity=\"1\" /><path clip-path=\"url(#clip010)\" d=\"M314.575 1517.37 Q310.964 1517.37 309.135 1520.93 Q307.33 1524.47 307.33 1531.6 Q307.33 1538.71 309.135 1542.27 Q310.964 1545.82 314.575 1545.82 Q318.209 1545.82 320.015 1542.27 Q321.844 1538.71 321.844 1531.6 Q321.844 1524.47 320.015 1520.93 Q318.209 1517.37 314.575 1517.37 M314.575 1513.66 Q320.385 1513.66 323.441 1518.27 Q326.519 1522.85 326.519 1531.6 Q326.519 1540.33 323.441 1544.94 Q320.385 1549.52 314.575 1549.52 Q308.765 1549.52 305.686 1544.94 Q302.631 1540.33 302.631 1531.6 Q302.631 1522.85 305.686 1518.27 Q308.765 1513.66 314.575 1513.66 Z\" fill=\"#000000\" fill-rule=\"evenodd\" fill-opacity=\"1\" /><path clip-path=\"url(#clip010)\" d=\"M755.054 1517.37 Q751.443 1517.37 749.615 1520.93 Q747.809 1524.47 747.809 1531.6 Q747.809 1538.71 749.615 1542.27 Q751.443 1545.82 755.054 1545.82 Q758.689 1545.82 760.494 1542.27 Q762.323 1538.71 762.323 1531.6 Q762.323 1524.47 760.494 1520.93 Q758.689 1517.37 755.054 1517.37 M755.054 1513.66 Q760.865 1513.66 763.92 1518.27 Q766.999 1522.85 766.999 1531.6 Q766.999 1540.33 763.92 1544.94 Q760.865 1549.52 755.054 1549.52 Q749.244 1549.52 746.166 1544.94 Q743.11 1540.33 743.11 1531.6 Q743.11 1522.85 746.166 1518.27 Q749.244 1513.66 755.054 1513.66 Z\" fill=\"#000000\" fill-rule=\"evenodd\" fill-opacity=\"1\" /><path clip-path=\"url(#clip010)\" d=\"M775.216 1542.97 L780.101 1542.97 L780.101 1548.85 L775.216 1548.85 L775.216 1542.97 Z\" fill=\"#000000\" fill-rule=\"evenodd\" fill-opacity=\"1\" /><path clip-path=\"url(#clip010)\" d=\"M790.332 1514.29 L808.688 1514.29 L808.688 1518.22 L794.614 1518.22 L794.614 1526.7 Q795.633 1526.35 796.651 1526.19 Q797.67 1526 798.688 1526 Q804.476 1526 807.855 1529.17 Q811.235 1532.34 811.235 1537.76 Q811.235 1543.34 807.763 1546.44 Q804.29 1549.52 797.971 1549.52 Q795.795 1549.52 793.526 1549.15 Q791.281 1548.78 788.874 1548.04 L788.874 1543.34 Q790.957 1544.47 793.179 1545.03 Q795.401 1545.58 797.878 1545.58 Q801.883 1545.58 804.221 1543.48 Q806.559 1541.37 806.559 1537.76 Q806.559 1534.15 804.221 1532.04 Q801.883 1529.94 797.878 1529.94 Q796.003 1529.94 794.128 1530.35 Q792.276 1530.77 790.332 1531.65 L790.332 1514.29 Z\" fill=\"#000000\" fill-rule=\"evenodd\" fill-opacity=\"1\" /><path clip-path=\"url(#clip010)\" d=\"M1229.54 1544.91 L1237.18 1544.91 L1237.18 1518.55 L1228.87 1520.21 L1228.87 1515.95 L1237.13 1514.29 L1241.81 1514.29 L1241.81 1544.91 L1249.45 1544.91 L1249.45 1548.85 L1229.54 1548.85 L1229.54 1544.91 Z\" fill=\"#000000\" fill-rule=\"evenodd\" fill-opacity=\"1\" /><path clip-path=\"url(#clip010)\" d=\"M1258.89 1542.97 L1263.77 1542.97 L1263.77 1548.85 L1258.89 1548.85 L1258.89 1542.97 Z\" fill=\"#000000\" fill-rule=\"evenodd\" fill-opacity=\"1\" /><path clip-path=\"url(#clip010)\" d=\"M1283.96 1517.37 Q1280.35 1517.37 1278.52 1520.93 Q1276.71 1524.47 1276.71 1531.6 Q1276.71 1538.71 1278.52 1542.27 Q1280.35 1545.82 1283.96 1545.82 Q1287.59 1545.82 1289.4 1542.27 Q1291.23 1538.71 1291.23 1531.6 Q1291.23 1524.47 1289.4 1520.93 Q1287.59 1517.37 1283.96 1517.37 M1283.96 1513.66 Q1289.77 1513.66 1292.83 1518.27 Q1295.9 1522.85 1295.9 1531.6 Q1295.9 1540.33 1292.83 1544.94 Q1289.77 1549.52 1283.96 1549.52 Q1278.15 1549.52 1275.07 1544.94 Q1272.01 1540.33 1272.01 1531.6 Q1272.01 1522.85 1275.07 1518.27 Q1278.15 1513.66 1283.96 1513.66 Z\" fill=\"#000000\" fill-rule=\"evenodd\" fill-opacity=\"1\" /><path clip-path=\"url(#clip010)\" d=\"M1715.25 1544.91 L1722.89 1544.91 L1722.89 1518.55 L1714.58 1520.21 L1714.58 1515.95 L1722.84 1514.29 L1727.52 1514.29 L1727.52 1544.91 L1735.16 1544.91 L1735.16 1548.85 L1715.25 1548.85 L1715.25 1544.91 Z\" fill=\"#000000\" fill-rule=\"evenodd\" fill-opacity=\"1\" /><path clip-path=\"url(#clip010)\" d=\"M1744.6 1542.97 L1749.48 1542.97 L1749.48 1548.85 L1744.6 1548.85 L1744.6 1542.97 Z\" fill=\"#000000\" fill-rule=\"evenodd\" fill-opacity=\"1\" /><path clip-path=\"url(#clip010)\" d=\"M1759.72 1514.29 L1778.07 1514.29 L1778.07 1518.22 L1764 1518.22 L1764 1526.7 Q1765.02 1526.35 1766.04 1526.19 Q1767.05 1526 1768.07 1526 Q1773.86 1526 1777.24 1529.17 Q1780.62 1532.34 1780.62 1537.76 Q1780.62 1543.34 1777.15 1546.44 Q1773.67 1549.52 1767.36 1549.52 Q1765.18 1549.52 1762.91 1549.15 Q1760.67 1548.78 1758.26 1548.04 L1758.26 1543.34 Q1760.34 1544.47 1762.56 1545.03 Q1764.79 1545.58 1767.26 1545.58 Q1771.27 1545.58 1773.61 1543.48 Q1775.94 1541.37 1775.94 1537.76 Q1775.94 1534.15 1773.61 1532.04 Q1771.27 1529.94 1767.26 1529.94 Q1765.39 1529.94 1763.51 1530.35 Q1761.66 1530.77 1759.72 1531.65 L1759.72 1514.29 Z\" fill=\"#000000\" fill-rule=\"evenodd\" fill-opacity=\"1\" /><path clip-path=\"url(#clip010)\" d=\"M2204.05 1544.91 L2220.37 1544.91 L2220.37 1548.85 L2198.42 1548.85 L2198.42 1544.91 Q2201.09 1542.16 2205.67 1537.53 Q2210.28 1532.88 2211.46 1531.53 Q2213.7 1529.01 2214.58 1527.27 Q2215.48 1525.51 2215.48 1523.82 Q2215.48 1521.07 2213.54 1519.33 Q2211.62 1517.6 2208.52 1517.6 Q2206.32 1517.6 2203.86 1518.36 Q2201.43 1519.13 2198.66 1520.68 L2198.66 1515.95 Q2201.48 1514.82 2203.93 1514.24 Q2206.39 1513.66 2208.42 1513.66 Q2213.8 1513.66 2216.99 1516.35 Q2220.18 1519.03 2220.18 1523.52 Q2220.18 1525.65 2219.37 1527.57 Q2218.59 1529.47 2216.48 1532.07 Q2215.9 1532.74 2212.8 1535.95 Q2209.7 1539.15 2204.05 1544.91 Z\" fill=\"#000000\" fill-rule=\"evenodd\" fill-opacity=\"1\" /><path clip-path=\"url(#clip010)\" d=\"M2230.18 1542.97 L2235.07 1542.97 L2235.07 1548.85 L2230.18 1548.85 L2230.18 1542.97 Z\" fill=\"#000000\" fill-rule=\"evenodd\" fill-opacity=\"1\" /><path clip-path=\"url(#clip010)\" d=\"M2255.25 1517.37 Q2251.64 1517.37 2249.81 1520.93 Q2248.01 1524.47 2248.01 1531.6 Q2248.01 1538.71 2249.81 1542.27 Q2251.64 1545.82 2255.25 1545.82 Q2258.89 1545.82 2260.69 1542.27 Q2262.52 1538.71 2262.52 1531.6 Q2262.52 1524.47 2260.69 1520.93 Q2258.89 1517.37 2255.25 1517.37 M2255.25 1513.66 Q2261.06 1513.66 2264.12 1518.27 Q2267.2 1522.85 2267.2 1531.6 Q2267.2 1540.33 2264.12 1544.94 Q2261.06 1549.52 2255.25 1549.52 Q2249.44 1549.52 2246.36 1544.94 Q2243.31 1540.33 2243.31 1531.6 Q2243.31 1522.85 2246.36 1518.27 Q2249.44 1513.66 2255.25 1513.66 Z\" fill=\"#000000\" fill-rule=\"evenodd\" fill-opacity=\"1\" /><polyline clip-path=\"url(#clip012)\" style=\"stroke:#000000; stroke-linecap:round; stroke-linejoin:round; stroke-width:2; stroke-opacity:0.1; fill:none\" points=\"172.015,1445.72 2352.76,1445.72 \"/>\n",
       "<polyline clip-path=\"url(#clip012)\" style=\"stroke:#000000; stroke-linecap:round; stroke-linejoin:round; stroke-width:2; stroke-opacity:0.1; fill:none\" points=\"172.015,1208.76 2352.76,1208.76 \"/>\n",
       "<polyline clip-path=\"url(#clip012)\" style=\"stroke:#000000; stroke-linecap:round; stroke-linejoin:round; stroke-width:2; stroke-opacity:0.1; fill:none\" points=\"172.015,971.81 2352.76,971.81 \"/>\n",
       "<polyline clip-path=\"url(#clip012)\" style=\"stroke:#000000; stroke-linecap:round; stroke-linejoin:round; stroke-width:2; stroke-opacity:0.1; fill:none\" points=\"172.015,734.857 2352.76,734.857 \"/>\n",
       "<polyline clip-path=\"url(#clip012)\" style=\"stroke:#000000; stroke-linecap:round; stroke-linejoin:round; stroke-width:2; stroke-opacity:0.1; fill:none\" points=\"172.015,497.905 2352.76,497.905 \"/>\n",
       "<polyline clip-path=\"url(#clip012)\" style=\"stroke:#000000; stroke-linecap:round; stroke-linejoin:round; stroke-width:2; stroke-opacity:0.1; fill:none\" points=\"172.015,260.952 2352.76,260.952 \"/>\n",
       "<polyline clip-path=\"url(#clip010)\" style=\"stroke:#000000; stroke-linecap:round; stroke-linejoin:round; stroke-width:4; stroke-opacity:1; fill:none\" points=\"172.015,1486.45 172.015,47.2441 \"/>\n",
       "<polyline clip-path=\"url(#clip010)\" style=\"stroke:#000000; stroke-linecap:round; stroke-linejoin:round; stroke-width:4; stroke-opacity:1; fill:none\" points=\"172.015,1445.72 190.912,1445.72 \"/>\n",
       "<polyline clip-path=\"url(#clip010)\" style=\"stroke:#000000; stroke-linecap:round; stroke-linejoin:round; stroke-width:4; stroke-opacity:1; fill:none\" points=\"172.015,1208.76 190.912,1208.76 \"/>\n",
       "<polyline clip-path=\"url(#clip010)\" style=\"stroke:#000000; stroke-linecap:round; stroke-linejoin:round; stroke-width:4; stroke-opacity:1; fill:none\" points=\"172.015,971.81 190.912,971.81 \"/>\n",
       "<polyline clip-path=\"url(#clip010)\" style=\"stroke:#000000; stroke-linecap:round; stroke-linejoin:round; stroke-width:4; stroke-opacity:1; fill:none\" points=\"172.015,734.857 190.912,734.857 \"/>\n",
       "<polyline clip-path=\"url(#clip010)\" style=\"stroke:#000000; stroke-linecap:round; stroke-linejoin:round; stroke-width:4; stroke-opacity:1; fill:none\" points=\"172.015,497.905 190.912,497.905 \"/>\n",
       "<polyline clip-path=\"url(#clip010)\" style=\"stroke:#000000; stroke-linecap:round; stroke-linejoin:round; stroke-width:4; stroke-opacity:1; fill:none\" points=\"172.015,260.952 190.912,260.952 \"/>\n",
       "<path clip-path=\"url(#clip010)\" d=\"M124.07 1431.51 Q120.459 1431.51 118.631 1435.08 Q116.825 1438.62 116.825 1445.75 Q116.825 1452.86 118.631 1456.42 Q120.459 1459.96 124.07 1459.96 Q127.705 1459.96 129.51 1456.42 Q131.339 1452.86 131.339 1445.75 Q131.339 1438.62 129.51 1435.08 Q127.705 1431.51 124.07 1431.51 M124.07 1427.81 Q129.881 1427.81 132.936 1432.42 Q136.015 1437 136.015 1445.75 Q136.015 1454.48 132.936 1459.08 Q129.881 1463.67 124.07 1463.67 Q118.26 1463.67 115.182 1459.08 Q112.126 1454.48 112.126 1445.75 Q112.126 1437 115.182 1432.42 Q118.26 1427.81 124.07 1427.81 Z\" fill=\"#000000\" fill-rule=\"evenodd\" fill-opacity=\"1\" /><path clip-path=\"url(#clip010)\" d=\"M54.5569 1222.11 L62.1958 1222.11 L62.1958 1195.74 L53.8856 1197.41 L53.8856 1193.15 L62.1495 1191.48 L66.8254 1191.48 L66.8254 1222.11 L74.4642 1222.11 L74.4642 1226.04 L54.5569 1226.04 L54.5569 1222.11 Z\" fill=\"#000000\" fill-rule=\"evenodd\" fill-opacity=\"1\" /><path clip-path=\"url(#clip010)\" d=\"M93.9086 1194.56 Q90.2975 1194.56 88.4688 1198.13 Q86.6632 1201.67 86.6632 1208.8 Q86.6632 1215.9 88.4688 1219.47 Q90.2975 1223.01 93.9086 1223.01 Q97.5428 1223.01 99.3483 1219.47 Q101.177 1215.9 101.177 1208.8 Q101.177 1201.67 99.3483 1198.13 Q97.5428 1194.56 93.9086 1194.56 M93.9086 1190.86 Q99.7187 1190.86 102.774 1195.46 Q105.853 1200.05 105.853 1208.8 Q105.853 1217.52 102.774 1222.13 Q99.7187 1226.71 93.9086 1226.71 Q88.0984 1226.71 85.0197 1222.13 Q81.9642 1217.52 81.9642 1208.8 Q81.9642 1200.05 85.0197 1195.46 Q88.0984 1190.86 93.9086 1190.86 Z\" fill=\"#000000\" fill-rule=\"evenodd\" fill-opacity=\"1\" /><path clip-path=\"url(#clip010)\" d=\"M124.07 1194.56 Q120.459 1194.56 118.631 1198.13 Q116.825 1201.67 116.825 1208.8 Q116.825 1215.9 118.631 1219.47 Q120.459 1223.01 124.07 1223.01 Q127.705 1223.01 129.51 1219.47 Q131.339 1215.9 131.339 1208.8 Q131.339 1201.67 129.51 1198.13 Q127.705 1194.56 124.07 1194.56 M124.07 1190.86 Q129.881 1190.86 132.936 1195.46 Q136.015 1200.05 136.015 1208.8 Q136.015 1217.52 132.936 1222.13 Q129.881 1226.71 124.07 1226.71 Q118.26 1226.71 115.182 1222.13 Q112.126 1217.52 112.126 1208.8 Q112.126 1200.05 115.182 1195.46 Q118.26 1190.86 124.07 1190.86 Z\" fill=\"#000000\" fill-rule=\"evenodd\" fill-opacity=\"1\" /><path clip-path=\"url(#clip010)\" d=\"M57.7745 985.155 L74.0939 985.155 L74.0939 989.09 L52.1495 989.09 L52.1495 985.155 Q54.8115 982.4 59.3949 977.771 Q64.0013 973.118 65.1819 971.775 Q67.4272 969.252 68.3068 967.516 Q69.2096 965.757 69.2096 964.067 Q69.2096 961.313 67.2652 959.576 Q65.3439 957.84 62.2421 957.84 Q60.043 957.84 57.5893 958.604 Q55.1588 959.368 52.381 960.919 L52.381 956.197 Q55.2051 955.063 57.6588 954.484 Q60.1124 953.905 62.1495 953.905 Q67.5198 953.905 70.7142 956.59 Q73.9087 959.275 73.9087 963.766 Q73.9087 965.896 73.0985 967.817 Q72.3115 969.715 70.205 972.308 Q69.6263 972.979 66.5245 976.197 Q63.4226 979.391 57.7745 985.155 Z\" fill=\"#000000\" fill-rule=\"evenodd\" fill-opacity=\"1\" /><path clip-path=\"url(#clip010)\" d=\"M93.9086 957.609 Q90.2975 957.609 88.4688 961.174 Q86.6632 964.715 86.6632 971.845 Q86.6632 978.951 88.4688 982.516 Q90.2975 986.058 93.9086 986.058 Q97.5428 986.058 99.3483 982.516 Q101.177 978.951 101.177 971.845 Q101.177 964.715 99.3483 961.174 Q97.5428 957.609 93.9086 957.609 M93.9086 953.905 Q99.7187 953.905 102.774 958.512 Q105.853 963.095 105.853 971.845 Q105.853 980.572 102.774 985.178 Q99.7187 989.761 93.9086 989.761 Q88.0984 989.761 85.0197 985.178 Q81.9642 980.572 81.9642 971.845 Q81.9642 963.095 85.0197 958.512 Q88.0984 953.905 93.9086 953.905 Z\" fill=\"#000000\" fill-rule=\"evenodd\" fill-opacity=\"1\" /><path clip-path=\"url(#clip010)\" d=\"M124.07 957.609 Q120.459 957.609 118.631 961.174 Q116.825 964.715 116.825 971.845 Q116.825 978.951 118.631 982.516 Q120.459 986.058 124.07 986.058 Q127.705 986.058 129.51 982.516 Q131.339 978.951 131.339 971.845 Q131.339 964.715 129.51 961.174 Q127.705 957.609 124.07 957.609 M124.07 953.905 Q129.881 953.905 132.936 958.512 Q136.015 963.095 136.015 971.845 Q136.015 980.572 132.936 985.178 Q129.881 989.761 124.07 989.761 Q118.26 989.761 115.182 985.178 Q112.126 980.572 112.126 971.845 Q112.126 963.095 115.182 958.512 Q118.26 953.905 124.07 953.905 Z\" fill=\"#000000\" fill-rule=\"evenodd\" fill-opacity=\"1\" /><path clip-path=\"url(#clip010)\" d=\"M67.9133 733.503 Q71.2698 734.221 73.1448 736.489 Q75.0429 738.758 75.0429 742.091 Q75.0429 747.207 71.5244 750.008 Q68.0059 752.809 61.5245 752.809 Q59.3486 752.809 57.0338 752.369 Q54.7421 751.952 52.2884 751.096 L52.2884 746.582 Q54.2328 747.716 56.5477 748.295 Q58.8625 748.873 61.3856 748.873 Q65.7837 748.873 68.0754 747.137 Q70.3902 745.401 70.3902 742.091 Q70.3902 739.036 68.2374 737.323 Q66.1078 735.587 62.2884 735.587 L58.2606 735.587 L58.2606 731.744 L62.4735 731.744 Q65.9226 731.744 67.7513 730.378 Q69.58 728.989 69.58 726.397 Q69.58 723.735 67.6819 722.323 Q65.8069 720.888 62.2884 720.888 Q60.3671 720.888 58.168 721.304 Q55.969 721.721 53.3301 722.6 L53.3301 718.434 Q55.9921 717.693 58.3069 717.323 Q60.6449 716.952 62.705 716.952 Q68.0291 716.952 71.1309 719.383 Q74.2327 721.79 74.2327 725.911 Q74.2327 728.781 72.5892 730.772 Q70.9457 732.739 67.9133 733.503 Z\" fill=\"#000000\" fill-rule=\"evenodd\" fill-opacity=\"1\" /><path clip-path=\"url(#clip010)\" d=\"M93.9086 720.656 Q90.2975 720.656 88.4688 724.221 Q86.6632 727.762 86.6632 734.892 Q86.6632 741.999 88.4688 745.563 Q90.2975 749.105 93.9086 749.105 Q97.5428 749.105 99.3483 745.563 Q101.177 741.999 101.177 734.892 Q101.177 727.762 99.3483 724.221 Q97.5428 720.656 93.9086 720.656 M93.9086 716.952 Q99.7187 716.952 102.774 721.559 Q105.853 726.142 105.853 734.892 Q105.853 743.619 102.774 748.225 Q99.7187 752.809 93.9086 752.809 Q88.0984 752.809 85.0197 748.225 Q81.9642 743.619 81.9642 734.892 Q81.9642 726.142 85.0197 721.559 Q88.0984 716.952 93.9086 716.952 Z\" fill=\"#000000\" fill-rule=\"evenodd\" fill-opacity=\"1\" /><path clip-path=\"url(#clip010)\" d=\"M124.07 720.656 Q120.459 720.656 118.631 724.221 Q116.825 727.762 116.825 734.892 Q116.825 741.999 118.631 745.563 Q120.459 749.105 124.07 749.105 Q127.705 749.105 129.51 745.563 Q131.339 741.999 131.339 734.892 Q131.339 727.762 129.51 724.221 Q127.705 720.656 124.07 720.656 M124.07 716.952 Q129.881 716.952 132.936 721.559 Q136.015 726.142 136.015 734.892 Q136.015 743.619 132.936 748.225 Q129.881 752.809 124.07 752.809 Q118.26 752.809 115.182 748.225 Q112.126 743.619 112.126 734.892 Q112.126 726.142 115.182 721.559 Q118.26 716.952 124.07 716.952 Z\" fill=\"#000000\" fill-rule=\"evenodd\" fill-opacity=\"1\" /><path clip-path=\"url(#clip010)\" d=\"M66.5939 484.699 L54.7884 503.148 L66.5939 503.148 L66.5939 484.699 M65.367 480.625 L71.2466 480.625 L71.2466 503.148 L76.1772 503.148 L76.1772 507.036 L71.2466 507.036 L71.2466 515.185 L66.5939 515.185 L66.5939 507.036 L50.9921 507.036 L50.9921 502.523 L65.367 480.625 Z\" fill=\"#000000\" fill-rule=\"evenodd\" fill-opacity=\"1\" /><path clip-path=\"url(#clip010)\" d=\"M93.9086 483.703 Q90.2975 483.703 88.4688 487.268 Q86.6632 490.81 86.6632 497.939 Q86.6632 505.046 88.4688 508.611 Q90.2975 512.152 93.9086 512.152 Q97.5428 512.152 99.3483 508.611 Q101.177 505.046 101.177 497.939 Q101.177 490.81 99.3483 487.268 Q97.5428 483.703 93.9086 483.703 M93.9086 480 Q99.7187 480 102.774 484.606 Q105.853 489.189 105.853 497.939 Q105.853 506.666 102.774 511.273 Q99.7187 515.856 93.9086 515.856 Q88.0984 515.856 85.0197 511.273 Q81.9642 506.666 81.9642 497.939 Q81.9642 489.189 85.0197 484.606 Q88.0984 480 93.9086 480 Z\" fill=\"#000000\" fill-rule=\"evenodd\" fill-opacity=\"1\" /><path clip-path=\"url(#clip010)\" d=\"M124.07 483.703 Q120.459 483.703 118.631 487.268 Q116.825 490.81 116.825 497.939 Q116.825 505.046 118.631 508.611 Q120.459 512.152 124.07 512.152 Q127.705 512.152 129.51 508.611 Q131.339 505.046 131.339 497.939 Q131.339 490.81 129.51 487.268 Q127.705 483.703 124.07 483.703 M124.07 480 Q129.881 480 132.936 484.606 Q136.015 489.189 136.015 497.939 Q136.015 506.666 132.936 511.273 Q129.881 515.856 124.07 515.856 Q118.26 515.856 115.182 511.273 Q112.126 506.666 112.126 497.939 Q112.126 489.189 115.182 484.606 Q118.26 480 124.07 480 Z\" fill=\"#000000\" fill-rule=\"evenodd\" fill-opacity=\"1\" /><path clip-path=\"url(#clip010)\" d=\"M53.793 243.672 L72.1494 243.672 L72.1494 247.607 L58.0754 247.607 L58.0754 256.079 Q59.0939 255.732 60.1124 255.57 Q61.131 255.385 62.1495 255.385 Q67.9365 255.385 71.3161 258.556 Q74.6957 261.727 74.6957 267.144 Q74.6957 272.723 71.2235 275.824 Q67.7513 278.903 61.4319 278.903 Q59.256 278.903 56.9875 278.533 Q54.7421 278.162 52.3347 277.422 L52.3347 272.723 Q54.418 273.857 56.6402 274.412 Q58.8625 274.968 61.3393 274.968 Q65.3439 274.968 67.6819 272.861 Q70.0198 270.755 70.0198 267.144 Q70.0198 263.533 67.6819 261.426 Q65.3439 259.32 61.3393 259.32 Q59.4643 259.32 57.5893 259.737 Q55.7375 260.153 53.793 261.033 L53.793 243.672 Z\" fill=\"#000000\" fill-rule=\"evenodd\" fill-opacity=\"1\" /><path clip-path=\"url(#clip010)\" d=\"M93.9086 246.75 Q90.2975 246.75 88.4688 250.315 Q86.6632 253.857 86.6632 260.987 Q86.6632 268.093 88.4688 271.658 Q90.2975 275.199 93.9086 275.199 Q97.5428 275.199 99.3483 271.658 Q101.177 268.093 101.177 260.987 Q101.177 253.857 99.3483 250.315 Q97.5428 246.75 93.9086 246.75 M93.9086 243.047 Q99.7187 243.047 102.774 247.653 Q105.853 252.237 105.853 260.987 Q105.853 269.713 102.774 274.32 Q99.7187 278.903 93.9086 278.903 Q88.0984 278.903 85.0197 274.32 Q81.9642 269.713 81.9642 260.987 Q81.9642 252.237 85.0197 247.653 Q88.0984 243.047 93.9086 243.047 Z\" fill=\"#000000\" fill-rule=\"evenodd\" fill-opacity=\"1\" /><path clip-path=\"url(#clip010)\" d=\"M124.07 246.75 Q120.459 246.75 118.631 250.315 Q116.825 253.857 116.825 260.987 Q116.825 268.093 118.631 271.658 Q120.459 275.199 124.07 275.199 Q127.705 275.199 129.51 271.658 Q131.339 268.093 131.339 260.987 Q131.339 253.857 129.51 250.315 Q127.705 246.75 124.07 246.75 M124.07 243.047 Q129.881 243.047 132.936 247.653 Q136.015 252.237 136.015 260.987 Q136.015 269.713 132.936 274.32 Q129.881 278.903 124.07 278.903 Q118.26 278.903 115.182 274.32 Q112.126 269.713 112.126 260.987 Q112.126 252.237 115.182 247.653 Q118.26 243.047 124.07 243.047 Z\" fill=\"#000000\" fill-rule=\"evenodd\" fill-opacity=\"1\" /><path clip-path=\"url(#clip012)\" d=\"M291.959 1331.98 L291.959 1445.72 L389.002 1445.72 L389.002 1331.98 L291.959 1331.98 L291.959 1331.98  Z\" fill=\"#009af9\" fill-rule=\"evenodd\" fill-opacity=\"1\"/>\n",
       "<polyline clip-path=\"url(#clip012)\" style=\"stroke:#000000; stroke-linecap:round; stroke-linejoin:round; stroke-width:4; stroke-opacity:1; fill:none\" points=\"291.959,1331.98 291.959,1445.72 389.002,1445.72 389.002,1331.98 291.959,1331.98 \"/>\n",
       "<path clip-path=\"url(#clip012)\" d=\"M389.002 1339.09 L389.002 1445.72 L486.045 1445.72 L486.045 1339.09 L389.002 1339.09 L389.002 1339.09  Z\" fill=\"#009af9\" fill-rule=\"evenodd\" fill-opacity=\"1\"/>\n",
       "<polyline clip-path=\"url(#clip012)\" style=\"stroke:#000000; stroke-linecap:round; stroke-linejoin:round; stroke-width:4; stroke-opacity:1; fill:none\" points=\"389.002,1339.09 389.002,1445.72 486.045,1445.72 486.045,1339.09 389.002,1339.09 \"/>\n",
       "<path clip-path=\"url(#clip012)\" d=\"M486.045 1355.67 L486.045 1445.72 L583.087 1445.72 L583.087 1355.67 L486.045 1355.67 L486.045 1355.67  Z\" fill=\"#009af9\" fill-rule=\"evenodd\" fill-opacity=\"1\"/>\n",
       "<polyline clip-path=\"url(#clip012)\" style=\"stroke:#000000; stroke-linecap:round; stroke-linejoin:round; stroke-width:4; stroke-opacity:1; fill:none\" points=\"486.045,1355.67 486.045,1445.72 583.087,1445.72 583.087,1355.67 486.045,1355.67 \"/>\n",
       "<path clip-path=\"url(#clip012)\" d=\"M583.087 1395.96 L583.087 1445.72 L680.13 1445.72 L680.13 1395.96 L583.087 1395.96 L583.087 1395.96  Z\" fill=\"#009af9\" fill-rule=\"evenodd\" fill-opacity=\"1\"/>\n",
       "<polyline clip-path=\"url(#clip012)\" style=\"stroke:#000000; stroke-linecap:round; stroke-linejoin:round; stroke-width:4; stroke-opacity:1; fill:none\" points=\"583.087,1395.96 583.087,1445.72 680.13,1445.72 680.13,1395.96 583.087,1395.96 \"/>\n",
       "<path clip-path=\"url(#clip012)\" d=\"M680.13 1315.39 L680.13 1445.72 L777.172 1445.72 L777.172 1315.39 L680.13 1315.39 L680.13 1315.39  Z\" fill=\"#009af9\" fill-rule=\"evenodd\" fill-opacity=\"1\"/>\n",
       "<polyline clip-path=\"url(#clip012)\" style=\"stroke:#000000; stroke-linecap:round; stroke-linejoin:round; stroke-width:4; stroke-opacity:1; fill:none\" points=\"680.13,1315.39 680.13,1445.72 777.172,1445.72 777.172,1315.39 680.13,1315.39 \"/>\n",
       "<path clip-path=\"url(#clip012)\" d=\"M777.172 1386.48 L777.172 1445.72 L874.215 1445.72 L874.215 1386.48 L777.172 1386.48 L777.172 1386.48  Z\" fill=\"#009af9\" fill-rule=\"evenodd\" fill-opacity=\"1\"/>\n",
       "<polyline clip-path=\"url(#clip012)\" style=\"stroke:#000000; stroke-linecap:round; stroke-linejoin:round; stroke-width:4; stroke-opacity:1; fill:none\" points=\"777.172,1386.48 777.172,1445.72 874.215,1445.72 874.215,1386.48 777.172,1386.48 \"/>\n",
       "<path clip-path=\"url(#clip012)\" d=\"M874.215 1384.11 L874.215 1445.72 L971.258 1445.72 L971.258 1384.11 L874.215 1384.11 L874.215 1384.11  Z\" fill=\"#009af9\" fill-rule=\"evenodd\" fill-opacity=\"1\"/>\n",
       "<polyline clip-path=\"url(#clip012)\" style=\"stroke:#000000; stroke-linecap:round; stroke-linejoin:round; stroke-width:4; stroke-opacity:1; fill:none\" points=\"874.215,1384.11 874.215,1445.72 971.258,1445.72 971.258,1384.11 874.215,1384.11 \"/>\n",
       "<path clip-path=\"url(#clip012)\" d=\"M971.258 1346.2 L971.258 1445.72 L1068.3 1445.72 L1068.3 1346.2 L971.258 1346.2 L971.258 1346.2  Z\" fill=\"#009af9\" fill-rule=\"evenodd\" fill-opacity=\"1\"/>\n",
       "<polyline clip-path=\"url(#clip012)\" style=\"stroke:#000000; stroke-linecap:round; stroke-linejoin:round; stroke-width:4; stroke-opacity:1; fill:none\" points=\"971.258,1346.2 971.258,1445.72 1068.3,1445.72 1068.3,1346.2 971.258,1346.2 \"/>\n",
       "<path clip-path=\"url(#clip012)\" d=\"M1068.3 1355.67 L1068.3 1445.72 L1165.34 1445.72 L1165.34 1355.67 L1068.3 1355.67 L1068.3 1355.67  Z\" fill=\"#009af9\" fill-rule=\"evenodd\" fill-opacity=\"1\"/>\n",
       "<polyline clip-path=\"url(#clip012)\" style=\"stroke:#000000; stroke-linecap:round; stroke-linejoin:round; stroke-width:4; stroke-opacity:1; fill:none\" points=\"1068.3,1355.67 1068.3,1445.72 1165.34,1445.72 1165.34,1355.67 1068.3,1355.67 \"/>\n",
       "<path clip-path=\"url(#clip012)\" d=\"M1165.34 1395.96 L1165.34 1445.72 L1262.39 1445.72 L1262.39 1395.96 L1165.34 1395.96 L1165.34 1395.96  Z\" fill=\"#009af9\" fill-rule=\"evenodd\" fill-opacity=\"1\"/>\n",
       "<polyline clip-path=\"url(#clip012)\" style=\"stroke:#000000; stroke-linecap:round; stroke-linejoin:round; stroke-width:4; stroke-opacity:1; fill:none\" points=\"1165.34,1395.96 1165.34,1445.72 1262.39,1445.72 1262.39,1395.96 1165.34,1395.96 \"/>\n",
       "<path clip-path=\"url(#clip012)\" d=\"M1262.39 87.9763 L1262.39 1445.72 L1359.43 1445.72 L1359.43 87.9763 L1262.39 87.9763 L1262.39 87.9763  Z\" fill=\"#009af9\" fill-rule=\"evenodd\" fill-opacity=\"1\"/>\n",
       "<polyline clip-path=\"url(#clip012)\" style=\"stroke:#000000; stroke-linecap:round; stroke-linejoin:round; stroke-width:4; stroke-opacity:1; fill:none\" points=\"1262.39,87.9763 1262.39,1445.72 1359.43,1445.72 1359.43,87.9763 1262.39,87.9763 \"/>\n",
       "<path clip-path=\"url(#clip012)\" d=\"M1359.43 1355.67 L1359.43 1445.72 L1456.47 1445.72 L1456.47 1355.67 L1359.43 1355.67 L1359.43 1355.67  Z\" fill=\"#009af9\" fill-rule=\"evenodd\" fill-opacity=\"1\"/>\n",
       "<polyline clip-path=\"url(#clip012)\" style=\"stroke:#000000; stroke-linecap:round; stroke-linejoin:round; stroke-width:4; stroke-opacity:1; fill:none\" points=\"1359.43,1355.67 1359.43,1445.72 1456.47,1445.72 1456.47,1355.67 1359.43,1355.67 \"/>\n",
       "<path clip-path=\"url(#clip012)\" d=\"M1456.47 1355.67 L1456.47 1445.72 L1553.51 1445.72 L1553.51 1355.67 L1456.47 1355.67 L1456.47 1355.67  Z\" fill=\"#009af9\" fill-rule=\"evenodd\" fill-opacity=\"1\"/>\n",
       "<polyline clip-path=\"url(#clip012)\" style=\"stroke:#000000; stroke-linecap:round; stroke-linejoin:round; stroke-width:4; stroke-opacity:1; fill:none\" points=\"1456.47,1355.67 1456.47,1445.72 1553.51,1445.72 1553.51,1355.67 1456.47,1355.67 \"/>\n",
       "<path clip-path=\"url(#clip012)\" d=\"M1553.51 1362.78 L1553.51 1445.72 L1650.56 1445.72 L1650.56 1362.78 L1553.51 1362.78 L1553.51 1362.78  Z\" fill=\"#009af9\" fill-rule=\"evenodd\" fill-opacity=\"1\"/>\n",
       "<polyline clip-path=\"url(#clip012)\" style=\"stroke:#000000; stroke-linecap:round; stroke-linejoin:round; stroke-width:4; stroke-opacity:1; fill:none\" points=\"1553.51,1362.78 1553.51,1445.72 1650.56,1445.72 1650.56,1362.78 1553.51,1362.78 \"/>\n",
       "<path clip-path=\"url(#clip012)\" d=\"M1650.56 1360.41 L1650.56 1445.72 L1747.6 1445.72 L1747.6 1360.41 L1650.56 1360.41 L1650.56 1360.41  Z\" fill=\"#009af9\" fill-rule=\"evenodd\" fill-opacity=\"1\"/>\n",
       "<polyline clip-path=\"url(#clip012)\" style=\"stroke:#000000; stroke-linecap:round; stroke-linejoin:round; stroke-width:4; stroke-opacity:1; fill:none\" points=\"1650.56,1360.41 1650.56,1445.72 1747.6,1445.72 1747.6,1360.41 1650.56,1360.41 \"/>\n",
       "<path clip-path=\"url(#clip012)\" d=\"M1747.6 1334.35 L1747.6 1445.72 L1844.64 1445.72 L1844.64 1334.35 L1747.6 1334.35 L1747.6 1334.35  Z\" fill=\"#009af9\" fill-rule=\"evenodd\" fill-opacity=\"1\"/>\n",
       "<polyline clip-path=\"url(#clip012)\" style=\"stroke:#000000; stroke-linecap:round; stroke-linejoin:round; stroke-width:4; stroke-opacity:1; fill:none\" points=\"1747.6,1334.35 1747.6,1445.72 1844.64,1445.72 1844.64,1334.35 1747.6,1334.35 \"/>\n",
       "<path clip-path=\"url(#clip012)\" d=\"M1844.64 1348.57 L1844.64 1445.72 L1941.68 1445.72 L1941.68 1348.57 L1844.64 1348.57 L1844.64 1348.57  Z\" fill=\"#009af9\" fill-rule=\"evenodd\" fill-opacity=\"1\"/>\n",
       "<polyline clip-path=\"url(#clip012)\" style=\"stroke:#000000; stroke-linecap:round; stroke-linejoin:round; stroke-width:4; stroke-opacity:1; fill:none\" points=\"1844.64,1348.57 1844.64,1445.72 1941.68,1445.72 1941.68,1348.57 1844.64,1348.57 \"/>\n",
       "<path clip-path=\"url(#clip012)\" d=\"M1941.68 1358.04 L1941.68 1445.72 L2038.73 1445.72 L2038.73 1358.04 L1941.68 1358.04 L1941.68 1358.04  Z\" fill=\"#009af9\" fill-rule=\"evenodd\" fill-opacity=\"1\"/>\n",
       "<polyline clip-path=\"url(#clip012)\" style=\"stroke:#000000; stroke-linecap:round; stroke-linejoin:round; stroke-width:4; stroke-opacity:1; fill:none\" points=\"1941.68,1358.04 1941.68,1445.72 2038.73,1445.72 2038.73,1358.04 1941.68,1358.04 \"/>\n",
       "<path clip-path=\"url(#clip012)\" d=\"M2038.73 1379.37 L2038.73 1445.72 L2135.77 1445.72 L2135.77 1379.37 L2038.73 1379.37 L2038.73 1379.37  Z\" fill=\"#009af9\" fill-rule=\"evenodd\" fill-opacity=\"1\"/>\n",
       "<polyline clip-path=\"url(#clip012)\" style=\"stroke:#000000; stroke-linecap:round; stroke-linejoin:round; stroke-width:4; stroke-opacity:1; fill:none\" points=\"2038.73,1379.37 2038.73,1445.72 2135.77,1445.72 2135.77,1379.37 2038.73,1379.37 \"/>\n",
       "<path clip-path=\"url(#clip012)\" d=\"M2135.77 1365.15 L2135.77 1445.72 L2232.81 1445.72 L2232.81 1365.15 L2135.77 1365.15 L2135.77 1365.15  Z\" fill=\"#009af9\" fill-rule=\"evenodd\" fill-opacity=\"1\"/>\n",
       "<polyline clip-path=\"url(#clip012)\" style=\"stroke:#000000; stroke-linecap:round; stroke-linejoin:round; stroke-width:4; stroke-opacity:1; fill:none\" points=\"2135.77,1365.15 2135.77,1445.72 2232.81,1445.72 2232.81,1365.15 2135.77,1365.15 \"/>\n",
       "<circle clip-path=\"url(#clip012)\" style=\"fill:#009af9; stroke:none; fill-opacity:0\" cx=\"340.481\" cy=\"1331.98\" r=\"2\"/>\n",
       "<circle clip-path=\"url(#clip012)\" style=\"fill:#009af9; stroke:none; fill-opacity:0\" cx=\"437.523\" cy=\"1339.09\" r=\"2\"/>\n",
       "<circle clip-path=\"url(#clip012)\" style=\"fill:#009af9; stroke:none; fill-opacity:0\" cx=\"534.566\" cy=\"1355.67\" r=\"2\"/>\n",
       "<circle clip-path=\"url(#clip012)\" style=\"fill:#009af9; stroke:none; fill-opacity:0\" cx=\"631.609\" cy=\"1395.96\" r=\"2\"/>\n",
       "<circle clip-path=\"url(#clip012)\" style=\"fill:#009af9; stroke:none; fill-opacity:0\" cx=\"728.651\" cy=\"1315.39\" r=\"2\"/>\n",
       "<circle clip-path=\"url(#clip012)\" style=\"fill:#009af9; stroke:none; fill-opacity:0\" cx=\"825.694\" cy=\"1386.48\" r=\"2\"/>\n",
       "<circle clip-path=\"url(#clip012)\" style=\"fill:#009af9; stroke:none; fill-opacity:0\" cx=\"922.736\" cy=\"1384.11\" r=\"2\"/>\n",
       "<circle clip-path=\"url(#clip012)\" style=\"fill:#009af9; stroke:none; fill-opacity:0\" cx=\"1019.78\" cy=\"1346.2\" r=\"2\"/>\n",
       "<circle clip-path=\"url(#clip012)\" style=\"fill:#009af9; stroke:none; fill-opacity:0\" cx=\"1116.82\" cy=\"1355.67\" r=\"2\"/>\n",
       "<circle clip-path=\"url(#clip012)\" style=\"fill:#009af9; stroke:none; fill-opacity:0\" cx=\"1213.86\" cy=\"1395.96\" r=\"2\"/>\n",
       "<circle clip-path=\"url(#clip012)\" style=\"fill:#009af9; stroke:none; fill-opacity:0\" cx=\"1310.91\" cy=\"87.9763\" r=\"2\"/>\n",
       "<circle clip-path=\"url(#clip012)\" style=\"fill:#009af9; stroke:none; fill-opacity:0\" cx=\"1407.95\" cy=\"1355.67\" r=\"2\"/>\n",
       "<circle clip-path=\"url(#clip012)\" style=\"fill:#009af9; stroke:none; fill-opacity:0\" cx=\"1504.99\" cy=\"1355.67\" r=\"2\"/>\n",
       "<circle clip-path=\"url(#clip012)\" style=\"fill:#009af9; stroke:none; fill-opacity:0\" cx=\"1602.03\" cy=\"1362.78\" r=\"2\"/>\n",
       "<circle clip-path=\"url(#clip012)\" style=\"fill:#009af9; stroke:none; fill-opacity:0\" cx=\"1699.08\" cy=\"1360.41\" r=\"2\"/>\n",
       "<circle clip-path=\"url(#clip012)\" style=\"fill:#009af9; stroke:none; fill-opacity:0\" cx=\"1796.12\" cy=\"1334.35\" r=\"2\"/>\n",
       "<circle clip-path=\"url(#clip012)\" style=\"fill:#009af9; stroke:none; fill-opacity:0\" cx=\"1893.16\" cy=\"1348.57\" r=\"2\"/>\n",
       "<circle clip-path=\"url(#clip012)\" style=\"fill:#009af9; stroke:none; fill-opacity:0\" cx=\"1990.2\" cy=\"1358.04\" r=\"2\"/>\n",
       "<circle clip-path=\"url(#clip012)\" style=\"fill:#009af9; stroke:none; fill-opacity:0\" cx=\"2087.25\" cy=\"1379.37\" r=\"2\"/>\n",
       "<circle clip-path=\"url(#clip012)\" style=\"fill:#009af9; stroke:none; fill-opacity:0\" cx=\"2184.29\" cy=\"1365.15\" r=\"2\"/>\n",
       "<path clip-path=\"url(#clip010)\" d=\"M2009.56 198.898 L2280.06 198.898 L2280.06 95.2176 L2009.56 95.2176  Z\" fill=\"#ffffff\" fill-rule=\"evenodd\" fill-opacity=\"1\"/>\n",
       "<polyline clip-path=\"url(#clip010)\" style=\"stroke:#000000; stroke-linecap:round; stroke-linejoin:round; stroke-width:4; stroke-opacity:1; fill:none\" points=\"2009.56,198.898 2280.06,198.898 2280.06,95.2176 2009.56,95.2176 2009.56,198.898 \"/>\n",
       "<path clip-path=\"url(#clip010)\" d=\"M2033.79 167.794 L2179.17 167.794 L2179.17 126.322 L2033.79 126.322 L2033.79 167.794  Z\" fill=\"#009af9\" fill-rule=\"evenodd\" fill-opacity=\"1\"/>\n",
       "<polyline clip-path=\"url(#clip010)\" style=\"stroke:#000000; stroke-linecap:round; stroke-linejoin:round; stroke-width:4; stroke-opacity:1; fill:none\" points=\"2033.79,167.794 2179.17,167.794 2179.17,126.322 2033.79,126.322 2033.79,167.794 \"/>\n",
       "<path clip-path=\"url(#clip010)\" d=\"M2217.25 166.745 Q2215.44 171.375 2213.73 172.787 Q2212.01 174.199 2209.14 174.199 L2205.74 174.199 L2205.74 170.634 L2208.24 170.634 Q2210 170.634 2210.97 169.8 Q2211.95 168.967 2213.13 165.865 L2213.89 163.921 L2203.4 138.412 L2207.92 138.412 L2216.02 158.689 L2224.12 138.412 L2228.64 138.412 L2217.25 166.745 Z\" fill=\"#000000\" fill-rule=\"evenodd\" fill-opacity=\"1\" /><path clip-path=\"url(#clip010)\" d=\"M2235.93 160.402 L2243.57 160.402 L2243.57 134.037 L2235.26 135.703 L2235.26 131.444 L2243.52 129.778 L2248.2 129.778 L2248.2 160.402 L2255.83 160.402 L2255.83 164.338 L2235.93 164.338 L2235.93 160.402 Z\" fill=\"#000000\" fill-rule=\"evenodd\" fill-opacity=\"1\" /></svg>\n"
      ]
     },
     "execution_count": 27,
     "metadata": {},
     "output_type": "execute_result"
    }
   ],
   "source": [
    "histogram(read(f))"
   ]
  },
  {
   "cell_type": "code",
   "execution_count": null,
   "id": "c2235ce5",
   "metadata": {},
   "outputs": [],
   "source": []
  }
 ],
 "metadata": {
  "kernelspec": {
   "display_name": "Julia 1.8.5",
   "language": "julia",
   "name": "julia-1.8"
  },
  "language_info": {
   "file_extension": ".jl",
   "mimetype": "application/julia",
   "name": "julia",
   "version": "1.8.5"
  }
 },
 "nbformat": 4,
 "nbformat_minor": 5
}
